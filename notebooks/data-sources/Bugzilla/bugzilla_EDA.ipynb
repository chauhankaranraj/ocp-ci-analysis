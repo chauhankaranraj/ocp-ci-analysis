{
 "cells": [
  {
   "cell_type": "markdown",
   "id": "covered-grenada",
   "metadata": {},
   "source": [
    "# Data Source: Bugzilla"
   ]
  },
  {
   "cell_type": "code",
   "execution_count": 1,
   "id": "annual-clinic",
   "metadata": {
    "ExecuteTime": {
     "end_time": "2021-04-06T21:23:27.273935Z",
     "start_time": "2021-04-06T21:23:27.269122Z"
    }
   },
   "outputs": [],
   "source": [
    "import pdb\n",
    "import bugzilla\n",
    "import requests\n",
    "from tqdm import tqdm\n",
    "from bs4 import BeautifulSoup\n",
    "import matplotlib.pyplot as plt\n",
    "import seaborn as sns\n",
    "import pandas as pd\n",
    "import warnings\n",
    "warnings.filterwarnings(\"ignore\")"
   ]
  },
  {
   "cell_type": "code",
   "execution_count": 2,
   "id": "spatial-subcommittee",
   "metadata": {},
   "outputs": [],
   "source": [
    "# tqdm extensions for pandas functions\n",
    "tqdm.pandas()"
   ]
  },
  {
   "cell_type": "markdown",
   "id": "found-capital",
   "metadata": {},
   "source": [
    "## Get All Linked and Associated Bugs"
   ]
  },
  {
   "cell_type": "code",
   "execution_count": 3,
   "id": "binary-agency",
   "metadata": {},
   "outputs": [
    {
     "data": {
      "text/plain": [
       "['\"redhat-assisted-installer\"',\n",
       " '\"redhat-openshift-informing\"',\n",
       " '\"redhat-openshift-ocp-release-4.1-blocking\"',\n",
       " '\"redhat-openshift-ocp-release-4.1-informing\"',\n",
       " '\"redhat-openshift-ocp-release-4.2-blocking\"',\n",
       " '\"redhat-openshift-ocp-release-4.2-informing\"',\n",
       " '\"redhat-openshift-ocp-release-4.3-blocking\"',\n",
       " '\"redhat-openshift-ocp-release-4.3-broken\"',\n",
       " '\"redhat-openshift-ocp-release-4.3-informing\"',\n",
       " '\"redhat-openshift-ocp-release-4.4-blocking\"',\n",
       " '\"redhat-openshift-ocp-release-4.4-broken\"',\n",
       " '\"redhat-openshift-ocp-release-4.4-informing\"',\n",
       " '\"redhat-openshift-ocp-release-4.5-blocking\"',\n",
       " '\"redhat-openshift-ocp-release-4.5-broken\"',\n",
       " '\"redhat-openshift-ocp-release-4.5-informing\"',\n",
       " '\"redhat-openshift-ocp-release-4.6-blocking\"',\n",
       " '\"redhat-openshift-ocp-release-4.6-broken\"',\n",
       " '\"redhat-openshift-ocp-release-4.6-informing\"',\n",
       " '\"redhat-openshift-ocp-release-4.7-blocking\"',\n",
       " '\"redhat-openshift-ocp-release-4.7-broken\"',\n",
       " '\"redhat-openshift-ocp-release-4.7-informing\"',\n",
       " '\"redhat-openshift-ocp-release-4.8-blocking\"',\n",
       " '\"redhat-openshift-ocp-release-4.8-informing\"',\n",
       " '\"redhat-openshift-ocp-release-4.9-blocking\"',\n",
       " '\"redhat-openshift-ocp-release-4.9-informing\"',\n",
       " '\"redhat-openshift-okd-release-4.3-informing\"',\n",
       " '\"redhat-openshift-okd-release-4.4-informing\"',\n",
       " '\"redhat-openshift-okd-release-4.5-blocking\"',\n",
       " '\"redhat-openshift-okd-release-4.5-informing\"',\n",
       " '\"redhat-openshift-okd-release-4.6-blocking\"',\n",
       " '\"redhat-openshift-okd-release-4.6-informing\"',\n",
       " '\"redhat-openshift-okd-release-4.7-blocking\"',\n",
       " '\"redhat-openshift-okd-release-4.7-informing\"',\n",
       " '\"redhat-openshift-okd-release-4.8-blocking\"',\n",
       " '\"redhat-openshift-okd-release-4.8-informing\"',\n",
       " '\"redhat-openshift-okd-release-4.9-informing\"',\n",
       " '\"redhat-openshift-presubmit-master-gcp\"',\n",
       " '\"redhat-osd\"',\n",
       " '\"redhat-single-node\"']"
      ]
     },
     "execution_count": 3,
     "metadata": {},
     "output_type": "execute_result"
    }
   ],
   "source": [
    "# get the red hat dashboard names\n",
    "response = requests.get(\n",
    "    \"https://testgrid.k8s.io/redhat-openshift-informing?id=dashboard-group-bar\"\n",
    ")\n",
    "html = BeautifulSoup(response.content)\n",
    "testgrid_script = html.findAll(\"script\")[3]\n",
    "testgrid_script = testgrid_script.text.split()[5].split(\",\")\n",
    "dashboard_names = [x.split(\":\")[1] for x in testgrid_script if \"name\" in x]\n",
    "dashboard_names"
   ]
  },
  {
   "cell_type": "markdown",
   "id": "freelance-metropolitan",
   "metadata": {},
   "source": [
    "**NOTE** Since other notebooks also look at only one dashboard and job, we'll do the same. at the end we'll save the dataset for further analysis."
   ]
  },
  {
   "cell_type": "code",
   "execution_count": 4,
   "id": "novel-colorado",
   "metadata": {},
   "outputs": [],
   "source": [
    "# bugs linked at timestamps up to this amount of time before today will be returned\n",
    "max_age = '336h'\n",
    "\n",
    "# ci details search url\n",
    "url = 'https://search.ci.openshift.org/'\n",
    "\n",
    "dashboard = '\"redhat-openshift-ocp-release-4.2-informing\"'"
   ]
  },
  {
   "cell_type": "code",
   "execution_count": 5,
   "id": "embedded-penguin",
   "metadata": {},
   "outputs": [
    {
     "name": "stderr",
     "output_type": "stream",
     "text": [
      "100%|██████████| 31/31 [17:14<00:00, 33.37s/it] \n"
     ]
    }
   ],
   "source": [
    "# get all linked bugs\n",
    "associated_bugs = list()\n",
    "all_linked_bugs = set()\n",
    "\n",
    "# get all jobs in this dashboard\n",
    "response = requests.get(f\"https://testgrid.k8s.io/{dashboard}/summary\")\n",
    "job_names = response.json().keys()\n",
    "\n",
    "for job in tqdm(job_names):\n",
    "    # get all tests in this job\n",
    "    response = requests.get(f\"https://testgrid.k8s.io/{dashboard}/table?&show-stale-tests=&tab={job}\")\n",
    "\n",
    "    # params to send to openshift ci search for tests under this job\n",
    "    args = {\n",
    "        'type': 'bug+junit',\n",
    "        'context': '-1',\n",
    "        'name': job,\n",
    "        'maxAge': max_age,\n",
    "        # DO NOT REMOVE THESE KEYS. THIS HACK PREVENTS REQUESTS FROM TIMING OUT.\n",
    "        # read more here - https://stackoverflow.com/a/63377265/9743348\n",
    "        'ajax': 'true',\n",
    "        'mobile': 'false',\n",
    "    }\n",
    "\n",
    "    for test in response.json().get('tests', []):\n",
    "        testname = test['name'].split('.', maxsplit=1)[-1]\n",
    "\n",
    "        # use test name as the search phrase\n",
    "        args['search'] = testname.replace('[', '\\[').replace(']', '\\]')\n",
    "\n",
    "        # search for linked and associated bugs for this test\n",
    "        response = requests.post(url, data=args)\n",
    "        soup = BeautifulSoup(response.content)\n",
    "\n",
    "        # the \"em\" objects in soup have information that can tell us\n",
    "        # whether or not this test had a linked bug for the given job name\n",
    "        em_objects = soup.find_all('em')\n",
    "        pct_affected = 0\n",
    "        for em in em_objects:\n",
    "            if 'Found' in em.text:\n",
    "                pct_affected = float(em.text.split()[2][:-1])\n",
    "                break\n",
    "\n",
    "        # init to empty for this test result / reset to empty from previous test result\n",
    "        test_bugs = []\n",
    "\n",
    "        # if percent jobs affected is 0 then the linked bugs correspond to another job\n",
    "        if pct_affected > 0:\n",
    "            result_rows = soup.find('table').find('tbody').find_all('tr')\n",
    "            for row in result_rows:\n",
    "                column_values = row.find_all('td')\n",
    "\n",
    "                # if there is only 1 column then the result is a junit, not bug\n",
    "                if len(column_values) > 1:\n",
    "                    # check the second column to make sure it is a bug and not junit details result\n",
    "                    if column_values[1].text == 'bug':\n",
    "                        test_bugs.append(column_values[0].text[1:])\n",
    "                        all_linked_bugs.add(column_values[0].text[1:])\n",
    "\n",
    "        associated_bugs.append((dashboard, job, test, test_bugs))"
   ]
  },
  {
   "cell_type": "code",
   "execution_count": 6,
   "id": "representative-publicity",
   "metadata": {},
   "outputs": [
    {
     "data": {
      "text/html": [
       "<div>\n",
       "<style scoped>\n",
       "    .dataframe tbody tr th:only-of-type {\n",
       "        vertical-align: middle;\n",
       "    }\n",
       "\n",
       "    .dataframe tbody tr th {\n",
       "        vertical-align: top;\n",
       "    }\n",
       "\n",
       "    .dataframe thead th {\n",
       "        text-align: right;\n",
       "    }\n",
       "</style>\n",
       "<table border=\"1\" class=\"dataframe\">\n",
       "  <thead>\n",
       "    <tr style=\"text-align: right;\">\n",
       "      <th></th>\n",
       "      <th>dashboard</th>\n",
       "      <th>job</th>\n",
       "      <th>test_name</th>\n",
       "      <th>bug_ids</th>\n",
       "    </tr>\n",
       "  </thead>\n",
       "  <tbody>\n",
       "    <tr>\n",
       "      <th>0</th>\n",
       "      <td>\"redhat-openshift-ocp-release-4.2-informing\"</td>\n",
       "      <td>periodic-ci-openshift-release-master-ci-4.2-e2...</td>\n",
       "      <td>{'name': 'Overall', 'original-name': 'Overall'...</td>\n",
       "      <td>[]</td>\n",
       "    </tr>\n",
       "    <tr>\n",
       "      <th>1</th>\n",
       "      <td>\"redhat-openshift-ocp-release-4.2-informing\"</td>\n",
       "      <td>periodic-ci-openshift-release-master-ci-4.2-e2...</td>\n",
       "      <td>{'name': 'operator.Run multi-stage test e2e-aw...</td>\n",
       "      <td>[]</td>\n",
       "    </tr>\n",
       "    <tr>\n",
       "      <th>2</th>\n",
       "      <td>\"redhat-openshift-ocp-release-4.2-informing\"</td>\n",
       "      <td>periodic-ci-openshift-release-master-ci-4.2-e2...</td>\n",
       "      <td>{'name': 'Operator results.operator conditions...</td>\n",
       "      <td>[]</td>\n",
       "    </tr>\n",
       "    <tr>\n",
       "      <th>3</th>\n",
       "      <td>\"redhat-openshift-ocp-release-4.2-informing\"</td>\n",
       "      <td>periodic-ci-openshift-release-master-ci-4.2-e2...</td>\n",
       "      <td>{'name': 'operator.Run multi-stage test e2e-aw...</td>\n",
       "      <td>[]</td>\n",
       "    </tr>\n",
       "    <tr>\n",
       "      <th>4</th>\n",
       "      <td>\"redhat-openshift-ocp-release-4.2-informing\"</td>\n",
       "      <td>periodic-ci-openshift-release-master-ci-4.2-e2...</td>\n",
       "      <td>{'name': 'operator.Run multi-stage test e2e-aw...</td>\n",
       "      <td>[]</td>\n",
       "    </tr>\n",
       "  </tbody>\n",
       "</table>\n",
       "</div>"
      ],
      "text/plain": [
       "                                      dashboard  \\\n",
       "0  \"redhat-openshift-ocp-release-4.2-informing\"   \n",
       "1  \"redhat-openshift-ocp-release-4.2-informing\"   \n",
       "2  \"redhat-openshift-ocp-release-4.2-informing\"   \n",
       "3  \"redhat-openshift-ocp-release-4.2-informing\"   \n",
       "4  \"redhat-openshift-ocp-release-4.2-informing\"   \n",
       "\n",
       "                                                 job  \\\n",
       "0  periodic-ci-openshift-release-master-ci-4.2-e2...   \n",
       "1  periodic-ci-openshift-release-master-ci-4.2-e2...   \n",
       "2  periodic-ci-openshift-release-master-ci-4.2-e2...   \n",
       "3  periodic-ci-openshift-release-master-ci-4.2-e2...   \n",
       "4  periodic-ci-openshift-release-master-ci-4.2-e2...   \n",
       "\n",
       "                                           test_name bug_ids  \n",
       "0  {'name': 'Overall', 'original-name': 'Overall'...      []  \n",
       "1  {'name': 'operator.Run multi-stage test e2e-aw...      []  \n",
       "2  {'name': 'Operator results.operator conditions...      []  \n",
       "3  {'name': 'operator.Run multi-stage test e2e-aw...      []  \n",
       "4  {'name': 'operator.Run multi-stage test e2e-aw...      []  "
      ]
     },
     "execution_count": 6,
     "metadata": {},
     "output_type": "execute_result"
    }
   ],
   "source": [
    "linked_and_associated_bugs = pd.DataFrame(associated_bugs, columns=['dashboard', 'job', 'test_name', 'bug_ids'])\n",
    "linked_and_associated_bugs.head()"
   ]
  },
  {
   "cell_type": "code",
   "execution_count": 7,
   "id": "gross-financing",
   "metadata": {},
   "outputs": [],
   "source": [
    "# todo: distribution of bugs across jobs"
   ]
  },
  {
   "cell_type": "markdown",
   "id": "historic-liquid",
   "metadata": {},
   "source": [
    "## Get Bugzilla Details"
   ]
  },
  {
   "cell_type": "code",
   "execution_count": 8,
   "id": "tropical-branch",
   "metadata": {},
   "outputs": [],
   "source": [
    "bzapi = bugzilla.Bugzilla(\"bugzilla.redhat.com\")"
   ]
  },
  {
   "cell_type": "code",
   "execution_count": 9,
   "id": "completed-taste",
   "metadata": {},
   "outputs": [
    {
     "data": {
      "text/plain": [
       "['__class__',\n",
       " '__delattr__',\n",
       " '__dict__',\n",
       " '__dir__',\n",
       " '__doc__',\n",
       " '__eq__',\n",
       " '__format__',\n",
       " '__ge__',\n",
       " '__getattr__',\n",
       " '__getattribute__',\n",
       " '__getstate__',\n",
       " '__gt__',\n",
       " '__hash__',\n",
       " '__init__',\n",
       " '__init_subclass__',\n",
       " '__le__',\n",
       " '__lt__',\n",
       " '__module__',\n",
       " '__ne__',\n",
       " '__new__',\n",
       " '__reduce__',\n",
       " '__reduce_ex__',\n",
       " '__repr__',\n",
       " '__setattr__',\n",
       " '__setstate__',\n",
       " '__sizeof__',\n",
       " '__str__',\n",
       " '__subclasshook__',\n",
       " '__unicode__',\n",
       " '__weakref__',\n",
       " '_aliases',\n",
       " '_rawdata',\n",
       " '_translate_dict',\n",
       " '_update_dict',\n",
       " 'addcc',\n",
       " 'addcomment',\n",
       " 'alias',\n",
       " 'assigned_to',\n",
       " 'assigned_to_detail',\n",
       " 'autorefresh',\n",
       " 'blocks',\n",
       " 'bugzilla',\n",
       " 'cc',\n",
       " 'cc_detail',\n",
       " 'cf_clone_of',\n",
       " 'cf_doc_type',\n",
       " 'cf_environment',\n",
       " 'cf_last_closed',\n",
       " 'cf_release_notes',\n",
       " 'cf_target_upstream_version',\n",
       " 'classification',\n",
       " 'close',\n",
       " 'comments',\n",
       " 'component',\n",
       " 'components',\n",
       " 'creation_time',\n",
       " 'creator',\n",
       " 'creator_detail',\n",
       " 'deletecc',\n",
       " 'depends_on',\n",
       " 'description',\n",
       " 'docs_contact',\n",
       " 'external_bugs',\n",
       " 'fixed_in',\n",
       " 'flags',\n",
       " 'get_attachment_ids',\n",
       " 'get_attachments',\n",
       " 'get_flag_status',\n",
       " 'get_flag_type',\n",
       " 'get_flags',\n",
       " 'get_history_raw',\n",
       " 'get_raw_data',\n",
       " 'getcomments',\n",
       " 'groups',\n",
       " 'id',\n",
       " 'is_cc_accessible',\n",
       " 'is_confirmed',\n",
       " 'is_creator_accessible',\n",
       " 'is_open',\n",
       " 'keywords',\n",
       " 'last_change_time',\n",
       " 'op_sys',\n",
       " 'platform',\n",
       " 'priority',\n",
       " 'product',\n",
       " 'qa_contact',\n",
       " 'qa_contact_detail',\n",
       " 'refresh',\n",
       " 'reload',\n",
       " 'resolution',\n",
       " 'see_also',\n",
       " 'setassignee',\n",
       " 'setstatus',\n",
       " 'severity',\n",
       " 'status',\n",
       " 'sub_component',\n",
       " 'sub_components',\n",
       " 'summary',\n",
       " 'tags',\n",
       " 'target_milestone',\n",
       " 'target_release',\n",
       " 'updateflags',\n",
       " 'url',\n",
       " 'version',\n",
       " 'versions',\n",
       " 'weburl',\n",
       " 'whiteboard']"
      ]
     },
     "execution_count": 9,
     "metadata": {},
     "output_type": "execute_result"
    }
   ],
   "source": [
    "samplebug = bzapi.getbug(1883345)\n",
    "dir(samplebug)"
   ]
  },
  {
   "cell_type": "code",
   "execution_count": 10,
   "id": "paperback-frederick",
   "metadata": {},
   "outputs": [
    {
     "data": {
      "text/plain": [
       "{'priority': 'low',\n",
       " 'cf_last_closed': <DateTime '20201105T12:46:56' at 0x7fefe177e430>,\n",
       " 'creator': 'Cesar Wong',\n",
       " 'blocks': [1883348],\n",
       " 'assigned_to_detail': {'real_name': 'Cesar Wong',\n",
       "  'email': 'cewong',\n",
       "  'name': 'cewong',\n",
       "  'id': 368980},\n",
       " 'last_change_time': <DateTime '20201105T12:47:17' at 0x7fefe177eca0>,\n",
       " 'comments': [{'is_private': False,\n",
       "   'count': 0,\n",
       "   'creator': 'cewong',\n",
       "   'time': <DateTime '20200928T20:47:20' at 0x7fefe177eb80>,\n",
       "   'bug_id': 1883345,\n",
       "   'tags': [],\n",
       "   'text': '+++ This bug was initially created as a clone of Bug #1883343 +++\\n\\nRe-enabling selected tests now that associated bugs have been fixed and are in the Red Hat OpenShift on IBM Cloud v4.3 builds\\n\\n[Feature:Prometheus][Conformance] Prometheus when installed on the cluster should provide ingress metrics\\n[Conformance][Area:Networking][Feature:Router] The HAProxy router should enable openshift-monitoring to pull metrics\\n[k8s.io] [sig-node] Pods Extended [k8s.io] Pod Container Status should never report success for a pending container',\n",
       "   'creation_time': <DateTime '20200928T20:47:20' at 0x7fefe177e100>,\n",
       "   'id': 14328187,\n",
       "   'creator_id': 368980},\n",
       "  {'is_private': False,\n",
       "   'count': 3,\n",
       "   'creator': 'cewong',\n",
       "   'time': <DateTime '20201026T12:09:55' at 0x7fefe177edc0>,\n",
       "   'bug_id': 1883345,\n",
       "   'tags': [],\n",
       "   'text': 'Moving to VERIFIED as this is only a change to e2e tests, which are passing.',\n",
       "   'creation_time': <DateTime '20201026T12:09:55' at 0x7fefe177e160>,\n",
       "   'id': 14428957,\n",
       "   'creator_id': 368980},\n",
       "  {'is_private': False,\n",
       "   'count': 5,\n",
       "   'creator': 'errata-xmlrpc',\n",
       "   'time': <DateTime '20201105T12:46:56' at 0x7fefe177ec10>,\n",
       "   'bug_id': 1883345,\n",
       "   'tags': [],\n",
       "   'text': 'Since the problem described in this bug report should be\\nresolved in a recent advisory, it has been closed with a\\nresolution of ERRATA.\\n\\nFor information on the advisory (OpenShift Container Platform 4.5.17 bug fix update), and where to find the updated\\nfiles, follow the link below.\\n\\nIf the solution does not work for you, open a new bug report.\\n\\nhttps://access.redhat.com/errata/RHBA-2020:4325',\n",
       "   'creation_time': <DateTime '20201105T12:46:56' at 0x7fefe177efa0>,\n",
       "   'id': 14478733,\n",
       "   'creator_id': 241731}],\n",
       " 'is_cc_accessible': True,\n",
       " 'keywords': [],\n",
       " 'creator_detail': {'real_name': 'Cesar Wong',\n",
       "  'email': 'cewong',\n",
       "  'name': 'cewong',\n",
       "  'id': 368980},\n",
       " 'cc': ['Xiaoli Tian'],\n",
       " 'see_also': [],\n",
       " 'groups': [],\n",
       " 'assigned_to': 'Cesar Wong',\n",
       " 'url': '',\n",
       " 'qa_contact': 'Xiaoli Tian',\n",
       " 'creation_time': <DateTime '20200928T20:47:20' at 0x7fefe0ac4130>,\n",
       " 'whiteboard': 'IBMROKS',\n",
       " 'id': 1883345,\n",
       " 'depends_on': [1883343],\n",
       " 'cf_target_upstream_version': '',\n",
       " 'docs_contact': '',\n",
       " 'description': '+++ This bug was initially created as a clone of Bug #1883343 +++\\n\\nRe-enabling selected tests now that associated bugs have been fixed and are in the Red Hat OpenShift on IBM Cloud v4.3 builds\\n\\n[Feature:Prometheus][Conformance] Prometheus when installed on the cluster should provide ingress metrics\\n[Conformance][Area:Networking][Feature:Router] The HAProxy router should enable openshift-monitoring to pull metrics\\n[k8s.io] [sig-node] Pods Extended [k8s.io] Pod Container Status should never report success for a pending container',\n",
       " 'qa_contact_detail': {'real_name': 'Xiaoli Tian',\n",
       "  'email': 'xtian',\n",
       "  'name': 'xtian',\n",
       "  'id': 291334},\n",
       " 'resolution': 'ERRATA',\n",
       " 'classification': 'Red Hat',\n",
       " 'cf_doc_type': 'If docs needed, set a value',\n",
       " 'alias': [],\n",
       " 'op_sys': 'Unspecified',\n",
       " 'target_release': ['4.5.z'],\n",
       " 'status': 'CLOSED',\n",
       " 'cc_detail': [{'real_name': 'Xiaoli Tian',\n",
       "   'email': 'xtian',\n",
       "   'name': 'xtian',\n",
       "   'id': 291334}],\n",
       " 'cf_clone_of': 1883343,\n",
       " 'external_bugs': [{'ext_description': 'Bug 1883345: [release-4.5] Re-enable skipped conformance tests for IBM Cloud',\n",
       "   'ext_bz_id': 131,\n",
       "   'ext_priority': 'None',\n",
       "   'bug_id': 1883345,\n",
       "   'ext_bz_bug_id': 'openshift/origin/pull/25520',\n",
       "   'id': 1398581,\n",
       "   'ext_status': 'closed',\n",
       "   'type': {'must_send': False,\n",
       "    'can_send': False,\n",
       "    'description': 'Github',\n",
       "    'can_get': True,\n",
       "    'url': 'https://github.com/',\n",
       "    'id': 131,\n",
       "    'send_once': False,\n",
       "    'type': 'GitHub',\n",
       "    'full_url': 'https://github.com/%id%'}},\n",
       "  {'ext_description': 'None',\n",
       "   'ext_bz_id': 139,\n",
       "   'ext_priority': 'None',\n",
       "   'bug_id': 1883345,\n",
       "   'ext_bz_bug_id': 'RHBA-2020:4325',\n",
       "   'id': 1660014,\n",
       "   'ext_status': 'None',\n",
       "   'type': {'must_send': False,\n",
       "    'can_send': False,\n",
       "    'description': 'Red Hat Product Errata',\n",
       "    'can_get': False,\n",
       "    'url': 'https://access.redhat.com/errata/',\n",
       "    'id': 139,\n",
       "    'send_once': False,\n",
       "    'type': 'None',\n",
       "    'full_url': 'https://access.redhat.com/errata/%id%'}}],\n",
       " 'summary': 'Re-enable skipped conformance tests for IBM Cloud',\n",
       " 'is_open': False,\n",
       " 'platform': 'Unspecified',\n",
       " 'severity': 'low',\n",
       " 'cf_environment': '',\n",
       " 'flags': [],\n",
       " 'version': '4.5',\n",
       " 'tags': [],\n",
       " 'component': 'ibm-roks-toolkit',\n",
       " 'sub_components': {},\n",
       " 'is_creator_accessible': True,\n",
       " 'cf_release_notes': '',\n",
       " 'product': 'OpenShift Container Platform',\n",
       " 'target_milestone': '---',\n",
       " 'is_confirmed': True,\n",
       " 'components': ['ibm-roks-toolkit'],\n",
       " 'versions': ['4.5'],\n",
       " 'sub_component': '',\n",
       " 'fixed_in': ''}"
      ]
     },
     "execution_count": 10,
     "metadata": {},
     "output_type": "execute_result"
    }
   ],
   "source": [
    "# lets peek at some of the available bug metadata\n",
    "samplebug._rawdata"
   ]
  },
  {
   "cell_type": "code",
   "execution_count": 11,
   "id": "painful-warehouse",
   "metadata": {},
   "outputs": [
    {
     "data": {
      "text/plain": [
       "<bugzilla.oldclasses.RHBugzilla at 0x7fefe0d33a60>"
      ]
     },
     "execution_count": 11,
     "metadata": {},
     "output_type": "execute_result"
    }
   ],
   "source": [
    "samplebug.bugzilla"
   ]
  },
  {
   "cell_type": "code",
   "execution_count": 12,
   "id": "twenty-fault",
   "metadata": {},
   "outputs": [
    {
     "data": {
      "text/plain": [
       "[('summary', 'short_desc'),\n",
       " ('description', 'comment'),\n",
       " ('platform', 'rep_platform'),\n",
       " ('severity', 'bug_severity'),\n",
       " ('status', 'bug_status'),\n",
       " ('id', 'bug_id'),\n",
       " ('blocks', 'blockedby'),\n",
       " ('blocks', 'blocked'),\n",
       " ('depends_on', 'dependson'),\n",
       " ('creator', 'reporter'),\n",
       " ('url', 'bug_file_loc'),\n",
       " ('dupe_of', 'dupe_id'),\n",
       " ('dupe_of', 'dup_id'),\n",
       " ('comments', 'longdescs'),\n",
       " ('creation_time', 'opendate'),\n",
       " ('creation_time', 'creation_ts'),\n",
       " ('whiteboard', 'status_whiteboard'),\n",
       " ('last_change_time', 'delta_ts'),\n",
       " ('fixed_in', 'cf_fixed_in'),\n",
       " ('qa_whiteboard', 'cf_qa_whiteboard'),\n",
       " ('devel_whiteboard', 'cf_devel_whiteboard'),\n",
       " ('internal_whiteboard', 'cf_internal_whiteboard'),\n",
       " ('flags', 'flag_types')]"
      ]
     },
     "execution_count": 12,
     "metadata": {},
     "output_type": "execute_result"
    }
   ],
   "source": [
    "samplebug._aliases"
   ]
  },
  {
   "cell_type": "markdown",
   "id": "upset-figure",
   "metadata": {},
   "source": [
    "**NOTE** `_rawdata` seems redundant, the information is already captured in other fields. And `bugzilla` attribute is depracated / old representation."
   ]
  },
  {
   "cell_type": "code",
   "execution_count": 13,
   "id": "greater-constitutional",
   "metadata": {},
   "outputs": [],
   "source": [
    "list(vars(samplebug).keys()).remove('bugzilla')"
   ]
  },
  {
   "cell_type": "code",
   "execution_count": 14,
   "id": "under-plaintiff",
   "metadata": {},
   "outputs": [
    {
     "data": {
      "text/plain": [
       "['autorefresh',\n",
       " 'priority',\n",
       " 'creator',\n",
       " 'blocks',\n",
       " 'assigned_to_detail',\n",
       " 'last_change_time',\n",
       " 'comments',\n",
       " 'is_cc_accessible',\n",
       " 'keywords',\n",
       " 'creator_detail',\n",
       " 'cc',\n",
       " 'see_also',\n",
       " 'groups',\n",
       " 'assigned_to',\n",
       " 'url',\n",
       " 'qa_contact',\n",
       " 'creation_time',\n",
       " 'whiteboard',\n",
       " 'id',\n",
       " 'depends_on',\n",
       " 'cf_target_upstream_version',\n",
       " 'docs_contact',\n",
       " 'description',\n",
       " 'resolution',\n",
       " 'classification',\n",
       " 'cf_doc_type',\n",
       " 'alias',\n",
       " 'op_sys',\n",
       " 'target_release',\n",
       " 'status',\n",
       " 'cc_detail',\n",
       " 'external_bugs',\n",
       " 'summary',\n",
       " 'is_open',\n",
       " 'platform',\n",
       " 'severity',\n",
       " 'cf_environment',\n",
       " 'flags',\n",
       " 'version',\n",
       " 'tags',\n",
       " 'component',\n",
       " 'sub_components',\n",
       " 'is_creator_accessible',\n",
       " 'cf_release_notes',\n",
       " 'product',\n",
       " 'target_milestone',\n",
       " 'is_confirmed',\n",
       " 'components',\n",
       " 'versions',\n",
       " 'sub_component',\n",
       " 'fixed_in',\n",
       " 'weburl']"
      ]
     },
     "execution_count": 14,
     "metadata": {},
     "output_type": "execute_result"
    }
   ],
   "source": [
    "# get all the available fields, except the depracated and duplicate ones\n",
    "bug_details_to_get = list(vars(samplebug).keys())\n",
    "bug_details_to_get.remove('_rawdata')\n",
    "bug_details_to_get.remove('bugzilla')\n",
    "bug_details_to_get.remove('_aliases')\n",
    "\n",
    "# these two keys are msissing for a lot of bugs\n",
    "bug_details_to_get.remove('qa_contact_detail')\n",
    "bug_details_to_get.remove('cf_last_closed')\n",
    "bug_details_to_get.remove('cf_clone_of')\n",
    "\n",
    "bug_details_to_get"
   ]
  },
  {
   "cell_type": "code",
   "execution_count": 15,
   "id": "julian-adelaide",
   "metadata": {},
   "outputs": [
    {
     "data": {
      "text/html": [
       "<div>\n",
       "<style scoped>\n",
       "    .dataframe tbody tr th:only-of-type {\n",
       "        vertical-align: middle;\n",
       "    }\n",
       "\n",
       "    .dataframe tbody tr th {\n",
       "        vertical-align: top;\n",
       "    }\n",
       "\n",
       "    .dataframe thead th {\n",
       "        text-align: right;\n",
       "    }\n",
       "</style>\n",
       "<table border=\"1\" class=\"dataframe\">\n",
       "  <thead>\n",
       "    <tr style=\"text-align: right;\">\n",
       "      <th></th>\n",
       "      <th>bug_id</th>\n",
       "      <th>autorefresh</th>\n",
       "      <th>priority</th>\n",
       "      <th>creator</th>\n",
       "      <th>blocks</th>\n",
       "      <th>assigned_to_detail</th>\n",
       "      <th>last_change_time</th>\n",
       "      <th>comments</th>\n",
       "      <th>is_cc_accessible</th>\n",
       "      <th>keywords</th>\n",
       "      <th>...</th>\n",
       "      <th>is_creator_accessible</th>\n",
       "      <th>cf_release_notes</th>\n",
       "      <th>product</th>\n",
       "      <th>target_milestone</th>\n",
       "      <th>is_confirmed</th>\n",
       "      <th>components</th>\n",
       "      <th>versions</th>\n",
       "      <th>sub_component</th>\n",
       "      <th>fixed_in</th>\n",
       "      <th>weburl</th>\n",
       "    </tr>\n",
       "  </thead>\n",
       "  <tbody>\n",
       "    <tr>\n",
       "      <th>0</th>\n",
       "      <td>1934731</td>\n",
       "      <td>NaN</td>\n",
       "      <td>NaN</td>\n",
       "      <td>NaN</td>\n",
       "      <td>NaN</td>\n",
       "      <td>NaN</td>\n",
       "      <td>NaN</td>\n",
       "      <td>NaN</td>\n",
       "      <td>NaN</td>\n",
       "      <td>NaN</td>\n",
       "      <td>...</td>\n",
       "      <td>NaN</td>\n",
       "      <td>NaN</td>\n",
       "      <td>NaN</td>\n",
       "      <td>NaN</td>\n",
       "      <td>NaN</td>\n",
       "      <td>NaN</td>\n",
       "      <td>NaN</td>\n",
       "      <td>NaN</td>\n",
       "      <td>NaN</td>\n",
       "      <td>NaN</td>\n",
       "    </tr>\n",
       "    <tr>\n",
       "      <th>1</th>\n",
       "      <td>1882505</td>\n",
       "      <td>NaN</td>\n",
       "      <td>NaN</td>\n",
       "      <td>NaN</td>\n",
       "      <td>NaN</td>\n",
       "      <td>NaN</td>\n",
       "      <td>NaN</td>\n",
       "      <td>NaN</td>\n",
       "      <td>NaN</td>\n",
       "      <td>NaN</td>\n",
       "      <td>...</td>\n",
       "      <td>NaN</td>\n",
       "      <td>NaN</td>\n",
       "      <td>NaN</td>\n",
       "      <td>NaN</td>\n",
       "      <td>NaN</td>\n",
       "      <td>NaN</td>\n",
       "      <td>NaN</td>\n",
       "      <td>NaN</td>\n",
       "      <td>NaN</td>\n",
       "      <td>NaN</td>\n",
       "    </tr>\n",
       "    <tr>\n",
       "      <th>2</th>\n",
       "      <td>1809892</td>\n",
       "      <td>NaN</td>\n",
       "      <td>NaN</td>\n",
       "      <td>NaN</td>\n",
       "      <td>NaN</td>\n",
       "      <td>NaN</td>\n",
       "      <td>NaN</td>\n",
       "      <td>NaN</td>\n",
       "      <td>NaN</td>\n",
       "      <td>NaN</td>\n",
       "      <td>...</td>\n",
       "      <td>NaN</td>\n",
       "      <td>NaN</td>\n",
       "      <td>NaN</td>\n",
       "      <td>NaN</td>\n",
       "      <td>NaN</td>\n",
       "      <td>NaN</td>\n",
       "      <td>NaN</td>\n",
       "      <td>NaN</td>\n",
       "      <td>NaN</td>\n",
       "      <td>NaN</td>\n",
       "    </tr>\n",
       "    <tr>\n",
       "      <th>3</th>\n",
       "      <td>1861498</td>\n",
       "      <td>NaN</td>\n",
       "      <td>NaN</td>\n",
       "      <td>NaN</td>\n",
       "      <td>NaN</td>\n",
       "      <td>NaN</td>\n",
       "      <td>NaN</td>\n",
       "      <td>NaN</td>\n",
       "      <td>NaN</td>\n",
       "      <td>NaN</td>\n",
       "      <td>...</td>\n",
       "      <td>NaN</td>\n",
       "      <td>NaN</td>\n",
       "      <td>NaN</td>\n",
       "      <td>NaN</td>\n",
       "      <td>NaN</td>\n",
       "      <td>NaN</td>\n",
       "      <td>NaN</td>\n",
       "      <td>NaN</td>\n",
       "      <td>NaN</td>\n",
       "      <td>NaN</td>\n",
       "    </tr>\n",
       "    <tr>\n",
       "      <th>4</th>\n",
       "      <td>1948535</td>\n",
       "      <td>NaN</td>\n",
       "      <td>NaN</td>\n",
       "      <td>NaN</td>\n",
       "      <td>NaN</td>\n",
       "      <td>NaN</td>\n",
       "      <td>NaN</td>\n",
       "      <td>NaN</td>\n",
       "      <td>NaN</td>\n",
       "      <td>NaN</td>\n",
       "      <td>...</td>\n",
       "      <td>NaN</td>\n",
       "      <td>NaN</td>\n",
       "      <td>NaN</td>\n",
       "      <td>NaN</td>\n",
       "      <td>NaN</td>\n",
       "      <td>NaN</td>\n",
       "      <td>NaN</td>\n",
       "      <td>NaN</td>\n",
       "      <td>NaN</td>\n",
       "      <td>NaN</td>\n",
       "    </tr>\n",
       "  </tbody>\n",
       "</table>\n",
       "<p>5 rows × 53 columns</p>\n",
       "</div>"
      ],
      "text/plain": [
       "    bug_id autorefresh priority creator blocks assigned_to_detail  \\\n",
       "0  1934731         NaN      NaN     NaN    NaN                NaN   \n",
       "1  1882505         NaN      NaN     NaN    NaN                NaN   \n",
       "2  1809892         NaN      NaN     NaN    NaN                NaN   \n",
       "3  1861498         NaN      NaN     NaN    NaN                NaN   \n",
       "4  1948535         NaN      NaN     NaN    NaN                NaN   \n",
       "\n",
       "  last_change_time comments is_cc_accessible keywords  ...  \\\n",
       "0              NaN      NaN              NaN      NaN  ...   \n",
       "1              NaN      NaN              NaN      NaN  ...   \n",
       "2              NaN      NaN              NaN      NaN  ...   \n",
       "3              NaN      NaN              NaN      NaN  ...   \n",
       "4              NaN      NaN              NaN      NaN  ...   \n",
       "\n",
       "  is_creator_accessible cf_release_notes product target_milestone  \\\n",
       "0                   NaN              NaN     NaN              NaN   \n",
       "1                   NaN              NaN     NaN              NaN   \n",
       "2                   NaN              NaN     NaN              NaN   \n",
       "3                   NaN              NaN     NaN              NaN   \n",
       "4                   NaN              NaN     NaN              NaN   \n",
       "\n",
       "  is_confirmed components versions sub_component fixed_in weburl  \n",
       "0          NaN        NaN      NaN           NaN      NaN    NaN  \n",
       "1          NaN        NaN      NaN           NaN      NaN    NaN  \n",
       "2          NaN        NaN      NaN           NaN      NaN    NaN  \n",
       "3          NaN        NaN      NaN           NaN      NaN    NaN  \n",
       "4          NaN        NaN      NaN           NaN      NaN    NaN  \n",
       "\n",
       "[5 rows x 53 columns]"
      ]
     },
     "execution_count": 15,
     "metadata": {},
     "output_type": "execute_result"
    }
   ],
   "source": [
    "# create a df containing details of all linked and associated bugs\n",
    "bugs_df = pd.DataFrame(columns=['bug_id'] + bug_details_to_get, index=range(len(all_linked_bugs)))\n",
    "bugs_df = bugs_df.assign(bug_id=all_linked_bugs)\n",
    "bugs_df.head()"
   ]
  },
  {
   "cell_type": "code",
   "execution_count": null,
   "id": "confident-composer",
   "metadata": {},
   "outputs": [
    {
     "name": "stderr",
     "output_type": "stream",
     "text": [
      " 99%|█████████▉| 2755/2772 [30:25<00:09,  1.84it/s] "
     ]
    }
   ],
   "source": [
    "def fill_bug_details(bug_row):\n",
    "    global bzapi\n",
    "    \n",
    "    try:\n",
    "        bug = bzapi.getbug(bug_row.bug_id)\n",
    "    except Exception:\n",
    "        return bug_row\n",
    "    \n",
    "    for detail in bug_row.index:\n",
    "        try:\n",
    "            bug_row[detail] = getattr(bug, detail)\n",
    "        except AttributeError:\n",
    "            print(detail)\n",
    "\n",
    "    return bug_row\n",
    "\n",
    "bugs_df.progress_apply(fill_bug_details, axis=1)\n",
    "bugs_df"
   ]
  },
  {
   "cell_type": "code",
   "execution_count": null,
   "id": "extensive-shuttle",
   "metadata": {},
   "outputs": [],
   "source": [
    "for i in bugs_df.columns:\n",
    "    print(i)"
   ]
  },
  {
   "cell_type": "markdown",
   "id": "modified-engineering",
   "metadata": {},
   "source": [
    "## Bug fields"
   ]
  },
  {
   "cell_type": "markdown",
   "id": "joint-prior",
   "metadata": {},
   "source": [
    "### Whiteboard\n",
    "A free-form text area for adding short notes and tags to a bug."
   ]
  },
  {
   "cell_type": "code",
   "execution_count": null,
   "id": "collaborative-distinction",
   "metadata": {},
   "outputs": [],
   "source": [
    "print(\"Length of unique values of whiteboard : \", len(bugs_df.whiteboard.unique()))\n",
    "bugs_df.whiteboard.value_counts().to_frame().head()"
   ]
  },
  {
   "cell_type": "code",
   "execution_count": null,
   "id": "covered-microwave",
   "metadata": {},
   "outputs": [],
   "source": [
    "plt.figure(figsize=(16,5))\n",
    "bugs_df.whiteboard.value_counts().plot.bar()\n",
    "plt.xticks(rotation = 90)\n",
    "plt.title(\"WHITEBOARD TEXT\")\n",
    "plt.xlabel(\"Whiteboard text\")\n",
    "plt.ylabel(\"Value counts for Whiteboard text\")\n",
    "plt.show()"
   ]
  },
  {
   "cell_type": "markdown",
   "id": "federal-image",
   "metadata": {},
   "source": [
    "From the above graph, we can conclude that even though we have 58 unique values for `whiteboard` , most of them are empty. "
   ]
  },
  {
   "cell_type": "markdown",
   "id": "sized-dodge",
   "metadata": {},
   "source": [
    "### cf_target_upstream_version"
   ]
  },
  {
   "cell_type": "code",
   "execution_count": null,
   "id": "interior-medicaid",
   "metadata": {},
   "outputs": [],
   "source": [
    "bugs_df.cf_target_upstream_version.unique()"
   ]
  },
  {
   "cell_type": "markdown",
   "id": "consistent-upgrade",
   "metadata": {},
   "source": [
    "### docs_contact_value and qa_contact \n",
    "The people responsible for contacting and fixing the bug"
   ]
  },
  {
   "cell_type": "code",
   "execution_count": null,
   "id": "improving-television",
   "metadata": {},
   "outputs": [],
   "source": [
    "bugs_df.docs_contact.value_counts()"
   ]
  },
  {
   "cell_type": "code",
   "execution_count": null,
   "id": "nutritional-buddy",
   "metadata": {},
   "outputs": [],
   "source": [
    "bugs_df.qa_contact.value_counts()"
   ]
  },
  {
   "cell_type": "markdown",
   "id": "balanced-maintenance",
   "metadata": {},
   "source": [
    "Most of the tickets have no contacts assigned, but this could be useful so as to automatically identify the bug associated and assign the authorized person to the ticket."
   ]
  },
  {
   "cell_type": "markdown",
   "id": "noticed-checklist",
   "metadata": {},
   "source": [
    "### description \n",
    "This conatins descriptions for each bugzilla ticket."
   ]
  },
  {
   "cell_type": "code",
   "execution_count": null,
   "id": "occupied-heart",
   "metadata": {},
   "outputs": [],
   "source": [
    "bugs_df.description"
   ]
  },
  {
   "cell_type": "markdown",
   "id": "extra-above",
   "metadata": {},
   "source": [
    "This section contains information for all the values, and can be used for identifying more details about a given bug."
   ]
  },
  {
   "cell_type": "markdown",
   "id": "attractive-telephone",
   "metadata": {},
   "source": [
    "### resolution"
   ]
  },
  {
   "cell_type": "code",
   "execution_count": null,
   "id": "resistant-stuff",
   "metadata": {},
   "outputs": [],
   "source": [
    "print(\"Length of resolution: \", len(bugs_df.resolution.unique()))\n",
    "display(bugs_df.resolution.value_counts().to_frame().head())"
   ]
  },
  {
   "cell_type": "code",
   "execution_count": null,
   "id": "color-commodity",
   "metadata": {},
   "outputs": [],
   "source": [
    "plt.figure(figsize=(16,5))\n",
    "bugs_df.resolution.value_counts().plot.bar()\n",
    "plt.xticks(rotation = 90)\n",
    "plt.title(\"Resolution\")\n",
    "plt.xlabel(\"Resolution\")\n",
    "plt.ylabel(\"Value counts for Resolution\")\n",
    "plt.show()"
   ]
  },
  {
   "cell_type": "markdown",
   "id": "private-swift",
   "metadata": {},
   "source": [
    "From the above graph, we can infer that we have most values available for resolution, even though we have many values as empty, this looks like a promising parameter."
   ]
  },
  {
   "cell_type": "markdown",
   "id": "hindu-saint",
   "metadata": {},
   "source": [
    "### classification : "
   ]
  },
  {
   "cell_type": "code",
   "execution_count": null,
   "id": "toxic-fruit",
   "metadata": {},
   "outputs": [],
   "source": [
    "bugs_df.classification.unique()"
   ]
  },
  {
   "cell_type": "markdown",
   "id": "pretty-macintosh",
   "metadata": {},
   "source": [
    "### cf_doc_type"
   ]
  },
  {
   "cell_type": "code",
   "execution_count": null,
   "id": "organic-television",
   "metadata": {},
   "outputs": [],
   "source": [
    "print(\"\",len(bugs_df.cf_doc_type.unique()))\n",
    "display(bugs_df.cf_doc_type.value_counts().to_frame().head())"
   ]
  },
  {
   "cell_type": "code",
   "execution_count": null,
   "id": "growing-thinking",
   "metadata": {},
   "outputs": [],
   "source": [
    "plt.figure(figsize=(16,5))\n",
    "bugs_df.cf_doc_type.value_counts().plot.bar()\n",
    "plt.xticks(rotation = 90)\n",
    "plt.title(\"Doc Type\")\n",
    "plt.xlabel(\"Doc Type\")\n",
    "plt.ylabel(\"Value counts for Doc Type\")\n",
    "plt.show()"
   ]
  },
  {
   "cell_type": "markdown",
   "id": "celtic-upset",
   "metadata": {},
   "source": [
    "From the above graph, we see that most of the tickets have the value for `doc_type`. This could be used to classify the tickets according to the doc type."
   ]
  },
  {
   "cell_type": "markdown",
   "id": "verbal-adaptation",
   "metadata": {},
   "source": [
    "### op_sys : Operating Systems"
   ]
  },
  {
   "cell_type": "code",
   "execution_count": null,
   "id": "right-maldives",
   "metadata": {},
   "outputs": [],
   "source": [
    "print(\"Various Operating Systems : \", len(bugs_df.op_sys.unique()))\n",
    "display(bugs_df.op_sys.value_counts().to_frame().head())"
   ]
  },
  {
   "cell_type": "code",
   "execution_count": null,
   "id": "potential-stretch",
   "metadata": {},
   "outputs": [],
   "source": [
    "plt.figure(figsize=(16,5))\n",
    "bugs_df.op_sys.value_counts().plot.bar()\n",
    "plt.xticks(rotation = 90)\n",
    "plt.title(\"Operating System\")\n",
    "plt.xlabel(\"Operating System\")\n",
    "plt.ylabel(\"Value counts for Operating System\")\n",
    "plt.show()"
   ]
  },
  {
   "cell_type": "markdown",
   "id": "australian-mechanism",
   "metadata": {},
   "source": [
    "From the above graph, we can see that we have four OS(s) across the bugs."
   ]
  },
  {
   "cell_type": "markdown",
   "id": "neither-bookmark",
   "metadata": {},
   "source": [
    "### target_release"
   ]
  },
  {
   "cell_type": "code",
   "execution_count": null,
   "id": "strategic-sherman",
   "metadata": {},
   "outputs": [],
   "source": [
    "plt.figure(figsize=(16,5))\n",
    "bugs_df.target_release.value_counts().plot.bar()\n",
    "plt.xticks(rotation = 90)\n",
    "plt.title(\"Target Release\")\n",
    "plt.xlabel(\"Target Release\")\n",
    "plt.ylabel(\"Value counts for Target Release\")\n",
    "plt.show()"
   ]
  },
  {
   "cell_type": "markdown",
   "id": "forced-slovakia",
   "metadata": {},
   "source": [
    "From the above graph, we see the various target releases frequency. This value also is mostly not assigned but we still have many observations."
   ]
  },
  {
   "cell_type": "markdown",
   "id": "emotional-international",
   "metadata": {},
   "source": [
    "### status"
   ]
  },
  {
   "cell_type": "code",
   "execution_count": null,
   "id": "cardiovascular-trader",
   "metadata": {},
   "outputs": [],
   "source": [
    "print(\"Various Statuses : \", len(bugs_df.status.unique()))\n",
    "display(bugs_df.status.value_counts().to_frame())"
   ]
  },
  {
   "cell_type": "code",
   "execution_count": null,
   "id": "executive-traffic",
   "metadata": {},
   "outputs": [],
   "source": [
    "plt.figure(figsize=(16,5))\n",
    "bugs_df.status.value_counts().plot.bar()\n",
    "plt.xticks(rotation = 90)\n",
    "plt.title(\"Status\")\n",
    "plt.xlabel(\"Status\")\n",
    "plt.ylabel(\"Value counts for Status\")\n",
    "plt.show()"
   ]
  },
  {
   "cell_type": "markdown",
   "id": "tired-renaissance",
   "metadata": {},
   "source": [
    "The above graph, shows various status across tickets."
   ]
  },
  {
   "cell_type": "markdown",
   "id": "collect-allergy",
   "metadata": {},
   "source": [
    "### cc_detail"
   ]
  },
  {
   "cell_type": "code",
   "execution_count": null,
   "id": "outstanding-stopping",
   "metadata": {},
   "outputs": [],
   "source": [
    "display(bugs_df.cc_detail.value_counts().to_frame().head())"
   ]
  },
  {
   "cell_type": "code",
   "execution_count": null,
   "id": "quantitative-treatment",
   "metadata": {},
   "outputs": [],
   "source": [
    "plt.figure(figsize=(16,5))\n",
    "bugs_df.cc_detail.value_counts().to_frame().plot()\n",
    "plt.xticks(rotation = 90)\n",
    "plt.title(\"Details\")\n",
    "plt.xlabel(\"Details\")\n",
    "plt.ylabel(\"Value counts for Details\")\n",
    "plt.show()"
   ]
  },
  {
   "cell_type": "markdown",
   "id": "parental-bacon",
   "metadata": {},
   "source": [
    "### External Bugs"
   ]
  },
  {
   "cell_type": "code",
   "execution_count": null,
   "id": "personal-health",
   "metadata": {},
   "outputs": [],
   "source": [
    "display(bugs_df.external_bugs.value_counts().to_frame().head())"
   ]
  },
  {
   "cell_type": "code",
   "execution_count": null,
   "id": "relevant-truck",
   "metadata": {},
   "outputs": [],
   "source": [
    "plt.figure(figsize=(16,5))\n",
    "bugs_df.external_bugs.value_counts().to_frame().plot()\n",
    "plt.xticks(rotation = 90)\n",
    "plt.title(\"External Bugs\")\n",
    "plt.xlabel(\"External Bugs\")\n",
    "plt.ylabel(\"Value counts for External Bugs\")\n",
    "plt.show()"
   ]
  },
  {
   "cell_type": "code",
   "execution_count": null,
   "id": "certified-recipient",
   "metadata": {},
   "outputs": [],
   "source": []
  },
  {
   "cell_type": "code",
   "execution_count": null,
   "id": "sunset-thousand",
   "metadata": {},
   "outputs": [],
   "source": []
  },
  {
   "cell_type": "markdown",
   "id": "worth-potter",
   "metadata": {},
   "source": [
    "### summary"
   ]
  },
  {
   "cell_type": "code",
   "execution_count": null,
   "id": "coordinated-greenhouse",
   "metadata": {},
   "outputs": [],
   "source": [
    "bugs_df.summary.head()"
   ]
  },
  {
   "cell_type": "code",
   "execution_count": null,
   "id": "verbal-solid",
   "metadata": {},
   "outputs": [],
   "source": [
    "bugs_df.summary[0]"
   ]
  },
  {
   "cell_type": "markdown",
   "id": "occupied-course",
   "metadata": {},
   "source": [
    "The bug `summary` is a short sentence which succinctly describes what the bug is about."
   ]
  },
  {
   "cell_type": "markdown",
   "id": "presidential-evaluation",
   "metadata": {},
   "source": [
    "### is_open"
   ]
  },
  {
   "cell_type": "code",
   "execution_count": null,
   "id": "offshore-plant",
   "metadata": {},
   "outputs": [],
   "source": [
    "bugs_df.is_open.head()"
   ]
  },
  {
   "cell_type": "markdown",
   "id": "tropical-blind",
   "metadata": {},
   "source": [
    "The bug `is_open` field returns a boolean value indicating if the bug is currently open or not"
   ]
  },
  {
   "cell_type": "markdown",
   "id": "damaged-passing",
   "metadata": {},
   "source": [
    "### platform"
   ]
  },
  {
   "cell_type": "code",
   "execution_count": null,
   "id": "modern-percentage",
   "metadata": {},
   "outputs": [],
   "source": [
    "bugs_df.platform.head()"
   ]
  },
  {
   "cell_type": "markdown",
   "id": "angry-confirmation",
   "metadata": {},
   "source": [
    "`platform` field indicates the hardware platform the bug was observed on."
   ]
  },
  {
   "cell_type": "code",
   "execution_count": null,
   "id": "monthly-puzzle",
   "metadata": {},
   "outputs": [],
   "source": [
    "platforms = bugs_df.platform.unique()\n",
    "print(platforms)"
   ]
  },
  {
   "cell_type": "code",
   "execution_count": null,
   "id": "elegant-bankruptcy",
   "metadata": {},
   "outputs": [],
   "source": [
    "platforms_count = []\n",
    "for i in range(len(platforms)):\n",
    "    platforms_count.append((bugs_df.platform == platforms[i]).sum())\n",
    "platforms_count"
   ]
  },
  {
   "cell_type": "code",
   "execution_count": null,
   "id": "located-richards",
   "metadata": {},
   "outputs": [],
   "source": [
    "plt.figure(figsize = (15,10))\n",
    "sns.barplot(platforms, platforms_count)\n",
    "plt.xlabel(\"Platform\")\n",
    "plt.ylabel(\"Bug Count\")\n",
    "plt.title(\"Bug Platform Distribution\")\n",
    "plt.show()"
   ]
  },
  {
   "cell_type": "markdown",
   "id": "helpful-triumph",
   "metadata": {},
   "source": [
    "### severity"
   ]
  },
  {
   "cell_type": "code",
   "execution_count": null,
   "id": "indoor-occasions",
   "metadata": {},
   "outputs": [],
   "source": [
    "bugs_df.severity.head()"
   ]
  },
  {
   "cell_type": "markdown",
   "id": "friendly-absence",
   "metadata": {},
   "source": [
    "The `severity` field categorzies the severity level of each bug. Let's see the different severity levels defined."
   ]
  },
  {
   "cell_type": "code",
   "execution_count": null,
   "id": "independent-alfred",
   "metadata": {},
   "outputs": [],
   "source": [
    "severity = bugs_df.severity.unique()\n",
    "print(severity)"
   ]
  },
  {
   "cell_type": "code",
   "execution_count": null,
   "id": "raising-manchester",
   "metadata": {},
   "outputs": [],
   "source": [
    "severity_count = []\n",
    "for i in range(len(severity)):\n",
    "    severity_count.append((bugs_df.severity == severity[i]).sum())\n",
    "severity_count"
   ]
  },
  {
   "cell_type": "markdown",
   "id": "micro-cartoon",
   "metadata": {},
   "source": [
    "Let's plot a simple graph to visualize the distribution of bug severities"
   ]
  },
  {
   "cell_type": "code",
   "execution_count": null,
   "id": "athletic-distribution",
   "metadata": {},
   "outputs": [],
   "source": [
    "plt.figure(figsize = (15,10))\n",
    "sns.barplot(severity, severity_count)\n",
    "plt.xlabel(\"Severity Level\")\n",
    "plt.ylabel(\"Bug Count\")\n",
    "plt.title(\"Bug Severity Distribution\")\n",
    "plt.show()"
   ]
  },
  {
   "cell_type": "markdown",
   "id": "assigned-flush",
   "metadata": {},
   "source": [
    "### cf_environment"
   ]
  },
  {
   "cell_type": "code",
   "execution_count": null,
   "id": "loaded-algebra",
   "metadata": {},
   "outputs": [],
   "source": [
    "bugs_df.cf_environment.head()"
   ]
  },
  {
   "cell_type": "code",
   "execution_count": null,
   "id": "tight-peter",
   "metadata": {},
   "outputs": [],
   "source": [
    "cf_env = bugs_df.cf_environment.unique()\n",
    "len(cf_env)"
   ]
  },
  {
   "cell_type": "code",
   "execution_count": null,
   "id": "existing-dominican",
   "metadata": {},
   "outputs": [],
   "source": [
    "cf_env[1]"
   ]
  },
  {
   "cell_type": "markdown",
   "id": "colonial-saturn",
   "metadata": {},
   "source": [
    "Not too sure what `cf_environment` is supposed to return"
   ]
  },
  {
   "cell_type": "markdown",
   "id": "accessory-orleans",
   "metadata": {},
   "source": [
    "### flags"
   ]
  },
  {
   "cell_type": "code",
   "execution_count": null,
   "id": "detailed-organic",
   "metadata": {},
   "outputs": [],
   "source": [
    "bugs_df['flags'][:10]"
   ]
  },
  {
   "cell_type": "code",
   "execution_count": null,
   "id": "simplified-indie",
   "metadata": {},
   "outputs": [],
   "source": [
    "bugs_df['flags'][6]"
   ]
  },
  {
   "cell_type": "markdown",
   "id": "infrared-cincinnati",
   "metadata": {},
   "source": [
    "The `flags` field seems to return empty for most bugs. For thos bugs which have this field set, it seems to have redundant information which are already available in other bug fields so we can probably ignore this field."
   ]
  },
  {
   "cell_type": "markdown",
   "id": "undefined-microphone",
   "metadata": {},
   "source": [
    "### version"
   ]
  },
  {
   "cell_type": "code",
   "execution_count": null,
   "id": "broken-arctic",
   "metadata": {},
   "outputs": [],
   "source": [
    "bugs_df.version.head()"
   ]
  },
  {
   "cell_type": "code",
   "execution_count": null,
   "id": "conceptual-generation",
   "metadata": {},
   "outputs": [],
   "source": [
    "versions = bugs_df.version.unique()\n",
    "versions"
   ]
  },
  {
   "cell_type": "code",
   "execution_count": null,
   "id": "caroline-simulation",
   "metadata": {},
   "outputs": [],
   "source": [
    "version_count = []\n",
    "for i in range(len(versions)):\n",
    "    version_count.append((bugs_df.version == versions[i]).sum())\n",
    "version_count"
   ]
  },
  {
   "cell_type": "markdown",
   "id": "extreme-ozone",
   "metadata": {},
   "source": [
    "The `version` field indicates the version of the software the bug was found in. Let's plot a simple graph to visualize the distribution of bugs across different software versions."
   ]
  },
  {
   "cell_type": "code",
   "execution_count": null,
   "id": "varying-mumbai",
   "metadata": {},
   "outputs": [],
   "source": [
    "plt.figure(figsize = (15,10))\n",
    "sns.barplot(version_count, versions)\n",
    "plt.xlabel(\"Bug Count\")\n",
    "plt.ylabel(\"Software Versions\")\n",
    "plt.title(\"Bug distrbution across different software versions\")\n",
    "plt.show()"
   ]
  },
  {
   "cell_type": "markdown",
   "id": "approximate-there",
   "metadata": {},
   "source": [
    "### tags"
   ]
  },
  {
   "cell_type": "code",
   "execution_count": null,
   "id": "sporting-topic",
   "metadata": {},
   "outputs": [],
   "source": [
    "bugs_df.tags.head()"
   ]
  },
  {
   "cell_type": "markdown",
   "id": "mysterious-struggle",
   "metadata": {},
   "source": [
    "The `tags` field seems to be empty for most bugs so we can probably ignore this field."
   ]
  },
  {
   "cell_type": "markdown",
   "id": "quick-mattress",
   "metadata": {},
   "source": [
    "### component"
   ]
  },
  {
   "cell_type": "code",
   "execution_count": null,
   "id": "individual-annex",
   "metadata": {},
   "outputs": [],
   "source": [
    "bugs_df.component.head()"
   ]
  },
  {
   "cell_type": "code",
   "execution_count": null,
   "id": "fifteen-cornwall",
   "metadata": {},
   "outputs": [],
   "source": [
    "components = bugs_df.component.unique()\n",
    "components"
   ]
  },
  {
   "cell_type": "code",
   "execution_count": null,
   "id": "clinical-lemon",
   "metadata": {},
   "outputs": [],
   "source": [
    "component_count = []\n",
    "for i in range(len(components)):\n",
    "    component_count.append((bugs_df.component == components[i]).sum())"
   ]
  },
  {
   "cell_type": "markdown",
   "id": "checked-lightning",
   "metadata": {},
   "source": [
    "Bugs are categorised into Product and Component. Components are second-level categories and the `component` field indicates which component is affected by the bug."
   ]
  },
  {
   "cell_type": "markdown",
   "id": "lesser-validity",
   "metadata": {},
   "source": [
    "### sub_component"
   ]
  },
  {
   "cell_type": "code",
   "execution_count": null,
   "id": "ambient-debut",
   "metadata": {},
   "outputs": [],
   "source": [
    "bugs_df.sub_component.head()"
   ]
  },
  {
   "cell_type": "code",
   "execution_count": null,
   "id": "public-technique",
   "metadata": {},
   "outputs": [],
   "source": [
    "sub_component = bugs_df.sub_component.unique()\n",
    "len(sub_component)"
   ]
  },
  {
   "cell_type": "code",
   "execution_count": null,
   "id": "involved-homeless",
   "metadata": {},
   "outputs": [],
   "source": [
    "sub_component"
   ]
  },
  {
   "cell_type": "code",
   "execution_count": null,
   "id": "practical-longer",
   "metadata": {},
   "outputs": [],
   "source": [
    "sub_component_count = []\n",
    "for i in range(len(sub_component)):\n",
    "    sub_component_count.append((bugs_df.sub_component == sub_component[i]).sum())\n",
    "sub_component_count"
   ]
  },
  {
   "cell_type": "markdown",
   "id": "governing-monkey",
   "metadata": {},
   "source": [
    "The `sub_component` field indicates the sub-component of a specifc component the bug affects."
   ]
  },
  {
   "cell_type": "markdown",
   "id": "native-unknown",
   "metadata": {},
   "source": [
    "### is_creator_accessible"
   ]
  },
  {
   "cell_type": "code",
   "execution_count": null,
   "id": "pretty-clearing",
   "metadata": {},
   "outputs": [],
   "source": [
    "bugs_df.is_creator_accessible.head()"
   ]
  },
  {
   "cell_type": "markdown",
   "id": "brazilian-occurrence",
   "metadata": {},
   "source": [
    "The `is_creator_accessible` field returns a boolean value, but doesn't seem to be useful for our analysis. "
   ]
  },
  {
   "cell_type": "markdown",
   "id": "negative-attitude",
   "metadata": {},
   "source": [
    "### cf_release_notes"
   ]
  },
  {
   "cell_type": "code",
   "execution_count": null,
   "id": "seven-router",
   "metadata": {},
   "outputs": [],
   "source": [
    "bugs_df.cf_release_notes.tail()"
   ]
  },
  {
   "cell_type": "markdown",
   "id": "exceptional-remove",
   "metadata": {},
   "source": [
    "The `cf_release_notes` is the basis of the errata or release note for the bug. It can also be used for change logs. However, it seems to be empty for most bugs and can be excluded from our analysis. "
   ]
  },
  {
   "cell_type": "markdown",
   "id": "offensive-perth",
   "metadata": {},
   "source": [
    "### product"
   ]
  },
  {
   "cell_type": "code",
   "execution_count": null,
   "id": "plain-canon",
   "metadata": {},
   "outputs": [],
   "source": [
    "bugs_df['product'][:10]"
   ]
  },
  {
   "cell_type": "code",
   "execution_count": null,
   "id": "addressed-prior",
   "metadata": {},
   "outputs": [],
   "source": [
    "products = bugs_df['product'].unique()\n",
    "products"
   ]
  },
  {
   "cell_type": "markdown",
   "id": "proved-bristol",
   "metadata": {},
   "source": [
    "The `product` field indicates the software product affected by the bug."
   ]
  },
  {
   "cell_type": "code",
   "execution_count": null,
   "id": "cubic-reynolds",
   "metadata": {},
   "outputs": [],
   "source": [
    "product_count = []\n",
    "for i in range(len(products)):\n",
    "    product_count.append((bugs_df['product'] == products[i]).sum())\n",
    "product_count"
   ]
  },
  {
   "cell_type": "markdown",
   "id": "organized-layer",
   "metadata": {},
   "source": [
    "Let's plot a simple graph to visualize the distribution of bugs across different products"
   ]
  },
  {
   "cell_type": "code",
   "execution_count": null,
   "id": "vocal-madison",
   "metadata": {},
   "outputs": [],
   "source": [
    "plt.figure(figsize = (15,10))\n",
    "sns.barplot(product_count, products)\n",
    "plt.xlabel(\"Bug Count\")\n",
    "plt.ylabel(\"Software Products\")\n",
    "plt.title(\"Bug distrbution across different software products\")\n",
    "plt.show()"
   ]
  },
  {
   "cell_type": "markdown",
   "id": "multiple-wiring",
   "metadata": {},
   "source": [
    "### target_milestone"
   ]
  },
  {
   "cell_type": "code",
   "execution_count": null,
   "id": "first-handy",
   "metadata": {},
   "outputs": [],
   "source": [
    "bugs_df.target_milestone.head()"
   ]
  },
  {
   "cell_type": "code",
   "execution_count": null,
   "id": "collect-lesson",
   "metadata": {},
   "outputs": [],
   "source": [
    "bugs_df.target_milestone.unique()"
   ]
  },
  {
   "cell_type": "markdown",
   "id": "ahead-ferry",
   "metadata": {},
   "source": [
    "The `target_milestone` is used to define when the engineer the bug is assigned to expects to fix it. However, it doesn't seem to be applicable for most bugs."
   ]
  },
  {
   "cell_type": "markdown",
   "id": "heated-baseball",
   "metadata": {},
   "source": [
    "### is_confirmed"
   ]
  },
  {
   "cell_type": "code",
   "execution_count": null,
   "id": "identified-grounds",
   "metadata": {},
   "outputs": [],
   "source": [
    "bugs_df.is_confirmed.head()"
   ]
  },
  {
   "cell_type": "markdown",
   "id": "cross-aquatic",
   "metadata": {},
   "source": [
    "The `is_confirmed` field seems to return a boolean value (not sure what it indicates) and doesn't seem to be useful for our analysis."
   ]
  },
  {
   "cell_type": "markdown",
   "id": "linear-chancellor",
   "metadata": {},
   "source": [
    "### components"
   ]
  },
  {
   "cell_type": "code",
   "execution_count": null,
   "id": "closing-vienna",
   "metadata": {},
   "outputs": [],
   "source": [
    "bugs_df.components.head()"
   ]
  },
  {
   "cell_type": "markdown",
   "id": "assured-decline",
   "metadata": {},
   "source": [
    "The `components` field returns the same values as the `component` field, but in a list format."
   ]
  },
  {
   "cell_type": "markdown",
   "id": "attempted-conjunction",
   "metadata": {},
   "source": [
    "### sub_components"
   ]
  },
  {
   "cell_type": "code",
   "execution_count": null,
   "id": "proved-synthetic",
   "metadata": {},
   "outputs": [],
   "source": [
    "bugs_df.sub_components.head()"
   ]
  },
  {
   "cell_type": "markdown",
   "id": "cooked-albuquerque",
   "metadata": {},
   "source": [
    "The `sub_components` field is similar to the `sub_component` field, but returns both the component and sub-component affected by the bug in a dictionary format."
   ]
  },
  {
   "cell_type": "markdown",
   "id": "english-sailing",
   "metadata": {},
   "source": [
    "### versions"
   ]
  },
  {
   "cell_type": "code",
   "execution_count": null,
   "id": "dried-pound",
   "metadata": {},
   "outputs": [],
   "source": [
    "bugs_df.versions.head()"
   ]
  },
  {
   "cell_type": "markdown",
   "id": "sunset-bullet",
   "metadata": {},
   "source": [
    "The `versions` field returns the same values as the `version` field, but in a list format."
   ]
  },
  {
   "cell_type": "markdown",
   "id": "generic-andrew",
   "metadata": {},
   "source": [
    "### fixed_in"
   ]
  },
  {
   "cell_type": "code",
   "execution_count": null,
   "id": "classical-sequence",
   "metadata": {},
   "outputs": [],
   "source": [
    "bugs_df.fixed_in[:15]"
   ]
  },
  {
   "cell_type": "code",
   "execution_count": null,
   "id": "democratic-refrigerator",
   "metadata": {},
   "outputs": [],
   "source": [
    "bugs_df.fixed_in.unique()"
   ]
  },
  {
   "cell_type": "markdown",
   "id": "geological-repeat",
   "metadata": {},
   "source": [
    "The `fixed_in` field seems to indicate the software version the bug was fixed in. However, it doesn't seem to be applicable to all bugs as some bugs may still be open and not yet resolved."
   ]
  },
  {
   "cell_type": "markdown",
   "id": "incredible-marshall",
   "metadata": {},
   "source": [
    "### weburl"
   ]
  },
  {
   "cell_type": "code",
   "execution_count": null,
   "id": "thorough-castle",
   "metadata": {},
   "outputs": [],
   "source": [
    "bugs_df.weburl.head()"
   ]
  },
  {
   "cell_type": "code",
   "execution_count": null,
   "id": "naked-exercise",
   "metadata": {},
   "outputs": [],
   "source": [
    "bugs_df['bug_id'][0]"
   ]
  },
  {
   "cell_type": "code",
   "execution_count": null,
   "id": "personal-mandate",
   "metadata": {},
   "outputs": [],
   "source": [
    "bugs_df['weburl'][0]"
   ]
  },
  {
   "cell_type": "markdown",
   "id": "coral-gibraltar",
   "metadata": {},
   "source": [
    "The `weburl` field contains the bugzilla URL for the respective bug ID"
   ]
  },
  {
   "cell_type": "markdown",
   "id": "unable-glasgow",
   "metadata": {},
   "source": [
    "## Merge Bug Details + Affected Jobs/Test DF"
   ]
  },
  {
   "cell_type": "code",
   "execution_count": null,
   "id": "brutal-bullet",
   "metadata": {},
   "outputs": [],
   "source": [
    "linked_and_associated_bugs.head()"
   ]
  },
  {
   "cell_type": "code",
   "execution_count": null,
   "id": "unusual-showcase",
   "metadata": {},
   "outputs": [],
   "source": [
    "firstdf = linked_and_associated_bugs.explode('bug_ids')\n",
    "firstdf = firstdf.rename(columns={'bug_ids': 'bug_id'})\n",
    "firstdf.head()"
   ]
  },
  {
   "cell_type": "code",
   "execution_count": null,
   "id": "serious-collar",
   "metadata": {},
   "outputs": [],
   "source": [
    "res = bugs_df.merge(\n",
    "    firstdf,\n",
    "#     how='left',\n",
    "    left_on='bug_id',\n",
    "    right_on='bug_id',\n",
    ")\n",
    "res.head()"
   ]
  },
  {
   "cell_type": "markdown",
   "id": "saved-first",
   "metadata": {},
   "source": [
    "## Get Linked Bug Data for All Dashboards"
   ]
  },
  {
   "cell_type": "code",
   "execution_count": null,
   "id": "random-animation",
   "metadata": {},
   "outputs": [],
   "source": [
    "# # get all linked bugs\n",
    "# associated_bugs = list()\n",
    "# all_linked_bugs = set()\n",
    "# for dashboard in tqdm(dashboard_names):\n",
    "#     # get all jobs in this dashboard\n",
    "#     response = requests.get(f\"https://testgrid.k8s.io/{dashboard}/summary\")\n",
    "#     job_names = response.json().keys()\n",
    "    \n",
    "#     for job in job_names:\n",
    "#         # get all tests in this job\n",
    "#         response = requests.get(f\"https://testgrid.k8s.io/{dashboard}/table?&show-stale-tests=&tab={job}\")\n",
    "        \n",
    "#         # params to send to openshift ci search for tests under this job\n",
    "#         args = {\n",
    "#             'type': 'bug+junit',\n",
    "#             'context': '-1',\n",
    "#             'name': job,\n",
    "#             'maxAge': max_age,\n",
    "#             # DO NOT REMOVE THESE KEYS. THIS HACK PREVENTS REQUESTS FROM TIMING OUT.\n",
    "#             # read more here - https://stackoverflow.com/a/63377265/9743348\n",
    "#             'ajax': 'true',\n",
    "#             'mobile': 'false',\n",
    "#         }\n",
    "        \n",
    "#         for test in response.json().get('tests', []):\n",
    "#             testname = test['name'].split('.', maxsplit=1)[-1]\n",
    "            \n",
    "#             # use test name as the search phrase\n",
    "#             args['search'] = testname.replace('[', '\\[').replace(']', '\\]')\n",
    "\n",
    "#             # search for linked and associated bugs for this test\n",
    "#             response = requests.post(url, data=args)\n",
    "#             soup = BeautifulSoup(response.content)\n",
    "\n",
    "#             # the \"em\" objects in soup have information that can tell us\n",
    "#             # whether or not this test had a linked bug for the given job name\n",
    "#             em_objects = soup.find_all('em')\n",
    "#             pct_affected = 0\n",
    "#             for em in em_objects:\n",
    "#                 if 'Found' in em.text:\n",
    "#                     pct_affected = float(em.text.split()[2][:-1])\n",
    "#                     break\n",
    "\n",
    "#             # init to empty for this test result / reset to empty from previous test result\n",
    "#             test_bugs = []\n",
    "            \n",
    "#             # if percent jobs affected is 0 then the linked bugs correspond to another job\n",
    "#             if pct_affected > 0:\n",
    "#                 result_rows = soup.find('table').find('tbody').find_all('tr')\n",
    "#                 for row in result_rows:\n",
    "#                     column_values = row.find_all('td')\n",
    "                    \n",
    "#                     # if there is only 1 column then the result is a junit, not bug\n",
    "#                     if len(column_values) > 1:\n",
    "#                         # check the second column to make sure it is a bug and not junit details result\n",
    "#                         if column_values[1].text == 'bug':\n",
    "#                             test_bugs.append(column_values[0].text[1:])\n",
    "#                             all_linked_bugs.add(column_values[0].text[1:])\n",
    "\n",
    "#             associated_bugs.append((dashboard, job, test, test_bugs))"
   ]
  },
  {
   "cell_type": "markdown",
   "id": "alternate-vehicle",
   "metadata": {},
   "source": [
    "## todo\n",
    "\n",
    "combine it into a dataframe s.t. each row has one bugzilla id, and columns are status, component, etc + affected tests/jobs."
   ]
  }
 ],
 "metadata": {
  "finalized": {
   "timestamp": 1617764581538,
   "trusted": false
  },
  "kernelspec": {
   "display_name": "Python 3",
   "language": "python",
   "name": "python3"
  },
  "language_info": {
   "codemirror_mode": {
    "name": "ipython",
    "version": 3
   },
   "file_extension": ".py",
   "mimetype": "text/x-python",
   "name": "python",
   "nbconvert_exporter": "python",
   "pygments_lexer": "ipython3",
   "version": "3.8.3"
  },
  "toc": {
   "base_numbering": 1,
   "nav_menu": {},
   "number_sections": true,
   "sideBar": true,
   "skip_h1_title": false,
   "title_cell": "Table of Contents",
   "title_sidebar": "Contents",
   "toc_cell": false,
   "toc_position": {},
   "toc_section_display": true,
   "toc_window_display": false
  }
 },
 "nbformat": 4,
 "nbformat_minor": 5
}
