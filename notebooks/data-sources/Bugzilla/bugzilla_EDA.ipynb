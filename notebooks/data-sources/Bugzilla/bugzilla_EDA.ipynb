{
 "cells": [
  {
   "cell_type": "markdown",
   "id": "different-young",
   "metadata": {},
   "source": [
    "# Data Source: Bugzilla"
   ]
  },
  {
   "cell_type": "code",
   "execution_count": 1,
   "id": "chicken-bishop",
   "metadata": {
    "ExecuteTime": {
     "end_time": "2021-04-06T21:23:27.273935Z",
     "start_time": "2021-04-06T21:23:27.269122Z"
    }
   },
   "outputs": [],
   "source": [
    "import pdb\n",
    "import bugzilla\n",
    "import requests\n",
    "from tqdm import tqdm\n",
    "from bs4 import BeautifulSoup\n",
    "import matplotlib.pyplot as plt\n",
    "import seaborn as sns\n",
    "import pandas as pd\n",
    "import warnings\n",
    "warnings.filterwarnings(\"ignore\")"
   ]
  },
  {
   "cell_type": "code",
   "execution_count": 2,
   "id": "stunning-carbon",
   "metadata": {},
   "outputs": [],
   "source": [
    "# tqdm extensions for pandas functions\n",
    "tqdm.pandas()"
   ]
  },
  {
   "cell_type": "markdown",
   "id": "fresh-bench",
   "metadata": {},
   "source": [
    "## Get All Linked and Associated Bugs"
   ]
  },
  {
   "cell_type": "code",
   "execution_count": 3,
   "id": "documented-ground",
   "metadata": {},
   "outputs": [
    {
     "data": {
      "text/plain": [
       "['\"redhat-assisted-installer\"',\n",
       " '\"redhat-openshift-informing\"',\n",
       " '\"redhat-openshift-ocp-release-4.1-blocking\"',\n",
       " '\"redhat-openshift-ocp-release-4.1-informing\"',\n",
       " '\"redhat-openshift-ocp-release-4.2-blocking\"',\n",
       " '\"redhat-openshift-ocp-release-4.2-informing\"',\n",
       " '\"redhat-openshift-ocp-release-4.3-blocking\"',\n",
       " '\"redhat-openshift-ocp-release-4.3-broken\"',\n",
       " '\"redhat-openshift-ocp-release-4.3-informing\"',\n",
       " '\"redhat-openshift-ocp-release-4.4-blocking\"',\n",
       " '\"redhat-openshift-ocp-release-4.4-broken\"',\n",
       " '\"redhat-openshift-ocp-release-4.4-informing\"',\n",
       " '\"redhat-openshift-ocp-release-4.5-blocking\"',\n",
       " '\"redhat-openshift-ocp-release-4.5-broken\"',\n",
       " '\"redhat-openshift-ocp-release-4.5-informing\"',\n",
       " '\"redhat-openshift-ocp-release-4.6-blocking\"',\n",
       " '\"redhat-openshift-ocp-release-4.6-broken\"',\n",
       " '\"redhat-openshift-ocp-release-4.6-informing\"',\n",
       " '\"redhat-openshift-ocp-release-4.7-blocking\"',\n",
       " '\"redhat-openshift-ocp-release-4.7-broken\"',\n",
       " '\"redhat-openshift-ocp-release-4.7-informing\"',\n",
       " '\"redhat-openshift-ocp-release-4.8-blocking\"',\n",
       " '\"redhat-openshift-ocp-release-4.8-informing\"',\n",
       " '\"redhat-openshift-ocp-release-4.9-blocking\"',\n",
       " '\"redhat-openshift-ocp-release-4.9-informing\"',\n",
       " '\"redhat-openshift-okd-release-4.3-informing\"',\n",
       " '\"redhat-openshift-okd-release-4.4-informing\"',\n",
       " '\"redhat-openshift-okd-release-4.5-blocking\"',\n",
       " '\"redhat-openshift-okd-release-4.5-informing\"',\n",
       " '\"redhat-openshift-okd-release-4.6-blocking\"',\n",
       " '\"redhat-openshift-okd-release-4.6-informing\"',\n",
       " '\"redhat-openshift-okd-release-4.7-blocking\"',\n",
       " '\"redhat-openshift-okd-release-4.7-informing\"',\n",
       " '\"redhat-openshift-okd-release-4.8-blocking\"',\n",
       " '\"redhat-openshift-okd-release-4.8-informing\"',\n",
       " '\"redhat-openshift-okd-release-4.9-informing\"',\n",
       " '\"redhat-openshift-presubmit-master-gcp\"',\n",
       " '\"redhat-osd\"',\n",
       " '\"redhat-single-node\"']"
      ]
     },
     "execution_count": 3,
     "metadata": {},
     "output_type": "execute_result"
    }
   ],
   "source": [
    "# get the red hat dashboard names\n",
    "response = requests.get(\n",
    "    \"https://testgrid.k8s.io/redhat-openshift-informing?id=dashboard-group-bar\"\n",
    ")\n",
    "html = BeautifulSoup(response.content)\n",
    "testgrid_script = html.findAll(\"script\")[3]\n",
    "testgrid_script = testgrid_script.text.split()[5].split(\",\")\n",
    "dashboard_names = [x.split(\":\")[1] for x in testgrid_script if \"name\" in x]\n",
    "dashboard_names"
   ]
  },
  {
   "cell_type": "markdown",
   "id": "pleasant-confidence",
   "metadata": {},
   "source": [
    "**NOTE** Since other notebooks also look at only one dashboard and job, we'll do the same. at the end we'll save the dataset for further analysis."
   ]
  },
  {
   "cell_type": "code",
   "execution_count": 4,
   "id": "stopped-hamilton",
   "metadata": {},
   "outputs": [],
   "source": [
    "# bugs linked at timestamps up to this amount of time before today will be returned\n",
    "max_age = '336h'\n",
    "\n",
    "# ci details search url\n",
    "url = 'https://search.ci.openshift.org/'\n",
    "\n",
    "dashboard = '\"redhat-openshift-ocp-release-4.2-informing\"'"
   ]
  },
  {
   "cell_type": "code",
   "execution_count": 5,
   "id": "cubic-perspective",
   "metadata": {},
   "outputs": [
    {
     "name": "stderr",
     "output_type": "stream",
     "text": [
      "100%|██████████| 31/31 [17:14<00:00, 33.37s/it] \n"
     ]
    }
   ],
   "source": [
    "# get all linked bugs\n",
    "associated_bugs = list()\n",
    "all_linked_bugs = set()\n",
    "\n",
    "# get all jobs in this dashboard\n",
    "response = requests.get(f\"https://testgrid.k8s.io/{dashboard}/summary\")\n",
    "job_names = response.json().keys()\n",
    "\n",
    "for job in tqdm(job_names):\n",
    "    # get all tests in this job\n",
    "    response = requests.get(f\"https://testgrid.k8s.io/{dashboard}/table?&show-stale-tests=&tab={job}\")\n",
    "\n",
    "    # params to send to openshift ci search for tests under this job\n",
    "    args = {\n",
    "        'type': 'bug+junit',\n",
    "        'context': '-1',\n",
    "        'name': job,\n",
    "        'maxAge': max_age,\n",
    "        # DO NOT REMOVE THESE KEYS. THIS HACK PREVENTS REQUESTS FROM TIMING OUT.\n",
    "        # read more here - https://stackoverflow.com/a/63377265/9743348\n",
    "        'ajax': 'true',\n",
    "        'mobile': 'false',\n",
    "    }\n",
    "\n",
    "    for test in response.json().get('tests', []):\n",
    "        testname = test['name'].split('.', maxsplit=1)[-1]\n",
    "\n",
    "        # use test name as the search phrase\n",
    "        args['search'] = testname.replace('[', '\\[').replace(']', '\\]')\n",
    "\n",
    "        # search for linked and associated bugs for this test\n",
    "        response = requests.post(url, data=args)\n",
    "        soup = BeautifulSoup(response.content)\n",
    "\n",
    "        # the \"em\" objects in soup have information that can tell us\n",
    "        # whether or not this test had a linked bug for the given job name\n",
    "        em_objects = soup.find_all('em')\n",
    "        pct_affected = 0\n",
    "        for em in em_objects:\n",
    "            if 'Found' in em.text:\n",
    "                pct_affected = float(em.text.split()[2][:-1])\n",
    "                break\n",
    "\n",
    "        # init to empty for this test result / reset to empty from previous test result\n",
    "        test_bugs = []\n",
    "\n",
    "        # if percent jobs affected is 0 then the linked bugs correspond to another job\n",
    "        if pct_affected > 0:\n",
    "            result_rows = soup.find('table').find('tbody').find_all('tr')\n",
    "            for row in result_rows:\n",
    "                column_values = row.find_all('td')\n",
    "\n",
    "                # if there is only 1 column then the result is a junit, not bug\n",
    "                if len(column_values) > 1:\n",
    "                    # check the second column to make sure it is a bug and not junit details result\n",
    "                    if column_values[1].text == 'bug':\n",
    "                        test_bugs.append(column_values[0].text[1:])\n",
    "                        all_linked_bugs.add(column_values[0].text[1:])\n",
    "\n",
    "        associated_bugs.append((dashboard, job, test, test_bugs))"
   ]
  },
  {
   "cell_type": "code",
   "execution_count": 6,
   "id": "incredible-estate",
   "metadata": {},
   "outputs": [
    {
     "data": {
      "text/html": [
       "<div>\n",
       "<style scoped>\n",
       "    .dataframe tbody tr th:only-of-type {\n",
       "        vertical-align: middle;\n",
       "    }\n",
       "\n",
       "    .dataframe tbody tr th {\n",
       "        vertical-align: top;\n",
       "    }\n",
       "\n",
       "    .dataframe thead th {\n",
       "        text-align: right;\n",
       "    }\n",
       "</style>\n",
       "<table border=\"1\" class=\"dataframe\">\n",
       "  <thead>\n",
       "    <tr style=\"text-align: right;\">\n",
       "      <th></th>\n",
       "      <th>dashboard</th>\n",
       "      <th>job</th>\n",
       "      <th>test_name</th>\n",
       "      <th>bug_ids</th>\n",
       "    </tr>\n",
       "  </thead>\n",
       "  <tbody>\n",
       "    <tr>\n",
       "      <th>0</th>\n",
       "      <td>\"redhat-openshift-ocp-release-4.2-informing\"</td>\n",
       "      <td>periodic-ci-openshift-release-master-ci-4.2-e2...</td>\n",
       "      <td>{'name': 'Overall', 'original-name': 'Overall'...</td>\n",
       "      <td>[]</td>\n",
       "    </tr>\n",
       "    <tr>\n",
       "      <th>1</th>\n",
       "      <td>\"redhat-openshift-ocp-release-4.2-informing\"</td>\n",
       "      <td>periodic-ci-openshift-release-master-ci-4.2-e2...</td>\n",
       "      <td>{'name': 'operator.Run multi-stage test e2e-aw...</td>\n",
       "      <td>[]</td>\n",
       "    </tr>\n",
       "    <tr>\n",
       "      <th>2</th>\n",
       "      <td>\"redhat-openshift-ocp-release-4.2-informing\"</td>\n",
       "      <td>periodic-ci-openshift-release-master-ci-4.2-e2...</td>\n",
       "      <td>{'name': 'Operator results.operator conditions...</td>\n",
       "      <td>[]</td>\n",
       "    </tr>\n",
       "    <tr>\n",
       "      <th>3</th>\n",
       "      <td>\"redhat-openshift-ocp-release-4.2-informing\"</td>\n",
       "      <td>periodic-ci-openshift-release-master-ci-4.2-e2...</td>\n",
       "      <td>{'name': 'operator.Run multi-stage test e2e-aw...</td>\n",
       "      <td>[]</td>\n",
       "    </tr>\n",
       "    <tr>\n",
       "      <th>4</th>\n",
       "      <td>\"redhat-openshift-ocp-release-4.2-informing\"</td>\n",
       "      <td>periodic-ci-openshift-release-master-ci-4.2-e2...</td>\n",
       "      <td>{'name': 'operator.Run multi-stage test e2e-aw...</td>\n",
       "      <td>[]</td>\n",
       "    </tr>\n",
       "  </tbody>\n",
       "</table>\n",
       "</div>"
      ],
      "text/plain": [
       "                                      dashboard  \\\n",
       "0  \"redhat-openshift-ocp-release-4.2-informing\"   \n",
       "1  \"redhat-openshift-ocp-release-4.2-informing\"   \n",
       "2  \"redhat-openshift-ocp-release-4.2-informing\"   \n",
       "3  \"redhat-openshift-ocp-release-4.2-informing\"   \n",
       "4  \"redhat-openshift-ocp-release-4.2-informing\"   \n",
       "\n",
       "                                                 job  \\\n",
       "0  periodic-ci-openshift-release-master-ci-4.2-e2...   \n",
       "1  periodic-ci-openshift-release-master-ci-4.2-e2...   \n",
       "2  periodic-ci-openshift-release-master-ci-4.2-e2...   \n",
       "3  periodic-ci-openshift-release-master-ci-4.2-e2...   \n",
       "4  periodic-ci-openshift-release-master-ci-4.2-e2...   \n",
       "\n",
       "                                           test_name bug_ids  \n",
       "0  {'name': 'Overall', 'original-name': 'Overall'...      []  \n",
       "1  {'name': 'operator.Run multi-stage test e2e-aw...      []  \n",
       "2  {'name': 'Operator results.operator conditions...      []  \n",
       "3  {'name': 'operator.Run multi-stage test e2e-aw...      []  \n",
       "4  {'name': 'operator.Run multi-stage test e2e-aw...      []  "
      ]
     },
     "execution_count": 6,
     "metadata": {},
     "output_type": "execute_result"
    }
   ],
   "source": [
    "linked_and_associated_bugs = pd.DataFrame(associated_bugs, columns=['dashboard', 'job', 'test_name', 'bug_ids'])\n",
    "linked_and_associated_bugs.head()"
   ]
  },
  {
   "cell_type": "code",
   "execution_count": 7,
   "id": "cooked-bubble",
   "metadata": {},
   "outputs": [],
   "source": [
    "# todo: distribution of bugs across jobs"
   ]
  },
  {
   "cell_type": "markdown",
   "id": "portuguese-alignment",
   "metadata": {},
   "source": [
    "## Get Bugzilla Details"
   ]
  },
  {
   "cell_type": "code",
   "execution_count": 8,
   "id": "pending-skirt",
   "metadata": {},
   "outputs": [],
   "source": [
    "bzapi = bugzilla.Bugzilla(\"bugzilla.redhat.com\")"
   ]
  },
  {
   "cell_type": "code",
   "execution_count": 9,
   "id": "sunset-watershed",
   "metadata": {},
   "outputs": [
    {
     "data": {
      "text/plain": [
       "['__class__',\n",
       " '__delattr__',\n",
       " '__dict__',\n",
       " '__dir__',\n",
       " '__doc__',\n",
       " '__eq__',\n",
       " '__format__',\n",
       " '__ge__',\n",
       " '__getattr__',\n",
       " '__getattribute__',\n",
       " '__getstate__',\n",
       " '__gt__',\n",
       " '__hash__',\n",
       " '__init__',\n",
       " '__init_subclass__',\n",
       " '__le__',\n",
       " '__lt__',\n",
       " '__module__',\n",
       " '__ne__',\n",
       " '__new__',\n",
       " '__reduce__',\n",
       " '__reduce_ex__',\n",
       " '__repr__',\n",
       " '__setattr__',\n",
       " '__setstate__',\n",
       " '__sizeof__',\n",
       " '__str__',\n",
       " '__subclasshook__',\n",
       " '__unicode__',\n",
       " '__weakref__',\n",
       " '_aliases',\n",
       " '_rawdata',\n",
       " '_translate_dict',\n",
       " '_update_dict',\n",
       " 'addcc',\n",
       " 'addcomment',\n",
       " 'alias',\n",
       " 'assigned_to',\n",
       " 'assigned_to_detail',\n",
       " 'autorefresh',\n",
       " 'blocks',\n",
       " 'bugzilla',\n",
       " 'cc',\n",
       " 'cc_detail',\n",
       " 'cf_clone_of',\n",
       " 'cf_doc_type',\n",
       " 'cf_environment',\n",
       " 'cf_last_closed',\n",
       " 'cf_release_notes',\n",
       " 'cf_target_upstream_version',\n",
       " 'classification',\n",
       " 'close',\n",
       " 'comments',\n",
       " 'component',\n",
       " 'components',\n",
       " 'creation_time',\n",
       " 'creator',\n",
       " 'creator_detail',\n",
       " 'deletecc',\n",
       " 'depends_on',\n",
       " 'description',\n",
       " 'docs_contact',\n",
       " 'external_bugs',\n",
       " 'fixed_in',\n",
       " 'flags',\n",
       " 'get_attachment_ids',\n",
       " 'get_attachments',\n",
       " 'get_flag_status',\n",
       " 'get_flag_type',\n",
       " 'get_flags',\n",
       " 'get_history_raw',\n",
       " 'get_raw_data',\n",
       " 'getcomments',\n",
       " 'groups',\n",
       " 'id',\n",
       " 'is_cc_accessible',\n",
       " 'is_confirmed',\n",
       " 'is_creator_accessible',\n",
       " 'is_open',\n",
       " 'keywords',\n",
       " 'last_change_time',\n",
       " 'op_sys',\n",
       " 'platform',\n",
       " 'priority',\n",
       " 'product',\n",
       " 'qa_contact',\n",
       " 'qa_contact_detail',\n",
       " 'refresh',\n",
       " 'reload',\n",
       " 'resolution',\n",
       " 'see_also',\n",
       " 'setassignee',\n",
       " 'setstatus',\n",
       " 'severity',\n",
       " 'status',\n",
       " 'sub_component',\n",
       " 'sub_components',\n",
       " 'summary',\n",
       " 'tags',\n",
       " 'target_milestone',\n",
       " 'target_release',\n",
       " 'updateflags',\n",
       " 'url',\n",
       " 'version',\n",
       " 'versions',\n",
       " 'weburl',\n",
       " 'whiteboard']"
      ]
     },
     "execution_count": 9,
     "metadata": {},
     "output_type": "execute_result"
    }
   ],
   "source": [
    "samplebug = bzapi.getbug(1883345)\n",
    "dir(samplebug)"
   ]
  },
  {
   "cell_type": "code",
   "execution_count": 10,
   "id": "mathematical-template",
   "metadata": {},
   "outputs": [
    {
     "data": {
      "text/plain": [
       "{'priority': 'low',\n",
       " 'cf_last_closed': <DateTime '20201105T12:46:56' at 0x7fefe177e430>,\n",
       " 'creator': 'Cesar Wong',\n",
       " 'blocks': [1883348],\n",
       " 'assigned_to_detail': {'real_name': 'Cesar Wong',\n",
       "  'email': 'cewong',\n",
       "  'name': 'cewong',\n",
       "  'id': 368980},\n",
       " 'last_change_time': <DateTime '20201105T12:47:17' at 0x7fefe177eca0>,\n",
       " 'comments': [{'is_private': False,\n",
       "   'count': 0,\n",
       "   'creator': 'cewong',\n",
       "   'time': <DateTime '20200928T20:47:20' at 0x7fefe177eb80>,\n",
       "   'bug_id': 1883345,\n",
       "   'tags': [],\n",
       "   'text': '+++ This bug was initially created as a clone of Bug #1883343 +++\\n\\nRe-enabling selected tests now that associated bugs have been fixed and are in the Red Hat OpenShift on IBM Cloud v4.3 builds\\n\\n[Feature:Prometheus][Conformance] Prometheus when installed on the cluster should provide ingress metrics\\n[Conformance][Area:Networking][Feature:Router] The HAProxy router should enable openshift-monitoring to pull metrics\\n[k8s.io] [sig-node] Pods Extended [k8s.io] Pod Container Status should never report success for a pending container',\n",
       "   'creation_time': <DateTime '20200928T20:47:20' at 0x7fefe177e100>,\n",
       "   'id': 14328187,\n",
       "   'creator_id': 368980},\n",
       "  {'is_private': False,\n",
       "   'count': 3,\n",
       "   'creator': 'cewong',\n",
       "   'time': <DateTime '20201026T12:09:55' at 0x7fefe177edc0>,\n",
       "   'bug_id': 1883345,\n",
       "   'tags': [],\n",
       "   'text': 'Moving to VERIFIED as this is only a change to e2e tests, which are passing.',\n",
       "   'creation_time': <DateTime '20201026T12:09:55' at 0x7fefe177e160>,\n",
       "   'id': 14428957,\n",
       "   'creator_id': 368980},\n",
       "  {'is_private': False,\n",
       "   'count': 5,\n",
       "   'creator': 'errata-xmlrpc',\n",
       "   'time': <DateTime '20201105T12:46:56' at 0x7fefe177ec10>,\n",
       "   'bug_id': 1883345,\n",
       "   'tags': [],\n",
       "   'text': 'Since the problem described in this bug report should be\\nresolved in a recent advisory, it has been closed with a\\nresolution of ERRATA.\\n\\nFor information on the advisory (OpenShift Container Platform 4.5.17 bug fix update), and where to find the updated\\nfiles, follow the link below.\\n\\nIf the solution does not work for you, open a new bug report.\\n\\nhttps://access.redhat.com/errata/RHBA-2020:4325',\n",
       "   'creation_time': <DateTime '20201105T12:46:56' at 0x7fefe177efa0>,\n",
       "   'id': 14478733,\n",
       "   'creator_id': 241731}],\n",
       " 'is_cc_accessible': True,\n",
       " 'keywords': [],\n",
       " 'creator_detail': {'real_name': 'Cesar Wong',\n",
       "  'email': 'cewong',\n",
       "  'name': 'cewong',\n",
       "  'id': 368980},\n",
       " 'cc': ['Xiaoli Tian'],\n",
       " 'see_also': [],\n",
       " 'groups': [],\n",
       " 'assigned_to': 'Cesar Wong',\n",
       " 'url': '',\n",
       " 'qa_contact': 'Xiaoli Tian',\n",
       " 'creation_time': <DateTime '20200928T20:47:20' at 0x7fefe0ac4130>,\n",
       " 'whiteboard': 'IBMROKS',\n",
       " 'id': 1883345,\n",
       " 'depends_on': [1883343],\n",
       " 'cf_target_upstream_version': '',\n",
       " 'docs_contact': '',\n",
       " 'description': '+++ This bug was initially created as a clone of Bug #1883343 +++\\n\\nRe-enabling selected tests now that associated bugs have been fixed and are in the Red Hat OpenShift on IBM Cloud v4.3 builds\\n\\n[Feature:Prometheus][Conformance] Prometheus when installed on the cluster should provide ingress metrics\\n[Conformance][Area:Networking][Feature:Router] The HAProxy router should enable openshift-monitoring to pull metrics\\n[k8s.io] [sig-node] Pods Extended [k8s.io] Pod Container Status should never report success for a pending container',\n",
       " 'qa_contact_detail': {'real_name': 'Xiaoli Tian',\n",
       "  'email': 'xtian',\n",
       "  'name': 'xtian',\n",
       "  'id': 291334},\n",
       " 'resolution': 'ERRATA',\n",
       " 'classification': 'Red Hat',\n",
       " 'cf_doc_type': 'If docs needed, set a value',\n",
       " 'alias': [],\n",
       " 'op_sys': 'Unspecified',\n",
       " 'target_release': ['4.5.z'],\n",
       " 'status': 'CLOSED',\n",
       " 'cc_detail': [{'real_name': 'Xiaoli Tian',\n",
       "   'email': 'xtian',\n",
       "   'name': 'xtian',\n",
       "   'id': 291334}],\n",
       " 'cf_clone_of': 1883343,\n",
       " 'external_bugs': [{'ext_description': 'Bug 1883345: [release-4.5] Re-enable skipped conformance tests for IBM Cloud',\n",
       "   'ext_bz_id': 131,\n",
       "   'ext_priority': 'None',\n",
       "   'bug_id': 1883345,\n",
       "   'ext_bz_bug_id': 'openshift/origin/pull/25520',\n",
       "   'id': 1398581,\n",
       "   'ext_status': 'closed',\n",
       "   'type': {'must_send': False,\n",
       "    'can_send': False,\n",
       "    'description': 'Github',\n",
       "    'can_get': True,\n",
       "    'url': 'https://github.com/',\n",
       "    'id': 131,\n",
       "    'send_once': False,\n",
       "    'type': 'GitHub',\n",
       "    'full_url': 'https://github.com/%id%'}},\n",
       "  {'ext_description': 'None',\n",
       "   'ext_bz_id': 139,\n",
       "   'ext_priority': 'None',\n",
       "   'bug_id': 1883345,\n",
       "   'ext_bz_bug_id': 'RHBA-2020:4325',\n",
       "   'id': 1660014,\n",
       "   'ext_status': 'None',\n",
       "   'type': {'must_send': False,\n",
       "    'can_send': False,\n",
       "    'description': 'Red Hat Product Errata',\n",
       "    'can_get': False,\n",
       "    'url': 'https://access.redhat.com/errata/',\n",
       "    'id': 139,\n",
       "    'send_once': False,\n",
       "    'type': 'None',\n",
       "    'full_url': 'https://access.redhat.com/errata/%id%'}}],\n",
       " 'summary': 'Re-enable skipped conformance tests for IBM Cloud',\n",
       " 'is_open': False,\n",
       " 'platform': 'Unspecified',\n",
       " 'severity': 'low',\n",
       " 'cf_environment': '',\n",
       " 'flags': [],\n",
       " 'version': '4.5',\n",
       " 'tags': [],\n",
       " 'component': 'ibm-roks-toolkit',\n",
       " 'sub_components': {},\n",
       " 'is_creator_accessible': True,\n",
       " 'cf_release_notes': '',\n",
       " 'product': 'OpenShift Container Platform',\n",
       " 'target_milestone': '---',\n",
       " 'is_confirmed': True,\n",
       " 'components': ['ibm-roks-toolkit'],\n",
       " 'versions': ['4.5'],\n",
       " 'sub_component': '',\n",
       " 'fixed_in': ''}"
      ]
     },
     "execution_count": 10,
     "metadata": {},
     "output_type": "execute_result"
    }
   ],
   "source": [
    "# lets peek at some of the available bug metadata\n",
    "samplebug._rawdata"
   ]
  },
  {
   "cell_type": "code",
   "execution_count": 11,
   "id": "isolated-columbia",
   "metadata": {},
   "outputs": [
    {
     "data": {
      "text/plain": [
       "<bugzilla.oldclasses.RHBugzilla at 0x7fefe0d33a60>"
      ]
     },
     "execution_count": 11,
     "metadata": {},
     "output_type": "execute_result"
    }
   ],
   "source": [
    "samplebug.bugzilla"
   ]
  },
  {
   "cell_type": "code",
   "execution_count": 12,
   "id": "bored-leeds",
   "metadata": {},
   "outputs": [
    {
     "data": {
      "text/plain": [
       "[('summary', 'short_desc'),\n",
       " ('description', 'comment'),\n",
       " ('platform', 'rep_platform'),\n",
       " ('severity', 'bug_severity'),\n",
       " ('status', 'bug_status'),\n",
       " ('id', 'bug_id'),\n",
       " ('blocks', 'blockedby'),\n",
       " ('blocks', 'blocked'),\n",
       " ('depends_on', 'dependson'),\n",
       " ('creator', 'reporter'),\n",
       " ('url', 'bug_file_loc'),\n",
       " ('dupe_of', 'dupe_id'),\n",
       " ('dupe_of', 'dup_id'),\n",
       " ('comments', 'longdescs'),\n",
       " ('creation_time', 'opendate'),\n",
       " ('creation_time', 'creation_ts'),\n",
       " ('whiteboard', 'status_whiteboard'),\n",
       " ('last_change_time', 'delta_ts'),\n",
       " ('fixed_in', 'cf_fixed_in'),\n",
       " ('qa_whiteboard', 'cf_qa_whiteboard'),\n",
       " ('devel_whiteboard', 'cf_devel_whiteboard'),\n",
       " ('internal_whiteboard', 'cf_internal_whiteboard'),\n",
       " ('flags', 'flag_types')]"
      ]
     },
     "execution_count": 12,
     "metadata": {},
     "output_type": "execute_result"
    }
   ],
   "source": [
    "samplebug._aliases"
   ]
  },
  {
   "cell_type": "markdown",
   "id": "pursuant-annotation",
   "metadata": {},
   "source": [
    "**NOTE** `_rawdata` seems redundant, the information is already captured in other fields. And `bugzilla` attribute is depracated / old representation."
   ]
  },
  {
   "cell_type": "code",
   "execution_count": 13,
   "id": "conventional-quality",
   "metadata": {},
   "outputs": [],
   "source": [
    "list(vars(samplebug).keys()).remove('bugzilla')"
   ]
  },
  {
   "cell_type": "code",
   "execution_count": 14,
   "id": "mental-angle",
   "metadata": {},
   "outputs": [
    {
     "data": {
      "text/plain": [
       "['autorefresh',\n",
       " 'priority',\n",
       " 'creator',\n",
       " 'blocks',\n",
       " 'assigned_to_detail',\n",
       " 'last_change_time',\n",
       " 'comments',\n",
       " 'is_cc_accessible',\n",
       " 'keywords',\n",
       " 'creator_detail',\n",
       " 'cc',\n",
       " 'see_also',\n",
       " 'groups',\n",
       " 'assigned_to',\n",
       " 'url',\n",
       " 'qa_contact',\n",
       " 'creation_time',\n",
       " 'whiteboard',\n",
       " 'id',\n",
       " 'depends_on',\n",
       " 'cf_target_upstream_version',\n",
       " 'docs_contact',\n",
       " 'description',\n",
       " 'resolution',\n",
       " 'classification',\n",
       " 'cf_doc_type',\n",
       " 'alias',\n",
       " 'op_sys',\n",
       " 'target_release',\n",
       " 'status',\n",
       " 'cc_detail',\n",
       " 'external_bugs',\n",
       " 'summary',\n",
       " 'is_open',\n",
       " 'platform',\n",
       " 'severity',\n",
       " 'cf_environment',\n",
       " 'flags',\n",
       " 'version',\n",
       " 'tags',\n",
       " 'component',\n",
       " 'sub_components',\n",
       " 'is_creator_accessible',\n",
       " 'cf_release_notes',\n",
       " 'product',\n",
       " 'target_milestone',\n",
       " 'is_confirmed',\n",
       " 'components',\n",
       " 'versions',\n",
       " 'sub_component',\n",
       " 'fixed_in',\n",
       " 'weburl']"
      ]
     },
     "execution_count": 14,
     "metadata": {},
     "output_type": "execute_result"
    }
   ],
   "source": [
    "# get all the available fields, except the depracated and duplicate ones\n",
    "bug_details_to_get = list(vars(samplebug).keys())\n",
    "bug_details_to_get.remove('_rawdata')\n",
    "bug_details_to_get.remove('bugzilla')\n",
    "bug_details_to_get.remove('_aliases')\n",
    "\n",
    "# these two keys are msissing for a lot of bugs\n",
    "bug_details_to_get.remove('qa_contact_detail')\n",
    "bug_details_to_get.remove('cf_last_closed')\n",
    "bug_details_to_get.remove('cf_clone_of')\n",
    "\n",
    "bug_details_to_get"
   ]
  },
  {
   "cell_type": "code",
   "execution_count": 15,
   "id": "backed-perspective",
   "metadata": {},
   "outputs": [
    {
     "data": {
      "text/html": [
       "<div>\n",
       "<style scoped>\n",
       "    .dataframe tbody tr th:only-of-type {\n",
       "        vertical-align: middle;\n",
       "    }\n",
       "\n",
       "    .dataframe tbody tr th {\n",
       "        vertical-align: top;\n",
       "    }\n",
       "\n",
       "    .dataframe thead th {\n",
       "        text-align: right;\n",
       "    }\n",
       "</style>\n",
       "<table border=\"1\" class=\"dataframe\">\n",
       "  <thead>\n",
       "    <tr style=\"text-align: right;\">\n",
       "      <th></th>\n",
       "      <th>bug_id</th>\n",
       "      <th>autorefresh</th>\n",
       "      <th>priority</th>\n",
       "      <th>creator</th>\n",
       "      <th>blocks</th>\n",
       "      <th>assigned_to_detail</th>\n",
       "      <th>last_change_time</th>\n",
       "      <th>comments</th>\n",
       "      <th>is_cc_accessible</th>\n",
       "      <th>keywords</th>\n",
       "      <th>...</th>\n",
       "      <th>is_creator_accessible</th>\n",
       "      <th>cf_release_notes</th>\n",
       "      <th>product</th>\n",
       "      <th>target_milestone</th>\n",
       "      <th>is_confirmed</th>\n",
       "      <th>components</th>\n",
       "      <th>versions</th>\n",
       "      <th>sub_component</th>\n",
       "      <th>fixed_in</th>\n",
       "      <th>weburl</th>\n",
       "    </tr>\n",
       "  </thead>\n",
       "  <tbody>\n",
       "    <tr>\n",
       "      <th>0</th>\n",
       "      <td>1934731</td>\n",
       "      <td>NaN</td>\n",
       "      <td>NaN</td>\n",
       "      <td>NaN</td>\n",
       "      <td>NaN</td>\n",
       "      <td>NaN</td>\n",
       "      <td>NaN</td>\n",
       "      <td>NaN</td>\n",
       "      <td>NaN</td>\n",
       "      <td>NaN</td>\n",
       "      <td>...</td>\n",
       "      <td>NaN</td>\n",
       "      <td>NaN</td>\n",
       "      <td>NaN</td>\n",
       "      <td>NaN</td>\n",
       "      <td>NaN</td>\n",
       "      <td>NaN</td>\n",
       "      <td>NaN</td>\n",
       "      <td>NaN</td>\n",
       "      <td>NaN</td>\n",
       "      <td>NaN</td>\n",
       "    </tr>\n",
       "    <tr>\n",
       "      <th>1</th>\n",
       "      <td>1882505</td>\n",
       "      <td>NaN</td>\n",
       "      <td>NaN</td>\n",
       "      <td>NaN</td>\n",
       "      <td>NaN</td>\n",
       "      <td>NaN</td>\n",
       "      <td>NaN</td>\n",
       "      <td>NaN</td>\n",
       "      <td>NaN</td>\n",
       "      <td>NaN</td>\n",
       "      <td>...</td>\n",
       "      <td>NaN</td>\n",
       "      <td>NaN</td>\n",
       "      <td>NaN</td>\n",
       "      <td>NaN</td>\n",
       "      <td>NaN</td>\n",
       "      <td>NaN</td>\n",
       "      <td>NaN</td>\n",
       "      <td>NaN</td>\n",
       "      <td>NaN</td>\n",
       "      <td>NaN</td>\n",
       "    </tr>\n",
       "    <tr>\n",
       "      <th>2</th>\n",
       "      <td>1809892</td>\n",
       "      <td>NaN</td>\n",
       "      <td>NaN</td>\n",
       "      <td>NaN</td>\n",
       "      <td>NaN</td>\n",
       "      <td>NaN</td>\n",
       "      <td>NaN</td>\n",
       "      <td>NaN</td>\n",
       "      <td>NaN</td>\n",
       "      <td>NaN</td>\n",
       "      <td>...</td>\n",
       "      <td>NaN</td>\n",
       "      <td>NaN</td>\n",
       "      <td>NaN</td>\n",
       "      <td>NaN</td>\n",
       "      <td>NaN</td>\n",
       "      <td>NaN</td>\n",
       "      <td>NaN</td>\n",
       "      <td>NaN</td>\n",
       "      <td>NaN</td>\n",
       "      <td>NaN</td>\n",
       "    </tr>\n",
       "    <tr>\n",
       "      <th>3</th>\n",
       "      <td>1861498</td>\n",
       "      <td>NaN</td>\n",
       "      <td>NaN</td>\n",
       "      <td>NaN</td>\n",
       "      <td>NaN</td>\n",
       "      <td>NaN</td>\n",
       "      <td>NaN</td>\n",
       "      <td>NaN</td>\n",
       "      <td>NaN</td>\n",
       "      <td>NaN</td>\n",
       "      <td>...</td>\n",
       "      <td>NaN</td>\n",
       "      <td>NaN</td>\n",
       "      <td>NaN</td>\n",
       "      <td>NaN</td>\n",
       "      <td>NaN</td>\n",
       "      <td>NaN</td>\n",
       "      <td>NaN</td>\n",
       "      <td>NaN</td>\n",
       "      <td>NaN</td>\n",
       "      <td>NaN</td>\n",
       "    </tr>\n",
       "    <tr>\n",
       "      <th>4</th>\n",
       "      <td>1948535</td>\n",
       "      <td>NaN</td>\n",
       "      <td>NaN</td>\n",
       "      <td>NaN</td>\n",
       "      <td>NaN</td>\n",
       "      <td>NaN</td>\n",
       "      <td>NaN</td>\n",
       "      <td>NaN</td>\n",
       "      <td>NaN</td>\n",
       "      <td>NaN</td>\n",
       "      <td>...</td>\n",
       "      <td>NaN</td>\n",
       "      <td>NaN</td>\n",
       "      <td>NaN</td>\n",
       "      <td>NaN</td>\n",
       "      <td>NaN</td>\n",
       "      <td>NaN</td>\n",
       "      <td>NaN</td>\n",
       "      <td>NaN</td>\n",
       "      <td>NaN</td>\n",
       "      <td>NaN</td>\n",
       "    </tr>\n",
       "  </tbody>\n",
       "</table>\n",
       "<p>5 rows × 53 columns</p>\n",
       "</div>"
      ],
      "text/plain": [
       "    bug_id autorefresh priority creator blocks assigned_to_detail  \\\n",
       "0  1934731         NaN      NaN     NaN    NaN                NaN   \n",
       "1  1882505         NaN      NaN     NaN    NaN                NaN   \n",
       "2  1809892         NaN      NaN     NaN    NaN                NaN   \n",
       "3  1861498         NaN      NaN     NaN    NaN                NaN   \n",
       "4  1948535         NaN      NaN     NaN    NaN                NaN   \n",
       "\n",
       "  last_change_time comments is_cc_accessible keywords  ...  \\\n",
       "0              NaN      NaN              NaN      NaN  ...   \n",
       "1              NaN      NaN              NaN      NaN  ...   \n",
       "2              NaN      NaN              NaN      NaN  ...   \n",
       "3              NaN      NaN              NaN      NaN  ...   \n",
       "4              NaN      NaN              NaN      NaN  ...   \n",
       "\n",
       "  is_creator_accessible cf_release_notes product target_milestone  \\\n",
       "0                   NaN              NaN     NaN              NaN   \n",
       "1                   NaN              NaN     NaN              NaN   \n",
       "2                   NaN              NaN     NaN              NaN   \n",
       "3                   NaN              NaN     NaN              NaN   \n",
       "4                   NaN              NaN     NaN              NaN   \n",
       "\n",
       "  is_confirmed components versions sub_component fixed_in weburl  \n",
       "0          NaN        NaN      NaN           NaN      NaN    NaN  \n",
       "1          NaN        NaN      NaN           NaN      NaN    NaN  \n",
       "2          NaN        NaN      NaN           NaN      NaN    NaN  \n",
       "3          NaN        NaN      NaN           NaN      NaN    NaN  \n",
       "4          NaN        NaN      NaN           NaN      NaN    NaN  \n",
       "\n",
       "[5 rows x 53 columns]"
      ]
     },
     "execution_count": 15,
     "metadata": {},
     "output_type": "execute_result"
    }
   ],
   "source": [
    "# create a df containing details of all linked and associated bugs\n",
    "bugs_df = pd.DataFrame(columns=['bug_id'] + bug_details_to_get, index=range(len(all_linked_bugs)))\n",
    "bugs_df = bugs_df.assign(bug_id=all_linked_bugs)\n",
    "bugs_df.head()"
   ]
  },
  {
   "cell_type": "code",
   "execution_count": 16,
   "id": "statutory-equation",
   "metadata": {},
   "outputs": [
    {
     "name": "stderr",
     "output_type": "stream",
     "text": [
      "100%|██████████| 2772/2772 [30:35<00:00,  1.51it/s] \n"
     ]
    },
    {
     "data": {
      "text/html": [
       "<div>\n",
       "<style scoped>\n",
       "    .dataframe tbody tr th:only-of-type {\n",
       "        vertical-align: middle;\n",
       "    }\n",
       "\n",
       "    .dataframe tbody tr th {\n",
       "        vertical-align: top;\n",
       "    }\n",
       "\n",
       "    .dataframe thead th {\n",
       "        text-align: right;\n",
       "    }\n",
       "</style>\n",
       "<table border=\"1\" class=\"dataframe\">\n",
       "  <thead>\n",
       "    <tr style=\"text-align: right;\">\n",
       "      <th></th>\n",
       "      <th>bug_id</th>\n",
       "      <th>autorefresh</th>\n",
       "      <th>priority</th>\n",
       "      <th>creator</th>\n",
       "      <th>blocks</th>\n",
       "      <th>assigned_to_detail</th>\n",
       "      <th>last_change_time</th>\n",
       "      <th>comments</th>\n",
       "      <th>is_cc_accessible</th>\n",
       "      <th>keywords</th>\n",
       "      <th>...</th>\n",
       "      <th>is_creator_accessible</th>\n",
       "      <th>cf_release_notes</th>\n",
       "      <th>product</th>\n",
       "      <th>target_milestone</th>\n",
       "      <th>is_confirmed</th>\n",
       "      <th>components</th>\n",
       "      <th>versions</th>\n",
       "      <th>sub_component</th>\n",
       "      <th>fixed_in</th>\n",
       "      <th>weburl</th>\n",
       "    </tr>\n",
       "  </thead>\n",
       "  <tbody>\n",
       "    <tr>\n",
       "      <th>0</th>\n",
       "      <td>1934731</td>\n",
       "      <td>False</td>\n",
       "      <td>unspecified</td>\n",
       "      <td>Neil Girard</td>\n",
       "      <td>[]</td>\n",
       "      <td>{'real_name': 'Stefan Schimanski', 'email': 's...</td>\n",
       "      <td>20210304T09:47:33</td>\n",
       "      <td>[{'is_private': False, 'count': 0, 'creator': ...</td>\n",
       "      <td>True</td>\n",
       "      <td>[]</td>\n",
       "      <td>...</td>\n",
       "      <td>True</td>\n",
       "      <td></td>\n",
       "      <td>OpenShift Container Platform</td>\n",
       "      <td>---</td>\n",
       "      <td>True</td>\n",
       "      <td>[kube-apiserver]</td>\n",
       "      <td>[4.4]</td>\n",
       "      <td></td>\n",
       "      <td></td>\n",
       "      <td>https://bugzilla.redhat.com/show_bug.cgi?id=19...</td>\n",
       "    </tr>\n",
       "    <tr>\n",
       "      <th>1</th>\n",
       "      <td>1882505</td>\n",
       "      <td>False</td>\n",
       "      <td>medium</td>\n",
       "      <td>Devan Goodwin</td>\n",
       "      <td>[]</td>\n",
       "      <td>{'real_name': 'Devan Goodwin', 'email': 'dgood...</td>\n",
       "      <td>20201027T16:45:46</td>\n",
       "      <td>[{'is_private': False, 'count': 0, 'creator': ...</td>\n",
       "      <td>True</td>\n",
       "      <td>[]</td>\n",
       "      <td>...</td>\n",
       "      <td>True</td>\n",
       "      <td></td>\n",
       "      <td>OpenShift Container Platform</td>\n",
       "      <td>---</td>\n",
       "      <td>True</td>\n",
       "      <td>[Cloud Credential Operator]</td>\n",
       "      <td>[4.6]</td>\n",
       "      <td></td>\n",
       "      <td></td>\n",
       "      <td>https://bugzilla.redhat.com/show_bug.cgi?id=18...</td>\n",
       "    </tr>\n",
       "    <tr>\n",
       "      <th>2</th>\n",
       "      <td>1809892</td>\n",
       "      <td>False</td>\n",
       "      <td>medium</td>\n",
       "      <td>wewang</td>\n",
       "      <td>[]</td>\n",
       "      <td>{'real_name': 'Adam Kaplan', 'email': 'adam.ka...</td>\n",
       "      <td>20210225T15:08:23</td>\n",
       "      <td>[{'is_private': False, 'count': 0, 'creator': ...</td>\n",
       "      <td>True</td>\n",
       "      <td>[]</td>\n",
       "      <td>...</td>\n",
       "      <td>True</td>\n",
       "      <td></td>\n",
       "      <td>OpenShift Container Platform</td>\n",
       "      <td>---</td>\n",
       "      <td>True</td>\n",
       "      <td>[openshift-controller-manager]</td>\n",
       "      <td>[4.4]</td>\n",
       "      <td>controller-manager</td>\n",
       "      <td></td>\n",
       "      <td>https://bugzilla.redhat.com/show_bug.cgi?id=18...</td>\n",
       "    </tr>\n",
       "    <tr>\n",
       "      <th>3</th>\n",
       "      <td>1861498</td>\n",
       "      <td>False</td>\n",
       "      <td>medium</td>\n",
       "      <td>Naveen Malik</td>\n",
       "      <td>[]</td>\n",
       "      <td>{'real_name': 'Antonio Murdaca', 'email': 'amu...</td>\n",
       "      <td>20201117T22:20:41</td>\n",
       "      <td>[{'is_private': False, 'count': 0, 'creator': ...</td>\n",
       "      <td>True</td>\n",
       "      <td>[ServiceDeliveryImpact]</td>\n",
       "      <td>...</td>\n",
       "      <td>True</td>\n",
       "      <td></td>\n",
       "      <td>OpenShift Container Platform</td>\n",
       "      <td>---</td>\n",
       "      <td>True</td>\n",
       "      <td>[Machine Config Operator]</td>\n",
       "      <td>[4.4]</td>\n",
       "      <td></td>\n",
       "      <td></td>\n",
       "      <td>https://bugzilla.redhat.com/show_bug.cgi?id=18...</td>\n",
       "    </tr>\n",
       "    <tr>\n",
       "      <th>4</th>\n",
       "      <td>1948535</td>\n",
       "      <td>False</td>\n",
       "      <td>unspecified</td>\n",
       "      <td>Qin Ping</td>\n",
       "      <td>[]</td>\n",
       "      <td>{'real_name': 'aos-storage-staff@redhat.com', ...</td>\n",
       "      <td>20210415T15:26:24</td>\n",
       "      <td>[{'is_private': False, 'count': 0, 'creator': ...</td>\n",
       "      <td>True</td>\n",
       "      <td>[]</td>\n",
       "      <td>...</td>\n",
       "      <td>True</td>\n",
       "      <td></td>\n",
       "      <td>OpenShift Container Platform</td>\n",
       "      <td>---</td>\n",
       "      <td>True</td>\n",
       "      <td>[Storage]</td>\n",
       "      <td>[4.8]</td>\n",
       "      <td>Operators</td>\n",
       "      <td></td>\n",
       "      <td>https://bugzilla.redhat.com/show_bug.cgi?id=19...</td>\n",
       "    </tr>\n",
       "    <tr>\n",
       "      <th>...</th>\n",
       "      <td>...</td>\n",
       "      <td>...</td>\n",
       "      <td>...</td>\n",
       "      <td>...</td>\n",
       "      <td>...</td>\n",
       "      <td>...</td>\n",
       "      <td>...</td>\n",
       "      <td>...</td>\n",
       "      <td>...</td>\n",
       "      <td>...</td>\n",
       "      <td>...</td>\n",
       "      <td>...</td>\n",
       "      <td>...</td>\n",
       "      <td>...</td>\n",
       "      <td>...</td>\n",
       "      <td>...</td>\n",
       "      <td>...</td>\n",
       "      <td>...</td>\n",
       "      <td>...</td>\n",
       "      <td>...</td>\n",
       "      <td>...</td>\n",
       "    </tr>\n",
       "    <tr>\n",
       "      <th>2767</th>\n",
       "      <td>1857084</td>\n",
       "      <td>NaN</td>\n",
       "      <td>NaN</td>\n",
       "      <td>NaN</td>\n",
       "      <td>NaN</td>\n",
       "      <td>NaN</td>\n",
       "      <td>NaN</td>\n",
       "      <td>NaN</td>\n",
       "      <td>NaN</td>\n",
       "      <td>NaN</td>\n",
       "      <td>...</td>\n",
       "      <td>NaN</td>\n",
       "      <td>NaN</td>\n",
       "      <td>NaN</td>\n",
       "      <td>NaN</td>\n",
       "      <td>NaN</td>\n",
       "      <td>NaN</td>\n",
       "      <td>NaN</td>\n",
       "      <td>NaN</td>\n",
       "      <td>NaN</td>\n",
       "      <td>NaN</td>\n",
       "    </tr>\n",
       "    <tr>\n",
       "      <th>2768</th>\n",
       "      <td>1924917</td>\n",
       "      <td>False</td>\n",
       "      <td>high</td>\n",
       "      <td>Robert Heinzmann</td>\n",
       "      <td>[1928029]</td>\n",
       "      <td>{'real_name': 'Michał Dulko', 'email': 'mdulko...</td>\n",
       "      <td>20210223T12:17:59</td>\n",
       "      <td>[{'is_private': False, 'count': 0, 'creator': ...</td>\n",
       "      <td>True</td>\n",
       "      <td>[]</td>\n",
       "      <td>...</td>\n",
       "      <td>True</td>\n",
       "      <td></td>\n",
       "      <td>OpenShift Container Platform</td>\n",
       "      <td>---</td>\n",
       "      <td>True</td>\n",
       "      <td>[Networking]</td>\n",
       "      <td>[4.6]</td>\n",
       "      <td>kuryr</td>\n",
       "      <td></td>\n",
       "      <td>https://bugzilla.redhat.com/show_bug.cgi?id=19...</td>\n",
       "    </tr>\n",
       "    <tr>\n",
       "      <th>2769</th>\n",
       "      <td>1936006</td>\n",
       "      <td>False</td>\n",
       "      <td>unspecified</td>\n",
       "      <td>Tyler Lisowski</td>\n",
       "      <td>[]</td>\n",
       "      <td>{'real_name': 'Oleg Bulatov', 'email': 'obulat...</td>\n",
       "      <td>20210308T12:27:28</td>\n",
       "      <td>[{'is_private': False, 'count': 0, 'creator': ...</td>\n",
       "      <td>True</td>\n",
       "      <td>[]</td>\n",
       "      <td>...</td>\n",
       "      <td>True</td>\n",
       "      <td></td>\n",
       "      <td>OpenShift Container Platform</td>\n",
       "      <td>---</td>\n",
       "      <td>True</td>\n",
       "      <td>[Image Registry]</td>\n",
       "      <td>[4.6]</td>\n",
       "      <td></td>\n",
       "      <td></td>\n",
       "      <td>https://bugzilla.redhat.com/show_bug.cgi?id=19...</td>\n",
       "    </tr>\n",
       "    <tr>\n",
       "      <th>2770</th>\n",
       "      <td>1928619</td>\n",
       "      <td>False</td>\n",
       "      <td>unspecified</td>\n",
       "      <td>Seunghwan Jung</td>\n",
       "      <td>[]</td>\n",
       "      <td>{'real_name': 'Micah Abbott', 'email': 'miabbo...</td>\n",
       "      <td>20210327T07:04:48</td>\n",
       "      <td>[{'is_private': False, 'count': 0, 'creator': ...</td>\n",
       "      <td>True</td>\n",
       "      <td>[]</td>\n",
       "      <td>...</td>\n",
       "      <td>True</td>\n",
       "      <td></td>\n",
       "      <td>OpenShift Container Platform</td>\n",
       "      <td>---</td>\n",
       "      <td>True</td>\n",
       "      <td>[RHCOS]</td>\n",
       "      <td>[4.6]</td>\n",
       "      <td></td>\n",
       "      <td></td>\n",
       "      <td>https://bugzilla.redhat.com/show_bug.cgi?id=19...</td>\n",
       "    </tr>\n",
       "    <tr>\n",
       "      <th>2771</th>\n",
       "      <td>1936966</td>\n",
       "      <td>False</td>\n",
       "      <td>high</td>\n",
       "      <td>Elena German</td>\n",
       "      <td>[]</td>\n",
       "      <td>{'real_name': 'Steven Hardy', 'email': 'shardy...</td>\n",
       "      <td>20210316T17:07:18</td>\n",
       "      <td>[{'is_private': False, 'count': 0, 'creator': ...</td>\n",
       "      <td>True</td>\n",
       "      <td>[Triaged]</td>\n",
       "      <td>...</td>\n",
       "      <td>True</td>\n",
       "      <td></td>\n",
       "      <td>OpenShift Container Platform</td>\n",
       "      <td>---</td>\n",
       "      <td>True</td>\n",
       "      <td>[Bare Metal Hardware Provisioning]</td>\n",
       "      <td>[4.7]</td>\n",
       "      <td>baremetal-operator</td>\n",
       "      <td></td>\n",
       "      <td>https://bugzilla.redhat.com/show_bug.cgi?id=19...</td>\n",
       "    </tr>\n",
       "  </tbody>\n",
       "</table>\n",
       "<p>2772 rows × 53 columns</p>\n",
       "</div>"
      ],
      "text/plain": [
       "       bug_id autorefresh     priority           creator     blocks  \\\n",
       "0     1934731       False  unspecified       Neil Girard         []   \n",
       "1     1882505       False       medium     Devan Goodwin         []   \n",
       "2     1809892       False       medium            wewang         []   \n",
       "3     1861498       False       medium      Naveen Malik         []   \n",
       "4     1948535       False  unspecified          Qin Ping         []   \n",
       "...       ...         ...          ...               ...        ...   \n",
       "2767  1857084         NaN          NaN               NaN        NaN   \n",
       "2768  1924917       False         high  Robert Heinzmann  [1928029]   \n",
       "2769  1936006       False  unspecified    Tyler Lisowski         []   \n",
       "2770  1928619       False  unspecified    Seunghwan Jung         []   \n",
       "2771  1936966       False         high      Elena German         []   \n",
       "\n",
       "                                     assigned_to_detail   last_change_time  \\\n",
       "0     {'real_name': 'Stefan Schimanski', 'email': 's...  20210304T09:47:33   \n",
       "1     {'real_name': 'Devan Goodwin', 'email': 'dgood...  20201027T16:45:46   \n",
       "2     {'real_name': 'Adam Kaplan', 'email': 'adam.ka...  20210225T15:08:23   \n",
       "3     {'real_name': 'Antonio Murdaca', 'email': 'amu...  20201117T22:20:41   \n",
       "4     {'real_name': 'aos-storage-staff@redhat.com', ...  20210415T15:26:24   \n",
       "...                                                 ...                ...   \n",
       "2767                                                NaN                NaN   \n",
       "2768  {'real_name': 'Michał Dulko', 'email': 'mdulko...  20210223T12:17:59   \n",
       "2769  {'real_name': 'Oleg Bulatov', 'email': 'obulat...  20210308T12:27:28   \n",
       "2770  {'real_name': 'Micah Abbott', 'email': 'miabbo...  20210327T07:04:48   \n",
       "2771  {'real_name': 'Steven Hardy', 'email': 'shardy...  20210316T17:07:18   \n",
       "\n",
       "                                               comments is_cc_accessible  \\\n",
       "0     [{'is_private': False, 'count': 0, 'creator': ...             True   \n",
       "1     [{'is_private': False, 'count': 0, 'creator': ...             True   \n",
       "2     [{'is_private': False, 'count': 0, 'creator': ...             True   \n",
       "3     [{'is_private': False, 'count': 0, 'creator': ...             True   \n",
       "4     [{'is_private': False, 'count': 0, 'creator': ...             True   \n",
       "...                                                 ...              ...   \n",
       "2767                                                NaN              NaN   \n",
       "2768  [{'is_private': False, 'count': 0, 'creator': ...             True   \n",
       "2769  [{'is_private': False, 'count': 0, 'creator': ...             True   \n",
       "2770  [{'is_private': False, 'count': 0, 'creator': ...             True   \n",
       "2771  [{'is_private': False, 'count': 0, 'creator': ...             True   \n",
       "\n",
       "                     keywords  ... is_creator_accessible cf_release_notes  \\\n",
       "0                          []  ...                  True                    \n",
       "1                          []  ...                  True                    \n",
       "2                          []  ...                  True                    \n",
       "3     [ServiceDeliveryImpact]  ...                  True                    \n",
       "4                          []  ...                  True                    \n",
       "...                       ...  ...                   ...              ...   \n",
       "2767                      NaN  ...                   NaN              NaN   \n",
       "2768                       []  ...                  True                    \n",
       "2769                       []  ...                  True                    \n",
       "2770                       []  ...                  True                    \n",
       "2771                [Triaged]  ...                  True                    \n",
       "\n",
       "                           product target_milestone is_confirmed  \\\n",
       "0     OpenShift Container Platform              ---         True   \n",
       "1     OpenShift Container Platform              ---         True   \n",
       "2     OpenShift Container Platform              ---         True   \n",
       "3     OpenShift Container Platform              ---         True   \n",
       "4     OpenShift Container Platform              ---         True   \n",
       "...                            ...              ...          ...   \n",
       "2767                           NaN              NaN          NaN   \n",
       "2768  OpenShift Container Platform              ---         True   \n",
       "2769  OpenShift Container Platform              ---         True   \n",
       "2770  OpenShift Container Platform              ---         True   \n",
       "2771  OpenShift Container Platform              ---         True   \n",
       "\n",
       "                              components versions       sub_component  \\\n",
       "0                       [kube-apiserver]    [4.4]                       \n",
       "1            [Cloud Credential Operator]    [4.6]                       \n",
       "2         [openshift-controller-manager]    [4.4]  controller-manager   \n",
       "3              [Machine Config Operator]    [4.4]                       \n",
       "4                              [Storage]    [4.8]           Operators   \n",
       "...                                  ...      ...                 ...   \n",
       "2767                                 NaN      NaN                 NaN   \n",
       "2768                        [Networking]    [4.6]               kuryr   \n",
       "2769                    [Image Registry]    [4.6]                       \n",
       "2770                             [RHCOS]    [4.6]                       \n",
       "2771  [Bare Metal Hardware Provisioning]    [4.7]  baremetal-operator   \n",
       "\n",
       "     fixed_in                                             weburl  \n",
       "0              https://bugzilla.redhat.com/show_bug.cgi?id=19...  \n",
       "1              https://bugzilla.redhat.com/show_bug.cgi?id=18...  \n",
       "2              https://bugzilla.redhat.com/show_bug.cgi?id=18...  \n",
       "3              https://bugzilla.redhat.com/show_bug.cgi?id=18...  \n",
       "4              https://bugzilla.redhat.com/show_bug.cgi?id=19...  \n",
       "...       ...                                                ...  \n",
       "2767      NaN                                                NaN  \n",
       "2768           https://bugzilla.redhat.com/show_bug.cgi?id=19...  \n",
       "2769           https://bugzilla.redhat.com/show_bug.cgi?id=19...  \n",
       "2770           https://bugzilla.redhat.com/show_bug.cgi?id=19...  \n",
       "2771           https://bugzilla.redhat.com/show_bug.cgi?id=19...  \n",
       "\n",
       "[2772 rows x 53 columns]"
      ]
     },
     "execution_count": 16,
     "metadata": {},
     "output_type": "execute_result"
    }
   ],
   "source": [
    "def fill_bug_details(bug_row):\n",
    "    global bzapi\n",
    "    \n",
    "    try:\n",
    "        bug = bzapi.getbug(bug_row.bug_id)\n",
    "    except Exception:\n",
    "        return bug_row\n",
    "    \n",
    "    for detail in bug_row.index:\n",
    "        try:\n",
    "            bug_row[detail] = getattr(bug, detail)\n",
    "        except AttributeError:\n",
    "            print(detail)\n",
    "\n",
    "    return bug_row\n",
    "\n",
    "bugs_df.progress_apply(fill_bug_details, axis=1)\n",
    "bugs_df"
   ]
  },
  {
   "cell_type": "code",
   "execution_count": 17,
   "id": "political-shape",
   "metadata": {},
   "outputs": [
    {
     "name": "stdout",
     "output_type": "stream",
     "text": [
      "bug_id\n",
      "autorefresh\n",
      "priority\n",
      "creator\n",
      "blocks\n",
      "assigned_to_detail\n",
      "last_change_time\n",
      "comments\n",
      "is_cc_accessible\n",
      "keywords\n",
      "creator_detail\n",
      "cc\n",
      "see_also\n",
      "groups\n",
      "assigned_to\n",
      "url\n",
      "qa_contact\n",
      "creation_time\n",
      "whiteboard\n",
      "id\n",
      "depends_on\n",
      "cf_target_upstream_version\n",
      "docs_contact\n",
      "description\n",
      "resolution\n",
      "classification\n",
      "cf_doc_type\n",
      "alias\n",
      "op_sys\n",
      "target_release\n",
      "status\n",
      "cc_detail\n",
      "external_bugs\n",
      "summary\n",
      "is_open\n",
      "platform\n",
      "severity\n",
      "cf_environment\n",
      "flags\n",
      "version\n",
      "tags\n",
      "component\n",
      "sub_components\n",
      "is_creator_accessible\n",
      "cf_release_notes\n",
      "product\n",
      "target_milestone\n",
      "is_confirmed\n",
      "components\n",
      "versions\n",
      "sub_component\n",
      "fixed_in\n",
      "weburl\n"
     ]
    }
   ],
   "source": [
    "for i in bugs_df.columns:\n",
    "    print(i)"
   ]
  },
  {
   "cell_type": "markdown",
   "id": "criminal-honor",
   "metadata": {},
   "source": [
    "## Bug fields"
   ]
  },
  {
   "cell_type": "markdown",
   "id": "tight-spokesman",
   "metadata": {},
   "source": [
    "### Whiteboard\n",
    "A free-form text area for adding short notes and tags to a bug."
   ]
  },
  {
   "cell_type": "code",
   "execution_count": 18,
   "id": "variable-cleaner",
   "metadata": {},
   "outputs": [
    {
     "name": "stdout",
     "output_type": "stream",
     "text": [
      "Length of unique values of whiteboard :  59\n"
     ]
    },
    {
     "data": {
      "text/html": [
       "<div>\n",
       "<style scoped>\n",
       "    .dataframe tbody tr th:only-of-type {\n",
       "        vertical-align: middle;\n",
       "    }\n",
       "\n",
       "    .dataframe tbody tr th {\n",
       "        vertical-align: top;\n",
       "    }\n",
       "\n",
       "    .dataframe thead th {\n",
       "        text-align: right;\n",
       "    }\n",
       "</style>\n",
       "<table border=\"1\" class=\"dataframe\">\n",
       "  <thead>\n",
       "    <tr style=\"text-align: right;\">\n",
       "      <th></th>\n",
       "      <th>whiteboard</th>\n",
       "    </tr>\n",
       "  </thead>\n",
       "  <tbody>\n",
       "    <tr>\n",
       "      <th></th>\n",
       "      <td>2390</td>\n",
       "    </tr>\n",
       "    <tr>\n",
       "      <th>logging-exploration</th>\n",
       "      <td>44</td>\n",
       "    </tr>\n",
       "    <tr>\n",
       "      <th>LifecycleStale</th>\n",
       "      <td>33</td>\n",
       "    </tr>\n",
       "    <tr>\n",
       "      <th>LifecycleReset</th>\n",
       "      <td>28</td>\n",
       "    </tr>\n",
       "    <tr>\n",
       "      <th>logging-core</th>\n",
       "      <td>19</td>\n",
       "    </tr>\n",
       "  </tbody>\n",
       "</table>\n",
       "</div>"
      ],
      "text/plain": [
       "                     whiteboard\n",
       "                           2390\n",
       "logging-exploration          44\n",
       "LifecycleStale               33\n",
       "LifecycleReset               28\n",
       "logging-core                 19"
      ]
     },
     "execution_count": 18,
     "metadata": {},
     "output_type": "execute_result"
    }
   ],
   "source": [
    "print(\"Length of unique values of whiteboard : \", len(bugs_df.whiteboard.unique()))\n",
    "bugs_df.whiteboard.value_counts().to_frame().head()"
   ]
  },
  {
   "cell_type": "code",
   "execution_count": 19,
   "id": "bizarre-nevada",
   "metadata": {},
   "outputs": [
    {
     "data": {
      "image/png": "[encoded data removed]",
      "text/plain": [
       "<Figure size 1152x360 with 1 Axes>"
      ]
     },
     "metadata": {
      "needs_background": "light"
     },
     "output_type": "display_data"
    }
   ],
   "source": [
    "plt.figure(figsize=(16,5))\n",
    "bugs_df.whiteboard.value_counts().plot.bar()\n",
    "plt.xticks(rotation = 90)\n",
    "plt.title(\"WHITEBOARD TEXT\")\n",
    "plt.xlabel(\"Whiteboard text\")\n",
    "plt.ylabel(\"Value counts for Whiteboard text\")\n",
    "plt.show()"
   ]
  },
  {
   "cell_type": "markdown",
   "id": "streaming-postcard",
   "metadata": {},
   "source": [
    "From the above graph, we can conclude that even though we have 58 unique values for `whiteboard` , most of them are empty. "
   ]
  },
  {
   "cell_type": "markdown",
   "id": "friendly-fellowship",
   "metadata": {},
   "source": [
    "### cf_target_upstream_version"
   ]
  },
  {
   "cell_type": "code",
   "execution_count": 20,
   "id": "executed-remark",
   "metadata": {},
   "outputs": [
    {
     "data": {
      "text/plain": [
       "array(['', nan, '4.8.0'], dtype=object)"
      ]
     },
     "execution_count": 20,
     "metadata": {},
     "output_type": "execute_result"
    }
   ],
   "source": [
    "bugs_df.cf_target_upstream_version.unique()"
   ]
  },
  {
   "cell_type": "markdown",
   "id": "correct-console",
   "metadata": {},
   "source": [
    "### docs_contact_value and qa_contact \n",
    "The people responsible for contacting and fixing the bug"
   ]
  },
  {
   "cell_type": "code",
   "execution_count": 21,
   "id": "talented-globe",
   "metadata": {},
   "outputs": [
    {
     "data": {
      "text/plain": [
       "                      2499\n",
       "Vikram Goyal           104\n",
       "Rolfe Dlugy-Hegwer       9\n",
       "Harsh Mishra             4\n",
       "Marc Muehlfeld           4\n",
       "Avital Pinnick           4\n",
       "Kathryn Alexander        3\n",
       "Kevin Owen               2\n",
       "Robert Krátký            2\n",
       "Radek Vokál              2\n",
       "Christopher Dawson       1\n",
       "Ashleigh                 1\n",
       "Rishu Mehra              1\n",
       "Name: docs_contact, dtype: int64"
      ]
     },
     "execution_count": 21,
     "metadata": {},
     "output_type": "execute_result"
    }
   ],
   "source": [
    "bugs_df.docs_contact.value_counts()"
   ]
  },
  {
   "cell_type": "code",
   "execution_count": 22,
   "id": "imposed-contrary",
   "metadata": {},
   "outputs": [
    {
     "data": {
      "text/plain": [
       "Michael Nguyen    177\n",
       "zhaozhanqi        139\n",
       "Anurag saxena     100\n",
       "Qin Ping           97\n",
       "Jian Zhang         96\n",
       "                 ... \n",
       "Neha Berry          1\n",
       "Ben Eli             1\n",
       "Maayan Hadasi       1\n",
       "Oded                1\n",
       "Cuiping HUO         1\n",
       "Name: qa_contact, Length: 148, dtype: int64"
      ]
     },
     "execution_count": 22,
     "metadata": {},
     "output_type": "execute_result"
    }
   ],
   "source": [
    "bugs_df.qa_contact.value_counts()"
   ]
  },
  {
   "cell_type": "markdown",
   "id": "joint-angel",
   "metadata": {},
   "source": [
    "Most of the tickets have no contacts assigned, but this could be useful so as to automatically identify the bug associated and assign the authorized person to the ticket."
   ]
  },
  {
   "cell_type": "markdown",
   "id": "checked-occasions",
   "metadata": {},
   "source": [
    "### description \n",
    "This conatins descriptions for each bugzilla ticket."
   ]
  },
  {
   "cell_type": "code",
   "execution_count": 23,
   "id": "retained-chess",
   "metadata": {},
   "outputs": [
    {
     "data": {
      "text/plain": [
       "0       Description of problem:\\nopenshift-kube-apiser...\n",
       "1       Description of problem:\\n\\nIN 4.6 the leader e...\n",
       "2       Description of problem:\\n3 Pods cannot be runn...\n",
       "3       Description of problem:\\nA node was deleted on...\n",
       "4       Description of problem:\\nSTEP: Destroying name...\n",
       "                              ...                        \n",
       "2767                                                  NaN\n",
       "2768    Description of problem:\\n\\nWhen the fixed_ip o...\n",
       "2769    Description of problem:\\nWhen the node an imag...\n",
       "2770    Description of problem:\\n\\nYou can not ping th...\n",
       "2771    Description of problem:\\nChanges done for the ...\n",
       "Name: description, Length: 2772, dtype: object"
      ]
     },
     "execution_count": 23,
     "metadata": {},
     "output_type": "execute_result"
    }
   ],
   "source": [
    "bugs_df.description"
   ]
  },
  {
   "cell_type": "markdown",
   "id": "southeast-forestry",
   "metadata": {},
   "source": [
    "This section contains information for all the values, and can be used for identifying more details about a given bug."
   ]
  },
  {
   "cell_type": "markdown",
   "id": "liquid-knight",
   "metadata": {},
   "source": [
    "### resolution"
   ]
  },
  {
   "cell_type": "code",
   "execution_count": 24,
   "id": "substantial-classic",
   "metadata": {},
   "outputs": [
    {
     "name": "stdout",
     "output_type": "stream",
     "text": [
      "Length of resolution:  14\n"
     ]
    },
    {
     "data": {
      "text/html": [
       "<div>\n",
       "<style scoped>\n",
       "    .dataframe tbody tr th:only-of-type {\n",
       "        vertical-align: middle;\n",
       "    }\n",
       "\n",
       "    .dataframe tbody tr th {\n",
       "        vertical-align: top;\n",
       "    }\n",
       "\n",
       "    .dataframe thead th {\n",
       "        text-align: right;\n",
       "    }\n",
       "</style>\n",
       "<table border=\"1\" class=\"dataframe\">\n",
       "  <thead>\n",
       "    <tr style=\"text-align: right;\">\n",
       "      <th></th>\n",
       "      <th>resolution</th>\n",
       "    </tr>\n",
       "  </thead>\n",
       "  <tbody>\n",
       "    <tr>\n",
       "      <th>ERRATA</th>\n",
       "      <td>1020</td>\n",
       "    </tr>\n",
       "    <tr>\n",
       "      <th></th>\n",
       "      <td>718</td>\n",
       "    </tr>\n",
       "    <tr>\n",
       "      <th>DUPLICATE</th>\n",
       "      <td>260</td>\n",
       "    </tr>\n",
       "    <tr>\n",
       "      <th>NOTABUG</th>\n",
       "      <td>245</td>\n",
       "    </tr>\n",
       "    <tr>\n",
       "      <th>CURRENTRELEASE</th>\n",
       "      <td>101</td>\n",
       "    </tr>\n",
       "  </tbody>\n",
       "</table>\n",
       "</div>"
      ],
      "text/plain": [
       "                resolution\n",
       "ERRATA                1020\n",
       "                       718\n",
       "DUPLICATE              260\n",
       "NOTABUG                245\n",
       "CURRENTRELEASE         101"
      ]
     },
     "metadata": {},
     "output_type": "display_data"
    }
   ],
   "source": [
    "print(\"Length of resolution: \", len(bugs_df.resolution.unique()))\n",
    "display(bugs_df.resolution.value_counts().to_frame().head())"
   ]
  },
  {
   "cell_type": "code",
   "execution_count": 25,
   "id": "heated-messaging",
   "metadata": {},
   "outputs": [
    {
     "data": {
      "image/png": "[encoded data removed]",
      "text/plain": [
       "<Figure size 1152x360 with 1 Axes>"
      ]
     },
     "metadata": {
      "needs_background": "light"
     },
     "output_type": "display_data"
    }
   ],
   "source": [
    "plt.figure(figsize=(16,5))\n",
    "bugs_df.resolution.value_counts().plot.bar()\n",
    "plt.xticks(rotation = 90)\n",
    "plt.title(\"Resolution\")\n",
    "plt.xlabel(\"Resolution\")\n",
    "plt.ylabel(\"Value counts for Resolution\")\n",
    "plt.show()"
   ]
  },
  {
   "cell_type": "markdown",
   "id": "dependent-title",
   "metadata": {},
   "source": [
    "From the above graph, we can infer that we have most values available for resolution, even though we have many values as empty, this looks like a promising parameter."
   ]
  },
  {
   "cell_type": "markdown",
   "id": "atomic-smile",
   "metadata": {},
   "source": [
    "### classification : "
   ]
  },
  {
   "cell_type": "code",
   "execution_count": 26,
   "id": "previous-isolation",
   "metadata": {},
   "outputs": [
    {
     "data": {
      "text/plain": [
       "array(['Red Hat', nan], dtype=object)"
      ]
     },
     "execution_count": 26,
     "metadata": {},
     "output_type": "execute_result"
    }
   ],
   "source": [
    "bugs_df.classification.unique()"
   ]
  },
  {
   "cell_type": "markdown",
   "id": "green-digest",
   "metadata": {},
   "source": [
    "### cf_doc_type"
   ]
  },
  {
   "cell_type": "code",
   "execution_count": 27,
   "id": "plastic-brook",
   "metadata": {},
   "outputs": [
    {
     "name": "stdout",
     "output_type": "stream",
     "text": [
      " 8\n"
     ]
    },
    {
     "data": {
      "text/html": [
       "<div>\n",
       "<style scoped>\n",
       "    .dataframe tbody tr th:only-of-type {\n",
       "        vertical-align: middle;\n",
       "    }\n",
       "\n",
       "    .dataframe tbody tr th {\n",
       "        vertical-align: top;\n",
       "    }\n",
       "\n",
       "    .dataframe thead th {\n",
       "        text-align: right;\n",
       "    }\n",
       "</style>\n",
       "<table border=\"1\" class=\"dataframe\">\n",
       "  <thead>\n",
       "    <tr style=\"text-align: right;\">\n",
       "      <th></th>\n",
       "      <th>cf_doc_type</th>\n",
       "    </tr>\n",
       "  </thead>\n",
       "  <tbody>\n",
       "    <tr>\n",
       "      <th>If docs needed, set a value</th>\n",
       "      <td>2059</td>\n",
       "    </tr>\n",
       "    <tr>\n",
       "      <th>No Doc Update</th>\n",
       "      <td>339</td>\n",
       "    </tr>\n",
       "    <tr>\n",
       "      <th>Bug Fix</th>\n",
       "      <td>212</td>\n",
       "    </tr>\n",
       "    <tr>\n",
       "      <th>Enhancement</th>\n",
       "      <td>11</td>\n",
       "    </tr>\n",
       "    <tr>\n",
       "      <th>Release Note</th>\n",
       "      <td>8</td>\n",
       "    </tr>\n",
       "  </tbody>\n",
       "</table>\n",
       "</div>"
      ],
      "text/plain": [
       "                             cf_doc_type\n",
       "If docs needed, set a value         2059\n",
       "No Doc Update                        339\n",
       "Bug Fix                              212\n",
       "Enhancement                           11\n",
       "Release Note                           8"
      ]
     },
     "metadata": {},
     "output_type": "display_data"
    }
   ],
   "source": [
    "print(\"\",len(bugs_df.cf_doc_type.unique()))\n",
    "display(bugs_df.cf_doc_type.value_counts().to_frame().head())"
   ]
  },
  {
   "cell_type": "code",
   "execution_count": 28,
   "id": "cooked-logic",
   "metadata": {},
   "outputs": [
    {
     "data": {
      "image/png": "[encoded data removed]",
      "text/plain": [
       "<Figure size 1152x360 with 1 Axes>"
      ]
     },
     "metadata": {
      "needs_background": "light"
     },
     "output_type": "display_data"
    }
   ],
   "source": [
    "plt.figure(figsize=(16,5))\n",
    "bugs_df.cf_doc_type.value_counts().plot.bar()\n",
    "plt.xticks(rotation = 90)\n",
    "plt.title(\"Doc Type\")\n",
    "plt.xlabel(\"Doc Type\")\n",
    "plt.ylabel(\"Value counts for Doc Type\")\n",
    "plt.show()"
   ]
  },
  {
   "cell_type": "markdown",
   "id": "competitive-citizenship",
   "metadata": {},
   "source": [
    "From the above graph, we see that most of the tickets have the value for `doc_type`. This could be used to classify the tickets according to the doc type."
   ]
  },
  {
   "cell_type": "markdown",
   "id": "assigned-north",
   "metadata": {},
   "source": [
    "### op_sys : Operating Systems"
   ]
  },
  {
   "cell_type": "code",
   "execution_count": 29,
   "id": "floppy-suicide",
   "metadata": {},
   "outputs": [
    {
     "name": "stdout",
     "output_type": "stream",
     "text": [
      "Various Operating Systems :  6\n"
     ]
    },
    {
     "data": {
      "text/html": [
       "<div>\n",
       "<style scoped>\n",
       "    .dataframe tbody tr th:only-of-type {\n",
       "        vertical-align: middle;\n",
       "    }\n",
       "\n",
       "    .dataframe tbody tr th {\n",
       "        vertical-align: top;\n",
       "    }\n",
       "\n",
       "    .dataframe thead th {\n",
       "        text-align: right;\n",
       "    }\n",
       "</style>\n",
       "<table border=\"1\" class=\"dataframe\">\n",
       "  <thead>\n",
       "    <tr style=\"text-align: right;\">\n",
       "      <th></th>\n",
       "      <th>op_sys</th>\n",
       "    </tr>\n",
       "  </thead>\n",
       "  <tbody>\n",
       "    <tr>\n",
       "      <th>Unspecified</th>\n",
       "      <td>2264</td>\n",
       "    </tr>\n",
       "    <tr>\n",
       "      <th>Linux</th>\n",
       "      <td>312</td>\n",
       "    </tr>\n",
       "    <tr>\n",
       "      <th>All</th>\n",
       "      <td>57</td>\n",
       "    </tr>\n",
       "    <tr>\n",
       "      <th>Mac OS</th>\n",
       "      <td>2</td>\n",
       "    </tr>\n",
       "    <tr>\n",
       "      <th>Windows</th>\n",
       "      <td>1</td>\n",
       "    </tr>\n",
       "  </tbody>\n",
       "</table>\n",
       "</div>"
      ],
      "text/plain": [
       "             op_sys\n",
       "Unspecified    2264\n",
       "Linux           312\n",
       "All              57\n",
       "Mac OS            2\n",
       "Windows           1"
      ]
     },
     "metadata": {},
     "output_type": "display_data"
    }
   ],
   "source": [
    "print(\"Various Operating Systems : \", len(bugs_df.op_sys.unique()))\n",
    "display(bugs_df.op_sys.value_counts().to_frame().head())"
   ]
  },
  {
   "cell_type": "code",
   "execution_count": 30,
   "id": "dominican-certificate",
   "metadata": {},
   "outputs": [
    {
     "data": {
      "image/png": "[encoded data removed]",
      "text/plain": [
       "<Figure size 1152x360 with 1 Axes>"
      ]
     },
     "metadata": {
      "needs_background": "light"
     },
     "output_type": "display_data"
    }
   ],
   "source": [
    "plt.figure(figsize=(16,5))\n",
    "bugs_df.op_sys.value_counts().plot.bar()\n",
    "plt.xticks(rotation = 90)\n",
    "plt.title(\"Operating System\")\n",
    "plt.xlabel(\"Operating System\")\n",
    "plt.ylabel(\"Value counts for Operating System\")\n",
    "plt.show()"
   ]
  },
  {
   "cell_type": "markdown",
   "id": "indoor-funeral",
   "metadata": {},
   "source": [
    "From the above graph, we can see that we have four OS(s) across the bugs."
   ]
  },
  {
   "cell_type": "markdown",
   "id": "narrative-lodge",
   "metadata": {},
   "source": [
    "### target_release"
   ]
  },
  {
   "cell_type": "code",
   "execution_count": 31,
   "id": "listed-munich",
   "metadata": {},
   "outputs": [
    {
     "data": {
      "image/png": "[encoded data removed]",
      "text/plain": [
       "<Figure size 1152x360 with 1 Axes>"
      ]
     },
     "metadata": {
      "needs_background": "light"
     },
     "output_type": "display_data"
    }
   ],
   "source": [
    "plt.figure(figsize=(16,5))\n",
    "bugs_df.target_release.value_counts().plot.bar()\n",
    "plt.xticks(rotation = 90)\n",
    "plt.title(\"Target Release\")\n",
    "plt.xlabel(\"Target Release\")\n",
    "plt.ylabel(\"Value counts for Target Release\")\n",
    "plt.show()"
   ]
  },
  {
   "cell_type": "markdown",
   "id": "bottom-characterization",
   "metadata": {},
   "source": [
    "From the above graph, we see the various target releases frequency. This value also is mostly not assigned but we still have many observations."
   ]
  },
  {
   "cell_type": "markdown",
   "id": "sweet-medicine",
   "metadata": {},
   "source": [
    "### status"
   ]
  },
  {
   "cell_type": "code",
   "execution_count": 32,
   "id": "settled-interest",
   "metadata": {},
   "outputs": [
    {
     "name": "stdout",
     "output_type": "stream",
     "text": [
      "Various Statuses :  9\n"
     ]
    },
    {
     "data": {
      "text/html": [
       "<div>\n",
       "<style scoped>\n",
       "    .dataframe tbody tr th:only-of-type {\n",
       "        vertical-align: middle;\n",
       "    }\n",
       "\n",
       "    .dataframe tbody tr th {\n",
       "        vertical-align: top;\n",
       "    }\n",
       "\n",
       "    .dataframe thead th {\n",
       "        text-align: right;\n",
       "    }\n",
       "</style>\n",
       "<table border=\"1\" class=\"dataframe\">\n",
       "  <thead>\n",
       "    <tr style=\"text-align: right;\">\n",
       "      <th></th>\n",
       "      <th>status</th>\n",
       "    </tr>\n",
       "  </thead>\n",
       "  <tbody>\n",
       "    <tr>\n",
       "      <th>CLOSED</th>\n",
       "      <td>1918</td>\n",
       "    </tr>\n",
       "    <tr>\n",
       "      <th>NEW</th>\n",
       "      <td>234</td>\n",
       "    </tr>\n",
       "    <tr>\n",
       "      <th>ASSIGNED</th>\n",
       "      <td>195</td>\n",
       "    </tr>\n",
       "    <tr>\n",
       "      <th>VERIFIED</th>\n",
       "      <td>172</td>\n",
       "    </tr>\n",
       "    <tr>\n",
       "      <th>POST</th>\n",
       "      <td>69</td>\n",
       "    </tr>\n",
       "    <tr>\n",
       "      <th>ON_QA</th>\n",
       "      <td>39</td>\n",
       "    </tr>\n",
       "    <tr>\n",
       "      <th>MODIFIED</th>\n",
       "      <td>8</td>\n",
       "    </tr>\n",
       "    <tr>\n",
       "      <th>RELEASE_PENDING</th>\n",
       "      <td>1</td>\n",
       "    </tr>\n",
       "  </tbody>\n",
       "</table>\n",
       "</div>"
      ],
      "text/plain": [
       "                 status\n",
       "CLOSED             1918\n",
       "NEW                 234\n",
       "ASSIGNED            195\n",
       "VERIFIED            172\n",
       "POST                 69\n",
       "ON_QA                39\n",
       "MODIFIED              8\n",
       "RELEASE_PENDING       1"
      ]
     },
     "metadata": {},
     "output_type": "display_data"
    }
   ],
   "source": [
    "print(\"Various Statuses : \", len(bugs_df.status.unique()))\n",
    "display(bugs_df.status.value_counts().to_frame())"
   ]
  },
  {
   "cell_type": "code",
   "execution_count": 33,
   "id": "chubby-waste",
   "metadata": {},
   "outputs": [
    {
     "data": {
      "image/png": "[encoded data removed]",
      "text/plain": [
       "<Figure size 1152x360 with 1 Axes>"
      ]
     },
     "metadata": {
      "needs_background": "light"
     },
     "output_type": "display_data"
    }
   ],
   "source": [
    "plt.figure(figsize=(16,5))\n",
    "bugs_df.status.value_counts().plot.bar()\n",
    "plt.xticks(rotation = 90)\n",
    "plt.title(\"Status\")\n",
    "plt.xlabel(\"Status\")\n",
    "plt.ylabel(\"Value counts for Status\")\n",
    "plt.show()"
   ]
  },
  {
   "cell_type": "markdown",
   "id": "authorized-catalog",
   "metadata": {},
   "source": [
    "The above graph, shows various status across tickets."
   ]
  },
  {
   "cell_type": "markdown",
   "id": "adverse-shark",
   "metadata": {},
   "source": [
    "### cc_detail"
   ]
  },
  {
   "cell_type": "code",
   "execution_count": 34,
   "id": "liable-clone",
   "metadata": {},
   "outputs": [
    {
     "data": {
      "text/html": [
       "<div>\n",
       "<style scoped>\n",
       "    .dataframe tbody tr th:only-of-type {\n",
       "        vertical-align: middle;\n",
       "    }\n",
       "\n",
       "    .dataframe tbody tr th {\n",
       "        vertical-align: top;\n",
       "    }\n",
       "\n",
       "    .dataframe thead th {\n",
       "        text-align: right;\n",
       "    }\n",
       "</style>\n",
       "<table border=\"1\" class=\"dataframe\">\n",
       "  <thead>\n",
       "    <tr style=\"text-align: right;\">\n",
       "      <th></th>\n",
       "      <th>cc_detail</th>\n",
       "    </tr>\n",
       "  </thead>\n",
       "  <tbody>\n",
       "    <tr>\n",
       "      <th>[{'real_name': 'aos-bugs@redhat.com', 'email': 'aos-bugs', 'name': 'aos-bugs', 'id': 385833}]</th>\n",
       "      <td>62</td>\n",
       "    </tr>\n",
       "    <tr>\n",
       "      <th>[]</th>\n",
       "      <td>56</td>\n",
       "    </tr>\n",
       "    <tr>\n",
       "      <th>[{'real_name': 'aos-bugs@redhat.com', 'email': 'aos-bugs', 'name': 'aos-bugs', 'id': 385833}, {'real_name': 'Joanne Okerman', 'email': 'jokerman', 'name': 'jokerman', 'id': 344626}]</th>\n",
       "      <td>33</td>\n",
       "    </tr>\n",
       "    <tr>\n",
       "      <th>[{'real_name': 'aos-bugs@redhat.com', 'email': 'aos-bugs', 'name': 'aos-bugs', 'id': 385833}, {'real_name': 'Michal Fojtik', 'email': 'mfojtik', 'name': 'mfojtik', 'id': 290313}]</th>\n",
       "      <td>29</td>\n",
       "    </tr>\n",
       "    <tr>\n",
       "      <th>[{'real_name': 'aos-bugs@redhat.com', 'email': 'aos-bugs', 'name': 'aos-bugs', 'id': 385833}, {'real_name': 'Jan Safranek', 'email': 'jsafrane', 'name': 'jsafrane', 'id': 211668}]</th>\n",
       "      <td>23</td>\n",
       "    </tr>\n",
       "  </tbody>\n",
       "</table>\n",
       "</div>"
      ],
      "text/plain": [
       "                                                    cc_detail\n",
       "[{'real_name': 'aos-bugs@redhat.com', 'email': ...         62\n",
       "[]                                                         56\n",
       "[{'real_name': 'aos-bugs@redhat.com', 'email': ...         33\n",
       "[{'real_name': 'aos-bugs@redhat.com', 'email': ...         29\n",
       "[{'real_name': 'aos-bugs@redhat.com', 'email': ...         23"
      ]
     },
     "metadata": {},
     "output_type": "display_data"
    }
   ],
   "source": [
    "display(bugs_df.cc_detail.value_counts().to_frame().head())"
   ]
  },
  {
   "cell_type": "code",
   "execution_count": 35,
   "id": "proof-stock",
   "metadata": {},
   "outputs": [
    {
     "data": {
      "text/plain": [
       "<Figure size 1152x360 with 0 Axes>"
      ]
     },
     "metadata": {},
     "output_type": "display_data"
    },
    {
     "data": {
      "image/png": "[encoded data removed]",
      "text/plain": [
       "<Figure size 432x288 with 1 Axes>"
      ]
     },
     "metadata": {
      "needs_background": "light"
     },
     "output_type": "display_data"
    }
   ],
   "source": [
    "plt.figure(figsize=(16,5))\n",
    "bugs_df.cc_detail.value_counts().to_frame().plot()\n",
    "plt.xticks(rotation = 90)\n",
    "plt.title(\"Details\")\n",
    "plt.xlabel(\"Details\")\n",
    "plt.ylabel(\"Value counts for Details\")\n",
    "plt.show()"
   ]
  },
  {
   "cell_type": "markdown",
   "id": "damaged-prison",
   "metadata": {},
   "source": [
    "### External Bugs"
   ]
  },
  {
   "cell_type": "code",
   "execution_count": 36,
   "id": "southwest-grounds",
   "metadata": {},
   "outputs": [
    {
     "data": {
      "text/html": [
       "<div>\n",
       "<style scoped>\n",
       "    .dataframe tbody tr th:only-of-type {\n",
       "        vertical-align: middle;\n",
       "    }\n",
       "\n",
       "    .dataframe tbody tr th {\n",
       "        vertical-align: top;\n",
       "    }\n",
       "\n",
       "    .dataframe thead th {\n",
       "        text-align: right;\n",
       "    }\n",
       "</style>\n",
       "<table border=\"1\" class=\"dataframe\">\n",
       "  <thead>\n",
       "    <tr style=\"text-align: right;\">\n",
       "      <th></th>\n",
       "      <th>external_bugs</th>\n",
       "    </tr>\n",
       "  </thead>\n",
       "  <tbody>\n",
       "    <tr>\n",
       "      <th>[]</th>\n",
       "      <td>1210</td>\n",
       "    </tr>\n",
       "    <tr>\n",
       "      <th>[{'ext_description': 'Bug 1908675: Re-Enable fsgroup policy test', 'ext_bz_id': 131, 'ext_priority': 'None', 'bug_id': 1908675, 'ext_bz_bug_id': 'openshift/origin/pull/25775', 'id': 1703177, 'ext_status': 'closed', 'type': {'must_send': False, 'can_send': False, 'description': 'Github', 'can_get': True, 'url': 'https://github.com/', 'id': 131, 'send_once': False, 'type': 'GitHub', 'full_url': 'https://github.com/%id%'}}, {'ext_description': 'None', 'ext_bz_id': 139, 'ext_priority': 'None', 'bug_id': 1908675, 'ext_bz_bug_id': 'RHSA-2020:5633', 'id': 1754050, 'ext_status': 'None', 'type': {'must_send': False, 'can_send': False, 'description': 'Red Hat Product Errata', 'can_get': False, 'url': 'https://access.redhat.com/errata/', 'id': 139, 'send_once': False, 'type': 'None', 'full_url': 'https://access.redhat.com/errata/%id%'}}]</th>\n",
       "      <td>1</td>\n",
       "    </tr>\n",
       "    <tr>\n",
       "      <th>[{'ext_description': 'Revert \"pkg/daemon: Add IgnitionVersion to Daemon\"', 'ext_bz_id': 131, 'ext_priority': 'None', 'bug_id': 1927731, 'ext_bz_bug_id': 'openshift/machine-config-operator/pull/2431', 'id': 1754852, 'ext_status': 'open', 'type': {'must_send': False, 'can_send': False, 'description': 'Github', 'can_get': True, 'url': 'https://github.com/', 'id': 131, 'send_once': False, 'type': 'GitHub', 'full_url': 'https://github.com/%id%'}}]</th>\n",
       "      <td>1</td>\n",
       "    </tr>\n",
       "    <tr>\n",
       "      <th>[{'ext_description': 'Bug 1883018: Fix location of node plugin cacert file', 'ext_bz_id': 131, 'ext_priority': 'None', 'bug_id': 1883018, 'ext_bz_bug_id': 'openshift/csi-driver-manila-operator/pull/65', 'id': 1403960, 'ext_status': 'closed', 'type': {'must_send': False, 'can_send': False, 'description': 'Github', 'can_get': True, 'url': 'https://github.com/', 'id': 131, 'send_once': False, 'type': 'GitHub', 'full_url': 'https://github.com/%id%'}}, {'ext_description': 'None', 'ext_bz_id': 139, 'ext_priority': 'None', 'bug_id': 1883018, 'ext_bz_bug_id': 'RHBA-2020:4196', 'id': 1641686, 'ext_status': 'None', 'type': {'must_send': False, 'can_send': False, 'description': 'Red Hat Product Errata', 'can_get': False, 'url': 'https://access.redhat.com/errata/', 'id': 139, 'send_once': False, 'type': 'None', 'full_url': 'https://access.redhat.com/errata/%id%'}}]</th>\n",
       "      <td>1</td>\n",
       "    </tr>\n",
       "    <tr>\n",
       "      <th>[{'ext_description': 'Bug 1870195: round provisioned size up to 1MiB', 'ext_bz_id': 131, 'ext_priority': 'None', 'bug_id': 1870195, 'ext_bz_bug_id': 'openshift/ovirt-csi-driver/pull/45', 'id': 1232070, 'ext_status': 'closed', 'type': {'must_send': False, 'can_send': False, 'description': 'Github', 'can_get': True, 'url': 'https://github.com/', 'id': 131, 'send_once': False, 'type': 'GitHub', 'full_url': 'https://github.com/%id%'}}, {'ext_description': 'None', 'ext_bz_id': 139, 'ext_priority': 'None', 'bug_id': 1870195, 'ext_bz_bug_id': 'RHBA-2020:4196', 'id': 1640971, 'ext_status': 'None', 'type': {'must_send': False, 'can_send': False, 'description': 'Red Hat Product Errata', 'can_get': False, 'url': 'https://access.redhat.com/errata/', 'id': 139, 'send_once': False, 'type': 'None', 'full_url': 'https://access.redhat.com/errata/%id%'}}]</th>\n",
       "      <td>1</td>\n",
       "    </tr>\n",
       "  </tbody>\n",
       "</table>\n",
       "</div>"
      ],
      "text/plain": [
       "                                                    external_bugs\n",
       "[]                                                           1210\n",
       "[{'ext_description': 'Bug 1908675: Re-Enable fs...              1\n",
       "[{'ext_description': 'Revert \"pkg/daemon: Add I...              1\n",
       "[{'ext_description': 'Bug 1883018: Fix location...              1\n",
       "[{'ext_description': 'Bug 1870195: round provis...              1"
      ]
     },
     "metadata": {},
     "output_type": "display_data"
    }
   ],
   "source": [
    "display(bugs_df.external_bugs.value_counts().to_frame().head())"
   ]
  },
  {
   "cell_type": "code",
   "execution_count": 37,
   "id": "classified-series",
   "metadata": {},
   "outputs": [
    {
     "data": {
      "text/plain": [
       "<Figure size 1152x360 with 0 Axes>"
      ]
     },
     "metadata": {},
     "output_type": "display_data"
    },
    {
     "data": {
      "image/png": "[encoded data removed]",
      "text/plain": [
       "<Figure size 432x288 with 1 Axes>"
      ]
     },
     "metadata": {
      "needs_background": "light"
     },
     "output_type": "display_data"
    }
   ],
   "source": [
    "plt.figure(figsize=(16,5))\n",
    "bugs_df.external_bugs.value_counts().to_frame().plot()\n",
    "plt.xticks(rotation = 90)\n",
    "plt.title(\"External Bugs\")\n",
    "plt.xlabel(\"External Bugs\")\n",
    "plt.ylabel(\"Value counts for External Bugs\")\n",
    "plt.show()"
   ]
  },
  {
   "cell_type": "code",
   "execution_count": null,
   "id": "comprehensive-northwest",
   "metadata": {},
   "outputs": [],
   "source": []
  },
  {
   "cell_type": "code",
   "execution_count": null,
   "id": "congressional-calgary",
   "metadata": {},
   "outputs": [],
   "source": []
  },
  {
   "cell_type": "markdown",
   "id": "adopted-category",
   "metadata": {},
   "source": [
    "### summary"
   ]
  },
  {
   "cell_type": "code",
   "execution_count": 38,
   "id": "finished-chicken",
   "metadata": {},
   "outputs": [
    {
     "data": {
      "text/plain": [
       "0    kube-apiserver-operator continuously generates...\n",
       "1    CCO Leader Election Stalls on Deployment Rollouts\n",
       "2    OCM Daemonset  always Rollout when set OCM-O t...\n",
       "3    Nodes created while machine-config is upgradin...\n",
       "4    External Storage [Driver: disk.csi.azure.com] ...\n",
       "Name: summary, dtype: object"
      ]
     },
     "execution_count": 38,
     "metadata": {},
     "output_type": "execute_result"
    }
   ],
   "source": [
    "bugs_df.summary.head()"
   ]
  },
  {
   "cell_type": "code",
   "execution_count": 39,
   "id": "given-scanner",
   "metadata": {},
   "outputs": [
    {
     "data": {
      "text/plain": [
       "'kube-apiserver-operator continuously generates new revisions of kube-apiserver pod'"
      ]
     },
     "execution_count": 39,
     "metadata": {},
     "output_type": "execute_result"
    }
   ],
   "source": [
    "bugs_df.summary[0]"
   ]
  },
  {
   "cell_type": "markdown",
   "id": "raised-duncan",
   "metadata": {},
   "source": [
    "The bug `summary` is a short sentence which succinctly describes what the bug is about."
   ]
  },
  {
   "cell_type": "markdown",
   "id": "crucial-thanks",
   "metadata": {},
   "source": [
    "### is_open"
   ]
  },
  {
   "cell_type": "code",
   "execution_count": 40,
   "id": "classical-frontier",
   "metadata": {},
   "outputs": [
    {
     "data": {
      "text/plain": [
       "0    False\n",
       "1    False\n",
       "2    False\n",
       "3    False\n",
       "4    False\n",
       "Name: is_open, dtype: object"
      ]
     },
     "execution_count": 40,
     "metadata": {},
     "output_type": "execute_result"
    }
   ],
   "source": [
    "bugs_df.is_open.head()"
   ]
  },
  {
   "cell_type": "markdown",
   "id": "revolutionary-comparative",
   "metadata": {},
   "source": [
    "The bug `is_open` field returns a boolean value indicating if the bug is currently open or not"
   ]
  },
  {
   "cell_type": "markdown",
   "id": "prime-multimedia",
   "metadata": {},
   "source": [
    "### platform"
   ]
  },
  {
   "cell_type": "code",
   "execution_count": 41,
   "id": "composite-shooting",
   "metadata": {},
   "outputs": [
    {
     "data": {
      "text/plain": [
       "0    Unspecified\n",
       "1    Unspecified\n",
       "2    Unspecified\n",
       "3    Unspecified\n",
       "4    Unspecified\n",
       "Name: platform, dtype: object"
      ]
     },
     "execution_count": 41,
     "metadata": {},
     "output_type": "execute_result"
    }
   ],
   "source": [
    "bugs_df.platform.head()"
   ]
  },
  {
   "cell_type": "markdown",
   "id": "roman-louis",
   "metadata": {},
   "source": [
    "`platform` field indicates the hardware platform the bug was observed on."
   ]
  },
  {
   "cell_type": "code",
   "execution_count": 42,
   "id": "crude-moses",
   "metadata": {},
   "outputs": [
    {
     "name": "stdout",
     "output_type": "stream",
     "text": [
      "['Unspecified' 'x86_64' 'All' nan 's390x' 'ppc64le' 'ppc64']\n"
     ]
    }
   ],
   "source": [
    "platforms = bugs_df.platform.unique()\n",
    "print(platforms)"
   ]
  },
  {
   "cell_type": "code",
   "execution_count": 43,
   "id": "assisted-singapore",
   "metadata": {},
   "outputs": [
    {
     "data": {
      "text/plain": [
       "[2226, 233, 121, 0, 34, 21, 1]"
      ]
     },
     "execution_count": 43,
     "metadata": {},
     "output_type": "execute_result"
    }
   ],
   "source": [
    "platforms_count = []\n",
    "for i in range(len(platforms)):\n",
    "    platforms_count.append((bugs_df.platform == platforms[i]).sum())\n",
    "platforms_count"
   ]
  },
  {
   "cell_type": "code",
   "execution_count": 44,
   "id": "naked-thousand",
   "metadata": {},
   "outputs": [
    {
     "data": {
      "image/png": "[encoded data removed]",
      "text/plain": [
       "<Figure size 1080x720 with 1 Axes>"
      ]
     },
     "metadata": {
      "needs_background": "light"
     },
     "output_type": "display_data"
    }
   ],
   "source": [
    "plt.figure(figsize = (15,10))\n",
    "sns.barplot(platforms, platforms_count)\n",
    "plt.xlabel(\"Platform\")\n",
    "plt.ylabel(\"Bug Count\")\n",
    "plt.title(\"Bug Platform Distribution\")\n",
    "plt.show()"
   ]
  },
  {
   "cell_type": "markdown",
   "id": "applied-guard",
   "metadata": {},
   "source": [
    "### severity"
   ]
  },
  {
   "cell_type": "code",
   "execution_count": 45,
   "id": "seasonal-belle",
   "metadata": {},
   "outputs": [
    {
     "data": {
      "text/plain": [
       "0      high\n",
       "1    medium\n",
       "2       low\n",
       "3    medium\n",
       "4      high\n",
       "Name: severity, dtype: object"
      ]
     },
     "execution_count": 45,
     "metadata": {},
     "output_type": "execute_result"
    }
   ],
   "source": [
    "bugs_df.severity.head()"
   ]
  },
  {
   "cell_type": "markdown",
   "id": "virgin-homeless",
   "metadata": {},
   "source": [
    "The `severity` field categorzies the severity level of each bug. Let's see the different severity levels defined."
   ]
  },
  {
   "cell_type": "code",
   "execution_count": 46,
   "id": "integrated-radio",
   "metadata": {},
   "outputs": [
    {
     "name": "stdout",
     "output_type": "stream",
     "text": [
      "['high' 'medium' 'low' 'unspecified' 'urgent' nan]\n"
     ]
    }
   ],
   "source": [
    "severity = bugs_df.severity.unique()\n",
    "print(severity)"
   ]
  },
  {
   "cell_type": "code",
   "execution_count": 47,
   "id": "monetary-potato",
   "metadata": {},
   "outputs": [
    {
     "data": {
      "text/plain": [
       "[911, 922, 311, 162, 330, 0]"
      ]
     },
     "execution_count": 47,
     "metadata": {},
     "output_type": "execute_result"
    }
   ],
   "source": [
    "severity_count = []\n",
    "for i in range(len(severity)):\n",
    "    severity_count.append((bugs_df.severity == severity[i]).sum())\n",
    "severity_count"
   ]
  },
  {
   "cell_type": "markdown",
   "id": "dying-episode",
   "metadata": {},
   "source": [
    "Let's plot a simple graph to visualize the distribution of bug severities"
   ]
  },
  {
   "cell_type": "code",
   "execution_count": 48,
   "id": "superb-bhutan",
   "metadata": {},
   "outputs": [
    {
     "data": {
      "image/png": "[encoded data removed]",
      "text/plain": [
       "<Figure size 1080x720 with 1 Axes>"
      ]
     },
     "metadata": {
      "needs_background": "light"
     },
     "output_type": "display_data"
    }
   ],
   "source": [
    "plt.figure(figsize = (15,10))\n",
    "sns.barplot(severity, severity_count)\n",
    "plt.xlabel(\"Severity Level\")\n",
    "plt.ylabel(\"Bug Count\")\n",
    "plt.title(\"Bug Severity Distribution\")\n",
    "plt.show()"
   ]
  },
  {
   "cell_type": "markdown",
   "id": "august-light",
   "metadata": {},
   "source": [
    "### cf_environment"
   ]
  },
  {
   "cell_type": "code",
   "execution_count": 49,
   "id": "blessed-improvement",
   "metadata": {},
   "outputs": [
    {
     "data": {
      "text/plain": [
       "0    \n",
       "1    \n",
       "2    \n",
       "3    \n",
       "4    \n",
       "Name: cf_environment, dtype: object"
      ]
     },
     "execution_count": 49,
     "metadata": {},
     "output_type": "execute_result"
    }
   ],
   "source": [
    "bugs_df.cf_environment.head()"
   ]
  },
  {
   "cell_type": "code",
   "execution_count": 50,
   "id": "athletic-reggae",
   "metadata": {},
   "outputs": [
    {
     "data": {
      "text/plain": [
       "145"
      ]
     },
     "execution_count": 50,
     "metadata": {},
     "output_type": "execute_result"
    }
   ],
   "source": [
    "cf_env = bugs_df.cf_environment.unique()\n",
    "len(cf_env)"
   ]
  },
  {
   "cell_type": "code",
   "execution_count": 51,
   "id": "personalized-chest",
   "metadata": {},
   "outputs": [
    {
     "data": {
      "text/plain": [
       "'Undiagnosed panic detected in pod'"
      ]
     },
     "execution_count": 51,
     "metadata": {},
     "output_type": "execute_result"
    }
   ],
   "source": [
    "cf_env[1]"
   ]
  },
  {
   "cell_type": "markdown",
   "id": "pharmaceutical-dublin",
   "metadata": {},
   "source": [
    "Not too sure what `cf_environment` is supposed to return"
   ]
  },
  {
   "cell_type": "markdown",
   "id": "needed-softball",
   "metadata": {},
   "source": [
    "### flags"
   ]
  },
  {
   "cell_type": "code",
   "execution_count": 52,
   "id": "moderate-asthma",
   "metadata": {},
   "outputs": [
    {
     "data": {
      "text/plain": [
       "0                                                   []\n",
       "1                                                   []\n",
       "2    [{'requestee': 'olemefer', 'status': '?', 'nam...\n",
       "3    [{'requestee': 'nmalik', 'status': '?', 'name'...\n",
       "4                                                   []\n",
       "5                                                   []\n",
       "6                                                   []\n",
       "7    [{'requestee': 'jminter', 'status': '?', 'name...\n",
       "8    [{'requestee': 'dgrigore', 'status': '?', 'nam...\n",
       "9                                                   []\n",
       "Name: flags, dtype: object"
      ]
     },
     "execution_count": 52,
     "metadata": {},
     "output_type": "execute_result"
    }
   ],
   "source": [
    "bugs_df['flags'][:10]"
   ]
  },
  {
   "cell_type": "code",
   "execution_count": 53,
   "id": "certain-timing",
   "metadata": {},
   "outputs": [
    {
     "data": {
      "text/plain": [
       "[]"
      ]
     },
     "execution_count": 53,
     "metadata": {},
     "output_type": "execute_result"
    }
   ],
   "source": [
    "bugs_df['flags'][6]"
   ]
  },
  {
   "cell_type": "markdown",
   "id": "hundred-sleeve",
   "metadata": {},
   "source": [
    "The `flags` field seems to return empty for most bugs. For thos bugs which have this field set, it seems to have redundant information which are already available in other bug fields so we can probably ignore this field."
   ]
  },
  {
   "cell_type": "markdown",
   "id": "medieval-training",
   "metadata": {},
   "source": [
    "### version"
   ]
  },
  {
   "cell_type": "code",
   "execution_count": 54,
   "id": "horizontal-nowhere",
   "metadata": {},
   "outputs": [
    {
     "data": {
      "text/plain": [
       "0    4.4\n",
       "1    4.6\n",
       "2    4.4\n",
       "3    4.4\n",
       "4    4.8\n",
       "Name: version, dtype: object"
      ]
     },
     "execution_count": 54,
     "metadata": {},
     "output_type": "execute_result"
    }
   ],
   "source": [
    "bugs_df.version.head()"
   ]
  },
  {
   "cell_type": "code",
   "execution_count": 55,
   "id": "danish-notification",
   "metadata": {},
   "outputs": [
    {
     "data": {
      "text/plain": [
       "array(['4.4', '4.6', '4.8', '4.5', '4.3.z', '4.3.0', '4.7', '4.6.z', nan,\n",
       "       '4.2.z', '4.2.0', '8.2', '1.3.0', 'unspecified', '2.5.0', '2.3.0',\n",
       "       '2.4.0', 'rhacm-2.2.z', 'FDB 18.11', '2.4.1', 'RHEL 8.0',\n",
       "       'FDP 20.E', 'rhacm-1.0.z', '16.1 (Train)'], dtype=object)"
      ]
     },
     "execution_count": 55,
     "metadata": {},
     "output_type": "execute_result"
    }
   ],
   "source": [
    "versions = bugs_df.version.unique()\n",
    "versions"
   ]
  },
  {
   "cell_type": "code",
   "execution_count": 56,
   "id": "assured-desktop",
   "metadata": {},
   "outputs": [
    {
     "data": {
      "text/plain": [
       "[230,\n",
       " 779,\n",
       " 195,\n",
       " 562,\n",
       " 79,\n",
       " 40,\n",
       " 583,\n",
       " 110,\n",
       " 0,\n",
       " 16,\n",
       " 18,\n",
       " 2,\n",
       " 3,\n",
       " 3,\n",
       " 6,\n",
       " 1,\n",
       " 2,\n",
       " 1,\n",
       " 1,\n",
       " 1,\n",
       " 1,\n",
       " 1,\n",
       " 1,\n",
       " 1]"
      ]
     },
     "execution_count": 56,
     "metadata": {},
     "output_type": "execute_result"
    }
   ],
   "source": [
    "version_count = []\n",
    "for i in range(len(versions)):\n",
    "    version_count.append((bugs_df.version == versions[i]).sum())\n",
    "version_count"
   ]
  },
  {
   "cell_type": "markdown",
   "id": "organized-participation",
   "metadata": {},
   "source": [
    "The `version` field indicates the version of the software the bug was found in. Let's plot a simple graph to visualize the distribution of bugs across different software versions."
   ]
  },
  {
   "cell_type": "code",
   "execution_count": 57,
   "id": "hispanic-panic",
   "metadata": {},
   "outputs": [
    {
     "data": {
      "image/png": "[encoded data removed]",
      "text/plain": [
       "<Figure size 1080x720 with 1 Axes>"
      ]
     },
     "metadata": {
      "needs_background": "light"
     },
     "output_type": "display_data"
    }
   ],
   "source": [
    "plt.figure(figsize = (15,10))\n",
    "sns.barplot(version_count, versions)\n",
    "plt.xlabel(\"Bug Count\")\n",
    "plt.ylabel(\"Software Versions\")\n",
    "plt.title(\"Bug distrbution across different software versions\")\n",
    "plt.show()"
   ]
  },
  {
   "cell_type": "markdown",
   "id": "pending-lobby",
   "metadata": {},
   "source": [
    "### tags"
   ]
  },
  {
   "cell_type": "code",
   "execution_count": 58,
   "id": "imperial-counter",
   "metadata": {},
   "outputs": [
    {
     "data": {
      "text/plain": [
       "0    []\n",
       "1    []\n",
       "2    []\n",
       "3    []\n",
       "4    []\n",
       "Name: tags, dtype: object"
      ]
     },
     "execution_count": 58,
     "metadata": {},
     "output_type": "execute_result"
    }
   ],
   "source": [
    "bugs_df.tags.head()"
   ]
  },
  {
   "cell_type": "markdown",
   "id": "apart-logan",
   "metadata": {},
   "source": [
    "The `tags` field seems to be empty for most bugs so we can probably ignore this field."
   ]
  },
  {
   "cell_type": "markdown",
   "id": "successful-microphone",
   "metadata": {},
   "source": [
    "### component"
   ]
  },
  {
   "cell_type": "code",
   "execution_count": 59,
   "id": "horizontal-juvenile",
   "metadata": {},
   "outputs": [
    {
     "data": {
      "text/plain": [
       "0                  kube-apiserver\n",
       "1       Cloud Credential Operator\n",
       "2    openshift-controller-manager\n",
       "3         Machine Config Operator\n",
       "4                         Storage\n",
       "Name: component, dtype: object"
      ]
     },
     "execution_count": 59,
     "metadata": {},
     "output_type": "execute_result"
    }
   ],
   "source": [
    "bugs_df.component.head()"
   ]
  },
  {
   "cell_type": "code",
   "execution_count": 60,
   "id": "velvet-transition",
   "metadata": {},
   "outputs": [
    {
     "data": {
      "text/plain": [
       "array(['kube-apiserver', 'Cloud Credential Operator',\n",
       "       'openshift-controller-manager', 'Machine Config Operator',\n",
       "       'Storage', 'Documentation', 'Cloud Compute',\n",
       "       'Cluster Version Operator', 'Management Console', 'Etcd',\n",
       "       'openshift-apiserver', 'Node', 'Installer', 'Jenkins', 'oc', 'OLM',\n",
       "       'Networking', 'Logging', nan, 'Monitoring', 'RHCOS', 'Unknown',\n",
       "       'Samples', 'DNS', 'Console Storage Plugin', 'Multi-Arch',\n",
       "       'kube-scheduler', 'Console Kubevirt Plugin', 'Insights Operator',\n",
       "       'Routing', 'Node Tuning Operator', 'Performance Addon Operator',\n",
       "       'kernel-rt', 'apiserver-auth', 'Test Infrastructure',\n",
       "       'Compliance Operator', 'Image Registry', 'Dev Console',\n",
       "       'kube-controller-manager', 'assisted-installer',\n",
       "       'Node Feature Discovery Operator', 'kube-storage-version-migrator',\n",
       "       'Console Metal3 Plugin', 'Bare Metal Hardware Provisioning',\n",
       "       'ISV Operators', 'config-operator', 'Special Resource Operator',\n",
       "       'service-ca', 'ocs-operator', 'General', 'Windows Containers',\n",
       "       'Build', 'pipelines', 'sandboxed-containers',\n",
       "       'CNF Platform Validation', 'Operator SDK', 'Service Catalog',\n",
       "       'Migration Tooling', 'File Integrity Operator', 'Release',\n",
       "       'Containers', 'OpenShift Update Service', 'Metering Operator',\n",
       "       'crc', 'SSP', 'Virtualization', 'oauth-apiserver', 'csi-driver',\n",
       "       'Templates', 'Telemeter', 'Etcd Operator', 'e2fsprogs',\n",
       "       'oauth-proxy', 'ibm-roks-toolkit', 'Hub Installer', 'V2V',\n",
       "       'Eventing', 'ImageStreams', 'DPDK', 'Hive', 'ovn2.13', 'OVN',\n",
       "       'openstack-octavia'], dtype=object)"
      ]
     },
     "execution_count": 60,
     "metadata": {},
     "output_type": "execute_result"
    }
   ],
   "source": [
    "components = bugs_df.component.unique()\n",
    "components"
   ]
  },
  {
   "cell_type": "code",
   "execution_count": 61,
   "id": "civil-white",
   "metadata": {},
   "outputs": [],
   "source": [
    "component_count = []\n",
    "for i in range(len(components)):\n",
    "    component_count.append((bugs_df.component == components[i]).sum())"
   ]
  },
  {
   "cell_type": "markdown",
   "id": "ahead-updating",
   "metadata": {},
   "source": [
    "Bugs are categorised into Product and Component. Components are second-level categories and the `component` field indicates which component is affected by the bug."
   ]
  },
  {
   "cell_type": "markdown",
   "id": "roman-table",
   "metadata": {},
   "source": [
    "### sub_component"
   ]
  },
  {
   "cell_type": "code",
   "execution_count": 62,
   "id": "boring-heading",
   "metadata": {},
   "outputs": [
    {
     "data": {
      "text/plain": [
       "0                      \n",
       "1                      \n",
       "2    controller-manager\n",
       "3                      \n",
       "4             Operators\n",
       "Name: sub_component, dtype: object"
      ]
     },
     "execution_count": 62,
     "metadata": {},
     "output_type": "execute_result"
    }
   ],
   "source": [
    "bugs_df.sub_component.head()"
   ]
  },
  {
   "cell_type": "code",
   "execution_count": 63,
   "id": "numeric-hamburg",
   "metadata": {},
   "outputs": [
    {
     "data": {
      "text/plain": [
       "49"
      ]
     },
     "execution_count": 63,
     "metadata": {},
     "output_type": "execute_result"
    }
   ],
   "source": [
    "sub_component = bugs_df.sub_component.unique()\n",
    "len(sub_component)"
   ]
  },
  {
   "cell_type": "code",
   "execution_count": 64,
   "id": "incorporate-nothing",
   "metadata": {},
   "outputs": [
    {
     "data": {
      "text/plain": [
       "array(['', 'controller-manager', 'Operators', 'Other Providers',\n",
       "       'Local Storage Operator', 'Autoscaler (HPA, VPA)',\n",
       "       'OpenShift on RHV', 'OLM', 'ovn-kubernetes', 'SR-IOV', 'CRI-O',\n",
       "       nan, 'openshift-sdn', 'multus', 'OpenStack CSI Drivers', 'Kubelet',\n",
       "       'mDNS', 'Storage', 'openshift-installer', 'BareMetal Provider',\n",
       "       'Kubernetes External Components', 'oVirt CSI Driver', 'Kubernetes',\n",
       "       'Networking Misc', 'OpenShift on OpenStack', 'kuryr',\n",
       "       'assisted-service', 'OperatorHub', 'Installer',\n",
       "       'OpenStack Provider', 'openshift-ansible', 'ironic',\n",
       "       'KubeVirt Provider', 'build', 'baremetal-operator', 'runtime-cfg',\n",
       "       'cluster-baremetal-operator', 'stand-alone',\n",
       "       'OpenShift on Bare Metal IPI', 'Single Node OpenShift', 'operator',\n",
       "       'oVirt Provider', 'CPU manager', 'discovery-agent',\n",
       "       'OpenShift on KubeVirt', 'assisted-ui', 'other', 'operand', 'apps'],\n",
       "      dtype=object)"
      ]
     },
     "execution_count": 64,
     "metadata": {},
     "output_type": "execute_result"
    }
   ],
   "source": [
    "sub_component"
   ]
  },
  {
   "cell_type": "code",
   "execution_count": 65,
   "id": "interior-boulder",
   "metadata": {},
   "outputs": [
    {
     "data": {
      "text/plain": [
       "[1645,\n",
       " 3,\n",
       " 58,\n",
       " 38,\n",
       " 13,\n",
       " 12,\n",
       " 19,\n",
       " 117,\n",
       " 142,\n",
       " 17,\n",
       " 43,\n",
       " 0,\n",
       " 136,\n",
       " 20,\n",
       " 14,\n",
       " 86,\n",
       " 4,\n",
       " 17,\n",
       " 39,\n",
       " 6,\n",
       " 7,\n",
       " 8,\n",
       " 24,\n",
       " 1,\n",
       " 17,\n",
       " 38,\n",
       " 20,\n",
       " 18,\n",
       " 3,\n",
       " 6,\n",
       " 5,\n",
       " 6,\n",
       " 2,\n",
       " 1,\n",
       " 2,\n",
       " 4,\n",
       " 7,\n",
       " 2,\n",
       " 13,\n",
       " 2,\n",
       " 3,\n",
       " 5,\n",
       " 2,\n",
       " 1,\n",
       " 1,\n",
       " 4,\n",
       " 1,\n",
       " 2,\n",
       " 2]"
      ]
     },
     "execution_count": 65,
     "metadata": {},
     "output_type": "execute_result"
    }
   ],
   "source": [
    "sub_component_count = []\n",
    "for i in range(len(sub_component)):\n",
    "    sub_component_count.append((bugs_df.sub_component == sub_component[i]).sum())\n",
    "sub_component_count"
   ]
  },
  {
   "cell_type": "markdown",
   "id": "seventh-location",
   "metadata": {},
   "source": [
    "The `sub_component` field indicates the sub-component of a specifc component the bug affects."
   ]
  },
  {
   "cell_type": "markdown",
   "id": "comparative-synthesis",
   "metadata": {},
   "source": [
    "### is_creator_accessible"
   ]
  },
  {
   "cell_type": "code",
   "execution_count": 66,
   "id": "favorite-crisis",
   "metadata": {},
   "outputs": [
    {
     "data": {
      "text/plain": [
       "0    True\n",
       "1    True\n",
       "2    True\n",
       "3    True\n",
       "4    True\n",
       "Name: is_creator_accessible, dtype: object"
      ]
     },
     "execution_count": 66,
     "metadata": {},
     "output_type": "execute_result"
    }
   ],
   "source": [
    "bugs_df.is_creator_accessible.head()"
   ]
  },
  {
   "cell_type": "markdown",
   "id": "substantial-enterprise",
   "metadata": {},
   "source": [
    "The `is_creator_accessible` field returns a boolean value, but doesn't seem to be useful for our analysis. "
   ]
  },
  {
   "cell_type": "markdown",
   "id": "religious-practitioner",
   "metadata": {},
   "source": [
    "### cf_release_notes"
   ]
  },
  {
   "cell_type": "code",
   "execution_count": 67,
   "id": "split-yield",
   "metadata": {},
   "outputs": [
    {
     "data": {
      "text/plain": [
       "2767    NaN\n",
       "2768       \n",
       "2769       \n",
       "2770       \n",
       "2771       \n",
       "Name: cf_release_notes, dtype: object"
      ]
     },
     "execution_count": 67,
     "metadata": {},
     "output_type": "execute_result"
    }
   ],
   "source": [
    "bugs_df.cf_release_notes.tail()"
   ]
  },
  {
   "cell_type": "markdown",
   "id": "dirty-trauma",
   "metadata": {},
   "source": [
    "The `cf_release_notes` is the basis of the errata or release note for the bug. It can also be used for change logs. However, it seems to be empty for most bugs and can be excluded from our analysis. "
   ]
  },
  {
   "cell_type": "markdown",
   "id": "postal-baseline",
   "metadata": {},
   "source": [
    "### product"
   ]
  },
  {
   "cell_type": "code",
   "execution_count": 68,
   "id": "aerial-burden",
   "metadata": {},
   "outputs": [
    {
     "data": {
      "text/plain": [
       "0    OpenShift Container Platform\n",
       "1    OpenShift Container Platform\n",
       "2    OpenShift Container Platform\n",
       "3    OpenShift Container Platform\n",
       "4    OpenShift Container Platform\n",
       "5    OpenShift Container Platform\n",
       "6    OpenShift Container Platform\n",
       "7    OpenShift Container Platform\n",
       "8    OpenShift Container Platform\n",
       "9    OpenShift Container Platform\n",
       "Name: product, dtype: object"
      ]
     },
     "execution_count": 68,
     "metadata": {},
     "output_type": "execute_result"
    }
   ],
   "source": [
    "bugs_df['product'][:10]"
   ]
  },
  {
   "cell_type": "code",
   "execution_count": 69,
   "id": "connected-donor",
   "metadata": {},
   "outputs": [
    {
     "data": {
      "text/plain": [
       "array(['OpenShift Container Platform', nan, 'Red Hat Enterprise Linux 8',\n",
       "       'Red Hat OpenShift Container Storage',\n",
       "       'Migration Toolkit for Containers', 'Red Hat OpenShift Pipelines',\n",
       "       'Container Native Virtualization (CNV)',\n",
       "       'Red Hat Advanced Cluster Management for Kubernetes',\n",
       "       'OpenShift Serverless', 'Red Hat Enterprise Linux Fast Datapath',\n",
       "       'Red Hat OpenStack'], dtype=object)"
      ]
     },
     "execution_count": 69,
     "metadata": {},
     "output_type": "execute_result"
    }
   ],
   "source": [
    "products = bugs_df['product'].unique()\n",
    "products"
   ]
  },
  {
   "cell_type": "markdown",
   "id": "absolute-discovery",
   "metadata": {},
   "source": [
    "The `product` field indicates the software product affected by the bug."
   ]
  },
  {
   "cell_type": "code",
   "execution_count": 70,
   "id": "included-devil",
   "metadata": {},
   "outputs": [
    {
     "data": {
      "text/plain": [
       "[2610, 0, 2, 2, 3, 2, 10, 2, 1, 3, 1]"
      ]
     },
     "execution_count": 70,
     "metadata": {},
     "output_type": "execute_result"
    }
   ],
   "source": [
    "product_count = []\n",
    "for i in range(len(products)):\n",
    "    product_count.append((bugs_df['product'] == products[i]).sum())\n",
    "product_count"
   ]
  },
  {
   "cell_type": "markdown",
   "id": "enormous-buddy",
   "metadata": {},
   "source": [
    "Let's plot a simple graph to visualize the distribution of bugs across different products"
   ]
  },
  {
   "cell_type": "code",
   "execution_count": 71,
   "id": "together-parks",
   "metadata": {},
   "outputs": [
    {
     "data": {
      "image/png": "[encoded data removed]",
      "text/plain": [
       "<Figure size 1080x720 with 1 Axes>"
      ]
     },
     "metadata": {
      "needs_background": "light"
     },
     "output_type": "display_data"
    }
   ],
   "source": [
    "plt.figure(figsize = (15,10))\n",
    "sns.barplot(product_count, products)\n",
    "plt.xlabel(\"Bug Count\")\n",
    "plt.ylabel(\"Software Products\")\n",
    "plt.title(\"Bug distrbution across different software products\")\n",
    "plt.show()"
   ]
  },
  {
   "cell_type": "markdown",
   "id": "forty-jordan",
   "metadata": {},
   "source": [
    "### target_milestone"
   ]
  },
  {
   "cell_type": "code",
   "execution_count": 72,
   "id": "equivalent-reservoir",
   "metadata": {},
   "outputs": [
    {
     "data": {
      "text/plain": [
       "0    ---\n",
       "1    ---\n",
       "2    ---\n",
       "3    ---\n",
       "4    ---\n",
       "Name: target_milestone, dtype: object"
      ]
     },
     "execution_count": 72,
     "metadata": {},
     "output_type": "execute_result"
    }
   ],
   "source": [
    "bugs_df.target_milestone.head()"
   ]
  },
  {
   "cell_type": "code",
   "execution_count": 73,
   "id": "surrounded-importance",
   "metadata": {},
   "outputs": [
    {
     "data": {
      "text/plain": [
       "array(['---', nan, 'rc'], dtype=object)"
      ]
     },
     "execution_count": 73,
     "metadata": {},
     "output_type": "execute_result"
    }
   ],
   "source": [
    "bugs_df.target_milestone.unique()"
   ]
  },
  {
   "cell_type": "markdown",
   "id": "other-trailer",
   "metadata": {},
   "source": [
    "The `target_milestone` is used to define when the engineer the bug is assigned to expects to fix it. However, it doesn't seem to be applicable for most bugs."
   ]
  },
  {
   "cell_type": "markdown",
   "id": "inappropriate-affiliation",
   "metadata": {},
   "source": [
    "### is_confirmed"
   ]
  },
  {
   "cell_type": "code",
   "execution_count": 74,
   "id": "secondary-accused",
   "metadata": {},
   "outputs": [
    {
     "data": {
      "text/plain": [
       "0    True\n",
       "1    True\n",
       "2    True\n",
       "3    True\n",
       "4    True\n",
       "Name: is_confirmed, dtype: object"
      ]
     },
     "execution_count": 74,
     "metadata": {},
     "output_type": "execute_result"
    }
   ],
   "source": [
    "bugs_df.is_confirmed.head()"
   ]
  },
  {
   "cell_type": "markdown",
   "id": "comparable-yacht",
   "metadata": {},
   "source": [
    "The `is_confirmed` field seems to return a boolean value (not sure what it indicates) and doesn't seem to be useful for our analysis."
   ]
  },
  {
   "cell_type": "markdown",
   "id": "norman-updating",
   "metadata": {},
   "source": [
    "### components"
   ]
  },
  {
   "cell_type": "code",
   "execution_count": 75,
   "id": "tested-patrick",
   "metadata": {},
   "outputs": [
    {
     "data": {
      "text/plain": [
       "0                  [kube-apiserver]\n",
       "1       [Cloud Credential Operator]\n",
       "2    [openshift-controller-manager]\n",
       "3         [Machine Config Operator]\n",
       "4                         [Storage]\n",
       "Name: components, dtype: object"
      ]
     },
     "execution_count": 75,
     "metadata": {},
     "output_type": "execute_result"
    }
   ],
   "source": [
    "bugs_df.components.head()"
   ]
  },
  {
   "cell_type": "markdown",
   "id": "copyrighted-japanese",
   "metadata": {},
   "source": [
    "The `components` field returns the same values as the `component` field, but in a list format."
   ]
  },
  {
   "cell_type": "markdown",
   "id": "competent-quality",
   "metadata": {},
   "source": [
    "### sub_components"
   ]
  },
  {
   "cell_type": "code",
   "execution_count": 76,
   "id": "organized-spirituality",
   "metadata": {},
   "outputs": [
    {
     "data": {
      "text/plain": [
       "0                                                   {}\n",
       "1                                                   {}\n",
       "2    {'openshift-controller-manager': ['controller-...\n",
       "3                                                   {}\n",
       "4                           {'Storage': ['Operators']}\n",
       "Name: sub_components, dtype: object"
      ]
     },
     "execution_count": 76,
     "metadata": {},
     "output_type": "execute_result"
    }
   ],
   "source": [
    "bugs_df.sub_components.head()"
   ]
  },
  {
   "cell_type": "markdown",
   "id": "mysterious-clearance",
   "metadata": {},
   "source": [
    "The `sub_components` field is similar to the `sub_component` field, but returns both the component and sub-component affected by the bug in a dictionary format."
   ]
  },
  {
   "cell_type": "markdown",
   "id": "cubic-thing",
   "metadata": {},
   "source": [
    "### versions"
   ]
  },
  {
   "cell_type": "code",
   "execution_count": 77,
   "id": "norman-constraint",
   "metadata": {},
   "outputs": [
    {
     "data": {
      "text/plain": [
       "0    [4.4]\n",
       "1    [4.6]\n",
       "2    [4.4]\n",
       "3    [4.4]\n",
       "4    [4.8]\n",
       "Name: versions, dtype: object"
      ]
     },
     "execution_count": 77,
     "metadata": {},
     "output_type": "execute_result"
    }
   ],
   "source": [
    "bugs_df.versions.head()"
   ]
  },
  {
   "cell_type": "markdown",
   "id": "happy-christian",
   "metadata": {},
   "source": [
    "The `versions` field returns the same values as the `version` field, but in a list format."
   ]
  },
  {
   "cell_type": "markdown",
   "id": "returning-grave",
   "metadata": {},
   "source": [
    "### fixed_in"
   ]
  },
  {
   "cell_type": "code",
   "execution_count": 78,
   "id": "alpine-mileage",
   "metadata": {},
   "outputs": [
    {
     "data": {
      "text/plain": [
       "0     \n",
       "1     \n",
       "2     \n",
       "3     \n",
       "4     \n",
       "5     \n",
       "6     \n",
       "7     \n",
       "8     \n",
       "9     \n",
       "10    \n",
       "11    \n",
       "12    \n",
       "13    \n",
       "14    \n",
       "Name: fixed_in, dtype: object"
      ]
     },
     "execution_count": 78,
     "metadata": {},
     "output_type": "execute_result"
    }
   ],
   "source": [
    "bugs_df.fixed_in[:15]"
   ]
  },
  {
   "cell_type": "code",
   "execution_count": 79,
   "id": "stupid-boutique",
   "metadata": {},
   "outputs": [
    {
     "data": {
      "text/plain": [
       "array(['', nan, 'OCP-Metal-v1.0.18.1',\n",
       "       'runc-1.0.0-82.rhaos4.6.git086e841.el8', 'OCP-Metal-v1.0.12.1',\n",
       "       '4.6.4', 'cri-o-1.20.2, openshift 4.7.4',\n",
       "       'cri-o-1.19.0-62.rhaos4.6.git10c7a86.el8',\n",
       "       'runc-1.0.0-81.rhaos4.6.git5b757d4',\n",
       "       'podman-1.6.4-11.rhaos4.3.el8', '2.5.0',\n",
       "       'milei@redhat.com , annair@redhat.com', 'OCP-Metal-v1.0.9.5',\n",
       "       'virt-cdi-importer 2.6.0-15', 'OCP-Metal-V1.0.17.3',\n",
       "       'OCP-Metal-v1.0.18.2', 'facet-lib v1.4.9',\n",
       "       'assisted-ui-lib v0.0.13-wizard',\n",
       "       '4.7.0-0.nightly-2020-12-17-001141',\n",
       "       'annair@redhat.com, milei@redhat.com', 'v0.1.10',\n",
       "       'runc-1.0.0-67.rc10.rhaos4.3.el7', 'jkaur@redhat.com', '4.8',\n",
       "       'podman-1.9.3-1.rhaos4.6.el8'], dtype=object)"
      ]
     },
     "execution_count": 79,
     "metadata": {},
     "output_type": "execute_result"
    }
   ],
   "source": [
    "bugs_df.fixed_in.unique()"
   ]
  },
  {
   "cell_type": "markdown",
   "id": "pointed-shark",
   "metadata": {},
   "source": [
    "The `fixed_in` field seems to indicate the software version the bug was fixed in. However, it doesn't seem to be applicable to all bugs as some bugs may still be open and not yet resolved."
   ]
  },
  {
   "cell_type": "markdown",
   "id": "lesser-sodium",
   "metadata": {},
   "source": [
    "### weburl"
   ]
  },
  {
   "cell_type": "code",
   "execution_count": 80,
   "id": "hearing-night",
   "metadata": {},
   "outputs": [
    {
     "data": {
      "text/plain": [
       "0    https://bugzilla.redhat.com/show_bug.cgi?id=19...\n",
       "1    https://bugzilla.redhat.com/show_bug.cgi?id=18...\n",
       "2    https://bugzilla.redhat.com/show_bug.cgi?id=18...\n",
       "3    https://bugzilla.redhat.com/show_bug.cgi?id=18...\n",
       "4    https://bugzilla.redhat.com/show_bug.cgi?id=19...\n",
       "Name: weburl, dtype: object"
      ]
     },
     "execution_count": 80,
     "metadata": {},
     "output_type": "execute_result"
    }
   ],
   "source": [
    "bugs_df.weburl.head()"
   ]
  },
  {
   "cell_type": "code",
   "execution_count": 81,
   "id": "hispanic-worthy",
   "metadata": {},
   "outputs": [
    {
     "data": {
      "text/plain": [
       "1934731"
      ]
     },
     "execution_count": 81,
     "metadata": {},
     "output_type": "execute_result"
    }
   ],
   "source": [
    "bugs_df['bug_id'][0]"
   ]
  },
  {
   "cell_type": "code",
   "execution_count": 82,
   "id": "supreme-affair",
   "metadata": {},
   "outputs": [
    {
     "data": {
      "text/plain": [
       "'https://bugzilla.redhat.com/show_bug.cgi?id=1934731'"
      ]
     },
     "execution_count": 82,
     "metadata": {},
     "output_type": "execute_result"
    }
   ],
   "source": [
    "bugs_df['weburl'][0]"
   ]
  },
  {
   "cell_type": "markdown",
   "id": "martial-accent",
   "metadata": {},
   "source": [
    "The `weburl` field contains the bugzilla URL for the respective bug ID"
   ]
  },
  {
   "cell_type": "markdown",
   "id": "dense-world",
   "metadata": {},
   "source": [
    "## Merge Bug Details + Affected Jobs/Test DF"
   ]
  },
  {
   "cell_type": "code",
   "execution_count": 83,
   "id": "phantom-quarter",
   "metadata": {},
   "outputs": [
    {
     "data": {
      "text/html": [
       "<div>\n",
       "<style scoped>\n",
       "    .dataframe tbody tr th:only-of-type {\n",
       "        vertical-align: middle;\n",
       "    }\n",
       "\n",
       "    .dataframe tbody tr th {\n",
       "        vertical-align: top;\n",
       "    }\n",
       "\n",
       "    .dataframe thead th {\n",
       "        text-align: right;\n",
       "    }\n",
       "</style>\n",
       "<table border=\"1\" class=\"dataframe\">\n",
       "  <thead>\n",
       "    <tr style=\"text-align: right;\">\n",
       "      <th></th>\n",
       "      <th>dashboard</th>\n",
       "      <th>job</th>\n",
       "      <th>test_name</th>\n",
       "      <th>bug_ids</th>\n",
       "    </tr>\n",
       "  </thead>\n",
       "  <tbody>\n",
       "    <tr>\n",
       "      <th>0</th>\n",
       "      <td>\"redhat-openshift-ocp-release-4.2-informing\"</td>\n",
       "      <td>periodic-ci-openshift-release-master-ci-4.2-e2...</td>\n",
       "      <td>{'name': 'Overall', 'original-name': 'Overall'...</td>\n",
       "      <td>[]</td>\n",
       "    </tr>\n",
       "    <tr>\n",
       "      <th>1</th>\n",
       "      <td>\"redhat-openshift-ocp-release-4.2-informing\"</td>\n",
       "      <td>periodic-ci-openshift-release-master-ci-4.2-e2...</td>\n",
       "      <td>{'name': 'operator.Run multi-stage test e2e-aw...</td>\n",
       "      <td>[]</td>\n",
       "    </tr>\n",
       "    <tr>\n",
       "      <th>2</th>\n",
       "      <td>\"redhat-openshift-ocp-release-4.2-informing\"</td>\n",
       "      <td>periodic-ci-openshift-release-master-ci-4.2-e2...</td>\n",
       "      <td>{'name': 'Operator results.operator conditions...</td>\n",
       "      <td>[]</td>\n",
       "    </tr>\n",
       "    <tr>\n",
       "      <th>3</th>\n",
       "      <td>\"redhat-openshift-ocp-release-4.2-informing\"</td>\n",
       "      <td>periodic-ci-openshift-release-master-ci-4.2-e2...</td>\n",
       "      <td>{'name': 'operator.Run multi-stage test e2e-aw...</td>\n",
       "      <td>[]</td>\n",
       "    </tr>\n",
       "    <tr>\n",
       "      <th>4</th>\n",
       "      <td>\"redhat-openshift-ocp-release-4.2-informing\"</td>\n",
       "      <td>periodic-ci-openshift-release-master-ci-4.2-e2...</td>\n",
       "      <td>{'name': 'operator.Run multi-stage test e2e-aw...</td>\n",
       "      <td>[]</td>\n",
       "    </tr>\n",
       "  </tbody>\n",
       "</table>\n",
       "</div>"
      ],
      "text/plain": [
       "                                      dashboard  \\\n",
       "0  \"redhat-openshift-ocp-release-4.2-informing\"   \n",
       "1  \"redhat-openshift-ocp-release-4.2-informing\"   \n",
       "2  \"redhat-openshift-ocp-release-4.2-informing\"   \n",
       "3  \"redhat-openshift-ocp-release-4.2-informing\"   \n",
       "4  \"redhat-openshift-ocp-release-4.2-informing\"   \n",
       "\n",
       "                                                 job  \\\n",
       "0  periodic-ci-openshift-release-master-ci-4.2-e2...   \n",
       "1  periodic-ci-openshift-release-master-ci-4.2-e2...   \n",
       "2  periodic-ci-openshift-release-master-ci-4.2-e2...   \n",
       "3  periodic-ci-openshift-release-master-ci-4.2-e2...   \n",
       "4  periodic-ci-openshift-release-master-ci-4.2-e2...   \n",
       "\n",
       "                                           test_name bug_ids  \n",
       "0  {'name': 'Overall', 'original-name': 'Overall'...      []  \n",
       "1  {'name': 'operator.Run multi-stage test e2e-aw...      []  \n",
       "2  {'name': 'Operator results.operator conditions...      []  \n",
       "3  {'name': 'operator.Run multi-stage test e2e-aw...      []  \n",
       "4  {'name': 'operator.Run multi-stage test e2e-aw...      []  "
      ]
     },
     "execution_count": 83,
     "metadata": {},
     "output_type": "execute_result"
    }
   ],
   "source": [
    "linked_and_associated_bugs.head()"
   ]
  },
  {
   "cell_type": "code",
   "execution_count": 84,
   "id": "stopped-order",
   "metadata": {},
   "outputs": [
    {
     "data": {
      "text/html": [
       "<div>\n",
       "<style scoped>\n",
       "    .dataframe tbody tr th:only-of-type {\n",
       "        vertical-align: middle;\n",
       "    }\n",
       "\n",
       "    .dataframe tbody tr th {\n",
       "        vertical-align: top;\n",
       "    }\n",
       "\n",
       "    .dataframe thead th {\n",
       "        text-align: right;\n",
       "    }\n",
       "</style>\n",
       "<table border=\"1\" class=\"dataframe\">\n",
       "  <thead>\n",
       "    <tr style=\"text-align: right;\">\n",
       "      <th></th>\n",
       "      <th>dashboard</th>\n",
       "      <th>job</th>\n",
       "      <th>test_name</th>\n",
       "      <th>bug_id</th>\n",
       "    </tr>\n",
       "  </thead>\n",
       "  <tbody>\n",
       "    <tr>\n",
       "      <th>0</th>\n",
       "      <td>\"redhat-openshift-ocp-release-4.2-informing\"</td>\n",
       "      <td>periodic-ci-openshift-release-master-ci-4.2-e2...</td>\n",
       "      <td>{'name': 'Overall', 'original-name': 'Overall'...</td>\n",
       "      <td>NaN</td>\n",
       "    </tr>\n",
       "    <tr>\n",
       "      <th>1</th>\n",
       "      <td>\"redhat-openshift-ocp-release-4.2-informing\"</td>\n",
       "      <td>periodic-ci-openshift-release-master-ci-4.2-e2...</td>\n",
       "      <td>{'name': 'operator.Run multi-stage test e2e-aw...</td>\n",
       "      <td>NaN</td>\n",
       "    </tr>\n",
       "    <tr>\n",
       "      <th>2</th>\n",
       "      <td>\"redhat-openshift-ocp-release-4.2-informing\"</td>\n",
       "      <td>periodic-ci-openshift-release-master-ci-4.2-e2...</td>\n",
       "      <td>{'name': 'Operator results.operator conditions...</td>\n",
       "      <td>NaN</td>\n",
       "    </tr>\n",
       "    <tr>\n",
       "      <th>3</th>\n",
       "      <td>\"redhat-openshift-ocp-release-4.2-informing\"</td>\n",
       "      <td>periodic-ci-openshift-release-master-ci-4.2-e2...</td>\n",
       "      <td>{'name': 'operator.Run multi-stage test e2e-aw...</td>\n",
       "      <td>NaN</td>\n",
       "    </tr>\n",
       "    <tr>\n",
       "      <th>4</th>\n",
       "      <td>\"redhat-openshift-ocp-release-4.2-informing\"</td>\n",
       "      <td>periodic-ci-openshift-release-master-ci-4.2-e2...</td>\n",
       "      <td>{'name': 'operator.Run multi-stage test e2e-aw...</td>\n",
       "      <td>NaN</td>\n",
       "    </tr>\n",
       "  </tbody>\n",
       "</table>\n",
       "</div>"
      ],
      "text/plain": [
       "                                      dashboard  \\\n",
       "0  \"redhat-openshift-ocp-release-4.2-informing\"   \n",
       "1  \"redhat-openshift-ocp-release-4.2-informing\"   \n",
       "2  \"redhat-openshift-ocp-release-4.2-informing\"   \n",
       "3  \"redhat-openshift-ocp-release-4.2-informing\"   \n",
       "4  \"redhat-openshift-ocp-release-4.2-informing\"   \n",
       "\n",
       "                                                 job  \\\n",
       "0  periodic-ci-openshift-release-master-ci-4.2-e2...   \n",
       "1  periodic-ci-openshift-release-master-ci-4.2-e2...   \n",
       "2  periodic-ci-openshift-release-master-ci-4.2-e2...   \n",
       "3  periodic-ci-openshift-release-master-ci-4.2-e2...   \n",
       "4  periodic-ci-openshift-release-master-ci-4.2-e2...   \n",
       "\n",
       "                                           test_name bug_id  \n",
       "0  {'name': 'Overall', 'original-name': 'Overall'...    NaN  \n",
       "1  {'name': 'operator.Run multi-stage test e2e-aw...    NaN  \n",
       "2  {'name': 'Operator results.operator conditions...    NaN  \n",
       "3  {'name': 'operator.Run multi-stage test e2e-aw...    NaN  \n",
       "4  {'name': 'operator.Run multi-stage test e2e-aw...    NaN  "
      ]
     },
     "execution_count": 84,
     "metadata": {},
     "output_type": "execute_result"
    }
   ],
   "source": [
    "firstdf = linked_and_associated_bugs.explode('bug_ids')\n",
    "firstdf = firstdf.rename(columns={'bug_ids': 'bug_id'})\n",
    "firstdf.head()"
   ]
  },
  {
   "cell_type": "code",
   "execution_count": 85,
   "id": "operational-pledge",
   "metadata": {},
   "outputs": [
    {
     "data": {
      "text/html": [
       "<div>\n",
       "<style scoped>\n",
       "    .dataframe tbody tr th:only-of-type {\n",
       "        vertical-align: middle;\n",
       "    }\n",
       "\n",
       "    .dataframe tbody tr th {\n",
       "        vertical-align: top;\n",
       "    }\n",
       "\n",
       "    .dataframe thead th {\n",
       "        text-align: right;\n",
       "    }\n",
       "</style>\n",
       "<table border=\"1\" class=\"dataframe\">\n",
       "  <thead>\n",
       "    <tr style=\"text-align: right;\">\n",
       "      <th></th>\n",
       "      <th>bug_id</th>\n",
       "      <th>autorefresh</th>\n",
       "      <th>priority</th>\n",
       "      <th>creator</th>\n",
       "      <th>blocks</th>\n",
       "      <th>assigned_to_detail</th>\n",
       "      <th>last_change_time</th>\n",
       "      <th>comments</th>\n",
       "      <th>is_cc_accessible</th>\n",
       "      <th>keywords</th>\n",
       "      <th>...</th>\n",
       "      <th>target_milestone</th>\n",
       "      <th>is_confirmed</th>\n",
       "      <th>components</th>\n",
       "      <th>versions</th>\n",
       "      <th>sub_component</th>\n",
       "      <th>fixed_in</th>\n",
       "      <th>weburl</th>\n",
       "      <th>dashboard</th>\n",
       "      <th>job</th>\n",
       "      <th>test_name</th>\n",
       "    </tr>\n",
       "  </thead>\n",
       "  <tbody>\n",
       "    <tr>\n",
       "      <th>0</th>\n",
       "      <td>1928682</td>\n",
       "      <td>NaN</td>\n",
       "      <td>NaN</td>\n",
       "      <td>NaN</td>\n",
       "      <td>NaN</td>\n",
       "      <td>NaN</td>\n",
       "      <td>NaN</td>\n",
       "      <td>NaN</td>\n",
       "      <td>NaN</td>\n",
       "      <td>NaN</td>\n",
       "      <td>...</td>\n",
       "      <td>NaN</td>\n",
       "      <td>NaN</td>\n",
       "      <td>NaN</td>\n",
       "      <td>NaN</td>\n",
       "      <td>NaN</td>\n",
       "      <td>NaN</td>\n",
       "      <td>NaN</td>\n",
       "      <td>\"redhat-openshift-ocp-release-4.2-informing\"</td>\n",
       "      <td>release-openshift-ocp-installer-e2e-azure-seri...</td>\n",
       "      <td>{'name': 'Pod', 'original-name': 'Pod', 'alert...</td>\n",
       "    </tr>\n",
       "    <tr>\n",
       "      <th>1</th>\n",
       "      <td>1928682</td>\n",
       "      <td>NaN</td>\n",
       "      <td>NaN</td>\n",
       "      <td>NaN</td>\n",
       "      <td>NaN</td>\n",
       "      <td>NaN</td>\n",
       "      <td>NaN</td>\n",
       "      <td>NaN</td>\n",
       "      <td>NaN</td>\n",
       "      <td>NaN</td>\n",
       "      <td>...</td>\n",
       "      <td>NaN</td>\n",
       "      <td>NaN</td>\n",
       "      <td>NaN</td>\n",
       "      <td>NaN</td>\n",
       "      <td>NaN</td>\n",
       "      <td>NaN</td>\n",
       "      <td>NaN</td>\n",
       "      <td>\"redhat-openshift-ocp-release-4.2-informing\"</td>\n",
       "      <td>release-openshift-ocp-installer-e2e-gcp-serial...</td>\n",
       "      <td>{'name': 'Pod', 'original-name': 'Pod', 'alert...</td>\n",
       "    </tr>\n",
       "    <tr>\n",
       "      <th>2</th>\n",
       "      <td>1928682</td>\n",
       "      <td>NaN</td>\n",
       "      <td>NaN</td>\n",
       "      <td>NaN</td>\n",
       "      <td>NaN</td>\n",
       "      <td>NaN</td>\n",
       "      <td>NaN</td>\n",
       "      <td>NaN</td>\n",
       "      <td>NaN</td>\n",
       "      <td>NaN</td>\n",
       "      <td>...</td>\n",
       "      <td>NaN</td>\n",
       "      <td>NaN</td>\n",
       "      <td>NaN</td>\n",
       "      <td>NaN</td>\n",
       "      <td>NaN</td>\n",
       "      <td>NaN</td>\n",
       "      <td>NaN</td>\n",
       "      <td>\"redhat-openshift-ocp-release-4.2-informing\"</td>\n",
       "      <td>release-openshift-origin-installer-e2e-aws-upg...</td>\n",
       "      <td>{'name': 'Pod', 'original-name': 'Pod', 'alert...</td>\n",
       "    </tr>\n",
       "    <tr>\n",
       "      <th>3</th>\n",
       "      <td>1928682</td>\n",
       "      <td>NaN</td>\n",
       "      <td>NaN</td>\n",
       "      <td>NaN</td>\n",
       "      <td>NaN</td>\n",
       "      <td>NaN</td>\n",
       "      <td>NaN</td>\n",
       "      <td>NaN</td>\n",
       "      <td>NaN</td>\n",
       "      <td>NaN</td>\n",
       "      <td>...</td>\n",
       "      <td>NaN</td>\n",
       "      <td>NaN</td>\n",
       "      <td>NaN</td>\n",
       "      <td>NaN</td>\n",
       "      <td>NaN</td>\n",
       "      <td>NaN</td>\n",
       "      <td>NaN</td>\n",
       "      <td>\"redhat-openshift-ocp-release-4.2-informing\"</td>\n",
       "      <td>release-openshift-origin-installer-e2e-aws-upg...</td>\n",
       "      <td>{'name': 'Pod', 'original-name': 'Pod', 'alert...</td>\n",
       "    </tr>\n",
       "    <tr>\n",
       "      <th>4</th>\n",
       "      <td>1928682</td>\n",
       "      <td>NaN</td>\n",
       "      <td>NaN</td>\n",
       "      <td>NaN</td>\n",
       "      <td>NaN</td>\n",
       "      <td>NaN</td>\n",
       "      <td>NaN</td>\n",
       "      <td>NaN</td>\n",
       "      <td>NaN</td>\n",
       "      <td>NaN</td>\n",
       "      <td>...</td>\n",
       "      <td>NaN</td>\n",
       "      <td>NaN</td>\n",
       "      <td>NaN</td>\n",
       "      <td>NaN</td>\n",
       "      <td>NaN</td>\n",
       "      <td>NaN</td>\n",
       "      <td>NaN</td>\n",
       "      <td>\"redhat-openshift-ocp-release-4.2-informing\"</td>\n",
       "      <td>release-openshift-origin-installer-e2e-aws-upg...</td>\n",
       "      <td>{'name': 'Pod', 'original-name': 'Pod', 'alert...</td>\n",
       "    </tr>\n",
       "  </tbody>\n",
       "</table>\n",
       "<p>5 rows × 56 columns</p>\n",
       "</div>"
      ],
      "text/plain": [
       "    bug_id autorefresh priority creator blocks assigned_to_detail  \\\n",
       "0  1928682         NaN      NaN     NaN    NaN                NaN   \n",
       "1  1928682         NaN      NaN     NaN    NaN                NaN   \n",
       "2  1928682         NaN      NaN     NaN    NaN                NaN   \n",
       "3  1928682         NaN      NaN     NaN    NaN                NaN   \n",
       "4  1928682         NaN      NaN     NaN    NaN                NaN   \n",
       "\n",
       "  last_change_time comments is_cc_accessible keywords  ... target_milestone  \\\n",
       "0              NaN      NaN              NaN      NaN  ...              NaN   \n",
       "1              NaN      NaN              NaN      NaN  ...              NaN   \n",
       "2              NaN      NaN              NaN      NaN  ...              NaN   \n",
       "3              NaN      NaN              NaN      NaN  ...              NaN   \n",
       "4              NaN      NaN              NaN      NaN  ...              NaN   \n",
       "\n",
       "  is_confirmed components versions sub_component fixed_in weburl  \\\n",
       "0          NaN        NaN      NaN           NaN      NaN    NaN   \n",
       "1          NaN        NaN      NaN           NaN      NaN    NaN   \n",
       "2          NaN        NaN      NaN           NaN      NaN    NaN   \n",
       "3          NaN        NaN      NaN           NaN      NaN    NaN   \n",
       "4          NaN        NaN      NaN           NaN      NaN    NaN   \n",
       "\n",
       "                                      dashboard  \\\n",
       "0  \"redhat-openshift-ocp-release-4.2-informing\"   \n",
       "1  \"redhat-openshift-ocp-release-4.2-informing\"   \n",
       "2  \"redhat-openshift-ocp-release-4.2-informing\"   \n",
       "3  \"redhat-openshift-ocp-release-4.2-informing\"   \n",
       "4  \"redhat-openshift-ocp-release-4.2-informing\"   \n",
       "\n",
       "                                                 job  \\\n",
       "0  release-openshift-ocp-installer-e2e-azure-seri...   \n",
       "1  release-openshift-ocp-installer-e2e-gcp-serial...   \n",
       "2  release-openshift-origin-installer-e2e-aws-upg...   \n",
       "3  release-openshift-origin-installer-e2e-aws-upg...   \n",
       "4  release-openshift-origin-installer-e2e-aws-upg...   \n",
       "\n",
       "                                           test_name  \n",
       "0  {'name': 'Pod', 'original-name': 'Pod', 'alert...  \n",
       "1  {'name': 'Pod', 'original-name': 'Pod', 'alert...  \n",
       "2  {'name': 'Pod', 'original-name': 'Pod', 'alert...  \n",
       "3  {'name': 'Pod', 'original-name': 'Pod', 'alert...  \n",
       "4  {'name': 'Pod', 'original-name': 'Pod', 'alert...  \n",
       "\n",
       "[5 rows x 56 columns]"
      ]
     },
     "execution_count": 85,
     "metadata": {},
     "output_type": "execute_result"
    }
   ],
   "source": [
    "res = bugs_df.merge(\n",
    "    firstdf,\n",
    "#     how='left',\n",
    "    left_on='bug_id',\n",
    "    right_on='bug_id',\n",
    ")\n",
    "res.head()"
   ]
  },
  {
   "cell_type": "markdown",
   "id": "small-efficiency",
   "metadata": {},
   "source": [
    "## Get Linked Bug Data for All Dashboards"
   ]
  },
  {
   "cell_type": "code",
   "execution_count": 86,
   "id": "mediterranean-affiliation",
   "metadata": {},
   "outputs": [],
   "source": [
    "# # get all linked bugs\n",
    "# associated_bugs = list()\n",
    "# all_linked_bugs = set()\n",
    "# for dashboard in tqdm(dashboard_names):\n",
    "#     # get all jobs in this dashboard\n",
    "#     response = requests.get(f\"https://testgrid.k8s.io/{dashboard}/summary\")\n",
    "#     job_names = response.json().keys()\n",
    "    \n",
    "#     for job in job_names:\n",
    "#         # get all tests in this job\n",
    "#         response = requests.get(f\"https://testgrid.k8s.io/{dashboard}/table?&show-stale-tests=&tab={job}\")\n",
    "        \n",
    "#         # params to send to openshift ci search for tests under this job\n",
    "#         args = {\n",
    "#             'type': 'bug+junit',\n",
    "#             'context': '-1',\n",
    "#             'name': job,\n",
    "#             'maxAge': max_age,\n",
    "#             # DO NOT REMOVE THESE KEYS. THIS HACK PREVENTS REQUESTS FROM TIMING OUT.\n",
    "#             # read more here - https://stackoverflow.com/a/63377265/9743348\n",
    "#             'ajax': 'true',\n",
    "#             'mobile': 'false',\n",
    "#         }\n",
    "        \n",
    "#         for test in response.json().get('tests', []):\n",
    "#             testname = test['name'].split('.', maxsplit=1)[-1]\n",
    "            \n",
    "#             # use test name as the search phrase\n",
    "#             args['search'] = testname.replace('[', '\\[').replace(']', '\\]')\n",
    "\n",
    "#             # search for linked and associated bugs for this test\n",
    "#             response = requests.post(url, data=args)\n",
    "#             soup = BeautifulSoup(response.content)\n",
    "\n",
    "#             # the \"em\" objects in soup have information that can tell us\n",
    "#             # whether or not this test had a linked bug for the given job name\n",
    "#             em_objects = soup.find_all('em')\n",
    "#             pct_affected = 0\n",
    "#             for em in em_objects:\n",
    "#                 if 'Found' in em.text:\n",
    "#                     pct_affected = float(em.text.split()[2][:-1])\n",
    "#                     break\n",
    "\n",
    "#             # init to empty for this test result / reset to empty from previous test result\n",
    "#             test_bugs = []\n",
    "            \n",
    "#             # if percent jobs affected is 0 then the linked bugs correspond to another job\n",
    "#             if pct_affected > 0:\n",
    "#                 result_rows = soup.find('table').find('tbody').find_all('tr')\n",
    "#                 for row in result_rows:\n",
    "#                     column_values = row.find_all('td')\n",
    "                    \n",
    "#                     # if there is only 1 column then the result is a junit, not bug\n",
    "#                     if len(column_values) > 1:\n",
    "#                         # check the second column to make sure it is a bug and not junit details result\n",
    "#                         if column_values[1].text == 'bug':\n",
    "#                             test_bugs.append(column_values[0].text[1:])\n",
    "#                             all_linked_bugs.add(column_values[0].text[1:])\n",
    "\n",
    "#             associated_bugs.append((dashboard, job, test, test_bugs))"
   ]
  },
  {
   "cell_type": "markdown",
   "id": "touched-vegetable",
   "metadata": {},
   "source": [
    "## todo\n",
    "\n",
    "combine it into a dataframe s.t. each row has one bugzilla id, and columns are status, component, etc + affected tests/jobs."
   ]
  }
 ],
 "metadata": {
  "finalized": {
   "timestamp": 1617764581538,
   "trusted": false
  },
  "kernelspec": {
   "display_name": "Python 3",
   "language": "python",
   "name": "python3"
  },
  "language_info": {
   "codemirror_mode": {
    "name": "ipython",
    "version": 3
   },
   "file_extension": ".py",
   "mimetype": "text/x-python",
   "name": "python",
   "nbconvert_exporter": "python",
   "pygments_lexer": "ipython3",
   "version": "3.8.3"
  },
  "toc": {
   "base_numbering": 1,
   "nav_menu": {},
   "number_sections": true,
   "sideBar": true,
   "skip_h1_title": false,
   "title_cell": "Table of Contents",
   "title_sidebar": "Contents",
   "toc_cell": false,
   "toc_position": {},
   "toc_section_display": true,
   "toc_window_display": false
  }
 },
 "nbformat": 4,
 "nbformat_minor": 5
}
