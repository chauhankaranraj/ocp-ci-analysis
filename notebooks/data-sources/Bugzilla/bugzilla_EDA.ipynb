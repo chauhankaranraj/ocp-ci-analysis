{
 "cells": [
  {
   "cell_type": "code",
   "execution_count": 1,
   "id": "usual-trail",
   "metadata": {
    "ExecuteTime": {
     "end_time": "2021-04-06T21:23:27.273935Z",
     "start_time": "2021-04-06T21:23:27.269122Z"
    }
   },
   "outputs": [],
   "source": [
    "import pdb\n",
    "import bugzilla\n",
    "import requests\n",
    "from tqdm import tqdm\n",
    "from bs4 import BeautifulSoup\n",
    "\n",
    "import pandas as pd"
   ]
  },
  {
   "cell_type": "code",
   "execution_count": 2,
   "id": "tight-knight",
   "metadata": {},
   "outputs": [],
   "source": [
    "tqdm.pandas()"
   ]
  },
  {
   "cell_type": "code",
   "execution_count": 3,
   "id": "impressive-situation",
   "metadata": {
    "ExecuteTime": {
     "end_time": "2021-04-06T21:27:01.876120Z",
     "start_time": "2021-04-06T21:27:01.719101Z"
    }
   },
   "outputs": [],
   "source": [
    "# this is required, otherwise results will be empty\n",
    "test_name = '\\[sig-network\\] pods should successfully create sandboxes by getting pod'\n",
    "\n",
    "# this is not required but should be used for accurate results\n",
    "job_name = 'periodic-ci-openshift-release-master-ci-4.6-upgrade-from-stable-4.5-e2e-azure-ovn-upgrade'\n",
    "# job_name = 'promote-release-openshift-okd-machine-os-content-e2e-aws-4.8'\n",
    "\n",
    "# bugs linked at timestamps up to this amount of time before today will be returned\n",
    "max_age = '336h'\n",
    "\n",
    "url = 'https://search.ci.openshift.org/'\n",
    "# args = {\n",
    "#     'type': 'bug+junit',\n",
    "#     'context': '-1',\n",
    "#     'name': job_name,\n",
    "#     'maxAge': max_age,\n",
    "#     'search': test_name,\n",
    "# }\n",
    "\n",
    "# response = requests.post(url, data=args)\n",
    "# soup = BeautifulSoup(response.content)"
   ]
  },
  {
   "cell_type": "code",
   "execution_count": 4,
   "id": "funky-longer",
   "metadata": {},
   "outputs": [],
   "source": [
    "# soup.find_all('em')[-1].text"
   ]
  },
  {
   "cell_type": "code",
   "execution_count": 5,
   "id": "practical-conducting",
   "metadata": {
    "ExecuteTime": {
     "end_time": "2021-04-06T21:27:02.481217Z",
     "start_time": "2021-04-06T21:27:02.460315Z"
    }
   },
   "outputs": [],
   "source": [
    "# # check whether this test was a bug-affected test for the current job\n",
    "# pct_affected_msg = soup.find_all('em')[-1].text\n",
    "\n",
    "# # get the 2-th element of the message string, and drop the \"%\" symbol at the end\n",
    "# pct_affected = float(pct_affected_msg.split()[2][:-1])\n",
    "\n",
    "# if pct_affected > 0:\n",
    "#     ret = soup.find('table').find('tbody').find_all('tr')\n",
    "#     for r in ret:\n",
    "#         column_values = r.find_all('td')\n",
    "#         if len(column_values) > 1:\n",
    "#             # check if bug or junit\n",
    "#             if column_values[1].text == 'bug':\n",
    "#                 print(r.td.text)"
   ]
  },
  {
   "cell_type": "markdown",
   "id": "tired-movement",
   "metadata": {},
   "source": [
    "## Link the bugsss"
   ]
  },
  {
   "cell_type": "code",
   "execution_count": 6,
   "id": "gothic-logan",
   "metadata": {},
   "outputs": [
    {
     "data": {
      "text/plain": [
       "['\"redhat-assisted-installer\"',\n",
       " '\"redhat-openshift-informing\"',\n",
       " '\"redhat-openshift-ocp-release-4.1-blocking\"',\n",
       " '\"redhat-openshift-ocp-release-4.1-informing\"',\n",
       " '\"redhat-openshift-ocp-release-4.2-blocking\"',\n",
       " '\"redhat-openshift-ocp-release-4.2-informing\"',\n",
       " '\"redhat-openshift-ocp-release-4.3-blocking\"',\n",
       " '\"redhat-openshift-ocp-release-4.3-broken\"',\n",
       " '\"redhat-openshift-ocp-release-4.3-informing\"',\n",
       " '\"redhat-openshift-ocp-release-4.4-blocking\"',\n",
       " '\"redhat-openshift-ocp-release-4.4-broken\"',\n",
       " '\"redhat-openshift-ocp-release-4.4-informing\"',\n",
       " '\"redhat-openshift-ocp-release-4.5-blocking\"',\n",
       " '\"redhat-openshift-ocp-release-4.5-broken\"',\n",
       " '\"redhat-openshift-ocp-release-4.5-informing\"',\n",
       " '\"redhat-openshift-ocp-release-4.6-blocking\"',\n",
       " '\"redhat-openshift-ocp-release-4.6-broken\"',\n",
       " '\"redhat-openshift-ocp-release-4.6-informing\"',\n",
       " '\"redhat-openshift-ocp-release-4.7-blocking\"',\n",
       " '\"redhat-openshift-ocp-release-4.7-broken\"',\n",
       " '\"redhat-openshift-ocp-release-4.7-informing\"',\n",
       " '\"redhat-openshift-ocp-release-4.8-blocking\"',\n",
       " '\"redhat-openshift-ocp-release-4.8-broken\"',\n",
       " '\"redhat-openshift-ocp-release-4.8-informing\"',\n",
       " '\"redhat-openshift-ocp-release-4.9-blocking\"',\n",
       " '\"redhat-openshift-ocp-release-4.9-informing\"',\n",
       " '\"redhat-openshift-okd-release-4.3-informing\"',\n",
       " '\"redhat-openshift-okd-release-4.4-informing\"',\n",
       " '\"redhat-openshift-okd-release-4.5-blocking\"',\n",
       " '\"redhat-openshift-okd-release-4.5-informing\"',\n",
       " '\"redhat-openshift-okd-release-4.6-blocking\"',\n",
       " '\"redhat-openshift-okd-release-4.6-informing\"',\n",
       " '\"redhat-openshift-okd-release-4.7-blocking\"',\n",
       " '\"redhat-openshift-okd-release-4.7-informing\"',\n",
       " '\"redhat-openshift-okd-release-4.8-blocking\"',\n",
       " '\"redhat-openshift-okd-release-4.8-informing\"',\n",
       " '\"redhat-openshift-okd-release-4.9-informing\"',\n",
       " '\"redhat-openshift-presubmit-master-gcp\"',\n",
       " '\"redhat-osd\"',\n",
       " '\"redhat-single-node\"']"
      ]
     },
     "execution_count": 6,
     "metadata": {},
     "output_type": "execute_result"
    }
   ],
   "source": [
    "response = requests.get(\n",
    "    \"https://testgrid.k8s.io/redhat-openshift-informing?id=dashboard-group-bar\"\n",
    ")\n",
    "html = BeautifulSoup(response.content)\n",
    "testgrid_script = html.findAll(\"script\")[3]\n",
    "testgrid_script = testgrid_script.text.split()[5].split(\",\")\n",
    "dashboard_names = [x.split(\":\")[1] for x in testgrid_script if \"name\" in x]\n",
    "dashboard_names"
   ]
  },
  {
   "cell_type": "markdown",
   "id": "together-ensemble",
   "metadata": {},
   "source": [
    "### todo: optimize this"
   ]
  },
  {
   "cell_type": "code",
   "execution_count": 7,
   "id": "amazing-solution",
   "metadata": {},
   "outputs": [
    {
     "name": "stderr",
     "output_type": "stream",
     "text": [
      "  0%|          | 0/40 [00:30<?, ?it/s]\n"
     ]
    }
   ],
   "source": [
    "associated_bugs = []\n",
    "for dashboard in tqdm(dashboard_names):\n",
    "    response = requests.get(f\"https://testgrid.k8s.io/{dashboard}/summary\")\n",
    "    job_names = response.json().keys()\n",
    "    \n",
    "    for i, job in enumerate(job_names):\n",
    "        if i >= 2:\n",
    "            break\n",
    "        response = requests.get(f\"https://testgrid.k8s.io/{dashboard}/table?&show-stale-tests=&tab={job}\")\n",
    "        testnames_df = pd.DataFrame(response.json()[\"tests\"])\n",
    "        \n",
    "        if len(testnames_df):\n",
    "\n",
    "            testnames_with_type = testnames_df['name'][testnames_df['name'].str.contains('\\.')]\n",
    "            testnames_without_type = testnames_df['name'][~testnames_df['name'].str.contains('\\.')]\n",
    "\n",
    "            splitted_testnames = testnames_with_type.str.split('\\.', expand=True, n=1)\n",
    "            if len(splitted_testnames) != 0:\n",
    "                splitted_testnames = splitted_testnames.loc[:, 1].values.tolist()\n",
    "            else:\n",
    "                splitted_testnames = []\n",
    "            \n",
    "            # combine both test names with . and test names without .\n",
    "            testnames = splitted_testnames + testnames_without_type.values.tolist()\n",
    "            \n",
    "            args = {\n",
    "                'type': 'bug+junit',\n",
    "                'context': '-1',\n",
    "                'name': job,\n",
    "                'maxAge': max_age,\n",
    "            }\n",
    "            \n",
    "            for test in testnames:\n",
    "                args['search'] = test.replace('[', '\\[').replace(']', '\\]')\n",
    "\n",
    "                # search for associated bugs\n",
    "                response = requests.post(url, data=args)\n",
    "                soup = BeautifulSoup(response.content)\n",
    "                \n",
    "                # check whether this test was a bug-affected test for the current job\n",
    "                em_objects = soup.find_all('em')\n",
    "                \n",
    "                for em in em_objects:\n",
    "                    if 'Found' in em.text:\n",
    "                        pct_affected = float(em.text.split()[2][:-1])\n",
    "               \n",
    "                test_bugs = []\n",
    "                if pct_affected > 0:\n",
    "                    ret = soup.find('table').find('tbody').find_all('tr')\n",
    "                    for r in ret:\n",
    "                        column_values = r.find_all('td')\n",
    "                        if len(column_values) > 1:\n",
    "                            # check if bug or junit\n",
    "                            if column_values[1].text == 'bug':\n",
    "                                test_bugs.append(column_values[0].text[1:])\n",
    "                associated_bugs.append((dashboard, job, test, test_bugs))\n",
    "    break"
   ]
  },
  {
   "cell_type": "code",
   "execution_count": 8,
   "id": "anticipated-receipt",
   "metadata": {},
   "outputs": [
    {
     "data": {
      "text/html": [
       "<div>\n",
       "<style scoped>\n",
       "    .dataframe tbody tr th:only-of-type {\n",
       "        vertical-align: middle;\n",
       "    }\n",
       "\n",
       "    .dataframe tbody tr th {\n",
       "        vertical-align: top;\n",
       "    }\n",
       "\n",
       "    .dataframe thead th {\n",
       "        text-align: right;\n",
       "    }\n",
       "</style>\n",
       "<table border=\"1\" class=\"dataframe\">\n",
       "  <thead>\n",
       "    <tr style=\"text-align: right;\">\n",
       "      <th></th>\n",
       "      <th>dashboard</th>\n",
       "      <th>job</th>\n",
       "      <th>test_name</th>\n",
       "      <th>bug_ids</th>\n",
       "    </tr>\n",
       "  </thead>\n",
       "  <tbody>\n",
       "    <tr>\n",
       "      <th>0</th>\n",
       "      <td>\"redhat-assisted-installer\"</td>\n",
       "      <td>periodic-ci-openshift-release-master-nightly-4...</td>\n",
       "      <td>[sig-node] pods should never transition back t...</td>\n",
       "      <td>[1916880, 1933760, 1887509, 1943334, 1886920]</td>\n",
       "    </tr>\n",
       "    <tr>\n",
       "      <th>1</th>\n",
       "      <td>\"redhat-assisted-installer\"</td>\n",
       "      <td>periodic-ci-openshift-release-master-nightly-4...</td>\n",
       "      <td>[sig-arch] Monitor cluster while tests execute</td>\n",
       "      <td>[1913751, 1918680, 1901734]</td>\n",
       "    </tr>\n",
       "    <tr>\n",
       "      <th>2</th>\n",
       "      <td>\"redhat-assisted-installer\"</td>\n",
       "      <td>periodic-ci-openshift-release-master-nightly-4...</td>\n",
       "      <td>[sig-network] pods should successfully create ...</td>\n",
       "      <td>[1908378, 1886922, 1921720, 1882750, 1932811, ...</td>\n",
       "    </tr>\n",
       "    <tr>\n",
       "      <th>3</th>\n",
       "      <td>\"redhat-assisted-installer\"</td>\n",
       "      <td>periodic-ci-openshift-release-master-nightly-4...</td>\n",
       "      <td>[sig-network] pods should successfully create ...</td>\n",
       "      <td>[1908378, 1886922, 1882750, 1943334, 1929674, ...</td>\n",
       "    </tr>\n",
       "    <tr>\n",
       "      <th>4</th>\n",
       "      <td>\"redhat-assisted-installer\"</td>\n",
       "      <td>periodic-ci-openshift-release-master-nightly-4...</td>\n",
       "      <td>[sig-network] pods should successfully create ...</td>\n",
       "      <td>[1932811, 1882750, 1886922, 1887509, 1908378]</td>\n",
       "    </tr>\n",
       "  </tbody>\n",
       "</table>\n",
       "</div>"
      ],
      "text/plain": [
       "                     dashboard  \\\n",
       "0  \"redhat-assisted-installer\"   \n",
       "1  \"redhat-assisted-installer\"   \n",
       "2  \"redhat-assisted-installer\"   \n",
       "3  \"redhat-assisted-installer\"   \n",
       "4  \"redhat-assisted-installer\"   \n",
       "\n",
       "                                                 job  \\\n",
       "0  periodic-ci-openshift-release-master-nightly-4...   \n",
       "1  periodic-ci-openshift-release-master-nightly-4...   \n",
       "2  periodic-ci-openshift-release-master-nightly-4...   \n",
       "3  periodic-ci-openshift-release-master-nightly-4...   \n",
       "4  periodic-ci-openshift-release-master-nightly-4...   \n",
       "\n",
       "                                           test_name  \\\n",
       "0  [sig-node] pods should never transition back t...   \n",
       "1     [sig-arch] Monitor cluster while tests execute   \n",
       "2  [sig-network] pods should successfully create ...   \n",
       "3  [sig-network] pods should successfully create ...   \n",
       "4  [sig-network] pods should successfully create ...   \n",
       "\n",
       "                                             bug_ids  \n",
       "0      [1916880, 1933760, 1887509, 1943334, 1886920]  \n",
       "1                        [1913751, 1918680, 1901734]  \n",
       "2  [1908378, 1886922, 1921720, 1882750, 1932811, ...  \n",
       "3  [1908378, 1886922, 1882750, 1943334, 1929674, ...  \n",
       "4      [1932811, 1882750, 1886922, 1887509, 1908378]  "
      ]
     },
     "execution_count": 8,
     "metadata": {},
     "output_type": "execute_result"
    }
   ],
   "source": [
    "linked_and_associated_bugs = pd.DataFrame(associated_bugs, columns=['dashboard', 'job', 'test_name', 'bug_ids'])\n",
    "linked_and_associated_bugs.head()"
   ]
  },
  {
   "cell_type": "markdown",
   "id": "abstract-housing",
   "metadata": {},
   "source": [
    "## Get Bugzilla Details"
   ]
  },
  {
   "cell_type": "code",
   "execution_count": 14,
   "id": "bibliographic-victory",
   "metadata": {},
   "outputs": [
    {
     "data": {
      "text/plain": [
       "['1916880', '1933760', '1887509', '1943334', '1886920']"
      ]
     },
     "execution_count": 14,
     "metadata": {},
     "output_type": "execute_result"
    }
   ],
   "source": [
    "sample_bugs = linked_and_associated_bugs['bug_ids'][0]\n",
    "sample_bugs"
   ]
  },
  {
   "cell_type": "code",
   "execution_count": 18,
   "id": "sharing-spray",
   "metadata": {},
   "outputs": [
    {
     "data": {
      "text/plain": [
       "'Node'"
      ]
     },
     "execution_count": 18,
     "metadata": {},
     "output_type": "execute_result"
    }
   ],
   "source": [
    "bzapi = bugzilla.Bugzilla(\"bugzilla.redhat.com\")\n",
    "\n",
    "bug = bzapi.getbug(sample_bugs[0])\n",
    "bug.component"
   ]
  },
  {
   "cell_type": "code",
   "execution_count": 23,
   "id": "quantitative-failure",
   "metadata": {},
   "outputs": [
    {
     "name": "stdout",
     "output_type": "stream",
     "text": [
      "status = CLOSED\n",
      "component = Node\n",
      "components = ['Node']\n",
      "platform = Unspecified\n",
      "priority = unspecified\n",
      "product = OpenShift Container Platform\n",
      "sub_component = Kubelet\n",
      "sub_components = {'Node': ['Kubelet']}\n",
      "summary = [sig-node] pods should never transition back to pending\n",
      "tags = []\n",
      "target_milestone = ---\n",
      "target_release = ['---']\n"
     ]
    }
   ],
   "source": [
    "fields = [\n",
    "    'status', \n",
    "    'component',\n",
    "    'components', \n",
    "    'platform',\n",
    "    'priority',\n",
    "    'product',\n",
    "    'sub_component',\n",
    "    'sub_components',\n",
    "    'summary',\n",
    "    'tags',\n",
    "    'target_milestone',\n",
    "    'target_release',\n",
    "]\n",
    "\n",
    "for f in fields:\n",
    "    print(f'{f} = {getattr(bug, f)}')"
   ]
  },
  {
   "cell_type": "markdown",
   "id": "dedicated-chapel",
   "metadata": {},
   "source": [
    "## todo\n",
    "\n",
    "combine it into a dataframe s.t. each row has one bugzilla id, and columns are status, component, etc + affected tests/jobs."
   ]
  },
  {
   "cell_type": "code",
   "execution_count": null,
   "id": "genuine-scottish",
   "metadata": {},
   "outputs": [],
   "source": []
  }
 ],
 "metadata": {
  "finalized": {
   "timestamp": 1617764581538,
   "trusted": false
  },
  "kernelspec": {
   "display_name": "Python 3",
   "language": "python",
   "name": "python3"
  },
  "language_info": {
   "codemirror_mode": {
    "name": "ipython",
    "version": 3
   },
   "file_extension": ".py",
   "mimetype": "text/x-python",
   "name": "python",
   "nbconvert_exporter": "python",
   "pygments_lexer": "ipython3",
   "version": "3.8.3"
  },
  "toc": {
   "base_numbering": 1,
   "nav_menu": {},
   "number_sections": true,
   "sideBar": true,
   "skip_h1_title": false,
   "title_cell": "Table of Contents",
   "title_sidebar": "Contents",
   "toc_cell": false,
   "toc_position": {},
   "toc_section_display": true,
   "toc_window_display": false
  }
 },
 "nbformat": 4,
 "nbformat_minor": 5
}
