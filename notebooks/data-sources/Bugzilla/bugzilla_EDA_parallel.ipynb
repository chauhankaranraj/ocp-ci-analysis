{
 "cells": [
  {
   "cell_type": "markdown",
   "id": "177974ca",
   "metadata": {},
   "source": [
    "# Data Source: Bugzilla"
   ]
  },
  {
   "cell_type": "code",
   "execution_count": 1,
   "id": "6505aba2",
   "metadata": {
    "ExecuteTime": {
     "end_time": "2021-04-06T21:23:27.273935Z",
     "start_time": "2021-04-06T21:23:27.269122Z"
    }
   },
   "outputs": [],
   "source": [
    "import pdb\n",
    "import bugzilla\n",
    "import requests\n",
    "from tqdm import tqdm\n",
    "from bs4 import BeautifulSoup\n",
    "import matplotlib.pyplot as plt\n",
    "import seaborn as sns\n",
    "import pandas as pd\n",
    "import warnings\n",
    "import multiprocessing as mp\n",
    "import itertools as it\n",
    "\n",
    "warnings.filterwarnings(\"ignore\")"
   ]
  },
  {
   "cell_type": "code",
   "execution_count": 2,
   "id": "1b0ee509",
   "metadata": {},
   "outputs": [],
   "source": [
    "# tqdm extensions for pandas functions\n",
    "tqdm.pandas()"
   ]
  },
  {
   "cell_type": "markdown",
   "id": "4bde12aa",
   "metadata": {},
   "source": [
    "## Get All Linked and Associated Bugs"
   ]
  },
  {
   "cell_type": "code",
   "execution_count": 3,
   "id": "1ff819b0",
   "metadata": {},
   "outputs": [
    {
     "data": {
      "text/plain": [
       "['\"redhat-assisted-installer\"',\n",
       " '\"redhat-openshift-informing\"',\n",
       " '\"redhat-openshift-ocp-release-4.1-blocking\"',\n",
       " '\"redhat-openshift-ocp-release-4.1-informing\"',\n",
       " '\"redhat-openshift-ocp-release-4.2-blocking\"',\n",
       " '\"redhat-openshift-ocp-release-4.2-informing\"',\n",
       " '\"redhat-openshift-ocp-release-4.3-blocking\"',\n",
       " '\"redhat-openshift-ocp-release-4.3-broken\"',\n",
       " '\"redhat-openshift-ocp-release-4.3-informing\"',\n",
       " '\"redhat-openshift-ocp-release-4.4-blocking\"',\n",
       " '\"redhat-openshift-ocp-release-4.4-broken\"',\n",
       " '\"redhat-openshift-ocp-release-4.4-informing\"',\n",
       " '\"redhat-openshift-ocp-release-4.5-blocking\"',\n",
       " '\"redhat-openshift-ocp-release-4.5-broken\"',\n",
       " '\"redhat-openshift-ocp-release-4.5-informing\"',\n",
       " '\"redhat-openshift-ocp-release-4.6-blocking\"',\n",
       " '\"redhat-openshift-ocp-release-4.6-broken\"',\n",
       " '\"redhat-openshift-ocp-release-4.6-informing\"',\n",
       " '\"redhat-openshift-ocp-release-4.7-blocking\"',\n",
       " '\"redhat-openshift-ocp-release-4.7-broken\"',\n",
       " '\"redhat-openshift-ocp-release-4.7-informing\"',\n",
       " '\"redhat-openshift-ocp-release-4.8-blocking\"',\n",
       " '\"redhat-openshift-ocp-release-4.8-broken\"',\n",
       " '\"redhat-openshift-ocp-release-4.8-informing\"',\n",
       " '\"redhat-openshift-ocp-release-4.9-blocking\"',\n",
       " '\"redhat-openshift-ocp-release-4.9-informing\"',\n",
       " '\"redhat-openshift-okd-release-4.3-informing\"',\n",
       " '\"redhat-openshift-okd-release-4.4-informing\"',\n",
       " '\"redhat-openshift-okd-release-4.5-blocking\"',\n",
       " '\"redhat-openshift-okd-release-4.5-informing\"',\n",
       " '\"redhat-openshift-okd-release-4.6-blocking\"',\n",
       " '\"redhat-openshift-okd-release-4.6-informing\"',\n",
       " '\"redhat-openshift-okd-release-4.7-blocking\"',\n",
       " '\"redhat-openshift-okd-release-4.7-informing\"',\n",
       " '\"redhat-openshift-okd-release-4.8-blocking\"',\n",
       " '\"redhat-openshift-okd-release-4.8-informing\"',\n",
       " '\"redhat-openshift-okd-release-4.9-informing\"',\n",
       " '\"redhat-openshift-presubmit-master-gcp\"',\n",
       " '\"redhat-osd\"',\n",
       " '\"redhat-single-node\"']"
      ]
     },
     "execution_count": 3,
     "metadata": {},
     "output_type": "execute_result"
    }
   ],
   "source": [
    "# get the red hat dashboard names\n",
    "response = requests.get(\n",
    "    \"https://testgrid.k8s.io/redhat-openshift-informing?id=dashboard-group-bar\"\n",
    ")\n",
    "html = BeautifulSoup(response.content)\n",
    "testgrid_script = html.findAll(\"script\")[3]\n",
    "testgrid_script = testgrid_script.text.split()[5].split(\",\")\n",
    "dashboard_names = [x.split(\":\")[1] for x in testgrid_script if \"name\" in x]\n",
    "dashboard_names"
   ]
  },
  {
   "cell_type": "markdown",
   "id": "b2513473",
   "metadata": {},
   "source": [
    "**NOTE** Since other notebooks also look at only one dashboard and job, we'll do the same. at the end we'll save the dataset for further analysis."
   ]
  },
  {
   "cell_type": "code",
   "execution_count": 4,
   "id": "5576231f",
   "metadata": {},
   "outputs": [],
   "source": [
    "# bugs linked at timestamps up to this amount of time before today will be returned\n",
    "max_age = '336h'\n",
    "\n",
    "# ci details search url\n",
    "url = 'https://search.ci.openshift.org/'\n",
    "\n",
    "dashboard = '\"redhat-openshift-ocp-release-4.2-informing\"'"
   ]
  },
  {
   "cell_type": "code",
   "execution_count": 5,
   "id": "58500614",
   "metadata": {},
   "outputs": [
    {
     "name": "stderr",
     "output_type": "stream",
     "text": [
      "100%|██████████| 31/31 [19:51<00:00, 38.43s/it] \n"
     ]
    }
   ],
   "source": [
    "# get all linked bugs\n",
    "associated_bugs = list()\n",
    "all_linked_bugs = set()\n",
    "\n",
    "# get all jobs in this dashboard\n",
    "response = requests.get(f\"https://testgrid.k8s.io/{dashboard}/summary\")\n",
    "job_names = response.json().keys()\n",
    "\n",
    "for job in tqdm(job_names):\n",
    "    # get all tests in this job\n",
    "    response = requests.get(f\"https://testgrid.k8s.io/{dashboard}/table?&show-stale-tests=&tab={job}\")\n",
    "\n",
    "    # params to send to openshift ci search for tests under this job\n",
    "    args = {\n",
    "        'type': 'bug+junit',\n",
    "        'context': '-1',\n",
    "        'name': job,\n",
    "        'maxAge': max_age,\n",
    "        # DO NOT REMOVE THESE KEYS. THIS HACK PREVENTS REQUESTS FROM TIMING OUT.\n",
    "        # read more here - https://stackoverflow.com/a/63377265/9743348\n",
    "        'ajax': 'true',\n",
    "        'mobile': 'false',\n",
    "    }\n",
    "\n",
    "    for test in response.json().get('tests', []):\n",
    "        testname = test['name'].split('.', maxsplit=1)[-1]\n",
    "\n",
    "        # use test name as the search phrase\n",
    "        args['search'] = testname.replace('[', '\\[').replace(']', '\\]')\n",
    "\n",
    "        # search for linked and associated bugs for this test\n",
    "        response = requests.post(url, data=args)\n",
    "        soup = BeautifulSoup(response.content)\n",
    "\n",
    "        # the \"em\" objects in soup have information that can tell us\n",
    "        # whether or not this test had a linked bug for the given job name\n",
    "        em_objects = soup.find_all('em')\n",
    "        pct_affected = 0\n",
    "        for em in em_objects:\n",
    "            if 'Found' in em.text:\n",
    "                pct_affected = float(em.text.split()[2][:-1])\n",
    "                break\n",
    "\n",
    "        # init to empty for this test result / reset to empty from previous test result\n",
    "        test_bugs = []\n",
    "\n",
    "        # if percent jobs affected is 0 then the linked bugs correspond to another job\n",
    "        if pct_affected > 0:\n",
    "            result_rows = soup.find('table').find('tbody').find_all('tr')\n",
    "            for row in result_rows:\n",
    "                column_values = row.find_all('td')\n",
    "\n",
    "                # if there is only 1 column then the result is a junit, not bug\n",
    "                if len(column_values) > 1:\n",
    "                    # check the second column to make sure it is a bug and not junit details result\n",
    "                    if column_values[1].text == 'bug':\n",
    "                        test_bugs.append(column_values[0].text[1:])\n",
    "                        all_linked_bugs.add(column_values[0].text[1:])\n",
    "\n",
    "        associated_bugs.append((dashboard, job, test, test_bugs))"
   ]
  },
  {
   "cell_type": "code",
   "execution_count": 16,
   "id": "2242566e",
   "metadata": {},
   "outputs": [
    {
     "data": {
      "text/html": [
       "<div>\n",
       "<style scoped>\n",
       "    .dataframe tbody tr th:only-of-type {\n",
       "        vertical-align: middle;\n",
       "    }\n",
       "\n",
       "    .dataframe tbody tr th {\n",
       "        vertical-align: top;\n",
       "    }\n",
       "\n",
       "    .dataframe thead th {\n",
       "        text-align: right;\n",
       "    }\n",
       "</style>\n",
       "<table border=\"1\" class=\"dataframe\">\n",
       "  <thead>\n",
       "    <tr style=\"text-align: right;\">\n",
       "      <th></th>\n",
       "      <th>dashboard</th>\n",
       "      <th>job</th>\n",
       "      <th>test_name</th>\n",
       "      <th>bug_ids</th>\n",
       "    </tr>\n",
       "  </thead>\n",
       "  <tbody>\n",
       "    <tr>\n",
       "      <th>0</th>\n",
       "      <td>\"redhat-openshift-ocp-release-4.2-informing\"</td>\n",
       "      <td>periodic-ci-openshift-release-master-ci-4.2-e2...</td>\n",
       "      <td>{'name': 'Overall', 'original-name': 'Overall'...</td>\n",
       "      <td>[]</td>\n",
       "    </tr>\n",
       "    <tr>\n",
       "      <th>1</th>\n",
       "      <td>\"redhat-openshift-ocp-release-4.2-informing\"</td>\n",
       "      <td>periodic-ci-openshift-release-master-ci-4.2-e2...</td>\n",
       "      <td>{'name': 'operator.Run multi-stage test e2e-aw...</td>\n",
       "      <td>[]</td>\n",
       "    </tr>\n",
       "    <tr>\n",
       "      <th>2</th>\n",
       "      <td>\"redhat-openshift-ocp-release-4.2-informing\"</td>\n",
       "      <td>periodic-ci-openshift-release-master-ci-4.2-e2...</td>\n",
       "      <td>{'name': 'Operator results.operator conditions...</td>\n",
       "      <td>[1936859]</td>\n",
       "    </tr>\n",
       "    <tr>\n",
       "      <th>3</th>\n",
       "      <td>\"redhat-openshift-ocp-release-4.2-informing\"</td>\n",
       "      <td>periodic-ci-openshift-release-master-ci-4.2-e2...</td>\n",
       "      <td>{'name': 'operator.Run multi-stage test e2e-aw...</td>\n",
       "      <td>[]</td>\n",
       "    </tr>\n",
       "    <tr>\n",
       "      <th>4</th>\n",
       "      <td>\"redhat-openshift-ocp-release-4.2-informing\"</td>\n",
       "      <td>periodic-ci-openshift-release-master-ci-4.2-e2...</td>\n",
       "      <td>{'name': 'operator.Run multi-stage test e2e-aw...</td>\n",
       "      <td>[]</td>\n",
       "    </tr>\n",
       "  </tbody>\n",
       "</table>\n",
       "</div>"
      ],
      "text/plain": [
       "                                      dashboard  \\\n",
       "0  \"redhat-openshift-ocp-release-4.2-informing\"   \n",
       "1  \"redhat-openshift-ocp-release-4.2-informing\"   \n",
       "2  \"redhat-openshift-ocp-release-4.2-informing\"   \n",
       "3  \"redhat-openshift-ocp-release-4.2-informing\"   \n",
       "4  \"redhat-openshift-ocp-release-4.2-informing\"   \n",
       "\n",
       "                                                 job  \\\n",
       "0  periodic-ci-openshift-release-master-ci-4.2-e2...   \n",
       "1  periodic-ci-openshift-release-master-ci-4.2-e2...   \n",
       "2  periodic-ci-openshift-release-master-ci-4.2-e2...   \n",
       "3  periodic-ci-openshift-release-master-ci-4.2-e2...   \n",
       "4  periodic-ci-openshift-release-master-ci-4.2-e2...   \n",
       "\n",
       "                                           test_name    bug_ids  \n",
       "0  {'name': 'Overall', 'original-name': 'Overall'...         []  \n",
       "1  {'name': 'operator.Run multi-stage test e2e-aw...         []  \n",
       "2  {'name': 'Operator results.operator conditions...  [1936859]  \n",
       "3  {'name': 'operator.Run multi-stage test e2e-aw...         []  \n",
       "4  {'name': 'operator.Run multi-stage test e2e-aw...         []  "
      ]
     },
     "execution_count": 16,
     "metadata": {},
     "output_type": "execute_result"
    }
   ],
   "source": [
    "linked_and_associated_bugs = pd.DataFrame(associated_bugs, columns=['dashboard', 'job', 'test_name', 'bug_ids'])\n",
    "linked_and_associated_bugs.head()"
   ]
  },
  {
   "cell_type": "code",
   "execution_count": 7,
   "id": "615c6116",
   "metadata": {},
   "outputs": [],
   "source": [
    "# todo: distribution of bugs across jobs"
   ]
  },
  {
   "cell_type": "markdown",
   "id": "eae183e4",
   "metadata": {},
   "source": [
    "## parallelized method"
   ]
  },
  {
   "cell_type": "code",
   "execution_count": 4,
   "id": "147b9e58",
   "metadata": {},
   "outputs": [],
   "source": [
    "manager = mp.Manager()"
   ]
  },
  {
   "cell_type": "markdown",
   "id": "37a4eef1",
   "metadata": {},
   "source": [
    "### Part 1: get jobs in each dashboard"
   ]
  },
  {
   "cell_type": "code",
   "execution_count": 5,
   "id": "5417ff2f",
   "metadata": {},
   "outputs": [
    {
     "data": {
      "text/plain": [
       "[(<DictProxy object, typeid 'dict' at 0x7fbd54376490>,\n",
       "  '\"redhat-assisted-installer\"'),\n",
       " (<DictProxy object, typeid 'dict' at 0x7fbd54376490>,\n",
       "  '\"redhat-openshift-informing\"')]"
      ]
     },
     "execution_count": 5,
     "metadata": {},
     "output_type": "execute_result"
    }
   ],
   "source": [
    "dashboard_jobs_dict = manager.dict()\n",
    "\n",
    "def get_jobs_in_dashboard(dj_dict_d_name_tuple):\n",
    "    d_j_dict, d_name = dj_dict_d_name_tuple\n",
    "    d_j_dict[d_name] = tuple(requests.get(f\"https://testgrid.k8s.io/{d_name}/summary\").json().keys())\n",
    "\n",
    "args = list(it.product([dashboard_jobs_dict], dashboard_names) )\n",
    "args[:2]"
   ]
  },
  {
   "cell_type": "code",
   "execution_count": 6,
   "id": "62365f12",
   "metadata": {},
   "outputs": [],
   "source": [
    "get_jobs_in_dashboard(args[0])"
   ]
  },
  {
   "cell_type": "code",
   "execution_count": 7,
   "id": "83954971",
   "metadata": {},
   "outputs": [
    {
     "name": "stderr",
     "output_type": "stream",
     "text": [
      "100%|██████████| 40/40 [00:01<00:00, 24.66it/s]\n"
     ]
    }
   ],
   "source": [
    "with mp.Pool(processes=32) as pool:\n",
    "#     _ = pool.starmap(get_jobs_in_dashboard, args)\n",
    "    _ = list(tqdm(pool.imap(get_jobs_in_dashboard, args), total=len(args)))    "
   ]
  },
  {
   "cell_type": "code",
   "execution_count": 12,
   "id": "9ff63b9b",
   "metadata": {
    "tags": []
   },
   "outputs": [
    {
     "data": {
      "text/plain": [
       "('\"redhat-openshift-ocp-release-4.2-informing\"',\n",
       " ('periodic-ci-openshift-release-master-ci-4.2-e2e-aws-sdn-multitenant',\n",
       "  'periodic-ci-openshift-release-master-ci-4.2-e2e-gcp',\n",
       "  'periodic-ci-openshift-release-master-nightly-4.2-console-aws',\n",
       "  'periodic-ci-openshift-release-master-nightly-4.2-e2e-aws-fips',\n",
       "  'periodic-ci-openshift-release-master-nightly-4.2-e2e-aws-fips-serial',\n",
       "  'periodic-ci-openshift-release-master-nightly-4.2-e2e-azure',\n",
       "  'periodic-ci-openshift-release-master-nightly-4.2-e2e-azure-fips',\n",
       "  'periodic-ci-openshift-release-master-nightly-4.2-e2e-azure-fips-serial',\n",
       "  'periodic-ci-openshift-release-master-nightly-4.2-e2e-gcp',\n",
       "  'periodic-ci-openshift-release-master-nightly-4.2-e2e-gcp-fips',\n",
       "  'periodic-ci-openshift-release-master-nightly-4.2-e2e-gcp-fips-serial',\n",
       "  'promote-release-openshift-machine-os-content-e2e-aws-4.1',\n",
       "  'promote-release-openshift-machine-os-content-e2e-aws-4.2',\n",
       "  'promote-release-openshift-machine-os-content-e2e-aws-4.2-s390x',\n",
       "  'release-openshift-ocp-e2e-aws-scaleup-rhel7-4.2',\n",
       "  'release-openshift-ocp-installer-e2e-aws-mirrors-4.2',\n",
       "  'release-openshift-ocp-installer-e2e-aws-proxy-4.2',\n",
       "  'release-openshift-ocp-installer-e2e-aws-upi-4.2',\n",
       "  'release-openshift-ocp-installer-e2e-azure-serial-4.2',\n",
       "  'release-openshift-ocp-installer-e2e-gcp-serial-4.2',\n",
       "  'release-openshift-ocp-installer-e2e-metal-4.2',\n",
       "  'release-openshift-ocp-installer-e2e-metal-serial-4.2',\n",
       "  'release-openshift-origin-installer-e2e-aws-4.2-cnv',\n",
       "  'release-openshift-origin-installer-e2e-aws-upgrade-4.1-stable-to-4.2-ci',\n",
       "  'release-openshift-origin-installer-e2e-aws-upgrade-4.2-stable-to-4.2-nightly',\n",
       "  'release-openshift-origin-installer-e2e-aws-upgrade-rollback-4.1-to-4.2',\n",
       "  'release-openshift-origin-installer-e2e-aws-upgrade-rollback-4.2',\n",
       "  'release-openshift-origin-installer-e2e-azure-upgrade-4.2',\n",
       "  'release-openshift-origin-installer-e2e-gcp-serial-4.2',\n",
       "  'release-openshift-origin-installer-e2e-gcp-upgrade-4.2',\n",
       "  'release-openshift-origin-installer-old-rhcos-e2e-aws-4.2'))"
      ]
     },
     "execution_count": 12,
     "metadata": {},
     "output_type": "execute_result"
    }
   ],
   "source": [
    "d = dashboard_names[5]\n",
    "d, dashboard_jobs_dict._getvalue()[d]"
   ]
  },
  {
   "cell_type": "markdown",
   "id": "774eb9e9",
   "metadata": {},
   "source": [
    "### Part 2: get tests in each job"
   ]
  },
  {
   "cell_type": "code",
   "execution_count": 8,
   "id": "cac3012a",
   "metadata": {},
   "outputs": [
    {
     "data": {
      "text/plain": [
       "('\"redhat-assisted-installer\"',\n",
       " 'periodic-ci-openshift-release-master-nightly-4.6-e2e-metal-assisted')"
      ]
     },
     "execution_count": 8,
     "metadata": {},
     "output_type": "execute_result"
    }
   ],
   "source": [
    "dashboard_job_pairs = list(it.chain.from_iterable(it.product([k], v) for k, v in dashboard_jobs_dict.items()))\n",
    "dashboard_job_pairs[0]"
   ]
  },
  {
   "cell_type": "code",
   "execution_count": 9,
   "id": "9d2fc8d8",
   "metadata": {},
   "outputs": [
    {
     "data": {
      "text/plain": [
       "[(<DictProxy object, typeid 'dict' at 0x7fbc81155400>,\n",
       "  ('\"redhat-assisted-installer\"',\n",
       "   'periodic-ci-openshift-release-master-nightly-4.6-e2e-metal-assisted')),\n",
       " (<DictProxy object, typeid 'dict' at 0x7fbc81155400>,\n",
       "  ('\"redhat-assisted-installer\"',\n",
       "   'periodic-ci-openshift-release-master-nightly-4.7-e2e-metal-assisted'))]"
      ]
     },
     "execution_count": 9,
     "metadata": {},
     "output_type": "execute_result"
    }
   ],
   "source": [
    "job_tests_dict = manager.dict()\n",
    "\n",
    "def get_tests_in_job_in_dashboard(jt_dict_dj_pair_tuple):\n",
    "    # unpack args\n",
    "    j_t_dict, d_j_pair = jt_dict_dj_pair_tuple\n",
    "    \n",
    "    # query testgrid for tests in dashboard, job\n",
    "    ret = requests.get(f\"https://testgrid.k8s.io/{d_j_pair[0]}/table?&show-stale-tests=&tab={d_j_pair[1]}\")\n",
    "    \n",
    "    # if valid response then add to dict, else print the names to debug\n",
    "    if ret.status_code == requests.codes.ok:\n",
    "        j_t_dict[d_j_pair] = [\n",
    "            t['name']\n",
    "            for t in ret.json().get('tests', [{'name': None}])\n",
    "        ]\n",
    "    else:\n",
    "        print(d_j_pair)\n",
    "        j_t_dict[d_j_pair] = [None]\n",
    "\n",
    "args = list(it.product([job_tests_dict], dashboard_job_pairs) )\n",
    "args[:2]"
   ]
  },
  {
   "cell_type": "code",
   "execution_count": 10,
   "id": "7ff90ef2",
   "metadata": {
    "tags": []
   },
   "outputs": [
    {
     "data": {
      "text/plain": [
       "(('\"redhat-assisted-installer\"',\n",
       "  'periodic-ci-openshift-release-master-nightly-4.6-e2e-metal-assisted'),\n",
       " ['openshift-tests.[sig-network] pods should successfully create sandboxes by getting pod',\n",
       "  'openshift-tests.[sig-node] pods should never transition back to pending',\n",
       "  'openshift-tests.[sig-arch] Monitor cluster while tests execute',\n",
       "  'openshift-tests.[sig-network] pods should successfully create sandboxes by writing network status',\n",
       "  'openshift-tests.[sig-network] pods should successfully create sandboxes by other',\n",
       "  'Overall',\n",
       "  'operator.Run multi-stage test e2e-metal-assisted - e2e-metal-assisted-baremetalds-assisted-gather container test',\n",
       "  'operator.Run multi-stage test e2e-metal-assisted - e2e-metal-assisted-baremetalds-assisted-setup container test',\n",
       "  'openshift-tests.[sig-api-machinery] CustomResourcePublishOpenAPI [Privileged:ClusterAdmin] works for CRD preserving unknown fields at the schema root [Conformance] [Suite:openshift/conformance/parallel/minimal] [Suite:k8s]',\n",
       "  'operator.Run multi-stage test e2e-metal-assisted - e2e-metal-assisted-baremetalds-assisted-test container test',\n",
       "  'openshift-tests.[sig-network] Proxy version v1 should proxy logs on node using proxy subresource  [Suite:openshift/conformance/parallel] [Suite:k8s]',\n",
       "  'openshift-tests.[sig-network] pods should successfully create sandboxes by reading container',\n",
       "  'Pod',\n",
       "  'openshift-tests.[k8s.io] Kubelet when scheduling a busybox command that always fails in a pod should be possible to delete [NodeConformance] [Conformance] [sig-node] [Suite:openshift/conformance/parallel/minimal] [Suite:k8s]',\n",
       "  'openshift-tests.[k8s.io] Lease lease API should be available [Conformance] [sig-node] [Suite:openshift/conformance/parallel/minimal] [Suite:k8s]',\n",
       "  'openshift-tests.[k8s.io] Probing container with readiness probe that fails should never be ready and never restart [NodeConformance] [Conformance] [sig-node] [Suite:openshift/conformance/parallel/minimal] [Suite:k8s]',\n",
       "  'openshift-tests.[k8s.io] [sig-node] Pods Extended [k8s.io] Pods Set QOS Class should be set on Pods with matching resource requests and limits for memory and cpu [Conformance] [Suite:openshift/conformance/parallel/minimal] [Suite:k8s]',\n",
       "  'openshift-tests.[sig-api-machinery] CustomResourceDefinition Watch [Privileged:ClusterAdmin] CustomResourceDefinition Watch watch on custom resource definition objects [Conformance] [Suite:openshift/conformance/parallel/minimal] [Suite:k8s]',\n",
       "  'openshift-tests.[sig-api-machinery] CustomResourceDefinition resources [Privileged:ClusterAdmin] Simple CustomResourceDefinition creating/deleting custom resource definition objects works  [Conformance] [Suite:openshift/conformance/parallel/minimal] [Suite:k8s]',\n",
       "  'openshift-tests.[sig-api-machinery] CustomResourceDefinition resources [Privileged:ClusterAdmin] Simple CustomResourceDefinition getting/updating/patching custom resource definition status sub-resource works  [Conformance] [Suite:openshift/conformance/parallel/minimal] [Suite:k8s]',\n",
       "  'openshift-tests.[sig-api-machinery] CustomResourceDefinition resources [Privileged:ClusterAdmin] Simple CustomResourceDefinition listing custom resource definition objects works  [Conformance] [Suite:openshift/conformance/parallel/minimal] [Suite:k8s]',\n",
       "  'openshift-tests.[sig-api-machinery] CustomResourceDefinition resources [Privileged:ClusterAdmin] custom resource defaulting for requests and from storage works  [Conformance] [Suite:openshift/conformance/parallel/minimal] [Suite:k8s]',\n",
       "  'openshift-tests.[sig-api-machinery] CustomResourceDefinition resources [Privileged:ClusterAdmin] should include custom resource definition resources in discovery documents [Conformance] [Suite:openshift/conformance/parallel/minimal] [Suite:k8s]',\n",
       "  'openshift-tests.[sig-api-machinery] CustomResourcePublishOpenAPI [Privileged:ClusterAdmin] removes definition from spec when one version gets changed to not be served [Conformance] [Suite:openshift/conformance/parallel/minimal] [Suite:k8s]',\n",
       "  'openshift-tests.[sig-api-machinery] CustomResourcePublishOpenAPI [Privileged:ClusterAdmin] updates the published spec when one version gets renamed [Conformance] [Suite:openshift/conformance/parallel/minimal] [Suite:k8s]',\n",
       "  'openshift-tests.[sig-api-machinery] CustomResourcePublishOpenAPI [Privileged:ClusterAdmin] works for CRD preserving unknown fields in an embedded object [Conformance] [Suite:openshift/conformance/parallel/minimal] [Suite:k8s]',\n",
       "  'openshift-tests.[sig-api-machinery] CustomResourcePublishOpenAPI [Privileged:ClusterAdmin] works for CRD with validation schema [Conformance] [Suite:openshift/conformance/parallel/minimal] [Suite:k8s]',\n",
       "  'openshift-tests.[sig-api-machinery] CustomResourcePublishOpenAPI [Privileged:ClusterAdmin] works for CRD without validation schema [Conformance] [Suite:openshift/conformance/parallel/minimal] [Suite:k8s]',\n",
       "  'openshift-tests.[sig-api-machinery] CustomResourcePublishOpenAPI [Privileged:ClusterAdmin] works for multiple CRDs of different groups [Conformance] [Suite:openshift/conformance/parallel/minimal] [Suite:k8s]',\n",
       "  'openshift-tests.[sig-api-machinery] CustomResourcePublishOpenAPI [Privileged:ClusterAdmin] works for multiple CRDs of same group and version but different kinds [Conformance] [Suite:openshift/conformance/parallel/minimal] [Suite:k8s]',\n",
       "  'openshift-tests.[sig-api-machinery] CustomResourcePublishOpenAPI [Privileged:ClusterAdmin] works for multiple CRDs of same group but different versions [Conformance] [Suite:openshift/conformance/parallel/minimal] [Suite:k8s]',\n",
       "  'openshift-tests.[sig-api-machinery] Garbage collector should delete RS created by deployment when not orphaning [Conformance] [Suite:openshift/conformance/parallel/minimal] [Suite:k8s]',\n",
       "  'openshift-tests.[sig-api-machinery] Garbage collector should delete pods created by rc when not orphaning [Conformance] [Suite:openshift/conformance/parallel/minimal] [Suite:k8s]',\n",
       "  'openshift-tests.[sig-api-machinery] Garbage collector should keep the rc around until all its pods are deleted if the deleteOptions says so [Conformance] [Suite:openshift/conformance/parallel/minimal] [Suite:k8s]',\n",
       "  'openshift-tests.[sig-api-machinery] Garbage collector should not be blocked by dependency circle [Conformance] [Suite:openshift/conformance/parallel/minimal] [Suite:k8s]',\n",
       "  \"openshift-tests.[sig-api-machinery] Garbage collector should not delete dependents that have both valid owner and owner that's waiting for dependents to be deleted [Conformance] [Suite:openshift/conformance/parallel/minimal] [Suite:k8s]\",\n",
       "  'openshift-tests.[sig-api-machinery] Garbage collector should orphan RS created by deployment when deleteOptions.PropagationPolicy is Orphan [Conformance] [Suite:openshift/conformance/parallel/minimal] [Suite:k8s]',\n",
       "  'openshift-tests.[sig-api-machinery] Garbage collector should orphan pods created by rc if delete options say so [Conformance] [Suite:openshift/conformance/parallel/minimal] [Suite:k8s]',\n",
       "  'openshift-tests.[sig-api-machinery] ResourceQuota should be able to update and delete ResourceQuota. [Conformance] [Suite:openshift/conformance/parallel/minimal] [Suite:k8s]',\n",
       "  'openshift-tests.[sig-api-machinery] ResourceQuota should create a ResourceQuota and capture the life of a configMap. [Conformance] [Suite:openshift/conformance/parallel/minimal] [Suite:k8s]',\n",
       "  'openshift-tests.[sig-api-machinery] ResourceQuota should create a ResourceQuota and capture the life of a pod. [Conformance] [Suite:openshift/conformance/parallel/minimal] [Suite:k8s]',\n",
       "  'openshift-tests.[sig-api-machinery] ResourceQuota should create a ResourceQuota and capture the life of a replica set. [Conformance] [Suite:openshift/conformance/parallel/minimal] [Suite:k8s]',\n",
       "  'openshift-tests.[sig-api-machinery] ResourceQuota should create a ResourceQuota and capture the life of a replication controller. [Conformance] [Suite:openshift/conformance/parallel/minimal] [Suite:k8s]',\n",
       "  'openshift-tests.[sig-api-machinery] ResourceQuota should create a ResourceQuota and capture the life of a secret. [Conformance] [Suite:openshift/conformance/parallel/minimal] [Suite:k8s]',\n",
       "  'openshift-tests.[sig-api-machinery] ResourceQuota should create a ResourceQuota and capture the life of a service. [Conformance] [Suite:openshift/conformance/parallel/minimal] [Suite:k8s]',\n",
       "  'openshift-tests.[sig-api-machinery] ResourceQuota should create a ResourceQuota and ensure its status is promptly calculated. [Conformance] [Suite:openshift/conformance/parallel/minimal] [Suite:k8s]',\n",
       "  'openshift-tests.[sig-api-machinery] ResourceQuota should verify ResourceQuota with best effort scope. [Conformance] [Suite:openshift/conformance/parallel/minimal] [Suite:k8s]',\n",
       "  'openshift-tests.[sig-api-machinery] Secrets should fail to create secret due to empty secret key [Conformance] [Suite:openshift/conformance/parallel/minimal] [Suite:k8s]',\n",
       "  'openshift-tests.[sig-api-machinery] Secrets should patch a secret [Conformance] [Suite:openshift/conformance/parallel/minimal] [Suite:k8s]',\n",
       "  'openshift-tests.[sig-api-machinery] Servers with support for Table transformation should return a 406 for a backend which does not implement metadata [Conformance] [Suite:openshift/conformance/parallel/minimal] [Suite:k8s]',\n",
       "  'openshift-tests.[sig-api-machinery] Watchers should be able to restart watching from the last resource version observed by the previous watch [Conformance] [Suite:openshift/conformance/parallel/minimal] [Suite:k8s]',\n",
       "  'openshift-tests.[sig-api-machinery] Watchers should be able to start watching from a specific resource version [Conformance] [Suite:openshift/conformance/parallel/minimal] [Suite:k8s]',\n",
       "  'openshift-tests.[sig-api-machinery] Watchers should observe add, update, and delete watch notifications on configmaps [Conformance] [Suite:openshift/conformance/parallel/minimal] [Suite:k8s]',\n",
       "  'openshift-tests.[sig-api-machinery] Watchers should observe an object deletion if it stops meeting the requirements of the selector [Conformance] [Suite:openshift/conformance/parallel/minimal] [Suite:k8s]',\n",
       "  'openshift-tests.[sig-api-machinery] Watchers should receive events on concurrent watches in same order [Conformance] [Suite:openshift/conformance/parallel/minimal] [Suite:k8s]',\n",
       "  'openshift-tests.[sig-apps] ReplicationController should release no longer matching pods [Conformance] [Suite:openshift/conformance/parallel/minimal] [Suite:k8s]',\n",
       "  'openshift-tests.[sig-apps] ReplicationController should surface a failure condition on a common issue like exceeded quota [Conformance] [Suite:openshift/conformance/parallel/minimal] [Suite:k8s]',\n",
       "  'openshift-tests.[sig-auth] ServiceAccounts should allow opting out of API token automount  [Conformance] [Suite:openshift/conformance/parallel/minimal] [Suite:k8s]',\n",
       "  'openshift-tests.[sig-cli] Kubectl client Kubectl api-versions should check if v1 is in available api versions  [Conformance] [Suite:openshift/conformance/parallel/minimal] [Suite:k8s]',\n",
       "  'openshift-tests.[sig-cli] Kubectl client Kubectl version should check is all data is printed  [Conformance] [Suite:openshift/conformance/parallel/minimal] [Suite:k8s]',\n",
       "  'openshift-tests.[sig-cli] Kubectl client Proxy server should support --unix-socket=/path  [Conformance] [Suite:openshift/conformance/parallel/minimal] [Suite:k8s]',\n",
       "  'openshift-tests.[sig-cli] Kubectl client Proxy server should support proxy with --port 0  [Conformance] [Suite:openshift/conformance/parallel/minimal] [Suite:k8s]',\n",
       "  'openshift-tests.[sig-network] Proxy version v1 should proxy logs on node with explicit kubelet port using proxy subresource  [Suite:openshift/conformance/parallel] [Suite:k8s]',\n",
       "  'openshift-tests.[sig-network] Services should find a service from listing all namespaces [Conformance] [Suite:openshift/conformance/parallel/minimal] [Suite:k8s]',\n",
       "  'openshift-tests.[sig-network] Services should provide secure master service  [Conformance] [Suite:openshift/conformance/parallel/minimal] [Suite:k8s]',\n",
       "  'openshift-tests.[sig-network] pods should successfully create sandboxes by not timing out',\n",
       "  'openshift-tests.[sig-network] pods should successfully create sandboxes by writing child',\n",
       "  'openshift-tests.[sig-node] ConfigMap should fail to create ConfigMap with empty key [Conformance] [Suite:openshift/conformance/parallel/minimal] [Suite:k8s]',\n",
       "  'openshift-tests.[sig-node] kubelet terminates kube-apiserver gracefully',\n",
       "  'openshift-tests.[sig-node] pods should not fail on systemd timeouts',\n",
       "  'openshift-tests.[sig-scheduling] LimitRange should create a LimitRange with defaults and ensure pod has those defaults applied. [Conformance] [Suite:openshift/conformance/parallel/minimal] [Suite:k8s]',\n",
       "  'operator.All images are built and tagged into stable',\n",
       "  'operator.Find the input image assisted-installer and tag it into the pipeline',\n",
       "  'operator.Find the input image assisted-installer-agent and tag it into the pipeline',\n",
       "  'operator.Find the input image assisted-installer-controller and tag it into the pipeline',\n",
       "  'operator.Find the input image assisted-service and tag it into the pipeline',\n",
       "  'operator.Find the input image assisted-test-infra and tag it into the pipeline',\n",
       "  'operator.Find the input image dev-scripts and tag it into the pipeline',\n",
       "  'operator.Import the release payload \"latest\" from an external source',\n",
       "  'operator.Run multi-stage test e2e-metal-assisted - e2e-metal-assisted-baremetalds-******-setup container test',\n",
       "  'operator.Run multi-stage test e2e-metal-assisted - e2e-metal-assisted-baremetalds-******-teardown container test',\n",
       "  'operator.Run multi-stage test e2e-metal-assisted - e2e-metal-assisted-baremetalds-assisted-conf container test',\n",
       "  'operator.Run multi-stage test e2e-metal-assisted - e2e-metal-assisted-baremetalds-packet-setup container test',\n",
       "  'operator.Run multi-stage test e2e-metal-assisted - e2e-metal-assisted-baremetalds-packet-teardown container test',\n",
       "  'operator.Run multi-stage test e2e-metal-assisted - e2e-metal-assisted-ipi-install-rbac container test'])"
      ]
     },
     "execution_count": 10,
     "metadata": {},
     "output_type": "execute_result"
    }
   ],
   "source": [
    "get_tests_in_job_in_dashboard(args[0])\n",
    "\n",
    "dashboard_job_pairs[0], job_tests_dict[dashboard_job_pairs[0]]"
   ]
  },
  {
   "cell_type": "code",
   "execution_count": 11,
   "id": "f3d658dd",
   "metadata": {},
   "outputs": [
    {
     "name": "stderr",
     "output_type": "stream",
     "text": [
      "100%|██████████| 602/602 [00:35<00:00, 17.08it/s]\n"
     ]
    }
   ],
   "source": [
    "with mp.Pool(processes=32) as pool:\n",
    "#     _ = pool.starmap(get_tests_in_job_in_dashboard, args)\n",
    "    _ = list(tqdm(pool.imap(get_tests_in_job_in_dashboard, args), total=len(args)))      "
   ]
  },
  {
   "cell_type": "code",
   "execution_count": 29,
   "id": "2736f98b",
   "metadata": {
    "collapsed": true,
    "jupyter": {
     "outputs_hidden": true
    },
    "tags": []
   },
   "outputs": [
    {
     "name": "stdout",
     "output_type": "stream",
     "text": [
      "Overall\n",
      "Operator results.operator conditions monitoring\n",
      "operator.Run multi-stage test e2e-gcp - e2e-gcp-ipi-install-install container test\n",
      "operator.Run multi-stage test e2e-*** - e2e-***-ipi-install-install container test\n",
      "Operator results.operator conditions image-registry\n",
      "operator.Run multi-stage test e2e-gcp\n",
      "Pod\n",
      "job.initialize\n",
      "Operator results.operator conditions authentication\n",
      "Operator results.operator conditions cloud-credential\n",
      "Operator results.operator conditions cluster-autoscaler\n",
      "Operator results.operator conditions console\n",
      "Operator results.operator conditions dns\n",
      "Operator results.operator conditions ingress\n",
      "Operator results.operator conditions insights\n",
      "Operator results.operator conditions kube-apiserver\n",
      "Operator results.operator conditions kube-controller-manager\n",
      "Operator results.operator conditions kube-scheduler\n",
      "Operator results.operator conditions machine-api\n",
      "Operator results.operator conditions machine-config\n",
      "Operator results.operator conditions marketplace\n",
      "Operator results.operator conditions network\n",
      "Operator results.operator conditions node-tuning\n",
      "Operator results.operator conditions openshift-apiserver\n",
      "Operator results.operator conditions openshift-controller-manager\n",
      "Operator results.operator conditions openshift-samples\n",
      "Operator results.operator conditions operator-lifecycle-manager\n",
      "Operator results.operator conditions operator-lifecycle-manager-catalog\n",
      "Operator results.operator conditions operator-lifecycle-manager-packageserver\n",
      "Operator results.operator conditions service-ca\n",
      "Operator results.operator conditions service-catalog-apiserver\n",
      "Operator results.operator conditions service-catalog-controller-manager\n",
      "Operator results.operator conditions storage\n",
      "Symptom Detection.Bug 1812261: iptables is segfaulting\n",
      "Symptom Detection.Infrastructure - AWS simulate policy rate-limit\n",
      "Symptom Detection.Infrastructure - GCP quota exceeded (route to forum-gcp)\n",
      "Symptom Detection.Node process segfaulted\n",
      "Symptom Detection.Undiagnosed panic detected in journal\n",
      "Symptom Detection.Undiagnosed panic detected in pod\n",
      "operator.All images are built and tagged into stable\n",
      "operator.Find the input image ocp-4.5-upi-installer and tag it into the pipeline\n",
      "operator.Find the input image origin-centos-8 and tag it into the pipeline\n",
      "operator.Import the release payload \"latest\" from an external source\n",
      "operator.Run multi-stage test e2e-*** - e2e-***-gather-***-console container test\n",
      "operator.Run multi-stage test e2e-*** - e2e-***-gather-audit-logs container test\n",
      "operator.Run multi-stage test e2e-*** - e2e-***-gather-core-dump container test\n",
      "operator.Run multi-stage test e2e-*** - e2e-***-gather-extra container test\n",
      "operator.Run multi-stage test e2e-*** - e2e-***-gather-must-gather container test\n",
      "operator.Run multi-stage test e2e-*** - e2e-***-ipi-conf container test\n",
      "operator.Run multi-stage test e2e-*** - e2e-***-ipi-conf-*** container test\n",
      "operator.Run multi-stage test e2e-*** - e2e-***-ipi-deprovision-deprovision container test\n",
      "operator.Run multi-stage test e2e-*** - e2e-***-ipi-install-monitoringpvc container test\n",
      "operator.Run multi-stage test e2e-*** - e2e-***-ipi-install-rbac container test\n",
      "operator.Run multi-stage test e2e-gcp - e2e-gcp-gather-audit-logs container test\n",
      "operator.Run multi-stage test e2e-gcp - e2e-gcp-gather-core-dump container test\n",
      "operator.Run multi-stage test e2e-gcp - e2e-gcp-gather-extra container test\n",
      "operator.Run multi-stage test e2e-gcp - e2e-gcp-gather-gcp-console container test\n",
      "operator.Run multi-stage test e2e-gcp - e2e-gcp-gather-must-gather container test\n",
      "operator.Run multi-stage test e2e-gcp - e2e-gcp-ipi-conf container test\n",
      "operator.Run multi-stage test e2e-gcp - e2e-gcp-ipi-conf-gcp container test\n",
      "operator.Run multi-stage test e2e-gcp - e2e-gcp-ipi-deprovision-deprovision container test\n",
      "operator.Run multi-stage test e2e-gcp - e2e-gcp-ipi-install-monitoringpvc container test\n",
      "operator.Run multi-stage test e2e-gcp - e2e-gcp-ipi-install-rbac container test\n"
     ]
    }
   ],
   "source": [
    "d = '\"redhat-openshift-ocp-release-4.2-informing\"'\n",
    "j = 'periodic-ci-openshift-release-master-ci-4.2-e2e-gcp'\n",
    "ret = requests.get(f\"https://testgrid.k8s.io/{d}/table?&show-stale-tests=&tab={j}\")\n",
    "\n",
    "if ret.status_code == requests.codes.ok:\n",
    "    for t in ret.json().get('tests'):\n",
    "        print(t['name'])"
   ]
  },
  {
   "cell_type": "code",
   "execution_count": 28,
   "id": "da443e19",
   "metadata": {
    "collapsed": true,
    "jupyter": {
     "outputs_hidden": true
    },
    "tags": []
   },
   "outputs": [
    {
     "data": {
      "text/plain": [
       "(('\"redhat-openshift-ocp-release-4.2-informing\"',\n",
       "  'periodic-ci-openshift-release-master-ci-4.2-e2e-gcp'),\n",
       " ['Overall',\n",
       "  'Operator results.operator conditions monitoring',\n",
       "  'operator.Run multi-stage test e2e-gcp - e2e-gcp-ipi-install-install container test',\n",
       "  'operator.Run multi-stage test e2e-*** - e2e-***-ipi-install-install container test',\n",
       "  'Operator results.operator conditions image-registry',\n",
       "  'operator.Run multi-stage test e2e-gcp',\n",
       "  'Pod',\n",
       "  'job.initialize',\n",
       "  'Operator results.operator conditions authentication',\n",
       "  'Operator results.operator conditions cloud-credential',\n",
       "  'Operator results.operator conditions cluster-autoscaler',\n",
       "  'Operator results.operator conditions console',\n",
       "  'Operator results.operator conditions dns',\n",
       "  'Operator results.operator conditions ingress',\n",
       "  'Operator results.operator conditions insights',\n",
       "  'Operator results.operator conditions kube-apiserver',\n",
       "  'Operator results.operator conditions kube-controller-manager',\n",
       "  'Operator results.operator conditions kube-scheduler',\n",
       "  'Operator results.operator conditions machine-api',\n",
       "  'Operator results.operator conditions machine-config',\n",
       "  'Operator results.operator conditions marketplace',\n",
       "  'Operator results.operator conditions network',\n",
       "  'Operator results.operator conditions node-tuning',\n",
       "  'Operator results.operator conditions openshift-apiserver',\n",
       "  'Operator results.operator conditions openshift-controller-manager',\n",
       "  'Operator results.operator conditions openshift-samples',\n",
       "  'Operator results.operator conditions operator-lifecycle-manager',\n",
       "  'Operator results.operator conditions operator-lifecycle-manager-catalog',\n",
       "  'Operator results.operator conditions operator-lifecycle-manager-packageserver',\n",
       "  'Operator results.operator conditions service-ca',\n",
       "  'Operator results.operator conditions service-catalog-apiserver',\n",
       "  'Operator results.operator conditions service-catalog-controller-manager',\n",
       "  'Operator results.operator conditions storage',\n",
       "  'Symptom Detection.Bug 1812261: iptables is segfaulting',\n",
       "  'Symptom Detection.Infrastructure - AWS simulate policy rate-limit',\n",
       "  'Symptom Detection.Infrastructure - GCP quota exceeded (route to forum-gcp)',\n",
       "  'Symptom Detection.Node process segfaulted',\n",
       "  'Symptom Detection.Undiagnosed panic detected in journal',\n",
       "  'Symptom Detection.Undiagnosed panic detected in pod',\n",
       "  'operator.All images are built and tagged into stable',\n",
       "  'operator.Find the input image ocp-4.5-upi-installer and tag it into the pipeline',\n",
       "  'operator.Find the input image origin-centos-8 and tag it into the pipeline',\n",
       "  'operator.Import the release payload \"latest\" from an external source',\n",
       "  'operator.Run multi-stage test e2e-*** - e2e-***-gather-***-console container test',\n",
       "  'operator.Run multi-stage test e2e-*** - e2e-***-gather-audit-logs container test',\n",
       "  'operator.Run multi-stage test e2e-*** - e2e-***-gather-core-dump container test',\n",
       "  'operator.Run multi-stage test e2e-*** - e2e-***-gather-extra container test',\n",
       "  'operator.Run multi-stage test e2e-*** - e2e-***-gather-must-gather container test',\n",
       "  'operator.Run multi-stage test e2e-*** - e2e-***-ipi-conf container test',\n",
       "  'operator.Run multi-stage test e2e-*** - e2e-***-ipi-conf-*** container test',\n",
       "  'operator.Run multi-stage test e2e-*** - e2e-***-ipi-deprovision-deprovision container test',\n",
       "  'operator.Run multi-stage test e2e-*** - e2e-***-ipi-install-monitoringpvc container test',\n",
       "  'operator.Run multi-stage test e2e-*** - e2e-***-ipi-install-rbac container test',\n",
       "  'operator.Run multi-stage test e2e-gcp - e2e-gcp-gather-audit-logs container test',\n",
       "  'operator.Run multi-stage test e2e-gcp - e2e-gcp-gather-core-dump container test',\n",
       "  'operator.Run multi-stage test e2e-gcp - e2e-gcp-gather-extra container test',\n",
       "  'operator.Run multi-stage test e2e-gcp - e2e-gcp-gather-gcp-console container test',\n",
       "  'operator.Run multi-stage test e2e-gcp - e2e-gcp-gather-must-gather container test',\n",
       "  'operator.Run multi-stage test e2e-gcp - e2e-gcp-ipi-conf container test',\n",
       "  'operator.Run multi-stage test e2e-gcp - e2e-gcp-ipi-conf-gcp container test',\n",
       "  'operator.Run multi-stage test e2e-gcp - e2e-gcp-ipi-deprovision-deprovision container test',\n",
       "  'operator.Run multi-stage test e2e-gcp - e2e-gcp-ipi-install-monitoringpvc container test',\n",
       "  'operator.Run multi-stage test e2e-gcp - e2e-gcp-ipi-install-rbac container test'])"
      ]
     },
     "execution_count": 28,
     "metadata": {},
     "output_type": "execute_result"
    }
   ],
   "source": [
    "dashboard_job_pairs[75], job_tests_dict._getvalue()[dashboard_job_pairs[75]]"
   ]
  },
  {
   "cell_type": "markdown",
   "id": "4da7b4f1",
   "metadata": {},
   "source": [
    "### Part 3: get bugs for each test"
   ]
  },
  {
   "cell_type": "code",
   "execution_count": 12,
   "id": "ca717920",
   "metadata": {},
   "outputs": [
    {
     "data": {
      "text/plain": [
       "[('\"redhat-assisted-installer\"',\n",
       "  'periodic-ci-openshift-release-master-nightly-4.6-e2e-metal-assisted',\n",
       "  'openshift-tests.[sig-network] pods should successfully create sandboxes by getting pod'),\n",
       " ('\"redhat-assisted-installer\"',\n",
       "  'periodic-ci-openshift-release-master-nightly-4.6-e2e-metal-assisted',\n",
       "  'openshift-tests.[sig-node] pods should never transition back to pending')]"
      ]
     },
     "execution_count": 12,
     "metadata": {},
     "output_type": "execute_result"
    }
   ],
   "source": [
    "dashboard_job_tests_tuples = []\n",
    "for djpair, tests in job_tests_dict.items():\n",
    "    for t in tests:\n",
    "        dashboard_job_tests_tuples.append((djpair[0], djpair[1], t, ))\n",
    "dashboard_job_tests_tuples[:2]"
   ]
  },
  {
   "cell_type": "code",
   "execution_count": 33,
   "id": "78a5a029",
   "metadata": {},
   "outputs": [
    {
     "data": {
      "text/plain": [
       "[(<DictProxy object, typeid 'dict' at 0x7fbd3519d580>,\n",
       "  ('\"redhat-assisted-installer\"',\n",
       "   'periodic-ci-openshift-release-master-nightly-4.6-e2e-metal-assisted',\n",
       "   'openshift-tests.[sig-network] pods should successfully create sandboxes by getting pod')),\n",
       " (<DictProxy object, typeid 'dict' at 0x7fbd3519d580>,\n",
       "  ('\"redhat-assisted-installer\"',\n",
       "   'periodic-ci-openshift-release-master-nightly-4.6-e2e-metal-assisted',\n",
       "   'openshift-tests.[sig-node] pods should never transition back to pending'))]"
      ]
     },
     "execution_count": 33,
     "metadata": {},
     "output_type": "execute_result"
    }
   ],
   "source": [
    "djt_linked_bugs_dict = manager.dict()\n",
    "\n",
    "def get_linked_associated_bugs(arg_tuple):\n",
    "    # unpack\n",
    "    djt_linked_bugs, djt_tuple = arg_tuple\n",
    "\n",
    "    # search for linked and associated bugs for this test\n",
    "    response = requests.post(\n",
    "        'https://search.ci.openshift.org/',\n",
    "        data={\n",
    "            'type': 'bug+junit',\n",
    "            'context': '-1',\n",
    "            'name': djt_tuple[1],\n",
    "            'maxAge': '336h',\n",
    "            # DO NOT REMOVE THESE KEYS. THIS HACK PREVENTS REQUESTS FROM TIMING OUT.\n",
    "            # read more here - https://stackoverflow.com/a/63377265/9743348\n",
    "            'ajax': 'true',\n",
    "            'mobile': 'false',\n",
    "            'search': djt_tuple[2].split('.', maxsplit=1)[-1].replace('[', '\\[').replace(']', '\\]'),\n",
    "        },\n",
    "    )\n",
    "    soup = BeautifulSoup(response.content)\n",
    "\n",
    "    # the \"em\" objects in soup have information that can tell us\n",
    "    # whether or not this test had a linked bug for the given job name\n",
    "    em_objects = soup.find_all('em')\n",
    "    pct_affected = 0\n",
    "    for em in em_objects:\n",
    "        if 'Found' in em.text:\n",
    "            pct_affected = float(em.text.split()[2][:-1])\n",
    "            break\n",
    "\n",
    "    # init to empty for this test result / reset to empty from previous test result\n",
    "    test_bugs = []\n",
    "\n",
    "    # if percent jobs affected is 0 then the linked bugs correspond to another job\n",
    "    if pct_affected > 0:\n",
    "        result_rows = soup.find('table').find('tbody').find_all('tr')\n",
    "        for row in result_rows:\n",
    "            column_values = row.find_all('td')\n",
    "\n",
    "            # if there is only 1 column then the result is a junit, not bug\n",
    "            if len(column_values) > 1:\n",
    "                # check the second column to make sure it is a bug and not junit details result\n",
    "                if column_values[1].text == 'bug':\n",
    "                    test_bugs.append(column_values[0].text[1:])\n",
    "\n",
    "    djt_linked_bugs[djt_tuple] = test_bugs\n",
    "\n",
    "args = list(it.product([djt_linked_bugs_dict], dashboard_job_tests_tuples))\n",
    "args[:2]"
   ]
  },
  {
   "cell_type": "code",
   "execution_count": 34,
   "id": "df538b10",
   "metadata": {},
   "outputs": [],
   "source": [
    "# run it only for 4.2 openshift informing\n",
    "ocp42args = []\n",
    "for a in args:\n",
    "    if a[1][0]=='\"redhat-openshift-ocp-release-4.2-informing\"':\n",
    "        ocp42args.append(a)"
   ]
  },
  {
   "cell_type": "code",
   "execution_count": 35,
   "id": "05923ac6",
   "metadata": {},
   "outputs": [
    {
     "name": "stderr",
     "output_type": "stream",
     "text": [
      "100%|██████████| 5434/5434 [00:59<00:00, 91.36it/s] \n"
     ]
    }
   ],
   "source": [
    "# call func with args\n",
    "with mp.Pool(processes=32) as pool:\n",
    "#     _ = pool.starmap(get_tests_in_job_in_dashboard, args)\n",
    "    _ = list(tqdm(pool.imap(get_linked_associated_bugs, ocp42args), total=len(ocp42args)))"
   ]
  },
  {
   "cell_type": "markdown",
   "id": "937ef795",
   "metadata": {},
   "source": [
    "### Part 4: Convert to Dataframe"
   ]
  },
  {
   "cell_type": "code",
   "execution_count": 16,
   "id": "a0458b3d",
   "metadata": {},
   "outputs": [
    {
     "data": {
      "text/plain": [
       "5434"
      ]
     },
     "execution_count": 16,
     "metadata": {},
     "output_type": "execute_result"
    }
   ],
   "source": [
    "len(djt_linked_bugs_dict.keys())"
   ]
  },
  {
   "cell_type": "code",
   "execution_count": 17,
   "id": "066cafa5",
   "metadata": {},
   "outputs": [
    {
     "data": {
      "text/plain": [
       "[('\"redhat-openshift-ocp-release-4.2-informing\"',\n",
       "  'periodic-ci-openshift-release-master-nightly-4.2-e2e-azure',\n",
       "  'Operator results.operator conditions service-ca',\n",
       "  []),\n",
       " ('\"redhat-openshift-ocp-release-4.2-informing\"',\n",
       "  'promote-release-openshift-machine-os-content-e2e-aws-4.1',\n",
       "  'Pod',\n",
       "  [])]"
      ]
     },
     "execution_count": 17,
     "metadata": {},
     "output_type": "execute_result"
    }
   ],
   "source": [
    "djt_linked_bugs_list = [] \n",
    "for k,v in djt_linked_bugs_dict.items():\n",
    "    djt_linked_bugs_list.append(\n",
    "        tuple([*k, v])\n",
    "    )\n",
    "djt_linked_bugs_list[:2]"
   ]
  },
  {
   "cell_type": "code",
   "execution_count": 18,
   "id": "c90cfcb5",
   "metadata": {},
   "outputs": [
    {
     "data": {
      "text/html": [
       "<div>\n",
       "<style scoped>\n",
       "    .dataframe tbody tr th:only-of-type {\n",
       "        vertical-align: middle;\n",
       "    }\n",
       "\n",
       "    .dataframe tbody tr th {\n",
       "        vertical-align: top;\n",
       "    }\n",
       "\n",
       "    .dataframe thead th {\n",
       "        text-align: right;\n",
       "    }\n",
       "</style>\n",
       "<table border=\"1\" class=\"dataframe\">\n",
       "  <thead>\n",
       "    <tr style=\"text-align: right;\">\n",
       "      <th></th>\n",
       "      <th>dashboard</th>\n",
       "      <th>job</th>\n",
       "      <th>test</th>\n",
       "      <th>bug_ids</th>\n",
       "    </tr>\n",
       "  </thead>\n",
       "  <tbody>\n",
       "    <tr>\n",
       "      <th>0</th>\n",
       "      <td>\"redhat-openshift-ocp-release-4.2-informing\"</td>\n",
       "      <td>periodic-ci-openshift-release-master-nightly-4...</td>\n",
       "      <td>Operator results.operator conditions service-ca</td>\n",
       "      <td>[]</td>\n",
       "    </tr>\n",
       "    <tr>\n",
       "      <th>1</th>\n",
       "      <td>\"redhat-openshift-ocp-release-4.2-informing\"</td>\n",
       "      <td>promote-release-openshift-machine-os-content-e...</td>\n",
       "      <td>Pod</td>\n",
       "      <td>[]</td>\n",
       "    </tr>\n",
       "    <tr>\n",
       "      <th>2</th>\n",
       "      <td>\"redhat-openshift-ocp-release-4.2-informing\"</td>\n",
       "      <td>periodic-ci-openshift-release-master-nightly-4...</td>\n",
       "      <td>Operator results.operator conditions cloud-cre...</td>\n",
       "      <td>[]</td>\n",
       "    </tr>\n",
       "    <tr>\n",
       "      <th>3</th>\n",
       "      <td>\"redhat-openshift-ocp-release-4.2-informing\"</td>\n",
       "      <td>periodic-ci-openshift-release-master-nightly-4...</td>\n",
       "      <td>Operator results.operator conditions operator-...</td>\n",
       "      <td>[]</td>\n",
       "    </tr>\n",
       "    <tr>\n",
       "      <th>4</th>\n",
       "      <td>\"redhat-openshift-ocp-release-4.2-informing\"</td>\n",
       "      <td>periodic-ci-openshift-release-master-nightly-4...</td>\n",
       "      <td>Operator results.operator conditions marketplace</td>\n",
       "      <td>[]</td>\n",
       "    </tr>\n",
       "  </tbody>\n",
       "</table>\n",
       "</div>"
      ],
      "text/plain": [
       "                                      dashboard  \\\n",
       "0  \"redhat-openshift-ocp-release-4.2-informing\"   \n",
       "1  \"redhat-openshift-ocp-release-4.2-informing\"   \n",
       "2  \"redhat-openshift-ocp-release-4.2-informing\"   \n",
       "3  \"redhat-openshift-ocp-release-4.2-informing\"   \n",
       "4  \"redhat-openshift-ocp-release-4.2-informing\"   \n",
       "\n",
       "                                                 job  \\\n",
       "0  periodic-ci-openshift-release-master-nightly-4...   \n",
       "1  promote-release-openshift-machine-os-content-e...   \n",
       "2  periodic-ci-openshift-release-master-nightly-4...   \n",
       "3  periodic-ci-openshift-release-master-nightly-4...   \n",
       "4  periodic-ci-openshift-release-master-nightly-4...   \n",
       "\n",
       "                                                test bug_ids  \n",
       "0    Operator results.operator conditions service-ca      []  \n",
       "1                                                Pod      []  \n",
       "2  Operator results.operator conditions cloud-cre...      []  \n",
       "3  Operator results.operator conditions operator-...      []  \n",
       "4   Operator results.operator conditions marketplace      []  "
      ]
     },
     "execution_count": 18,
     "metadata": {},
     "output_type": "execute_result"
    }
   ],
   "source": [
    "linked_and_associated_bugs_df = pd.DataFrame(djt_linked_bugs_list)\n",
    "linked_and_associated_bugs_df.rename(columns={0: 'dashboard', 1: 'job', 2: 'test', 3: 'bug_ids'}, inplace=True)\n",
    "linked_and_associated_bugs_df.head()"
   ]
  },
  {
   "cell_type": "code",
   "execution_count": 19,
   "id": "1f856a83",
   "metadata": {},
   "outputs": [],
   "source": [
    "linked_and_associated_bugs_df.to_parquet('test_bugs.parquet')"
   ]
  },
  {
   "cell_type": "markdown",
   "id": "20c4ea39",
   "metadata": {},
   "source": [
    "## Get Bugzilla Details"
   ]
  },
  {
   "cell_type": "code",
   "execution_count": 17,
   "id": "65a32a94",
   "metadata": {},
   "outputs": [],
   "source": [
    "bzapi = bugzilla.Bugzilla(\"bugzilla.redhat.com\")"
   ]
  },
  {
   "cell_type": "code",
   "execution_count": 18,
   "id": "4783d16a",
   "metadata": {},
   "outputs": [
    {
     "data": {
      "text/plain": [
       "['__class__',\n",
       " '__delattr__',\n",
       " '__dict__',\n",
       " '__dir__',\n",
       " '__doc__',\n",
       " '__eq__',\n",
       " '__format__',\n",
       " '__ge__',\n",
       " '__getattr__',\n",
       " '__getattribute__',\n",
       " '__getstate__',\n",
       " '__gt__',\n",
       " '__hash__',\n",
       " '__init__',\n",
       " '__init_subclass__',\n",
       " '__le__',\n",
       " '__lt__',\n",
       " '__module__',\n",
       " '__ne__',\n",
       " '__new__',\n",
       " '__reduce__',\n",
       " '__reduce_ex__',\n",
       " '__repr__',\n",
       " '__setattr__',\n",
       " '__setstate__',\n",
       " '__sizeof__',\n",
       " '__str__',\n",
       " '__subclasshook__',\n",
       " '__unicode__',\n",
       " '__weakref__',\n",
       " '_aliases',\n",
       " '_rawdata',\n",
       " '_translate_dict',\n",
       " '_update_dict',\n",
       " 'addcc',\n",
       " 'addcomment',\n",
       " 'alias',\n",
       " 'assigned_to',\n",
       " 'assigned_to_detail',\n",
       " 'autorefresh',\n",
       " 'blocks',\n",
       " 'bugzilla',\n",
       " 'cc',\n",
       " 'cc_detail',\n",
       " 'cf_clone_of',\n",
       " 'cf_doc_type',\n",
       " 'cf_environment',\n",
       " 'cf_last_closed',\n",
       " 'cf_release_notes',\n",
       " 'cf_target_upstream_version',\n",
       " 'classification',\n",
       " 'close',\n",
       " 'comments',\n",
       " 'component',\n",
       " 'components',\n",
       " 'creation_time',\n",
       " 'creator',\n",
       " 'creator_detail',\n",
       " 'deletecc',\n",
       " 'depends_on',\n",
       " 'description',\n",
       " 'docs_contact',\n",
       " 'external_bugs',\n",
       " 'fixed_in',\n",
       " 'flags',\n",
       " 'get_attachment_ids',\n",
       " 'get_attachments',\n",
       " 'get_flag_status',\n",
       " 'get_flag_type',\n",
       " 'get_flags',\n",
       " 'get_history_raw',\n",
       " 'get_raw_data',\n",
       " 'getcomments',\n",
       " 'groups',\n",
       " 'id',\n",
       " 'is_cc_accessible',\n",
       " 'is_confirmed',\n",
       " 'is_creator_accessible',\n",
       " 'is_open',\n",
       " 'keywords',\n",
       " 'last_change_time',\n",
       " 'op_sys',\n",
       " 'platform',\n",
       " 'priority',\n",
       " 'product',\n",
       " 'qa_contact',\n",
       " 'qa_contact_detail',\n",
       " 'refresh',\n",
       " 'reload',\n",
       " 'resolution',\n",
       " 'see_also',\n",
       " 'setassignee',\n",
       " 'setstatus',\n",
       " 'severity',\n",
       " 'status',\n",
       " 'sub_component',\n",
       " 'sub_components',\n",
       " 'summary',\n",
       " 'tags',\n",
       " 'target_milestone',\n",
       " 'target_release',\n",
       " 'updateflags',\n",
       " 'url',\n",
       " 'version',\n",
       " 'versions',\n",
       " 'weburl',\n",
       " 'whiteboard']"
      ]
     },
     "execution_count": 18,
     "metadata": {},
     "output_type": "execute_result"
    }
   ],
   "source": [
    "samplebug = bzapi.getbug(1883345)\n",
    "dir(samplebug)"
   ]
  },
  {
   "cell_type": "code",
   "execution_count": 19,
   "id": "988cd24d",
   "metadata": {},
   "outputs": [
    {
     "data": {
      "text/plain": [
       "{'priority': 'low',\n",
       " 'cf_last_closed': <DateTime '20201105T12:46:56' at 0x7f1f7f50f5e0>,\n",
       " 'creator': 'Cesar Wong',\n",
       " 'blocks': [1883348],\n",
       " 'assigned_to_detail': {'real_name': 'Cesar Wong',\n",
       "  'email': 'cewong',\n",
       "  'name': 'cewong',\n",
       "  'id': 368980},\n",
       " 'last_change_time': <DateTime '20201105T12:47:17' at 0x7f1f7f50fcd0>,\n",
       " 'comments': [{'is_private': False,\n",
       "   'count': 0,\n",
       "   'creator': 'cewong',\n",
       "   'time': <DateTime '20200928T20:47:20' at 0x7f1f7f50fbe0>,\n",
       "   'bug_id': 1883345,\n",
       "   'tags': [],\n",
       "   'text': '+++ This bug was initially created as a clone of Bug #1883343 +++\\n\\nRe-enabling selected tests now that associated bugs have been fixed and are in the Red Hat OpenShift on IBM Cloud v4.3 builds\\n\\n[Feature:Prometheus][Conformance] Prometheus when installed on the cluster should provide ingress metrics\\n[Conformance][Area:Networking][Feature:Router] The HAProxy router should enable openshift-monitoring to pull metrics\\n[k8s.io] [sig-node] Pods Extended [k8s.io] Pod Container Status should never report success for a pending container',\n",
       "   'creation_time': <DateTime '20200928T20:47:20' at 0x7f1f7f50f0d0>,\n",
       "   'id': 14328187,\n",
       "   'creator_id': 368980},\n",
       "  {'is_private': False,\n",
       "   'count': 3,\n",
       "   'creator': 'cewong',\n",
       "   'time': <DateTime '20201026T12:09:55' at 0x7f1f7f50f370>,\n",
       "   'bug_id': 1883345,\n",
       "   'tags': [],\n",
       "   'text': 'Moving to VERIFIED as this is only a change to e2e tests, which are passing.',\n",
       "   'creation_time': <DateTime '20201026T12:09:55' at 0x7f1f7f50f340>,\n",
       "   'id': 14428957,\n",
       "   'creator_id': 368980},\n",
       "  {'is_private': False,\n",
       "   'count': 5,\n",
       "   'creator': 'errata-xmlrpc',\n",
       "   'time': <DateTime '20201105T12:46:56' at 0x7f1f7f50f880>,\n",
       "   'bug_id': 1883345,\n",
       "   'tags': [],\n",
       "   'text': 'Since the problem described in this bug report should be\\nresolved in a recent advisory, it has been closed with a\\nresolution of ERRATA.\\n\\nFor information on the advisory (OpenShift Container Platform 4.5.17 bug fix update), and where to find the updated\\nfiles, follow the link below.\\n\\nIf the solution does not work for you, open a new bug report.\\n\\nhttps://access.redhat.com/errata/RHBA-2020:4325',\n",
       "   'creation_time': <DateTime '20201105T12:46:56' at 0x7f1f7f50fd30>,\n",
       "   'id': 14478733,\n",
       "   'creator_id': 241731}],\n",
       " 'is_cc_accessible': True,\n",
       " 'keywords': [],\n",
       " 'creator_detail': {'real_name': 'Cesar Wong',\n",
       "  'email': 'cewong',\n",
       "  'name': 'cewong',\n",
       "  'id': 368980},\n",
       " 'cc': ['Xiaoli Tian'],\n",
       " 'see_also': [],\n",
       " 'groups': [],\n",
       " 'assigned_to': 'Cesar Wong',\n",
       " 'url': '',\n",
       " 'qa_contact': 'Xiaoli Tian',\n",
       " 'creation_time': <DateTime '20200928T20:47:20' at 0x7f1f7f50f610>,\n",
       " 'whiteboard': 'IBMROKS',\n",
       " 'id': 1883345,\n",
       " 'depends_on': [1883343],\n",
       " 'cf_target_upstream_version': '',\n",
       " 'docs_contact': '',\n",
       " 'description': '+++ This bug was initially created as a clone of Bug #1883343 +++\\n\\nRe-enabling selected tests now that associated bugs have been fixed and are in the Red Hat OpenShift on IBM Cloud v4.3 builds\\n\\n[Feature:Prometheus][Conformance] Prometheus when installed on the cluster should provide ingress metrics\\n[Conformance][Area:Networking][Feature:Router] The HAProxy router should enable openshift-monitoring to pull metrics\\n[k8s.io] [sig-node] Pods Extended [k8s.io] Pod Container Status should never report success for a pending container',\n",
       " 'qa_contact_detail': {'real_name': 'Xiaoli Tian',\n",
       "  'email': 'xtian',\n",
       "  'name': 'xtian',\n",
       "  'id': 291334},\n",
       " 'resolution': 'ERRATA',\n",
       " 'classification': 'Red Hat',\n",
       " 'cf_doc_type': 'If docs needed, set a value',\n",
       " 'alias': [],\n",
       " 'op_sys': 'Unspecified',\n",
       " 'target_release': ['4.5.z'],\n",
       " 'status': 'CLOSED',\n",
       " 'cc_detail': [{'real_name': 'Xiaoli Tian',\n",
       "   'email': 'xtian',\n",
       "   'name': 'xtian',\n",
       "   'id': 291334}],\n",
       " 'cf_clone_of': 1883343,\n",
       " 'external_bugs': [{'ext_description': 'Bug 1883345: [release-4.5] Re-enable skipped conformance tests for IBM Cloud',\n",
       "   'ext_bz_id': 131,\n",
       "   'ext_priority': 'None',\n",
       "   'bug_id': 1883345,\n",
       "   'ext_bz_bug_id': 'openshift/origin/pull/25520',\n",
       "   'id': 1398581,\n",
       "   'ext_status': 'closed',\n",
       "   'type': {'must_send': False,\n",
       "    'can_send': False,\n",
       "    'description': 'Github',\n",
       "    'can_get': True,\n",
       "    'url': 'https://github.com/',\n",
       "    'id': 131,\n",
       "    'send_once': False,\n",
       "    'type': 'GitHub',\n",
       "    'full_url': 'https://github.com/%id%'}},\n",
       "  {'ext_description': 'None',\n",
       "   'ext_bz_id': 139,\n",
       "   'ext_priority': 'None',\n",
       "   'bug_id': 1883345,\n",
       "   'ext_bz_bug_id': 'RHBA-2020:4325',\n",
       "   'id': 1660014,\n",
       "   'ext_status': 'None',\n",
       "   'type': {'must_send': False,\n",
       "    'can_send': False,\n",
       "    'description': 'Red Hat Product Errata',\n",
       "    'can_get': False,\n",
       "    'url': 'https://access.redhat.com/errata/',\n",
       "    'id': 139,\n",
       "    'send_once': False,\n",
       "    'type': 'None',\n",
       "    'full_url': 'https://access.redhat.com/errata/%id%'}}],\n",
       " 'summary': 'Re-enable skipped conformance tests for IBM Cloud',\n",
       " 'is_open': False,\n",
       " 'platform': 'Unspecified',\n",
       " 'severity': 'low',\n",
       " 'cf_environment': '',\n",
       " 'flags': [],\n",
       " 'version': '4.5',\n",
       " 'tags': [],\n",
       " 'component': 'ibm-roks-toolkit',\n",
       " 'sub_components': {},\n",
       " 'is_creator_accessible': True,\n",
       " 'cf_release_notes': '',\n",
       " 'product': 'OpenShift Container Platform',\n",
       " 'target_milestone': '---',\n",
       " 'is_confirmed': True,\n",
       " 'components': ['ibm-roks-toolkit'],\n",
       " 'versions': ['4.5'],\n",
       " 'sub_component': '',\n",
       " 'fixed_in': ''}"
      ]
     },
     "execution_count": 19,
     "metadata": {},
     "output_type": "execute_result"
    }
   ],
   "source": [
    "# lets peek at some of the available bug metadata\n",
    "samplebug._rawdata"
   ]
  },
  {
   "cell_type": "code",
   "execution_count": 20,
   "id": "e7db7b85",
   "metadata": {},
   "outputs": [
    {
     "data": {
      "text/plain": [
       "<bugzilla.oldclasses.RHBugzilla at 0x7f1f7ed132b0>"
      ]
     },
     "execution_count": 20,
     "metadata": {},
     "output_type": "execute_result"
    }
   ],
   "source": [
    "samplebug.bugzilla"
   ]
  },
  {
   "cell_type": "code",
   "execution_count": 21,
   "id": "e6fa0321",
   "metadata": {},
   "outputs": [
    {
     "data": {
      "text/plain": [
       "[('summary', 'short_desc'),\n",
       " ('description', 'comment'),\n",
       " ('platform', 'rep_platform'),\n",
       " ('severity', 'bug_severity'),\n",
       " ('status', 'bug_status'),\n",
       " ('id', 'bug_id'),\n",
       " ('blocks', 'blockedby'),\n",
       " ('blocks', 'blocked'),\n",
       " ('depends_on', 'dependson'),\n",
       " ('creator', 'reporter'),\n",
       " ('url', 'bug_file_loc'),\n",
       " ('dupe_of', 'dupe_id'),\n",
       " ('dupe_of', 'dup_id'),\n",
       " ('comments', 'longdescs'),\n",
       " ('creation_time', 'opendate'),\n",
       " ('creation_time', 'creation_ts'),\n",
       " ('whiteboard', 'status_whiteboard'),\n",
       " ('last_change_time', 'delta_ts'),\n",
       " ('fixed_in', 'cf_fixed_in'),\n",
       " ('qa_whiteboard', 'cf_qa_whiteboard'),\n",
       " ('devel_whiteboard', 'cf_devel_whiteboard'),\n",
       " ('internal_whiteboard', 'cf_internal_whiteboard'),\n",
       " ('flags', 'flag_types')]"
      ]
     },
     "execution_count": 21,
     "metadata": {},
     "output_type": "execute_result"
    }
   ],
   "source": [
    "samplebug._aliases"
   ]
  },
  {
   "cell_type": "markdown",
   "id": "1fa2f2a4",
   "metadata": {},
   "source": [
    "**NOTE** `_rawdata` seems redundant, the information is already captured in other fields. And `bugzilla` attribute is depracated / old representation."
   ]
  },
  {
   "cell_type": "code",
   "execution_count": 22,
   "id": "98de9f6c",
   "metadata": {},
   "outputs": [],
   "source": [
    "list(vars(samplebug).keys()).remove('bugzilla')"
   ]
  },
  {
   "cell_type": "code",
   "execution_count": 23,
   "id": "e604be6f",
   "metadata": {},
   "outputs": [
    {
     "data": {
      "text/plain": [
       "['autorefresh',\n",
       " 'priority',\n",
       " 'creator',\n",
       " 'blocks',\n",
       " 'assigned_to_detail',\n",
       " 'last_change_time',\n",
       " 'comments',\n",
       " 'is_cc_accessible',\n",
       " 'keywords',\n",
       " 'creator_detail',\n",
       " 'cc',\n",
       " 'see_also',\n",
       " 'groups',\n",
       " 'assigned_to',\n",
       " 'url',\n",
       " 'qa_contact',\n",
       " 'creation_time',\n",
       " 'whiteboard',\n",
       " 'id',\n",
       " 'depends_on',\n",
       " 'cf_target_upstream_version',\n",
       " 'docs_contact',\n",
       " 'description',\n",
       " 'resolution',\n",
       " 'classification',\n",
       " 'cf_doc_type',\n",
       " 'alias',\n",
       " 'op_sys',\n",
       " 'target_release',\n",
       " 'status',\n",
       " 'cc_detail',\n",
       " 'external_bugs',\n",
       " 'summary',\n",
       " 'is_open',\n",
       " 'platform',\n",
       " 'severity',\n",
       " 'cf_environment',\n",
       " 'flags',\n",
       " 'version',\n",
       " 'tags',\n",
       " 'component',\n",
       " 'sub_components',\n",
       " 'is_creator_accessible',\n",
       " 'cf_release_notes',\n",
       " 'product',\n",
       " 'target_milestone',\n",
       " 'is_confirmed',\n",
       " 'components',\n",
       " 'versions',\n",
       " 'sub_component',\n",
       " 'fixed_in',\n",
       " 'weburl']"
      ]
     },
     "execution_count": 23,
     "metadata": {},
     "output_type": "execute_result"
    }
   ],
   "source": [
    "# get all the available fields, except the depracated and duplicate ones\n",
    "bug_details_to_get = list(vars(samplebug).keys())\n",
    "bug_details_to_get.remove('_rawdata')\n",
    "bug_details_to_get.remove('bugzilla')\n",
    "bug_details_to_get.remove('_aliases')\n",
    "\n",
    "# these two keys are msissing for a lot of bugs\n",
    "bug_details_to_get.remove('qa_contact_detail')\n",
    "bug_details_to_get.remove('cf_last_closed')\n",
    "bug_details_to_get.remove('cf_clone_of')\n",
    "\n",
    "bug_details_to_get"
   ]
  },
  {
   "cell_type": "code",
   "execution_count": 24,
   "id": "6a788d32",
   "metadata": {},
   "outputs": [
    {
     "data": {
      "text/html": [
       "<div>\n",
       "<style scoped>\n",
       "    .dataframe tbody tr th:only-of-type {\n",
       "        vertical-align: middle;\n",
       "    }\n",
       "\n",
       "    .dataframe tbody tr th {\n",
       "        vertical-align: top;\n",
       "    }\n",
       "\n",
       "    .dataframe thead th {\n",
       "        text-align: right;\n",
       "    }\n",
       "</style>\n",
       "<table border=\"1\" class=\"dataframe\">\n",
       "  <thead>\n",
       "    <tr style=\"text-align: right;\">\n",
       "      <th></th>\n",
       "      <th>bug_id</th>\n",
       "      <th>autorefresh</th>\n",
       "      <th>priority</th>\n",
       "      <th>creator</th>\n",
       "      <th>blocks</th>\n",
       "      <th>assigned_to_detail</th>\n",
       "      <th>last_change_time</th>\n",
       "      <th>comments</th>\n",
       "      <th>is_cc_accessible</th>\n",
       "      <th>keywords</th>\n",
       "      <th>...</th>\n",
       "      <th>is_creator_accessible</th>\n",
       "      <th>cf_release_notes</th>\n",
       "      <th>product</th>\n",
       "      <th>target_milestone</th>\n",
       "      <th>is_confirmed</th>\n",
       "      <th>components</th>\n",
       "      <th>versions</th>\n",
       "      <th>sub_component</th>\n",
       "      <th>fixed_in</th>\n",
       "      <th>weburl</th>\n",
       "    </tr>\n",
       "  </thead>\n",
       "  <tbody>\n",
       "    <tr>\n",
       "      <th>0</th>\n",
       "      <td>1890130</td>\n",
       "      <td>NaN</td>\n",
       "      <td>NaN</td>\n",
       "      <td>NaN</td>\n",
       "      <td>NaN</td>\n",
       "      <td>NaN</td>\n",
       "      <td>NaN</td>\n",
       "      <td>NaN</td>\n",
       "      <td>NaN</td>\n",
       "      <td>NaN</td>\n",
       "      <td>...</td>\n",
       "      <td>NaN</td>\n",
       "      <td>NaN</td>\n",
       "      <td>NaN</td>\n",
       "      <td>NaN</td>\n",
       "      <td>NaN</td>\n",
       "      <td>NaN</td>\n",
       "      <td>NaN</td>\n",
       "      <td>NaN</td>\n",
       "      <td>NaN</td>\n",
       "      <td>NaN</td>\n",
       "    </tr>\n",
       "    <tr>\n",
       "      <th>1</th>\n",
       "      <td>1899565</td>\n",
       "      <td>NaN</td>\n",
       "      <td>NaN</td>\n",
       "      <td>NaN</td>\n",
       "      <td>NaN</td>\n",
       "      <td>NaN</td>\n",
       "      <td>NaN</td>\n",
       "      <td>NaN</td>\n",
       "      <td>NaN</td>\n",
       "      <td>NaN</td>\n",
       "      <td>...</td>\n",
       "      <td>NaN</td>\n",
       "      <td>NaN</td>\n",
       "      <td>NaN</td>\n",
       "      <td>NaN</td>\n",
       "      <td>NaN</td>\n",
       "      <td>NaN</td>\n",
       "      <td>NaN</td>\n",
       "      <td>NaN</td>\n",
       "      <td>NaN</td>\n",
       "      <td>NaN</td>\n",
       "    </tr>\n",
       "    <tr>\n",
       "      <th>2</th>\n",
       "      <td>1846669</td>\n",
       "      <td>NaN</td>\n",
       "      <td>NaN</td>\n",
       "      <td>NaN</td>\n",
       "      <td>NaN</td>\n",
       "      <td>NaN</td>\n",
       "      <td>NaN</td>\n",
       "      <td>NaN</td>\n",
       "      <td>NaN</td>\n",
       "      <td>NaN</td>\n",
       "      <td>...</td>\n",
       "      <td>NaN</td>\n",
       "      <td>NaN</td>\n",
       "      <td>NaN</td>\n",
       "      <td>NaN</td>\n",
       "      <td>NaN</td>\n",
       "      <td>NaN</td>\n",
       "      <td>NaN</td>\n",
       "      <td>NaN</td>\n",
       "      <td>NaN</td>\n",
       "      <td>NaN</td>\n",
       "    </tr>\n",
       "    <tr>\n",
       "      <th>3</th>\n",
       "      <td>1874873</td>\n",
       "      <td>NaN</td>\n",
       "      <td>NaN</td>\n",
       "      <td>NaN</td>\n",
       "      <td>NaN</td>\n",
       "      <td>NaN</td>\n",
       "      <td>NaN</td>\n",
       "      <td>NaN</td>\n",
       "      <td>NaN</td>\n",
       "      <td>NaN</td>\n",
       "      <td>...</td>\n",
       "      <td>NaN</td>\n",
       "      <td>NaN</td>\n",
       "      <td>NaN</td>\n",
       "      <td>NaN</td>\n",
       "      <td>NaN</td>\n",
       "      <td>NaN</td>\n",
       "      <td>NaN</td>\n",
       "      <td>NaN</td>\n",
       "      <td>NaN</td>\n",
       "      <td>NaN</td>\n",
       "    </tr>\n",
       "    <tr>\n",
       "      <th>4</th>\n",
       "      <td>1822324</td>\n",
       "      <td>NaN</td>\n",
       "      <td>NaN</td>\n",
       "      <td>NaN</td>\n",
       "      <td>NaN</td>\n",
       "      <td>NaN</td>\n",
       "      <td>NaN</td>\n",
       "      <td>NaN</td>\n",
       "      <td>NaN</td>\n",
       "      <td>NaN</td>\n",
       "      <td>...</td>\n",
       "      <td>NaN</td>\n",
       "      <td>NaN</td>\n",
       "      <td>NaN</td>\n",
       "      <td>NaN</td>\n",
       "      <td>NaN</td>\n",
       "      <td>NaN</td>\n",
       "      <td>NaN</td>\n",
       "      <td>NaN</td>\n",
       "      <td>NaN</td>\n",
       "      <td>NaN</td>\n",
       "    </tr>\n",
       "  </tbody>\n",
       "</table>\n",
       "<p>5 rows × 53 columns</p>\n",
       "</div>"
      ],
      "text/plain": [
       "    bug_id autorefresh priority creator blocks assigned_to_detail  \\\n",
       "0  1890130         NaN      NaN     NaN    NaN                NaN   \n",
       "1  1899565         NaN      NaN     NaN    NaN                NaN   \n",
       "2  1846669         NaN      NaN     NaN    NaN                NaN   \n",
       "3  1874873         NaN      NaN     NaN    NaN                NaN   \n",
       "4  1822324         NaN      NaN     NaN    NaN                NaN   \n",
       "\n",
       "  last_change_time comments is_cc_accessible keywords  ...  \\\n",
       "0              NaN      NaN              NaN      NaN  ...   \n",
       "1              NaN      NaN              NaN      NaN  ...   \n",
       "2              NaN      NaN              NaN      NaN  ...   \n",
       "3              NaN      NaN              NaN      NaN  ...   \n",
       "4              NaN      NaN              NaN      NaN  ...   \n",
       "\n",
       "  is_creator_accessible cf_release_notes product target_milestone  \\\n",
       "0                   NaN              NaN     NaN              NaN   \n",
       "1                   NaN              NaN     NaN              NaN   \n",
       "2                   NaN              NaN     NaN              NaN   \n",
       "3                   NaN              NaN     NaN              NaN   \n",
       "4                   NaN              NaN     NaN              NaN   \n",
       "\n",
       "  is_confirmed components versions sub_component fixed_in weburl  \n",
       "0          NaN        NaN      NaN           NaN      NaN    NaN  \n",
       "1          NaN        NaN      NaN           NaN      NaN    NaN  \n",
       "2          NaN        NaN      NaN           NaN      NaN    NaN  \n",
       "3          NaN        NaN      NaN           NaN      NaN    NaN  \n",
       "4          NaN        NaN      NaN           NaN      NaN    NaN  \n",
       "\n",
       "[5 rows x 53 columns]"
      ]
     },
     "execution_count": 24,
     "metadata": {},
     "output_type": "execute_result"
    }
   ],
   "source": [
    "# create a df containing details of all linked and associated bugs\n",
    "bugs_df = pd.DataFrame(columns=['bug_id'] + bug_details_to_get, index=range(len(all_linked_bugs)))\n",
    "bugs_df = bugs_df.assign(bug_id=all_linked_bugs)\n",
    "bugs_df.head()"
   ]
  },
  {
   "cell_type": "code",
   "execution_count": 25,
   "id": "bf6ebc32",
   "metadata": {},
   "outputs": [
    {
     "name": "stderr",
     "output_type": "stream",
     "text": [
      "100%|██████████| 2858/2858 [31:23<00:00,  1.52it/s]  \n"
     ]
    },
    {
     "data": {
      "text/html": [
       "<div>\n",
       "<style scoped>\n",
       "    .dataframe tbody tr th:only-of-type {\n",
       "        vertical-align: middle;\n",
       "    }\n",
       "\n",
       "    .dataframe tbody tr th {\n",
       "        vertical-align: top;\n",
       "    }\n",
       "\n",
       "    .dataframe thead th {\n",
       "        text-align: right;\n",
       "    }\n",
       "</style>\n",
       "<table border=\"1\" class=\"dataframe\">\n",
       "  <thead>\n",
       "    <tr style=\"text-align: right;\">\n",
       "      <th></th>\n",
       "      <th>bug_id</th>\n",
       "      <th>autorefresh</th>\n",
       "      <th>priority</th>\n",
       "      <th>creator</th>\n",
       "      <th>blocks</th>\n",
       "      <th>assigned_to_detail</th>\n",
       "      <th>last_change_time</th>\n",
       "      <th>comments</th>\n",
       "      <th>is_cc_accessible</th>\n",
       "      <th>keywords</th>\n",
       "      <th>...</th>\n",
       "      <th>is_creator_accessible</th>\n",
       "      <th>cf_release_notes</th>\n",
       "      <th>product</th>\n",
       "      <th>target_milestone</th>\n",
       "      <th>is_confirmed</th>\n",
       "      <th>components</th>\n",
       "      <th>versions</th>\n",
       "      <th>sub_component</th>\n",
       "      <th>fixed_in</th>\n",
       "      <th>weburl</th>\n",
       "    </tr>\n",
       "  </thead>\n",
       "  <tbody>\n",
       "    <tr>\n",
       "      <th>0</th>\n",
       "      <td>1890130</td>\n",
       "      <td>False</td>\n",
       "      <td>urgent</td>\n",
       "      <td>Casey Callendrello</td>\n",
       "      <td>[1890297, 1893809]</td>\n",
       "      <td>{'real_name': 'Casey Callendrello', 'email': '...</td>\n",
       "      <td>20210224T15:27:46</td>\n",
       "      <td>[{'is_private': False, 'count': 0, 'creator': ...</td>\n",
       "      <td>True</td>\n",
       "      <td>[Upgrades]</td>\n",
       "      <td>...</td>\n",
       "      <td>True</td>\n",
       "      <td></td>\n",
       "      <td>OpenShift Container Platform</td>\n",
       "      <td>---</td>\n",
       "      <td>True</td>\n",
       "      <td>[Networking]</td>\n",
       "      <td>[4.7]</td>\n",
       "      <td>openshift-sdn</td>\n",
       "      <td></td>\n",
       "      <td>https://bugzilla.redhat.com/show_bug.cgi?id=18...</td>\n",
       "    </tr>\n",
       "    <tr>\n",
       "      <th>1</th>\n",
       "      <td>1899565</td>\n",
       "      <td>NaN</td>\n",
       "      <td>NaN</td>\n",
       "      <td>NaN</td>\n",
       "      <td>NaN</td>\n",
       "      <td>NaN</td>\n",
       "      <td>NaN</td>\n",
       "      <td>NaN</td>\n",
       "      <td>NaN</td>\n",
       "      <td>NaN</td>\n",
       "      <td>...</td>\n",
       "      <td>NaN</td>\n",
       "      <td>NaN</td>\n",
       "      <td>NaN</td>\n",
       "      <td>NaN</td>\n",
       "      <td>NaN</td>\n",
       "      <td>NaN</td>\n",
       "      <td>NaN</td>\n",
       "      <td>NaN</td>\n",
       "      <td>NaN</td>\n",
       "      <td>NaN</td>\n",
       "    </tr>\n",
       "    <tr>\n",
       "      <th>2</th>\n",
       "      <td>1846669</td>\n",
       "      <td>False</td>\n",
       "      <td>medium</td>\n",
       "      <td>Olimp Bockowski</td>\n",
       "      <td>[1846671]</td>\n",
       "      <td>{'real_name': 'Mike Dame', 'email': 'mdame', '...</td>\n",
       "      <td>20201027T16:07:23</td>\n",
       "      <td>[{'is_private': False, 'count': 0, 'creator': ...</td>\n",
       "      <td>True</td>\n",
       "      <td>[]</td>\n",
       "      <td>...</td>\n",
       "      <td>True</td>\n",
       "      <td></td>\n",
       "      <td>OpenShift Container Platform</td>\n",
       "      <td>---</td>\n",
       "      <td>True</td>\n",
       "      <td>[kube-scheduler]</td>\n",
       "      <td>[4.4]</td>\n",
       "      <td></td>\n",
       "      <td></td>\n",
       "      <td>https://bugzilla.redhat.com/show_bug.cgi?id=18...</td>\n",
       "    </tr>\n",
       "    <tr>\n",
       "      <th>3</th>\n",
       "      <td>1874873</td>\n",
       "      <td>False</td>\n",
       "      <td>unspecified</td>\n",
       "      <td>Christian Huffman</td>\n",
       "      <td>[1879109]</td>\n",
       "      <td>{'real_name': 'Christian Huffman', 'email': 'c...</td>\n",
       "      <td>20200921T17:42:21</td>\n",
       "      <td>[{'is_private': False, 'count': 3, 'creator': ...</td>\n",
       "      <td>True</td>\n",
       "      <td>[UpcomingSprint, Upgrades]</td>\n",
       "      <td>...</td>\n",
       "      <td>True</td>\n",
       "      <td></td>\n",
       "      <td>OpenShift Container Platform</td>\n",
       "      <td>---</td>\n",
       "      <td>True</td>\n",
       "      <td>[Storage]</td>\n",
       "      <td>[4.3.z]</td>\n",
       "      <td></td>\n",
       "      <td></td>\n",
       "      <td>https://bugzilla.redhat.com/show_bug.cgi?id=18...</td>\n",
       "    </tr>\n",
       "    <tr>\n",
       "      <th>4</th>\n",
       "      <td>1822324</td>\n",
       "      <td>False</td>\n",
       "      <td>unspecified</td>\n",
       "      <td>Abu Kashem</td>\n",
       "      <td>[]</td>\n",
       "      <td>{'real_name': 'Vikram Goyal', 'email': 'vigoya...</td>\n",
       "      <td>20201102T01:30:16</td>\n",
       "      <td>[{'is_private': False, 'count': 0, 'creator': ...</td>\n",
       "      <td>True</td>\n",
       "      <td>[]</td>\n",
       "      <td>...</td>\n",
       "      <td>True</td>\n",
       "      <td></td>\n",
       "      <td>OpenShift Container Platform</td>\n",
       "      <td>---</td>\n",
       "      <td>True</td>\n",
       "      <td>[Documentation]</td>\n",
       "      <td>[4.3.0]</td>\n",
       "      <td></td>\n",
       "      <td></td>\n",
       "      <td>https://bugzilla.redhat.com/show_bug.cgi?id=18...</td>\n",
       "    </tr>\n",
       "    <tr>\n",
       "      <th>...</th>\n",
       "      <td>...</td>\n",
       "      <td>...</td>\n",
       "      <td>...</td>\n",
       "      <td>...</td>\n",
       "      <td>...</td>\n",
       "      <td>...</td>\n",
       "      <td>...</td>\n",
       "      <td>...</td>\n",
       "      <td>...</td>\n",
       "      <td>...</td>\n",
       "      <td>...</td>\n",
       "      <td>...</td>\n",
       "      <td>...</td>\n",
       "      <td>...</td>\n",
       "      <td>...</td>\n",
       "      <td>...</td>\n",
       "      <td>...</td>\n",
       "      <td>...</td>\n",
       "      <td>...</td>\n",
       "      <td>...</td>\n",
       "      <td>...</td>\n",
       "    </tr>\n",
       "    <tr>\n",
       "      <th>2853</th>\n",
       "      <td>1928618</td>\n",
       "      <td>False</td>\n",
       "      <td>medium</td>\n",
       "      <td>jmencak</td>\n",
       "      <td>[]</td>\n",
       "      <td>{'real_name': '', 'email': 'jmencak', 'name': ...</td>\n",
       "      <td>20210218T10:27:53</td>\n",
       "      <td>[{'is_private': False, 'count': 0, 'creator': ...</td>\n",
       "      <td>True</td>\n",
       "      <td>[]</td>\n",
       "      <td>...</td>\n",
       "      <td>True</td>\n",
       "      <td></td>\n",
       "      <td>OpenShift Container Platform</td>\n",
       "      <td>---</td>\n",
       "      <td>True</td>\n",
       "      <td>[Node Tuning Operator]</td>\n",
       "      <td>[4.7]</td>\n",
       "      <td></td>\n",
       "      <td></td>\n",
       "      <td>https://bugzilla.redhat.com/show_bug.cgi?id=19...</td>\n",
       "    </tr>\n",
       "    <tr>\n",
       "      <th>2854</th>\n",
       "      <td>1946839</td>\n",
       "      <td>False</td>\n",
       "      <td>high</td>\n",
       "      <td>Neeraj</td>\n",
       "      <td>[]</td>\n",
       "      <td>{'real_name': 'Maciej Szulik', 'email': 'maszu...</td>\n",
       "      <td>20210414T14:04:11</td>\n",
       "      <td>[{'is_private': False, 'count': 0, 'creator': ...</td>\n",
       "      <td>True</td>\n",
       "      <td>[]</td>\n",
       "      <td>...</td>\n",
       "      <td>True</td>\n",
       "      <td>Cause: \\r\\nDuring mirroring we create an autho...</td>\n",
       "      <td>OpenShift Container Platform</td>\n",
       "      <td>---</td>\n",
       "      <td>True</td>\n",
       "      <td>[oc]</td>\n",
       "      <td>[4.6]</td>\n",
       "      <td></td>\n",
       "      <td></td>\n",
       "      <td>https://bugzilla.redhat.com/show_bug.cgi?id=19...</td>\n",
       "    </tr>\n",
       "    <tr>\n",
       "      <th>2855</th>\n",
       "      <td>1925210</td>\n",
       "      <td>False</td>\n",
       "      <td>unspecified</td>\n",
       "      <td>Jakub Hrozek</td>\n",
       "      <td>[]</td>\n",
       "      <td>{'real_name': 'Surya Seetharaman', 'email': 's...</td>\n",
       "      <td>20210218T13:44:01</td>\n",
       "      <td>[{'is_private': False, 'count': 0, 'creator': ...</td>\n",
       "      <td>True</td>\n",
       "      <td>[]</td>\n",
       "      <td>...</td>\n",
       "      <td>True</td>\n",
       "      <td></td>\n",
       "      <td>OpenShift Container Platform</td>\n",
       "      <td>---</td>\n",
       "      <td>True</td>\n",
       "      <td>[Networking]</td>\n",
       "      <td>[4.7]</td>\n",
       "      <td>openshift-sdn</td>\n",
       "      <td></td>\n",
       "      <td>https://bugzilla.redhat.com/show_bug.cgi?id=19...</td>\n",
       "    </tr>\n",
       "    <tr>\n",
       "      <th>2856</th>\n",
       "      <td>1941726</td>\n",
       "      <td>False</td>\n",
       "      <td>unspecified</td>\n",
       "      <td>Elana Hashman</td>\n",
       "      <td>[]</td>\n",
       "      <td>{'real_name': 'Harshal Patil', 'email': 'harpa...</td>\n",
       "      <td>20210409T11:21:34</td>\n",
       "      <td>[{'is_private': False, 'count': 0, 'creator': ...</td>\n",
       "      <td>True</td>\n",
       "      <td>[]</td>\n",
       "      <td>...</td>\n",
       "      <td>True</td>\n",
       "      <td></td>\n",
       "      <td>OpenShift Container Platform</td>\n",
       "      <td>---</td>\n",
       "      <td>True</td>\n",
       "      <td>[Node]</td>\n",
       "      <td>[4.8]</td>\n",
       "      <td>Kubelet</td>\n",
       "      <td></td>\n",
       "      <td>https://bugzilla.redhat.com/show_bug.cgi?id=19...</td>\n",
       "    </tr>\n",
       "    <tr>\n",
       "      <th>2857</th>\n",
       "      <td>1947097</td>\n",
       "      <td>False</td>\n",
       "      <td>unspecified</td>\n",
       "      <td>Tim Rozet</td>\n",
       "      <td>[1947098]</td>\n",
       "      <td>{'real_name': 'Tim Rozet', 'email': 'trozet', ...</td>\n",
       "      <td>20210413T13:17:51</td>\n",
       "      <td>[{'is_private': False, 'count': 0, 'creator': ...</td>\n",
       "      <td>True</td>\n",
       "      <td>[]</td>\n",
       "      <td>...</td>\n",
       "      <td>True</td>\n",
       "      <td></td>\n",
       "      <td>OpenShift Container Platform</td>\n",
       "      <td>---</td>\n",
       "      <td>True</td>\n",
       "      <td>[Networking]</td>\n",
       "      <td>[4.6.z]</td>\n",
       "      <td>ovn-kubernetes</td>\n",
       "      <td></td>\n",
       "      <td>https://bugzilla.redhat.com/show_bug.cgi?id=19...</td>\n",
       "    </tr>\n",
       "  </tbody>\n",
       "</table>\n",
       "<p>2858 rows × 53 columns</p>\n",
       "</div>"
      ],
      "text/plain": [
       "       bug_id autorefresh     priority             creator  \\\n",
       "0     1890130       False       urgent  Casey Callendrello   \n",
       "1     1899565         NaN          NaN                 NaN   \n",
       "2     1846669       False       medium     Olimp Bockowski   \n",
       "3     1874873       False  unspecified   Christian Huffman   \n",
       "4     1822324       False  unspecified          Abu Kashem   \n",
       "...       ...         ...          ...                 ...   \n",
       "2853  1928618       False       medium             jmencak   \n",
       "2854  1946839       False         high              Neeraj   \n",
       "2855  1925210       False  unspecified        Jakub Hrozek   \n",
       "2856  1941726       False  unspecified       Elana Hashman   \n",
       "2857  1947097       False  unspecified           Tim Rozet   \n",
       "\n",
       "                  blocks                                 assigned_to_detail  \\\n",
       "0     [1890297, 1893809]  {'real_name': 'Casey Callendrello', 'email': '...   \n",
       "1                    NaN                                                NaN   \n",
       "2              [1846671]  {'real_name': 'Mike Dame', 'email': 'mdame', '...   \n",
       "3              [1879109]  {'real_name': 'Christian Huffman', 'email': 'c...   \n",
       "4                     []  {'real_name': 'Vikram Goyal', 'email': 'vigoya...   \n",
       "...                  ...                                                ...   \n",
       "2853                  []  {'real_name': '', 'email': 'jmencak', 'name': ...   \n",
       "2854                  []  {'real_name': 'Maciej Szulik', 'email': 'maszu...   \n",
       "2855                  []  {'real_name': 'Surya Seetharaman', 'email': 's...   \n",
       "2856                  []  {'real_name': 'Harshal Patil', 'email': 'harpa...   \n",
       "2857           [1947098]  {'real_name': 'Tim Rozet', 'email': 'trozet', ...   \n",
       "\n",
       "       last_change_time                                           comments  \\\n",
       "0     20210224T15:27:46  [{'is_private': False, 'count': 0, 'creator': ...   \n",
       "1                   NaN                                                NaN   \n",
       "2     20201027T16:07:23  [{'is_private': False, 'count': 0, 'creator': ...   \n",
       "3     20200921T17:42:21  [{'is_private': False, 'count': 3, 'creator': ...   \n",
       "4     20201102T01:30:16  [{'is_private': False, 'count': 0, 'creator': ...   \n",
       "...                 ...                                                ...   \n",
       "2853  20210218T10:27:53  [{'is_private': False, 'count': 0, 'creator': ...   \n",
       "2854  20210414T14:04:11  [{'is_private': False, 'count': 0, 'creator': ...   \n",
       "2855  20210218T13:44:01  [{'is_private': False, 'count': 0, 'creator': ...   \n",
       "2856  20210409T11:21:34  [{'is_private': False, 'count': 0, 'creator': ...   \n",
       "2857  20210413T13:17:51  [{'is_private': False, 'count': 0, 'creator': ...   \n",
       "\n",
       "     is_cc_accessible                    keywords  ... is_creator_accessible  \\\n",
       "0                True                  [Upgrades]  ...                  True   \n",
       "1                 NaN                         NaN  ...                   NaN   \n",
       "2                True                          []  ...                  True   \n",
       "3                True  [UpcomingSprint, Upgrades]  ...                  True   \n",
       "4                True                          []  ...                  True   \n",
       "...               ...                         ...  ...                   ...   \n",
       "2853             True                          []  ...                  True   \n",
       "2854             True                          []  ...                  True   \n",
       "2855             True                          []  ...                  True   \n",
       "2856             True                          []  ...                  True   \n",
       "2857             True                          []  ...                  True   \n",
       "\n",
       "                                       cf_release_notes  \\\n",
       "0                                                         \n",
       "1                                                   NaN   \n",
       "2                                                         \n",
       "3                                                         \n",
       "4                                                         \n",
       "...                                                 ...   \n",
       "2853                                                      \n",
       "2854  Cause: \\r\\nDuring mirroring we create an autho...   \n",
       "2855                                                      \n",
       "2856                                                      \n",
       "2857                                                      \n",
       "\n",
       "                           product target_milestone is_confirmed  \\\n",
       "0     OpenShift Container Platform              ---         True   \n",
       "1                              NaN              NaN          NaN   \n",
       "2     OpenShift Container Platform              ---         True   \n",
       "3     OpenShift Container Platform              ---         True   \n",
       "4     OpenShift Container Platform              ---         True   \n",
       "...                            ...              ...          ...   \n",
       "2853  OpenShift Container Platform              ---         True   \n",
       "2854  OpenShift Container Platform              ---         True   \n",
       "2855  OpenShift Container Platform              ---         True   \n",
       "2856  OpenShift Container Platform              ---         True   \n",
       "2857  OpenShift Container Platform              ---         True   \n",
       "\n",
       "                  components versions   sub_component fixed_in  \\\n",
       "0               [Networking]    [4.7]   openshift-sdn            \n",
       "1                        NaN      NaN             NaN      NaN   \n",
       "2           [kube-scheduler]    [4.4]                            \n",
       "3                  [Storage]  [4.3.z]                            \n",
       "4            [Documentation]  [4.3.0]                            \n",
       "...                      ...      ...             ...      ...   \n",
       "2853  [Node Tuning Operator]    [4.7]                            \n",
       "2854                    [oc]    [4.6]                            \n",
       "2855            [Networking]    [4.7]   openshift-sdn            \n",
       "2856                  [Node]    [4.8]         Kubelet            \n",
       "2857            [Networking]  [4.6.z]  ovn-kubernetes            \n",
       "\n",
       "                                                 weburl  \n",
       "0     https://bugzilla.redhat.com/show_bug.cgi?id=18...  \n",
       "1                                                   NaN  \n",
       "2     https://bugzilla.redhat.com/show_bug.cgi?id=18...  \n",
       "3     https://bugzilla.redhat.com/show_bug.cgi?id=18...  \n",
       "4     https://bugzilla.redhat.com/show_bug.cgi?id=18...  \n",
       "...                                                 ...  \n",
       "2853  https://bugzilla.redhat.com/show_bug.cgi?id=19...  \n",
       "2854  https://bugzilla.redhat.com/show_bug.cgi?id=19...  \n",
       "2855  https://bugzilla.redhat.com/show_bug.cgi?id=19...  \n",
       "2856  https://bugzilla.redhat.com/show_bug.cgi?id=19...  \n",
       "2857  https://bugzilla.redhat.com/show_bug.cgi?id=19...  \n",
       "\n",
       "[2858 rows x 53 columns]"
      ]
     },
     "execution_count": 25,
     "metadata": {},
     "output_type": "execute_result"
    }
   ],
   "source": [
    "def fill_bug_details(bug_row):\n",
    "    global bzapi\n",
    "    \n",
    "    try:\n",
    "        bug = bzapi.getbug(bug_row.bug_id)\n",
    "    except Exception:\n",
    "        return bug_row\n",
    "    \n",
    "    for detail in bug_row.index:\n",
    "        try:\n",
    "            bug_row[detail] = getattr(bug, detail)\n",
    "        except AttributeError:\n",
    "            print(detail)\n",
    "\n",
    "    return bug_row\n",
    "\n",
    "bugs_df.progress_apply(fill_bug_details, axis=1)\n",
    "bugs_df"
   ]
  },
  {
   "cell_type": "code",
   "execution_count": 26,
   "id": "f6a6b497",
   "metadata": {},
   "outputs": [
    {
     "name": "stdout",
     "output_type": "stream",
     "text": [
      "bug_id\n",
      "autorefresh\n",
      "priority\n",
      "creator\n",
      "blocks\n",
      "assigned_to_detail\n",
      "last_change_time\n",
      "comments\n",
      "is_cc_accessible\n",
      "keywords\n",
      "creator_detail\n",
      "cc\n",
      "see_also\n",
      "groups\n",
      "assigned_to\n",
      "url\n",
      "qa_contact\n",
      "creation_time\n",
      "whiteboard\n",
      "id\n",
      "depends_on\n",
      "cf_target_upstream_version\n",
      "docs_contact\n",
      "description\n",
      "resolution\n",
      "classification\n",
      "cf_doc_type\n",
      "alias\n",
      "op_sys\n",
      "target_release\n",
      "status\n",
      "cc_detail\n",
      "external_bugs\n",
      "summary\n",
      "is_open\n",
      "platform\n",
      "severity\n",
      "cf_environment\n",
      "flags\n",
      "version\n",
      "tags\n",
      "component\n",
      "sub_components\n",
      "is_creator_accessible\n",
      "cf_release_notes\n",
      "product\n",
      "target_milestone\n",
      "is_confirmed\n",
      "components\n",
      "versions\n",
      "sub_component\n",
      "fixed_in\n",
      "weburl\n"
     ]
    }
   ],
   "source": [
    "for i in bugs_df.columns:\n",
    "    print(i)"
   ]
  },
  {
   "cell_type": "markdown",
   "id": "4c52ea40",
   "metadata": {},
   "source": [
    "## Bug fields"
   ]
  },
  {
   "cell_type": "markdown",
   "id": "07181e00",
   "metadata": {},
   "source": [
    "### summary"
   ]
  },
  {
   "cell_type": "code",
   "execution_count": 27,
   "id": "045f533a",
   "metadata": {},
   "outputs": [
    {
     "data": {
      "text/plain": [
       "0               multitenant mode consistently fails CI\n",
       "1                                                  NaN\n",
       "2    misleading  scheduler.spec.defaultNodeSelector...\n",
       "3    [4.5] Storage operator stops reconciling when ...\n",
       "4                     Fix openshift doc on default SCC\n",
       "Name: summary, dtype: object"
      ]
     },
     "execution_count": 27,
     "metadata": {},
     "output_type": "execute_result"
    }
   ],
   "source": [
    "bugs_df.summary.head()"
   ]
  },
  {
   "cell_type": "code",
   "execution_count": 29,
   "id": "4d56c67d",
   "metadata": {},
   "outputs": [
    {
     "data": {
      "text/plain": [
       "'multitenant mode consistently fails CI'"
      ]
     },
     "execution_count": 29,
     "metadata": {},
     "output_type": "execute_result"
    }
   ],
   "source": [
    "bugs_df.summary[0]"
   ]
  },
  {
   "cell_type": "markdown",
   "id": "dc986d52",
   "metadata": {},
   "source": [
    "The bug `summary` is a short sentence which succinctly describes what the bug is about."
   ]
  },
  {
   "cell_type": "markdown",
   "id": "46c5fce3",
   "metadata": {},
   "source": [
    "### is_open"
   ]
  },
  {
   "cell_type": "code",
   "execution_count": 30,
   "id": "5ea2e133",
   "metadata": {},
   "outputs": [
    {
     "data": {
      "text/plain": [
       "0    False\n",
       "1      NaN\n",
       "2    False\n",
       "3    False\n",
       "4    False\n",
       "Name: is_open, dtype: object"
      ]
     },
     "execution_count": 30,
     "metadata": {},
     "output_type": "execute_result"
    }
   ],
   "source": [
    "bugs_df.is_open.head()"
   ]
  },
  {
   "cell_type": "markdown",
   "id": "c3a336be",
   "metadata": {},
   "source": [
    "The bug `is_open` field returns a boolean value indicating if the bug is currently open or not"
   ]
  },
  {
   "cell_type": "markdown",
   "id": "aba7cb62",
   "metadata": {},
   "source": [
    "### platform"
   ]
  },
  {
   "cell_type": "code",
   "execution_count": 31,
   "id": "b792ac45",
   "metadata": {},
   "outputs": [
    {
     "data": {
      "text/plain": [
       "0    Unspecified\n",
       "1            NaN\n",
       "2            All\n",
       "3    Unspecified\n",
       "4    Unspecified\n",
       "Name: platform, dtype: object"
      ]
     },
     "execution_count": 31,
     "metadata": {},
     "output_type": "execute_result"
    }
   ],
   "source": [
    "bugs_df.platform.head()"
   ]
  },
  {
   "cell_type": "markdown",
   "id": "15413863",
   "metadata": {},
   "source": [
    "`platform` field indicates the hardware platform the bug was observed on."
   ]
  },
  {
   "cell_type": "code",
   "execution_count": 32,
   "id": "50993eb0",
   "metadata": {},
   "outputs": [
    {
     "name": "stdout",
     "output_type": "stream",
     "text": [
      "['Unspecified' nan 'All' 'x86_64' 's390x' 'ppc64le' 'ppc64']\n"
     ]
    }
   ],
   "source": [
    "platforms = bugs_df.platform.unique()\n",
    "print(platforms)"
   ]
  },
  {
   "cell_type": "code",
   "execution_count": 33,
   "id": "67effd29",
   "metadata": {},
   "outputs": [
    {
     "data": {
      "text/plain": [
       "[2310, 0, 119, 236, 34, 22, 1]"
      ]
     },
     "execution_count": 33,
     "metadata": {},
     "output_type": "execute_result"
    }
   ],
   "source": [
    "platforms_count = []\n",
    "for i in range(len(platforms)):\n",
    "    platforms_count.append((bugs_df.platform == platforms[i]).sum())\n",
    "platforms_count"
   ]
  },
  {
   "cell_type": "code",
   "execution_count": 34,
   "id": "6d5cf350",
   "metadata": {},
   "outputs": [
    {
     "data": {
      "image/png": "[encoded data removed]",
      "text/plain": [
       "<Figure size 1080x720 with 1 Axes>"
      ]
     },
     "metadata": {
      "needs_background": "light"
     },
     "output_type": "display_data"
    }
   ],
   "source": [
    "plt.figure(figsize = (15,10))\n",
    "sns.barplot(platforms, platforms_count)\n",
    "plt.xlabel(\"Platform\")\n",
    "plt.ylabel(\"Bug Count\")\n",
    "plt.title(\"Bug Platform Distribution\")\n",
    "plt.show()"
   ]
  },
  {
   "cell_type": "markdown",
   "id": "0e005f31",
   "metadata": {},
   "source": [
    "### severity"
   ]
  },
  {
   "cell_type": "code",
   "execution_count": 35,
   "id": "12249fdb",
   "metadata": {},
   "outputs": [
    {
     "data": {
      "text/plain": [
       "0         urgent\n",
       "1            NaN\n",
       "2         medium\n",
       "3           high\n",
       "4    unspecified\n",
       "Name: severity, dtype: object"
      ]
     },
     "execution_count": 35,
     "metadata": {},
     "output_type": "execute_result"
    }
   ],
   "source": [
    "bugs_df.severity.head()"
   ]
  },
  {
   "cell_type": "markdown",
   "id": "e9f66d12",
   "metadata": {},
   "source": [
    "The `severity` field categorzies the severity level of each bug. Let's see the different severity levels defined."
   ]
  },
  {
   "cell_type": "code",
   "execution_count": 36,
   "id": "1959a4f6",
   "metadata": {},
   "outputs": [
    {
     "name": "stdout",
     "output_type": "stream",
     "text": [
      "['urgent' nan 'medium' 'high' 'unspecified' 'low']\n"
     ]
    }
   ],
   "source": [
    "severity = bugs_df.severity.unique()\n",
    "print(severity)"
   ]
  },
  {
   "cell_type": "code",
   "execution_count": 37,
   "id": "9b872268",
   "metadata": {},
   "outputs": [
    {
     "data": {
      "text/plain": [
       "[335, 0, 933, 970, 166, 318]"
      ]
     },
     "execution_count": 37,
     "metadata": {},
     "output_type": "execute_result"
    }
   ],
   "source": [
    "severity_count = []\n",
    "for i in range(len(severity)):\n",
    "    severity_count.append((bugs_df.severity == severity[i]).sum())\n",
    "severity_count"
   ]
  },
  {
   "cell_type": "markdown",
   "id": "db3738ae",
   "metadata": {},
   "source": [
    "Let's plot a simple graph to visualize the distribution of bug severities"
   ]
  },
  {
   "cell_type": "code",
   "execution_count": 38,
   "id": "1f6135c8",
   "metadata": {},
   "outputs": [
    {
     "data": {
      "image/png": "[encoded data removed]",
      "text/plain": [
       "<Figure size 1080x720 with 1 Axes>"
      ]
     },
     "metadata": {
      "needs_background": "light"
     },
     "output_type": "display_data"
    }
   ],
   "source": [
    "plt.figure(figsize = (15,10))\n",
    "sns.barplot(severity, severity_count)\n",
    "plt.xlabel(\"Severity Level\")\n",
    "plt.ylabel(\"Bug Count\")\n",
    "plt.title(\"Bug Severity Distribution\")\n",
    "plt.show()"
   ]
  },
  {
   "cell_type": "markdown",
   "id": "21831b9a",
   "metadata": {},
   "source": [
    "### cf_environment"
   ]
  },
  {
   "cell_type": "code",
   "execution_count": 39,
   "id": "409b3be7",
   "metadata": {},
   "outputs": [
    {
     "data": {
      "text/plain": [
       "0       \n",
       "1    NaN\n",
       "2       \n",
       "3       \n",
       "4       \n",
       "Name: cf_environment, dtype: object"
      ]
     },
     "execution_count": 39,
     "metadata": {},
     "output_type": "execute_result"
    }
   ],
   "source": [
    "bugs_df.cf_environment.head()"
   ]
  },
  {
   "cell_type": "code",
   "execution_count": 40,
   "id": "aca15aa0",
   "metadata": {},
   "outputs": [
    {
     "data": {
      "text/plain": [
       "144"
      ]
     },
     "execution_count": 40,
     "metadata": {},
     "output_type": "execute_result"
    }
   ],
   "source": [
    "cf_env = bugs_df.cf_environment.unique()\n",
    "len(cf_env)"
   ]
  },
  {
   "cell_type": "code",
   "execution_count": 41,
   "id": "2f939850",
   "metadata": {},
   "outputs": [
    {
     "data": {
      "text/plain": [
       "nan"
      ]
     },
     "execution_count": 41,
     "metadata": {},
     "output_type": "execute_result"
    }
   ],
   "source": [
    "cf_env[1]"
   ]
  },
  {
   "cell_type": "markdown",
   "id": "781250e0",
   "metadata": {},
   "source": [
    "Not too sure what `cf_environment` is supposed to return"
   ]
  },
  {
   "cell_type": "markdown",
   "id": "93d66aea",
   "metadata": {},
   "source": [
    "### flags"
   ]
  },
  {
   "cell_type": "code",
   "execution_count": 42,
   "id": "2dd8792d",
   "metadata": {},
   "outputs": [
    {
     "data": {
      "text/plain": [
       "0     []\n",
       "1    NaN\n",
       "2     []\n",
       "3     []\n",
       "4     []\n",
       "5     []\n",
       "6     []\n",
       "7     []\n",
       "8     []\n",
       "9     []\n",
       "Name: flags, dtype: object"
      ]
     },
     "execution_count": 42,
     "metadata": {},
     "output_type": "execute_result"
    }
   ],
   "source": [
    "bugs_df['flags'][:10]"
   ]
  },
  {
   "cell_type": "code",
   "execution_count": 43,
   "id": "a8b0389b",
   "metadata": {},
   "outputs": [
    {
     "data": {
      "text/plain": [
       "[]"
      ]
     },
     "execution_count": 43,
     "metadata": {},
     "output_type": "execute_result"
    }
   ],
   "source": [
    "bugs_df['flags'][6]"
   ]
  },
  {
   "cell_type": "markdown",
   "id": "a0669057",
   "metadata": {},
   "source": [
    "The `flags` field seems to return empty for most bugs. For thos bugs which have this field set, it seems to have redundant information which are already available in other bug fields so we can probably ignore this field."
   ]
  },
  {
   "cell_type": "markdown",
   "id": "c5cc8b7d",
   "metadata": {},
   "source": [
    "### version"
   ]
  },
  {
   "cell_type": "code",
   "execution_count": 44,
   "id": "428dcf01",
   "metadata": {},
   "outputs": [
    {
     "data": {
      "text/plain": [
       "0      4.7\n",
       "1      NaN\n",
       "2      4.4\n",
       "3    4.3.z\n",
       "4    4.3.0\n",
       "Name: version, dtype: object"
      ]
     },
     "execution_count": 44,
     "metadata": {},
     "output_type": "execute_result"
    }
   ],
   "source": [
    "bugs_df.version.head()"
   ]
  },
  {
   "cell_type": "code",
   "execution_count": 45,
   "id": "37db0803",
   "metadata": {},
   "outputs": [
    {
     "data": {
      "text/plain": [
       "array(['4.7', nan, '4.4', '4.3.z', '4.3.0', '4.5', '4.6', '4.8', '4.6.z',\n",
       "       '4.2.z', '2.3.0', '8.2', '4.2.0', 'rhacm-2.2.z', '1.3.0', '2.4.0',\n",
       "       '2.5.0', '16.1 (Train)', 'FDB 18.11', '2.4.1', 'FDP 20.E',\n",
       "       'unspecified', 'rhacm-1.0.z', 'RHEL 8.0'], dtype=object)"
      ]
     },
     "execution_count": 45,
     "metadata": {},
     "output_type": "execute_result"
    }
   ],
   "source": [
    "versions = bugs_df.version.unique()\n",
    "versions"
   ]
  },
  {
   "cell_type": "code",
   "execution_count": 46,
   "id": "dfa61853",
   "metadata": {},
   "outputs": [
    {
     "data": {
      "text/plain": [
       "[586,\n",
       " 0,\n",
       " 235,\n",
       " 79,\n",
       " 42,\n",
       " 612,\n",
       " 814,\n",
       " 182,\n",
       " 110,\n",
       " 17,\n",
       " 1,\n",
       " 2,\n",
       " 21,\n",
       " 1,\n",
       " 3,\n",
       " 2,\n",
       " 6,\n",
       " 1,\n",
       " 1,\n",
       " 1,\n",
       " 1,\n",
       " 3,\n",
       " 1,\n",
       " 1]"
      ]
     },
     "execution_count": 46,
     "metadata": {},
     "output_type": "execute_result"
    }
   ],
   "source": [
    "version_count = []\n",
    "for i in range(len(versions)):\n",
    "    version_count.append((bugs_df.version == versions[i]).sum())\n",
    "version_count"
   ]
  },
  {
   "cell_type": "markdown",
   "id": "379848f2",
   "metadata": {},
   "source": [
    "The `version` field indicates the version of the software the bug was found in. Let's plot a simple graph to visualize the distribution of bugs across different software versions."
   ]
  },
  {
   "cell_type": "code",
   "execution_count": 47,
   "id": "0f588cda",
   "metadata": {},
   "outputs": [
    {
     "data": {
      "image/png": "[encoded data removed]",
      "text/plain": [
       "<Figure size 1080x720 with 1 Axes>"
      ]
     },
     "metadata": {
      "needs_background": "light"
     },
     "output_type": "display_data"
    }
   ],
   "source": [
    "plt.figure(figsize = (15,10))\n",
    "sns.barplot(version_count, versions)\n",
    "plt.xlabel(\"Bug Count\")\n",
    "plt.ylabel(\"Software Versions\")\n",
    "plt.title(\"Bug distrbution across different software versions\")\n",
    "plt.show()"
   ]
  },
  {
   "cell_type": "markdown",
   "id": "029f7eb3",
   "metadata": {},
   "source": [
    "### tags"
   ]
  },
  {
   "cell_type": "code",
   "execution_count": 48,
   "id": "15e326e7",
   "metadata": {},
   "outputs": [
    {
     "data": {
      "text/plain": [
       "0     []\n",
       "1    NaN\n",
       "2     []\n",
       "3     []\n",
       "4     []\n",
       "Name: tags, dtype: object"
      ]
     },
     "execution_count": 48,
     "metadata": {},
     "output_type": "execute_result"
    }
   ],
   "source": [
    "bugs_df.tags.head()"
   ]
  },
  {
   "cell_type": "markdown",
   "id": "cdd00762",
   "metadata": {},
   "source": [
    "The `tags` field seems to be empty for most bugs so we can probably ignore this field."
   ]
  },
  {
   "cell_type": "markdown",
   "id": "68fee5b5",
   "metadata": {},
   "source": [
    "### component"
   ]
  },
  {
   "cell_type": "code",
   "execution_count": 49,
   "id": "2e88f755",
   "metadata": {},
   "outputs": [
    {
     "data": {
      "text/plain": [
       "0        Networking\n",
       "1               NaN\n",
       "2    kube-scheduler\n",
       "3           Storage\n",
       "4     Documentation\n",
       "Name: component, dtype: object"
      ]
     },
     "execution_count": 49,
     "metadata": {},
     "output_type": "execute_result"
    }
   ],
   "source": [
    "bugs_df.component.head()"
   ]
  },
  {
   "cell_type": "code",
   "execution_count": 50,
   "id": "76088ad6",
   "metadata": {},
   "outputs": [
    {
     "data": {
      "text/plain": [
       "array(['Networking', nan, 'kube-scheduler', 'Storage', 'Documentation',\n",
       "       'Logging', 'openshift-apiserver', 'DNS', 'Installer',\n",
       "       'kube-apiserver', 'Etcd', 'OLM', 'assisted-installer',\n",
       "       'sandboxed-containers', 'Node', 'Operator SDK',\n",
       "       'Windows Containers', 'Build', 'Cluster Version Operator', 'RHCOS',\n",
       "       'Machine Config Operator', 'Special Resource Operator',\n",
       "       'Image Registry', 'Cloud Compute', 'Node Tuning Operator',\n",
       "       'Routing', 'csi-driver', 'Management Console', 'Monitoring',\n",
       "       'Cloud Credential Operator', 'service-ca', 'Insights Operator',\n",
       "       'openshift-controller-manager', 'Metering Operator',\n",
       "       'oauth-apiserver', 'ibm-roks-toolkit',\n",
       "       'Node Feature Discovery Operator', 'Etcd Operator', 'Unknown',\n",
       "       'config-operator', 'CNF Platform Validation',\n",
       "       'kube-controller-manager', 'apiserver-auth', 'ImageStreams', 'oc',\n",
       "       'Console Kubevirt Plugin', 'Virtualization', 'Multi-Arch',\n",
       "       'File Integrity Operator', 'Migration Tooling',\n",
       "       'Test Infrastructure', 'kernel-rt', 'Compliance Operator',\n",
       "       'Dev Console', 'Release', 'Samples', 'Console Storage Plugin',\n",
       "       'kube-storage-version-migrator', 'Hub Installer',\n",
       "       'Performance Addon Operator', 'Templates', 'Containers', 'Jenkins',\n",
       "       'Console Metal3 Plugin', 'General', 'e2fsprogs', 'SSP', 'crc',\n",
       "       'ISV Operators', 'Bare Metal Hardware Provisioning',\n",
       "       'openstack-octavia', 'OpenShift Update Service', 'ocs-operator',\n",
       "       'DPDK', 'V2V', 'Service Catalog', 'oauth-proxy', 'Telemeter',\n",
       "       'OVN', 'pipelines', 'ovn2.13', 'Eventing', 'Hive'], dtype=object)"
      ]
     },
     "execution_count": 50,
     "metadata": {},
     "output_type": "execute_result"
    }
   ],
   "source": [
    "components = bugs_df.component.unique()\n",
    "components"
   ]
  },
  {
   "cell_type": "code",
   "execution_count": 51,
   "id": "63fe8ab0",
   "metadata": {},
   "outputs": [],
   "source": [
    "component_count = []\n",
    "for i in range(len(components)):\n",
    "    component_count.append((bugs_df.component == components[i]).sum())"
   ]
  },
  {
   "cell_type": "markdown",
   "id": "5dc54dde",
   "metadata": {},
   "source": [
    "Bugs are categorised into Product and Component. Components are second-level categories and the `component` field indicates which component is affected by the bug."
   ]
  },
  {
   "cell_type": "markdown",
   "id": "fb70b364",
   "metadata": {},
   "source": [
    "### sub_component"
   ]
  },
  {
   "cell_type": "code",
   "execution_count": 52,
   "id": "888b6f3b",
   "metadata": {},
   "outputs": [
    {
     "data": {
      "text/plain": [
       "0    openshift-sdn\n",
       "1              NaN\n",
       "2                 \n",
       "3                 \n",
       "4                 \n",
       "Name: sub_component, dtype: object"
      ]
     },
     "execution_count": 52,
     "metadata": {},
     "output_type": "execute_result"
    }
   ],
   "source": [
    "bugs_df.sub_component.head()"
   ]
  },
  {
   "cell_type": "code",
   "execution_count": 53,
   "id": "13a12b26",
   "metadata": {},
   "outputs": [
    {
     "data": {
      "text/plain": [
       "49"
      ]
     },
     "execution_count": 53,
     "metadata": {},
     "output_type": "execute_result"
    }
   ],
   "source": [
    "sub_component = bugs_df.sub_component.unique()\n",
    "len(sub_component)"
   ]
  },
  {
   "cell_type": "code",
   "execution_count": 54,
   "id": "ff41520e",
   "metadata": {},
   "outputs": [
    {
     "data": {
      "text/plain": [
       "array(['openshift-sdn', nan, '', 'ovn-kubernetes', 'OpenShift on RHV',\n",
       "       'OLM', 'assisted-ui', 'Kubelet', 'assisted-service', 'Operators',\n",
       "       'Other Providers', 'Local Storage Operator', 'openshift-installer',\n",
       "       'Autoscaler (HPA, VPA)', 'runtime-cfg', 'kuryr',\n",
       "       'controller-manager', 'CRI-O', 'oVirt Provider', 'mDNS',\n",
       "       'Kubernetes', 'OperatorHub', 'discovery-agent', 'Storage',\n",
       "       'OpenStack Provider', 'oVirt CSI Driver',\n",
       "       'OpenShift on Bare Metal IPI', 'openshift-ansible', 'multus',\n",
       "       'Networking Misc', 'KubeVirt Provider', 'OpenShift on OpenStack',\n",
       "       'SR-IOV', 'Installer', 'stand-alone', 'OpenStack CSI Drivers',\n",
       "       'BareMetal Provider', 'Kubernetes External Components',\n",
       "       'cluster-baremetal-operator', 'operand', 'other',\n",
       "       'OpenShift on KubeVirt', 'ironic', 'apps', 'operator', 'build',\n",
       "       'CPU manager', 'Single Node OpenShift', 'baremetal-operator'],\n",
       "      dtype=object)"
      ]
     },
     "execution_count": 54,
     "metadata": {},
     "output_type": "execute_result"
    }
   ],
   "source": [
    "sub_component"
   ]
  },
  {
   "cell_type": "code",
   "execution_count": 55,
   "id": "dc41f03b",
   "metadata": {},
   "outputs": [
    {
     "data": {
      "text/plain": [
       "[139,\n",
       " 0,\n",
       " 1697,\n",
       " 142,\n",
       " 21,\n",
       " 129,\n",
       " 4,\n",
       " 86,\n",
       " 20,\n",
       " 59,\n",
       " 45,\n",
       " 13,\n",
       " 47,\n",
       " 12,\n",
       " 4,\n",
       " 37,\n",
       " 3,\n",
       " 42,\n",
       " 5,\n",
       " 4,\n",
       " 24,\n",
       " 18,\n",
       " 1,\n",
       " 17,\n",
       " 6,\n",
       " 8,\n",
       " 15,\n",
       " 5,\n",
       " 20,\n",
       " 1,\n",
       " 2,\n",
       " 18,\n",
       " 18,\n",
       " 3,\n",
       " 2,\n",
       " 15,\n",
       " 6,\n",
       " 6,\n",
       " 7,\n",
       " 2,\n",
       " 1,\n",
       " 1,\n",
       " 6,\n",
       " 2,\n",
       " 3,\n",
       " 1,\n",
       " 2,\n",
       " 1,\n",
       " 2]"
      ]
     },
     "execution_count": 55,
     "metadata": {},
     "output_type": "execute_result"
    }
   ],
   "source": [
    "sub_component_count = []\n",
    "for i in range(len(sub_component)):\n",
    "    sub_component_count.append((bugs_df.sub_component == sub_component[i]).sum())\n",
    "sub_component_count"
   ]
  },
  {
   "cell_type": "markdown",
   "id": "18bf9682",
   "metadata": {},
   "source": [
    "The `sub_component` field indicates the sub-component of a specifc component the bug affects."
   ]
  },
  {
   "cell_type": "markdown",
   "id": "106d0c3c",
   "metadata": {},
   "source": [
    "### is_creator_accessible"
   ]
  },
  {
   "cell_type": "code",
   "execution_count": 56,
   "id": "ca0d1df3",
   "metadata": {},
   "outputs": [
    {
     "data": {
      "text/plain": [
       "0    True\n",
       "1     NaN\n",
       "2    True\n",
       "3    True\n",
       "4    True\n",
       "Name: is_creator_accessible, dtype: object"
      ]
     },
     "execution_count": 56,
     "metadata": {},
     "output_type": "execute_result"
    }
   ],
   "source": [
    "bugs_df.is_creator_accessible.head()"
   ]
  },
  {
   "cell_type": "markdown",
   "id": "2d86a651",
   "metadata": {},
   "source": [
    "The `is_creator_accessible` field returns a boolean value, but doesn't seem to be useful for our analysis. "
   ]
  },
  {
   "cell_type": "markdown",
   "id": "5411442e",
   "metadata": {},
   "source": [
    "### cf_release_notes"
   ]
  },
  {
   "cell_type": "code",
   "execution_count": 57,
   "id": "b9955d7b",
   "metadata": {},
   "outputs": [
    {
     "data": {
      "text/plain": [
       "2853                                                     \n",
       "2854    Cause: \\r\\nDuring mirroring we create an autho...\n",
       "2855                                                     \n",
       "2856                                                     \n",
       "2857                                                     \n",
       "Name: cf_release_notes, dtype: object"
      ]
     },
     "execution_count": 57,
     "metadata": {},
     "output_type": "execute_result"
    }
   ],
   "source": [
    "bugs_df.cf_release_notes.tail()"
   ]
  },
  {
   "cell_type": "markdown",
   "id": "b0451b10",
   "metadata": {},
   "source": [
    "The `cf_release_notes` is the basis of the errata or release note for the bug. It can also be used for change logs. However, it seems to be empty for most bugs and can be excluded from our analysis. "
   ]
  },
  {
   "cell_type": "markdown",
   "id": "39851797",
   "metadata": {},
   "source": [
    "### product"
   ]
  },
  {
   "cell_type": "code",
   "execution_count": 58,
   "id": "ab8bb5d3",
   "metadata": {},
   "outputs": [
    {
     "data": {
      "text/plain": [
       "0    OpenShift Container Platform\n",
       "1                             NaN\n",
       "2    OpenShift Container Platform\n",
       "3    OpenShift Container Platform\n",
       "4    OpenShift Container Platform\n",
       "5    OpenShift Container Platform\n",
       "6    OpenShift Container Platform\n",
       "7    OpenShift Container Platform\n",
       "8    OpenShift Container Platform\n",
       "9    OpenShift Container Platform\n",
       "Name: product, dtype: object"
      ]
     },
     "execution_count": 58,
     "metadata": {},
     "output_type": "execute_result"
    }
   ],
   "source": [
    "bugs_df['product'][:10]"
   ]
  },
  {
   "cell_type": "code",
   "execution_count": 59,
   "id": "9487fa1c",
   "metadata": {},
   "outputs": [
    {
     "data": {
      "text/plain": [
       "array(['OpenShift Container Platform', nan,\n",
       "       'Red Hat OpenShift Container Storage',\n",
       "       'Container Native Virtualization (CNV)',\n",
       "       'Red Hat Enterprise Linux 8',\n",
       "       'Red Hat Advanced Cluster Management for Kubernetes',\n",
       "       'Migration Toolkit for Containers', 'Red Hat OpenStack',\n",
       "       'Red Hat Enterprise Linux Fast Datapath',\n",
       "       'Red Hat OpenShift Pipelines', 'OpenShift Serverless'],\n",
       "      dtype=object)"
      ]
     },
     "execution_count": 59,
     "metadata": {},
     "output_type": "execute_result"
    }
   ],
   "source": [
    "products = bugs_df['product'].unique()\n",
    "products"
   ]
  },
  {
   "cell_type": "markdown",
   "id": "f5873ce1",
   "metadata": {},
   "source": [
    "The `product` field indicates the software product affected by the bug."
   ]
  },
  {
   "cell_type": "code",
   "execution_count": 60,
   "id": "65dc5f9b",
   "metadata": {},
   "outputs": [
    {
     "data": {
      "text/plain": [
       "[2696, 0, 2, 10, 2, 2, 3, 1, 3, 2, 1]"
      ]
     },
     "execution_count": 60,
     "metadata": {},
     "output_type": "execute_result"
    }
   ],
   "source": [
    "product_count = []\n",
    "for i in range(len(products)):\n",
    "    product_count.append((bugs_df['product'] == products[i]).sum())\n",
    "product_count"
   ]
  },
  {
   "cell_type": "markdown",
   "id": "9724259a",
   "metadata": {},
   "source": [
    "Let's plot a simple graph to visualize the distribution of bugs across different products"
   ]
  },
  {
   "cell_type": "code",
   "execution_count": 61,
   "id": "7369ccca",
   "metadata": {},
   "outputs": [
    {
     "data": {
      "image/png": "[encoded data removed]",
      "text/plain": [
       "<Figure size 1080x720 with 1 Axes>"
      ]
     },
     "metadata": {
      "needs_background": "light"
     },
     "output_type": "display_data"
    }
   ],
   "source": [
    "plt.figure(figsize = (15,10))\n",
    "sns.barplot(product_count, products)\n",
    "plt.xlabel(\"Bug Count\")\n",
    "plt.ylabel(\"Software Products\")\n",
    "plt.title(\"Bug distrbution across different software products\")\n",
    "plt.show()"
   ]
  },
  {
   "cell_type": "markdown",
   "id": "f18d5ce1",
   "metadata": {},
   "source": [
    "### target_milestone"
   ]
  },
  {
   "cell_type": "code",
   "execution_count": 62,
   "id": "bfef6342",
   "metadata": {},
   "outputs": [
    {
     "data": {
      "text/plain": [
       "0    ---\n",
       "1    NaN\n",
       "2    ---\n",
       "3    ---\n",
       "4    ---\n",
       "Name: target_milestone, dtype: object"
      ]
     },
     "execution_count": 62,
     "metadata": {},
     "output_type": "execute_result"
    }
   ],
   "source": [
    "bugs_df.target_milestone.head()"
   ]
  },
  {
   "cell_type": "code",
   "execution_count": 63,
   "id": "84cf7433",
   "metadata": {},
   "outputs": [
    {
     "data": {
      "text/plain": [
       "array(['---', nan, 'rc'], dtype=object)"
      ]
     },
     "execution_count": 63,
     "metadata": {},
     "output_type": "execute_result"
    }
   ],
   "source": [
    "bugs_df.target_milestone.unique()"
   ]
  },
  {
   "cell_type": "markdown",
   "id": "2139ec05",
   "metadata": {},
   "source": [
    "The `target_milestone` is used to define when the engineer the bug is assigned to expects to fix it. However, it doesn't seem to be applicable for most bugs."
   ]
  },
  {
   "cell_type": "markdown",
   "id": "4d518fd2",
   "metadata": {},
   "source": [
    "### is_confirmed"
   ]
  },
  {
   "cell_type": "code",
   "execution_count": 64,
   "id": "b31d2d0b",
   "metadata": {},
   "outputs": [
    {
     "data": {
      "text/plain": [
       "0    True\n",
       "1     NaN\n",
       "2    True\n",
       "3    True\n",
       "4    True\n",
       "Name: is_confirmed, dtype: object"
      ]
     },
     "execution_count": 64,
     "metadata": {},
     "output_type": "execute_result"
    }
   ],
   "source": [
    "bugs_df.is_confirmed.head()"
   ]
  },
  {
   "cell_type": "markdown",
   "id": "25027d6e",
   "metadata": {},
   "source": [
    "The `is_confirmed` field seems to return a boolean value (not sure what it indicates) and doesn't seem to be useful for our analysis."
   ]
  },
  {
   "cell_type": "markdown",
   "id": "966de202",
   "metadata": {},
   "source": [
    "### components"
   ]
  },
  {
   "cell_type": "code",
   "execution_count": 65,
   "id": "9c2cba2a",
   "metadata": {},
   "outputs": [
    {
     "data": {
      "text/plain": [
       "0        [Networking]\n",
       "1                 NaN\n",
       "2    [kube-scheduler]\n",
       "3           [Storage]\n",
       "4     [Documentation]\n",
       "Name: components, dtype: object"
      ]
     },
     "execution_count": 65,
     "metadata": {},
     "output_type": "execute_result"
    }
   ],
   "source": [
    "bugs_df.components.head()"
   ]
  },
  {
   "cell_type": "markdown",
   "id": "c97ac459",
   "metadata": {},
   "source": [
    "The `components` field returns the same values as the `component` field, but in a list format."
   ]
  },
  {
   "cell_type": "markdown",
   "id": "82e074f5",
   "metadata": {},
   "source": [
    "### sub_components"
   ]
  },
  {
   "cell_type": "code",
   "execution_count": 66,
   "id": "1aabf0e0",
   "metadata": {},
   "outputs": [
    {
     "data": {
      "text/plain": [
       "0    {'Networking': ['openshift-sdn']}\n",
       "1                                  NaN\n",
       "2                                   {}\n",
       "3                                   {}\n",
       "4                                   {}\n",
       "Name: sub_components, dtype: object"
      ]
     },
     "execution_count": 66,
     "metadata": {},
     "output_type": "execute_result"
    }
   ],
   "source": [
    "bugs_df.sub_components.head()"
   ]
  },
  {
   "cell_type": "markdown",
   "id": "5654b839",
   "metadata": {},
   "source": [
    "The `sub_components` field is similar to the `sub_component` field, but returns both the component and sub-component affected by the bug in a dictionary format."
   ]
  },
  {
   "cell_type": "markdown",
   "id": "dfc9d191",
   "metadata": {},
   "source": [
    "### versions"
   ]
  },
  {
   "cell_type": "code",
   "execution_count": 67,
   "id": "32a82844",
   "metadata": {},
   "outputs": [
    {
     "data": {
      "text/plain": [
       "0      [4.7]\n",
       "1        NaN\n",
       "2      [4.4]\n",
       "3    [4.3.z]\n",
       "4    [4.3.0]\n",
       "Name: versions, dtype: object"
      ]
     },
     "execution_count": 67,
     "metadata": {},
     "output_type": "execute_result"
    }
   ],
   "source": [
    "bugs_df.versions.head()"
   ]
  },
  {
   "cell_type": "markdown",
   "id": "d02f9bfc",
   "metadata": {},
   "source": [
    "The `versions` field returns the same values as the `version` field, but in a list format."
   ]
  },
  {
   "cell_type": "markdown",
   "id": "e6ee3301",
   "metadata": {},
   "source": [
    "### fixed_in"
   ]
  },
  {
   "cell_type": "code",
   "execution_count": 68,
   "id": "15fc7199",
   "metadata": {},
   "outputs": [
    {
     "data": {
      "text/plain": [
       "0        \n",
       "1     NaN\n",
       "2        \n",
       "3        \n",
       "4        \n",
       "5        \n",
       "6        \n",
       "7        \n",
       "8        \n",
       "9        \n",
       "10       \n",
       "11       \n",
       "12       \n",
       "13       \n",
       "14       \n",
       "Name: fixed_in, dtype: object"
      ]
     },
     "execution_count": 68,
     "metadata": {},
     "output_type": "execute_result"
    }
   ],
   "source": [
    "bugs_df.fixed_in[:15]"
   ]
  },
  {
   "cell_type": "code",
   "execution_count": 69,
   "id": "7c0b3c98",
   "metadata": {},
   "outputs": [
    {
     "data": {
      "text/plain": [
       "array(['', nan, 'facet-lib v1.4.9', 'OCP-Metal-v1.0.18.1',\n",
       "       'annair@redhat.com, milei@redhat.com',\n",
       "       'cri-o-1.20.2, openshift 4.7.4', '2.5.0',\n",
       "       'runc-1.0.0-82.rhaos4.6.git086e841.el8', 'v0.1.10',\n",
       "       'OCP-Metal-v1.0.9.5', 'OCP-Metal-v1.0.18.2',\n",
       "       'podman-1.6.4-11.rhaos4.3.el8', 'OCP-Metal-v1.0.12.1',\n",
       "       'runc-1.0.0-81.rhaos4.6.git5b757d4',\n",
       "       'assisted-ui-lib v0.0.13-wizard',\n",
       "       '4.7.0-0.nightly-2020-12-17-001141',\n",
       "       'runc-1.0.0-67.rc10.rhaos4.3.el7', '4.8',\n",
       "       'milei@redhat.com , annair@redhat.com',\n",
       "       'virt-cdi-importer 2.6.0-15', 'jkaur@redhat.com',\n",
       "       'OCP-Metal-V1.0.17.3', 'cri-o-1.19.0-62.rhaos4.6.git10c7a86.el8',\n",
       "       '4.6.4', 'podman-1.9.3-1.rhaos4.6.el8'], dtype=object)"
      ]
     },
     "execution_count": 69,
     "metadata": {},
     "output_type": "execute_result"
    }
   ],
   "source": [
    "bugs_df.fixed_in.unique()"
   ]
  },
  {
   "cell_type": "markdown",
   "id": "765d7675",
   "metadata": {},
   "source": [
    "The `fixed_in` field seems to indicate the software version the bug was fixed in. However, it doesn't seem to be applicable to all bugs as some bugs may still be open and not yet resolved."
   ]
  },
  {
   "cell_type": "markdown",
   "id": "f54c8853",
   "metadata": {},
   "source": [
    "### weburl"
   ]
  },
  {
   "cell_type": "code",
   "execution_count": 70,
   "id": "964c2c6c",
   "metadata": {},
   "outputs": [
    {
     "data": {
      "text/plain": [
       "0    https://bugzilla.redhat.com/show_bug.cgi?id=18...\n",
       "1                                                  NaN\n",
       "2    https://bugzilla.redhat.com/show_bug.cgi?id=18...\n",
       "3    https://bugzilla.redhat.com/show_bug.cgi?id=18...\n",
       "4    https://bugzilla.redhat.com/show_bug.cgi?id=18...\n",
       "Name: weburl, dtype: object"
      ]
     },
     "execution_count": 70,
     "metadata": {},
     "output_type": "execute_result"
    }
   ],
   "source": [
    "bugs_df.weburl.head()"
   ]
  },
  {
   "cell_type": "code",
   "execution_count": 71,
   "id": "0452bbf4",
   "metadata": {},
   "outputs": [
    {
     "data": {
      "text/plain": [
       "1890130"
      ]
     },
     "execution_count": 71,
     "metadata": {},
     "output_type": "execute_result"
    }
   ],
   "source": [
    "bugs_df['bug_id'][0]"
   ]
  },
  {
   "cell_type": "code",
   "execution_count": 72,
   "id": "f27609d3",
   "metadata": {},
   "outputs": [
    {
     "data": {
      "text/plain": [
       "'https://bugzilla.redhat.com/show_bug.cgi?id=1890130'"
      ]
     },
     "execution_count": 72,
     "metadata": {},
     "output_type": "execute_result"
    }
   ],
   "source": [
    "bugs_df['weburl'][0]"
   ]
  },
  {
   "cell_type": "markdown",
   "id": "96eedaa1",
   "metadata": {},
   "source": [
    "The `weburl` field contains the bugzilla URL for the respective bug ID"
   ]
  },
  {
   "cell_type": "markdown",
   "id": "9511cde9",
   "metadata": {},
   "source": [
    "## Merge Bug Details + Affected Jobs/Test DF"
   ]
  },
  {
   "cell_type": "code",
   "execution_count": 73,
   "id": "96e2fa0a",
   "metadata": {},
   "outputs": [
    {
     "data": {
      "text/html": [
       "<div>\n",
       "<style scoped>\n",
       "    .dataframe tbody tr th:only-of-type {\n",
       "        vertical-align: middle;\n",
       "    }\n",
       "\n",
       "    .dataframe tbody tr th {\n",
       "        vertical-align: top;\n",
       "    }\n",
       "\n",
       "    .dataframe thead th {\n",
       "        text-align: right;\n",
       "    }\n",
       "</style>\n",
       "<table border=\"1\" class=\"dataframe\">\n",
       "  <thead>\n",
       "    <tr style=\"text-align: right;\">\n",
       "      <th></th>\n",
       "      <th>dashboard</th>\n",
       "      <th>job</th>\n",
       "      <th>test_name</th>\n",
       "      <th>bug_ids</th>\n",
       "    </tr>\n",
       "  </thead>\n",
       "  <tbody>\n",
       "    <tr>\n",
       "      <th>0</th>\n",
       "      <td>\"redhat-openshift-ocp-release-4.2-informing\"</td>\n",
       "      <td>periodic-ci-openshift-release-master-ci-4.2-e2...</td>\n",
       "      <td>{'name': 'Overall', 'original-name': 'Overall'...</td>\n",
       "      <td>[]</td>\n",
       "    </tr>\n",
       "    <tr>\n",
       "      <th>1</th>\n",
       "      <td>\"redhat-openshift-ocp-release-4.2-informing\"</td>\n",
       "      <td>periodic-ci-openshift-release-master-ci-4.2-e2...</td>\n",
       "      <td>{'name': 'operator.Run multi-stage test e2e-aw...</td>\n",
       "      <td>[]</td>\n",
       "    </tr>\n",
       "    <tr>\n",
       "      <th>2</th>\n",
       "      <td>\"redhat-openshift-ocp-release-4.2-informing\"</td>\n",
       "      <td>periodic-ci-openshift-release-master-ci-4.2-e2...</td>\n",
       "      <td>{'name': 'Operator results.operator conditions...</td>\n",
       "      <td>[1936859]</td>\n",
       "    </tr>\n",
       "    <tr>\n",
       "      <th>3</th>\n",
       "      <td>\"redhat-openshift-ocp-release-4.2-informing\"</td>\n",
       "      <td>periodic-ci-openshift-release-master-ci-4.2-e2...</td>\n",
       "      <td>{'name': 'operator.Run multi-stage test e2e-aw...</td>\n",
       "      <td>[]</td>\n",
       "    </tr>\n",
       "    <tr>\n",
       "      <th>4</th>\n",
       "      <td>\"redhat-openshift-ocp-release-4.2-informing\"</td>\n",
       "      <td>periodic-ci-openshift-release-master-ci-4.2-e2...</td>\n",
       "      <td>{'name': 'operator.Run multi-stage test e2e-aw...</td>\n",
       "      <td>[]</td>\n",
       "    </tr>\n",
       "  </tbody>\n",
       "</table>\n",
       "</div>"
      ],
      "text/plain": [
       "                                      dashboard  \\\n",
       "0  \"redhat-openshift-ocp-release-4.2-informing\"   \n",
       "1  \"redhat-openshift-ocp-release-4.2-informing\"   \n",
       "2  \"redhat-openshift-ocp-release-4.2-informing\"   \n",
       "3  \"redhat-openshift-ocp-release-4.2-informing\"   \n",
       "4  \"redhat-openshift-ocp-release-4.2-informing\"   \n",
       "\n",
       "                                                 job  \\\n",
       "0  periodic-ci-openshift-release-master-ci-4.2-e2...   \n",
       "1  periodic-ci-openshift-release-master-ci-4.2-e2...   \n",
       "2  periodic-ci-openshift-release-master-ci-4.2-e2...   \n",
       "3  periodic-ci-openshift-release-master-ci-4.2-e2...   \n",
       "4  periodic-ci-openshift-release-master-ci-4.2-e2...   \n",
       "\n",
       "                                           test_name    bug_ids  \n",
       "0  {'name': 'Overall', 'original-name': 'Overall'...         []  \n",
       "1  {'name': 'operator.Run multi-stage test e2e-aw...         []  \n",
       "2  {'name': 'Operator results.operator conditions...  [1936859]  \n",
       "3  {'name': 'operator.Run multi-stage test e2e-aw...         []  \n",
       "4  {'name': 'operator.Run multi-stage test e2e-aw...         []  "
      ]
     },
     "execution_count": 73,
     "metadata": {},
     "output_type": "execute_result"
    }
   ],
   "source": [
    "linked_and_associated_bugs.head()"
   ]
  },
  {
   "cell_type": "code",
   "execution_count": 74,
   "id": "e43a9a1b",
   "metadata": {},
   "outputs": [
    {
     "data": {
      "text/html": [
       "<div>\n",
       "<style scoped>\n",
       "    .dataframe tbody tr th:only-of-type {\n",
       "        vertical-align: middle;\n",
       "    }\n",
       "\n",
       "    .dataframe tbody tr th {\n",
       "        vertical-align: top;\n",
       "    }\n",
       "\n",
       "    .dataframe thead th {\n",
       "        text-align: right;\n",
       "    }\n",
       "</style>\n",
       "<table border=\"1\" class=\"dataframe\">\n",
       "  <thead>\n",
       "    <tr style=\"text-align: right;\">\n",
       "      <th></th>\n",
       "      <th>dashboard</th>\n",
       "      <th>job</th>\n",
       "      <th>test_name</th>\n",
       "      <th>bug_id</th>\n",
       "    </tr>\n",
       "  </thead>\n",
       "  <tbody>\n",
       "    <tr>\n",
       "      <th>0</th>\n",
       "      <td>\"redhat-openshift-ocp-release-4.2-informing\"</td>\n",
       "      <td>periodic-ci-openshift-release-master-ci-4.2-e2...</td>\n",
       "      <td>{'name': 'Overall', 'original-name': 'Overall'...</td>\n",
       "      <td>NaN</td>\n",
       "    </tr>\n",
       "    <tr>\n",
       "      <th>1</th>\n",
       "      <td>\"redhat-openshift-ocp-release-4.2-informing\"</td>\n",
       "      <td>periodic-ci-openshift-release-master-ci-4.2-e2...</td>\n",
       "      <td>{'name': 'operator.Run multi-stage test e2e-aw...</td>\n",
       "      <td>NaN</td>\n",
       "    </tr>\n",
       "    <tr>\n",
       "      <th>2</th>\n",
       "      <td>\"redhat-openshift-ocp-release-4.2-informing\"</td>\n",
       "      <td>periodic-ci-openshift-release-master-ci-4.2-e2...</td>\n",
       "      <td>{'name': 'Operator results.operator conditions...</td>\n",
       "      <td>1936859</td>\n",
       "    </tr>\n",
       "    <tr>\n",
       "      <th>3</th>\n",
       "      <td>\"redhat-openshift-ocp-release-4.2-informing\"</td>\n",
       "      <td>periodic-ci-openshift-release-master-ci-4.2-e2...</td>\n",
       "      <td>{'name': 'operator.Run multi-stage test e2e-aw...</td>\n",
       "      <td>NaN</td>\n",
       "    </tr>\n",
       "    <tr>\n",
       "      <th>4</th>\n",
       "      <td>\"redhat-openshift-ocp-release-4.2-informing\"</td>\n",
       "      <td>periodic-ci-openshift-release-master-ci-4.2-e2...</td>\n",
       "      <td>{'name': 'operator.Run multi-stage test e2e-aw...</td>\n",
       "      <td>NaN</td>\n",
       "    </tr>\n",
       "  </tbody>\n",
       "</table>\n",
       "</div>"
      ],
      "text/plain": [
       "                                      dashboard  \\\n",
       "0  \"redhat-openshift-ocp-release-4.2-informing\"   \n",
       "1  \"redhat-openshift-ocp-release-4.2-informing\"   \n",
       "2  \"redhat-openshift-ocp-release-4.2-informing\"   \n",
       "3  \"redhat-openshift-ocp-release-4.2-informing\"   \n",
       "4  \"redhat-openshift-ocp-release-4.2-informing\"   \n",
       "\n",
       "                                                 job  \\\n",
       "0  periodic-ci-openshift-release-master-ci-4.2-e2...   \n",
       "1  periodic-ci-openshift-release-master-ci-4.2-e2...   \n",
       "2  periodic-ci-openshift-release-master-ci-4.2-e2...   \n",
       "3  periodic-ci-openshift-release-master-ci-4.2-e2...   \n",
       "4  periodic-ci-openshift-release-master-ci-4.2-e2...   \n",
       "\n",
       "                                           test_name   bug_id  \n",
       "0  {'name': 'Overall', 'original-name': 'Overall'...      NaN  \n",
       "1  {'name': 'operator.Run multi-stage test e2e-aw...      NaN  \n",
       "2  {'name': 'Operator results.operator conditions...  1936859  \n",
       "3  {'name': 'operator.Run multi-stage test e2e-aw...      NaN  \n",
       "4  {'name': 'operator.Run multi-stage test e2e-aw...      NaN  "
      ]
     },
     "execution_count": 74,
     "metadata": {},
     "output_type": "execute_result"
    }
   ],
   "source": [
    "firstdf = linked_and_associated_bugs.explode('bug_ids')\n",
    "firstdf = firstdf.rename(columns={'bug_ids': 'bug_id'})\n",
    "firstdf.head()"
   ]
  },
  {
   "cell_type": "code",
   "execution_count": 75,
   "id": "99c341c0",
   "metadata": {},
   "outputs": [
    {
     "data": {
      "text/html": [
       "<div>\n",
       "<style scoped>\n",
       "    .dataframe tbody tr th:only-of-type {\n",
       "        vertical-align: middle;\n",
       "    }\n",
       "\n",
       "    .dataframe tbody tr th {\n",
       "        vertical-align: top;\n",
       "    }\n",
       "\n",
       "    .dataframe thead th {\n",
       "        text-align: right;\n",
       "    }\n",
       "</style>\n",
       "<table border=\"1\" class=\"dataframe\">\n",
       "  <thead>\n",
       "    <tr style=\"text-align: right;\">\n",
       "      <th></th>\n",
       "      <th>bug_id</th>\n",
       "      <th>autorefresh</th>\n",
       "      <th>priority</th>\n",
       "      <th>creator</th>\n",
       "      <th>blocks</th>\n",
       "      <th>assigned_to_detail</th>\n",
       "      <th>last_change_time</th>\n",
       "      <th>comments</th>\n",
       "      <th>is_cc_accessible</th>\n",
       "      <th>keywords</th>\n",
       "      <th>...</th>\n",
       "      <th>target_milestone</th>\n",
       "      <th>is_confirmed</th>\n",
       "      <th>components</th>\n",
       "      <th>versions</th>\n",
       "      <th>sub_component</th>\n",
       "      <th>fixed_in</th>\n",
       "      <th>weburl</th>\n",
       "      <th>dashboard</th>\n",
       "      <th>job</th>\n",
       "      <th>test_name</th>\n",
       "    </tr>\n",
       "  </thead>\n",
       "  <tbody>\n",
       "    <tr>\n",
       "      <th>0</th>\n",
       "      <td>1899565</td>\n",
       "      <td>NaN</td>\n",
       "      <td>NaN</td>\n",
       "      <td>NaN</td>\n",
       "      <td>NaN</td>\n",
       "      <td>NaN</td>\n",
       "      <td>NaN</td>\n",
       "      <td>NaN</td>\n",
       "      <td>NaN</td>\n",
       "      <td>NaN</td>\n",
       "      <td>...</td>\n",
       "      <td>NaN</td>\n",
       "      <td>NaN</td>\n",
       "      <td>NaN</td>\n",
       "      <td>NaN</td>\n",
       "      <td>NaN</td>\n",
       "      <td>NaN</td>\n",
       "      <td>NaN</td>\n",
       "      <td>\"redhat-openshift-ocp-release-4.2-informing\"</td>\n",
       "      <td>promote-release-openshift-machine-os-content-e...</td>\n",
       "      <td>{'name': 'Pod', 'original-name': 'Pod', 'alert...</td>\n",
       "    </tr>\n",
       "    <tr>\n",
       "      <th>1</th>\n",
       "      <td>1899565</td>\n",
       "      <td>NaN</td>\n",
       "      <td>NaN</td>\n",
       "      <td>NaN</td>\n",
       "      <td>NaN</td>\n",
       "      <td>NaN</td>\n",
       "      <td>NaN</td>\n",
       "      <td>NaN</td>\n",
       "      <td>NaN</td>\n",
       "      <td>NaN</td>\n",
       "      <td>...</td>\n",
       "      <td>NaN</td>\n",
       "      <td>NaN</td>\n",
       "      <td>NaN</td>\n",
       "      <td>NaN</td>\n",
       "      <td>NaN</td>\n",
       "      <td>NaN</td>\n",
       "      <td>NaN</td>\n",
       "      <td>\"redhat-openshift-ocp-release-4.2-informing\"</td>\n",
       "      <td>release-openshift-ocp-installer-e2e-aws-mirror...</td>\n",
       "      <td>{'name': 'Pod', 'original-name': 'Pod', 'alert...</td>\n",
       "    </tr>\n",
       "    <tr>\n",
       "      <th>2</th>\n",
       "      <td>1899565</td>\n",
       "      <td>NaN</td>\n",
       "      <td>NaN</td>\n",
       "      <td>NaN</td>\n",
       "      <td>NaN</td>\n",
       "      <td>NaN</td>\n",
       "      <td>NaN</td>\n",
       "      <td>NaN</td>\n",
       "      <td>NaN</td>\n",
       "      <td>NaN</td>\n",
       "      <td>...</td>\n",
       "      <td>NaN</td>\n",
       "      <td>NaN</td>\n",
       "      <td>NaN</td>\n",
       "      <td>NaN</td>\n",
       "      <td>NaN</td>\n",
       "      <td>NaN</td>\n",
       "      <td>NaN</td>\n",
       "      <td>\"redhat-openshift-ocp-release-4.2-informing\"</td>\n",
       "      <td>release-openshift-ocp-installer-e2e-azure-seri...</td>\n",
       "      <td>{'name': 'Pod', 'original-name': 'Pod', 'alert...</td>\n",
       "    </tr>\n",
       "    <tr>\n",
       "      <th>3</th>\n",
       "      <td>1899565</td>\n",
       "      <td>NaN</td>\n",
       "      <td>NaN</td>\n",
       "      <td>NaN</td>\n",
       "      <td>NaN</td>\n",
       "      <td>NaN</td>\n",
       "      <td>NaN</td>\n",
       "      <td>NaN</td>\n",
       "      <td>NaN</td>\n",
       "      <td>NaN</td>\n",
       "      <td>...</td>\n",
       "      <td>NaN</td>\n",
       "      <td>NaN</td>\n",
       "      <td>NaN</td>\n",
       "      <td>NaN</td>\n",
       "      <td>NaN</td>\n",
       "      <td>NaN</td>\n",
       "      <td>NaN</td>\n",
       "      <td>\"redhat-openshift-ocp-release-4.2-informing\"</td>\n",
       "      <td>release-openshift-ocp-installer-e2e-gcp-serial...</td>\n",
       "      <td>{'name': 'Pod', 'original-name': 'Pod', 'alert...</td>\n",
       "    </tr>\n",
       "    <tr>\n",
       "      <th>4</th>\n",
       "      <td>1899565</td>\n",
       "      <td>NaN</td>\n",
       "      <td>NaN</td>\n",
       "      <td>NaN</td>\n",
       "      <td>NaN</td>\n",
       "      <td>NaN</td>\n",
       "      <td>NaN</td>\n",
       "      <td>NaN</td>\n",
       "      <td>NaN</td>\n",
       "      <td>NaN</td>\n",
       "      <td>...</td>\n",
       "      <td>NaN</td>\n",
       "      <td>NaN</td>\n",
       "      <td>NaN</td>\n",
       "      <td>NaN</td>\n",
       "      <td>NaN</td>\n",
       "      <td>NaN</td>\n",
       "      <td>NaN</td>\n",
       "      <td>\"redhat-openshift-ocp-release-4.2-informing\"</td>\n",
       "      <td>release-openshift-origin-installer-e2e-aws-upg...</td>\n",
       "      <td>{'name': 'Pod', 'original-name': 'Pod', 'alert...</td>\n",
       "    </tr>\n",
       "  </tbody>\n",
       "</table>\n",
       "<p>5 rows × 56 columns</p>\n",
       "</div>"
      ],
      "text/plain": [
       "    bug_id autorefresh priority creator blocks assigned_to_detail  \\\n",
       "0  1899565         NaN      NaN     NaN    NaN                NaN   \n",
       "1  1899565         NaN      NaN     NaN    NaN                NaN   \n",
       "2  1899565         NaN      NaN     NaN    NaN                NaN   \n",
       "3  1899565         NaN      NaN     NaN    NaN                NaN   \n",
       "4  1899565         NaN      NaN     NaN    NaN                NaN   \n",
       "\n",
       "  last_change_time comments is_cc_accessible keywords  ... target_milestone  \\\n",
       "0              NaN      NaN              NaN      NaN  ...              NaN   \n",
       "1              NaN      NaN              NaN      NaN  ...              NaN   \n",
       "2              NaN      NaN              NaN      NaN  ...              NaN   \n",
       "3              NaN      NaN              NaN      NaN  ...              NaN   \n",
       "4              NaN      NaN              NaN      NaN  ...              NaN   \n",
       "\n",
       "  is_confirmed components versions sub_component fixed_in weburl  \\\n",
       "0          NaN        NaN      NaN           NaN      NaN    NaN   \n",
       "1          NaN        NaN      NaN           NaN      NaN    NaN   \n",
       "2          NaN        NaN      NaN           NaN      NaN    NaN   \n",
       "3          NaN        NaN      NaN           NaN      NaN    NaN   \n",
       "4          NaN        NaN      NaN           NaN      NaN    NaN   \n",
       "\n",
       "                                      dashboard  \\\n",
       "0  \"redhat-openshift-ocp-release-4.2-informing\"   \n",
       "1  \"redhat-openshift-ocp-release-4.2-informing\"   \n",
       "2  \"redhat-openshift-ocp-release-4.2-informing\"   \n",
       "3  \"redhat-openshift-ocp-release-4.2-informing\"   \n",
       "4  \"redhat-openshift-ocp-release-4.2-informing\"   \n",
       "\n",
       "                                                 job  \\\n",
       "0  promote-release-openshift-machine-os-content-e...   \n",
       "1  release-openshift-ocp-installer-e2e-aws-mirror...   \n",
       "2  release-openshift-ocp-installer-e2e-azure-seri...   \n",
       "3  release-openshift-ocp-installer-e2e-gcp-serial...   \n",
       "4  release-openshift-origin-installer-e2e-aws-upg...   \n",
       "\n",
       "                                           test_name  \n",
       "0  {'name': 'Pod', 'original-name': 'Pod', 'alert...  \n",
       "1  {'name': 'Pod', 'original-name': 'Pod', 'alert...  \n",
       "2  {'name': 'Pod', 'original-name': 'Pod', 'alert...  \n",
       "3  {'name': 'Pod', 'original-name': 'Pod', 'alert...  \n",
       "4  {'name': 'Pod', 'original-name': 'Pod', 'alert...  \n",
       "\n",
       "[5 rows x 56 columns]"
      ]
     },
     "execution_count": 75,
     "metadata": {},
     "output_type": "execute_result"
    }
   ],
   "source": [
    "res = bugs_df.merge(\n",
    "    firstdf,\n",
    "#     how='left',\n",
    "    left_on='bug_id',\n",
    "    right_on='bug_id',\n",
    ")\n",
    "res.head()"
   ]
  },
  {
   "cell_type": "markdown",
   "id": "05e2832d",
   "metadata": {},
   "source": [
    "## Get Linked Bug Data for All Dashboards"
   ]
  },
  {
   "cell_type": "code",
   "execution_count": null,
   "id": "a4134fc2",
   "metadata": {},
   "outputs": [],
   "source": [
    "# get all linked bugs\n",
    "associated_bugs = list()\n",
    "all_linked_bugs = set()\n",
    "for dashboard in tqdm(dashboard_names):\n",
    "    # get all jobs in this dashboard\n",
    "    response = requests.get(f\"https://testgrid.k8s.io/{dashboard}/summary\")\n",
    "    job_names = response.json().keys()\n",
    "    \n",
    "    for job in job_names:\n",
    "        # get all tests in this job\n",
    "        response = requests.get(f\"https://testgrid.k8s.io/{dashboard}/table?&show-stale-tests=&tab={job}\")\n",
    "        \n",
    "        # params to send to openshift ci search for tests under this job\n",
    "        args = {\n",
    "            'type': 'bug+junit',\n",
    "            'context': '-1',\n",
    "            'name': job,\n",
    "            'maxAge': max_age,\n",
    "            # DO NOT REMOVE THESE KEYS. THIS HACK PREVENTS REQUESTS FROM TIMING OUT.\n",
    "            # read more here - https://stackoverflow.com/a/63377265/9743348\n",
    "            'ajax': 'true',\n",
    "            'mobile': 'false',\n",
    "        }\n",
    "        \n",
    "        for test in response.json().get('tests', []):\n",
    "            testname = test['name'].split('.', maxsplit=1)[-1]\n",
    "            \n",
    "            # use test name as the search phrase\n",
    "            args['search'] = testname.replace('[', '\\[').replace(']', '\\]')\n",
    "\n",
    "            # search for linked and associated bugs for this test\n",
    "            response = requests.post(url, data=args)\n",
    "            soup = BeautifulSoup(response.content)\n",
    "\n",
    "            # the \"em\" objects in soup have information that can tell us\n",
    "            # whether or not this test had a linked bug for the given job name\n",
    "            em_objects = soup.find_all('em')\n",
    "            pct_affected = 0\n",
    "            for em in em_objects:\n",
    "                if 'Found' in em.text:\n",
    "                    pct_affected = float(em.text.split()[2][:-1])\n",
    "                    break\n",
    "\n",
    "            # init to empty for this test result / reset to empty from previous test result\n",
    "            test_bugs = []\n",
    "            \n",
    "            # if percent jobs affected is 0 then the linked bugs correspond to another job\n",
    "            if pct_affected > 0:\n",
    "                result_rows = soup.find('table').find('tbody').find_all('tr')\n",
    "                for row in result_rows:\n",
    "                    column_values = row.find_all('td')\n",
    "                    \n",
    "                    # if there is only 1 column then the result is a junit, not bug\n",
    "                    if len(column_values) > 1:\n",
    "                        # check the second column to make sure it is a bug and not junit details result\n",
    "                        if column_values[1].text == 'bug':\n",
    "                            test_bugs.append(column_values[0].text[1:])\n",
    "                            all_linked_bugs.add(column_values[0].text[1:])\n",
    "\n",
    "            associated_bugs.append((dashboard, job, test, test_bugs))"
   ]
  },
  {
   "cell_type": "markdown",
   "id": "1ba07c31",
   "metadata": {},
   "source": [
    "## todo\n",
    "\n",
    "combine it into a dataframe s.t. each row has one bugzilla id, and columns are status, component, etc + affected tests/jobs."
   ]
  }
 ],
 "metadata": {
  "finalized": {
   "timestamp": 1617764581538,
   "trusted": false
  },
  "kernelspec": {
   "display_name": "Python 3",
   "language": "python",
   "name": "python3"
  },
  "language_info": {
   "codemirror_mode": {
    "name": "ipython",
    "version": 3
   },
   "file_extension": ".py",
   "mimetype": "text/x-python",
   "name": "python",
   "nbconvert_exporter": "python",
   "pygments_lexer": "ipython3",
   "version": "3.8.3"
  },
  "toc": {
   "base_numbering": 1,
   "nav_menu": {},
   "number_sections": true,
   "sideBar": true,
   "skip_h1_title": false,
   "title_cell": "Table of Contents",
   "title_sidebar": "Contents",
   "toc_cell": false,
   "toc_position": {},
   "toc_section_display": true,
   "toc_window_display": false
  }
 },
 "nbformat": 4,
 "nbformat_minor": 5
}
