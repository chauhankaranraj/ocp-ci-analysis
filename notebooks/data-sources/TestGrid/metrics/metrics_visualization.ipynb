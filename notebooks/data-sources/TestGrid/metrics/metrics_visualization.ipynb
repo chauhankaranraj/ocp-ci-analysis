{
 "cells": [
  {
   "cell_type": "markdown",
   "id": "38bcb484",
   "metadata": {},
   "source": [
    "# Exploration and visualization of our collected metrics \n",
    "In this notebook, we will read the collected metrics from ceph and uses interactive widgets to explore and visualize our data."
   ]
  },
  {
   "cell_type": "code",
   "execution_count": 2,
   "id": "28a11bb9",
   "metadata": {
    "ExecuteTime": {
     "end_time": "2021-04-22T14:33:40.089384Z",
     "start_time": "2021-04-22T14:33:40.086889Z"
    },
    "code_folding": [],
    "scrolled": true
   },
   "outputs": [],
   "source": [
    "# !pip install fsspec s3fs ipywidgets"
   ]
  },
  {
   "cell_type": "code",
   "execution_count": 3,
   "id": "dab67ccb",
   "metadata": {
    "ExecuteTime": {
     "end_time": "2021-04-22T14:33:41.862281Z",
     "start_time": "2021-04-22T14:33:40.091543Z"
    },
    "code_folding": [
     0
    ]
   },
   "outputs": [
    {
     "data": {
      "text/plain": [
       "True"
      ]
     },
     "execution_count": 3,
     "metadata": {},
     "output_type": "execute_result"
    }
   ],
   "source": [
    "# imports\n",
    "import os\n",
    "import pdb\n",
    "import ipywidgets as widgets\n",
    "from functools import partial\n",
    "from collections import defaultdict\n",
    "\n",
    "from matplotlib import pyplot as plt\n",
    "import plotly.graph_objects as go\n",
    "import seaborn as sns\n",
    "\n",
    "from ipynb.fs.defs.metric_template import CephCommunication\n",
    "\n",
    "from dotenv import load_dotenv, find_dotenv\n",
    "\n",
    "load_dotenv(find_dotenv())"
   ]
  },
  {
   "cell_type": "code",
   "execution_count": 4,
   "id": "03611238",
   "metadata": {
    "ExecuteTime": {
     "end_time": "2021-04-22T14:33:41.868763Z",
     "start_time": "2021-04-22T14:33:41.864362Z"
    },
    "code_folding": [
     0
    ]
   },
   "outputs": [],
   "source": [
    "## Specify variables\n",
    "\n",
    "## CEPH Bucket variables\n",
    "## Create a .env file on your local with the correct configs\n",
    "s3_endpoint_url = os.getenv(\n",
    "    \"S3_ENDPOINT\", \"https://s3-openshift-storage.apps.zero.massopen.cloud/\"\n",
    ")\n",
    "s3_access_key = os.getenv(\"S3_ACCESS_KEY\", \"v3FnruQ78kfeULDjejUB\")\n",
    "s3_secret_key = os.getenv(\"S3_SECRET_KEY\", \"kJiDiHXncLJOXbaL7Zeb5Ok+gkLt9sWIa1rWAJa0\")\n",
    "s3_bucket = os.getenv(\"S3_BUCKET\", \"opf-datacatalog\")\n",
    "s3_path = os.getenv(\"S3_PROJECT_KEY\", \"metrics\")\n",
    "\n",
    "# Specify whether or not we are running this as a notebook or part of an automation pipeline.\n",
    "AUTOMATION = os.getenv(\"IN_AUTOMATION\", True)"
   ]
  },
  {
   "cell_type": "code",
   "execution_count": 5,
   "id": "81b8edcb",
   "metadata": {
    "ExecuteTime": {
     "end_time": "2021-04-22T14:33:41.999444Z",
     "start_time": "2021-04-22T14:33:41.871073Z"
    },
    "code_folding": [],
    "scrolled": true
   },
   "outputs": [],
   "source": [
    "# ceph connector\n",
    "cc = CephCommunication(s3_endpoint_url, s3_access_key, s3_secret_key, s3_bucket)\n",
    "\n",
    "# bucket where the KPI metrics are stored\n",
    "metrics_bucket = cc.s3_resource.Bucket(s3_bucket)\n",
    "\n",
    "# get all objects (files) corresponding to all metrics\n",
    "available_metric_objs = metrics_bucket.objects.filter(Prefix=s3_path)"
   ]
  },
  {
   "cell_type": "code",
   "execution_count": 6,
   "id": "71a1af83",
   "metadata": {
    "ExecuteTime": {
     "end_time": "2021-04-22T14:34:04.358333Z",
     "start_time": "2021-04-22T14:33:42.048368Z"
    },
    "code_folding": [
     0
    ],
    "scrolled": true
   },
   "outputs": [
    {
     "name": "stdout",
     "output_type": "stream",
     "text": [
      "avg_correlation-2021-4-14.parquet\n",
      "avg_correlation-2021-4-16.parquet\n",
      "avg_correlation-2021-4-19.parquet\n",
      "blocked_timed_out-2021-4-14.parquet\n",
      "blocked_timed_out-2021-4-16.parquet\n",
      "blocked_timed_out-2021-4-19.parquet\n",
      "build_pass_failure-2021-4-14.parquet\n",
      "build_pass_failure-2021-4-16.parquet\n",
      "build_pass_failure-2021-4-19.parquet\n",
      "correlation-2021-4-14.parquet\n",
      "correlation-2021-4-16.parquet\n",
      "correlation-2021-4-19.parquet\n",
      "number_of_flakes-2021-4-14.parquet\n",
      "number_of_flakes-2021-4-16.parquet\n",
      "number_of_flakes-2021-4-19.parquet\n",
      "pct_fixed_each_ts-2021-4-14.parquet\n",
      "pct_fixed_each_ts-2021-4-16.parquet\n",
      "pct_fixed_each_ts-2021-4-19.parquet\n",
      "persistent_failures-2021-4-14.parquet\n",
      "persistent_failures-2021-4-16.parquet\n",
      "persistent_failures-2021-4-19.parquet\n",
      "test_pass_failures-2021-4-14.parquet\n",
      "test_pass_failures-2021-4-16.parquet\n",
      "test_pass_failures-2021-4-19.parquet\n",
      "time_to_test-2021-4-14.parquet\n",
      "time_to_test-2021-4-16.parquet\n",
      "time_to_test-2021-4-19.parquet\n"
     ]
    }
   ],
   "source": [
    "# extract the names of unique KPI metric files, and the KPIs available in them\n",
    "kpis_in_metric_objs = defaultdict(list)\n",
    "dates_available_for_metric_objs = defaultdict(list)\n",
    "\n",
    "for obj in available_metric_objs:\n",
    "    \n",
    "    if obj.key == 'metrics/flake.parquet':\n",
    "        continue\n",
    "    \n",
    "    # split key into prefix \"directory\", metric name, and filename\n",
    "    dir_name, metric_obj_name, file_name = obj.key.split(\"/\")\n",
    "    print(file_name)\n",
    "    \n",
    "    if metric_obj_name not in kpis_in_metric_objs:\n",
    "        # read a sample file to see what kpis are contained in this file\n",
    "        sample_file = cc.read_from_ceph(f\"{dir_name}/{metric_obj_name}\", file_name)\n",
    "\n",
    "        # get these kpis names\n",
    "        kpis = sample_file.columns.drop(\n",
    "            [\"timestamp\", \"tab\", \"job\", \"grid\", \"test\"], errors=\"ignore\"\n",
    "        ).tolist()\n",
    "\n",
    "        # update mapping of \"filename\": \"kpi\"\n",
    "        kpis_in_metric_objs[metric_obj_name] = kpis\n",
    "\n",
    "    # update mapping of \"metric name\": \"dates for which data is available\"\n",
    "    date = file_name.split('-', maxsplit=1)[-1].split('.', maxsplit=1)[0]\n",
    "    dates_available_for_metric_objs[metric_obj_name].append(date)"
   ]
  },
  {
   "cell_type": "code",
   "execution_count": 7,
   "id": "4fa8541e",
   "metadata": {
    "ExecuteTime": {
     "end_time": "2021-04-22T14:34:04.393996Z",
     "start_time": "2021-04-22T14:34:04.360459Z"
    },
    "code_folding": [
     0
    ]
   },
   "outputs": [
    {
     "data": {
      "application/vnd.jupyter.widget-view+json": {
       "model_id": "320d5ae82afa4db08efc2ad17332dc66",
       "version_major": 2,
       "version_minor": 0
      },
      "text/plain": [
       "SelectMultiple(options=('avg_correlation', 'blocked_timed_out', 'build_pass_failure', 'correlation', 'number_o…"
      ]
     },
     "metadata": {},
     "output_type": "display_data"
    },
    {
     "data": {
      "application/vnd.jupyter.widget-view+json": {
       "model_id": "ea07a708ccab416f9de9d7d0a8813543",
       "version_major": 2,
       "version_minor": 0
      },
      "text/plain": [
       "SelectMultiple(options=(), value=())"
      ]
     },
     "metadata": {},
     "output_type": "display_data"
    },
    {
     "data": {
      "application/vnd.jupyter.widget-view+json": {
       "model_id": "840b68a9acc84d79a954fff23658c516",
       "version_major": 2,
       "version_minor": 0
      },
      "text/plain": [
       "SelectMultiple(options=(), value=())"
      ]
     },
     "metadata": {},
     "output_type": "display_data"
    }
   ],
   "source": [
    "# select metric objects and the kpis in them to visualize\n",
    "def on_metric_obj_selected(metric_obj, kpis_widget=None, dates_widget=None):\n",
    "    new_opts = []\n",
    "    for selected_obj in metric_obj.new:\n",
    "        new_opts += kpis_in_metric_objs[selected_obj]\n",
    "    kpis_widget.options = new_opts\n",
    "    \n",
    "    new_opts = []\n",
    "    for selected_obj in metric_obj.new:\n",
    "        new_opts += dates_available_for_metric_objs[selected_obj]\n",
    "    dates_widget.options = new_opts\n",
    "\n",
    "\n",
    "metric_obj_widget = widgets.SelectMultiple(\n",
    "    options=kpis_in_metric_objs.keys(), disabled=False\n",
    ")\n",
    "\n",
    "kpis_widget = widgets.SelectMultiple(options=[], disabled=False)\n",
    "dates_widget = widgets.SelectMultiple(options=[], disabled=False)\n",
    "\n",
    "metric_obj_widget.observe(\n",
    "    partial(on_metric_obj_selected, kpis_widget=kpis_widget, dates_widget=dates_widget),\n",
    "    \"value\",\n",
    ")\n",
    "\n",
    "display(metric_obj_widget)\n",
    "display(kpis_widget)\n",
    "display(dates_widget)"
   ]
  },
  {
   "cell_type": "code",
   "execution_count": 8,
   "id": "2a44c990",
   "metadata": {
    "ExecuteTime": {
     "end_time": "2021-04-22T14:34:23.233492Z",
     "start_time": "2021-04-22T14:34:23.228238Z"
    }
   },
   "outputs": [
    {
     "data": {
      "text/plain": [
       "(('avg_correlation', 'blocked_timed_out', 'correlation'),\n",
       " ('test_blocked', 'test_timed_out'),\n",
       " ('2021-4-14', '2021-4-16', '2021-4-19'))"
      ]
     },
     "execution_count": 8,
     "metadata": {},
     "output_type": "execute_result"
    }
   ],
   "source": [
    "metric_obj_widget.value, kpis_widget.value, dates_widget.value"
   ]
  },
  {
   "cell_type": "code",
   "execution_count": 9,
   "id": "62dd912e",
   "metadata": {
    "ExecuteTime": {
     "end_time": "2021-04-22T14:34:24.157349Z",
     "start_time": "2021-04-22T14:34:24.153037Z"
    }
   },
   "outputs": [
    {
     "data": {
      "text/plain": [
       "('metrics', 'avg_correlation.parquet')"
      ]
     },
     "execution_count": 9,
     "metadata": {},
     "output_type": "execute_result"
    }
   ],
   "source": [
    "s3_path, f\"{metric_obj_widget.value[0]}.parquet\""
   ]
  },
  {
   "cell_type": "markdown",
   "id": "b4f53fe2",
   "metadata": {},
   "source": [
    "## todo\n",
    "- right now this will fail for some cases because not all metrics are under \"metrics\" prefix (see https://github.com/aicoe-aiops/ocp-ci-analysis/issues/217#issuecomment-819624029)\n",
    "- need to know what columns exist in which df when indexing\n",
    "- some dfs have a column \"grid\" vs some others have \"job\"?"
   ]
  },
  {
   "cell_type": "code",
   "execution_count": 10,
   "id": "7bb5f5d8",
   "metadata": {
    "ExecuteTime": {
     "end_time": "2021-04-22T14:34:46.946861Z",
     "start_time": "2021-04-22T14:34:26.828279Z"
    }
   },
   "outputs": [
    {
     "data": {
      "text/html": [
       "<div>\n",
       "<style scoped>\n",
       "    .dataframe tbody tr th:only-of-type {\n",
       "        vertical-align: middle;\n",
       "    }\n",
       "\n",
       "    .dataframe tbody tr th {\n",
       "        vertical-align: top;\n",
       "    }\n",
       "\n",
       "    .dataframe thead th {\n",
       "        text-align: right;\n",
       "    }\n",
       "</style>\n",
       "<table border=\"1\" class=\"dataframe\">\n",
       "  <thead>\n",
       "    <tr style=\"text-align: right;\">\n",
       "      <th></th>\n",
       "      <th>timestamp</th>\n",
       "      <th>tab</th>\n",
       "      <th>grid</th>\n",
       "      <th>test</th>\n",
       "      <th>test_duration</th>\n",
       "      <th>flake</th>\n",
       "    </tr>\n",
       "  </thead>\n",
       "  <tbody>\n",
       "    <tr>\n",
       "      <th>0</th>\n",
       "      <td>2021-04-14 16:12:04</td>\n",
       "      <td>\"redhat-assisted-installer\"</td>\n",
       "      <td>periodic-ci-openshift-release-master-nightly-4...</td>\n",
       "      <td>Overall</td>\n",
       "      <td>105.583333</td>\n",
       "      <td>False</td>\n",
       "    </tr>\n",
       "    <tr>\n",
       "      <th>1</th>\n",
       "      <td>2021-04-14 15:05:09</td>\n",
       "      <td>\"redhat-assisted-installer\"</td>\n",
       "      <td>periodic-ci-openshift-release-master-nightly-4...</td>\n",
       "      <td>Overall</td>\n",
       "      <td>87.216667</td>\n",
       "      <td>False</td>\n",
       "    </tr>\n",
       "    <tr>\n",
       "      <th>2</th>\n",
       "      <td>2021-04-14 13:13:36</td>\n",
       "      <td>\"redhat-assisted-installer\"</td>\n",
       "      <td>periodic-ci-openshift-release-master-nightly-4...</td>\n",
       "      <td>Overall</td>\n",
       "      <td>99.100000</td>\n",
       "      <td>False</td>\n",
       "    </tr>\n",
       "    <tr>\n",
       "      <th>3</th>\n",
       "      <td>2021-04-14 02:02:46</td>\n",
       "      <td>\"redhat-assisted-installer\"</td>\n",
       "      <td>periodic-ci-openshift-release-master-nightly-4...</td>\n",
       "      <td>Overall</td>\n",
       "      <td>107.316667</td>\n",
       "      <td>False</td>\n",
       "    </tr>\n",
       "    <tr>\n",
       "      <th>4</th>\n",
       "      <td>2021-04-13 19:12:42</td>\n",
       "      <td>\"redhat-assisted-installer\"</td>\n",
       "      <td>periodic-ci-openshift-release-master-nightly-4...</td>\n",
       "      <td>Overall</td>\n",
       "      <td>85.583333</td>\n",
       "      <td>False</td>\n",
       "    </tr>\n",
       "  </tbody>\n",
       "</table>\n",
       "</div>"
      ],
      "text/plain": [
       "            timestamp                          tab  \\\n",
       "0 2021-04-14 16:12:04  \"redhat-assisted-installer\"   \n",
       "1 2021-04-14 15:05:09  \"redhat-assisted-installer\"   \n",
       "2 2021-04-14 13:13:36  \"redhat-assisted-installer\"   \n",
       "3 2021-04-14 02:02:46  \"redhat-assisted-installer\"   \n",
       "4 2021-04-13 19:12:42  \"redhat-assisted-installer\"   \n",
       "\n",
       "                                                grid     test  test_duration  \\\n",
       "0  periodic-ci-openshift-release-master-nightly-4...  Overall     105.583333   \n",
       "1  periodic-ci-openshift-release-master-nightly-4...  Overall      87.216667   \n",
       "2  periodic-ci-openshift-release-master-nightly-4...  Overall      99.100000   \n",
       "3  periodic-ci-openshift-release-master-nightly-4...  Overall     107.316667   \n",
       "4  periodic-ci-openshift-release-master-nightly-4...  Overall      85.583333   \n",
       "\n",
       "   flake  \n",
       "0  False  \n",
       "1  False  \n",
       "2  False  \n",
       "3  False  \n",
       "4  False  "
      ]
     },
     "execution_count": 10,
     "metadata": {},
     "output_type": "execute_result"
    }
   ],
   "source": [
    "# read one of the kpis to plot the selected metrics objects from ceph\n",
    "metric = cc.read_from_ceph(\n",
    "    s3_path,\n",
    "    f\"number_of_flakes/number_of_flakes-2021-4-14.parquet\",\n",
    ")\n",
    "# metric[[\"timestamp\", \"tab\", \"grid\", \"test\"] + [kpis_widget.value[1]]].head()\n",
    "\n",
    "overall_metric = metric[metric['test']=='Overall']\n",
    "overall_metric.head()"
   ]
  },
  {
   "cell_type": "markdown",
   "id": "04779411",
   "metadata": {},
   "source": [
    "## Next step 1\n",
    "\n",
    "assuming there is a metric df that looks like above, plot something like this:\n",
    "\n",
    "Given a dashboard (e.g. \"redhat-openshift-ocp-release-4.6-informing”), plot the `Overall` KPI values for jobs within the dashboard (e.g. plot the Overall test duration for “periodic-ci-openshift-release-master-ci-4.6-e2e-aws” vs “periodic-ci-openshift-release-master-ci-4.6-e2e-gcp” vs …)"
   ]
  },
  {
   "cell_type": "code",
   "execution_count": 11,
   "id": "public-leader",
   "metadata": {
    "ExecuteTime": {
     "end_time": "2021-04-22T14:34:47.463868Z",
     "start_time": "2021-04-22T14:34:46.950145Z"
    },
    "code_folding": []
   },
   "outputs": [],
   "source": [
    "# widget to select tab\n",
    "tabs = overall_metric['tab'].unique()\n",
    "tabs_widget = widgets.Dropdown(\n",
    "    options=tabs,\n",
    "    value=tabs[0],\n",
    ")\n",
    "\n",
    "# init plot data\n",
    "traces = []\n",
    "grids = overall_metric[overall_metric['tab']==tabs_widget.value]['grid'].unique()\n",
    "for curr_grid in grids:\n",
    "    curr_grid_df = overall_metric[\n",
    "        (overall_metric['tab']==tabs_widget.value) & \\\n",
    "        (overall_metric['grid']==curr_grid)\n",
    "    ]\n",
    "    \n",
    "    traces.append(go.Scatter(\n",
    "        x=curr_grid_df['timestamp'],\n",
    "        y=curr_grid_df['test_duration'],\n",
    "        mode='lines+markers',\n",
    "        name=curr_grid,\n",
    "    ))\n",
    "\n",
    "# init plot\n",
    "figwig = go.FigureWidget(\n",
    "    data=traces,\n",
    "    layout=go.Layout(\n",
    "        xaxis_title=\"Timestamp\",\n",
    "        yaxis_title=\"Test Duration\",\n",
    "        legend=dict(\n",
    "            yanchor=\"bottom\",\n",
    "            y=-0.8,\n",
    "            xanchor=\"left\",\n",
    "            x=0.2,\n",
    "        )\n",
    "    )\n",
    ")"
   ]
  },
  {
   "cell_type": "code",
   "execution_count": 12,
   "id": "damaged-indonesia",
   "metadata": {
    "ExecuteTime": {
     "end_time": "2021-04-22T14:34:47.508195Z",
     "start_time": "2021-04-22T14:34:47.466635Z"
    },
    "code_folding": []
   },
   "outputs": [
    {
     "data": {
      "application/vnd.jupyter.widget-view+json": {
       "model_id": "3d648524647b45c6ac2fda27e91fb523",
       "version_major": 2,
       "version_minor": 0
      },
      "text/plain": [
       "VBox(children=(Dropdown(options=('\"redhat-assisted-installer\"', '\"redhat-openshift-informing\"', '\"redhat-opens…"
      ]
     },
     "metadata": {},
     "output_type": "display_data"
    }
   ],
   "source": [
    "def update_traces_plot(change):\n",
    "    global figwig, tabs_widget, overall_metric\n",
    "    \n",
    "    # new selections\n",
    "    curr_tab = tabs_widget.value\n",
    "    grids = overall_metric[overall_metric['tab']==curr_tab]['grid'].unique()\n",
    "    \n",
    "    # create new data\n",
    "    traces = []\n",
    "    for curr_grid in grids:\n",
    "        curr_grid_df = overall_metric[\n",
    "            (overall_metric['tab']==curr_tab) & \\\n",
    "            (overall_metric['grid']==curr_grid)\n",
    "        ]\n",
    "\n",
    "        traces.append(\n",
    "            go.Scatter(\n",
    "                x=curr_grid_df['timestamp'],\n",
    "                y=curr_grid_df['test_duration'],\n",
    "                mode='lines+markers',\n",
    "                name=curr_grid,\n",
    "            )\n",
    "        )\n",
    "        \n",
    "    # add data corresponding to new tab\n",
    "    with figwig.batch_update():\n",
    "        figwig.data = []\n",
    "        figwig.add_traces(traces)\n",
    "\n",
    "tabs_widget.observe(update_traces_plot, names=\"value\")\n",
    "display(widgets.VBox([tabs_widget, figwig]))"
   ]
  },
  {
   "cell_type": "markdown",
   "id": "635eda3d",
   "metadata": {},
   "source": [
    "## Next step 2\n",
    "\n",
    "assuming there is a metric df that looks like above, plot something like this:\n",
    "\n",
    "Given a job (e.g. “periodic-ci-openshift-release-master-ci-4.6-e2e-gcp”), plot the KPI values for tests within the job (e.g. plot duration for “operator conditions cloud-credential” vs “operator conditions cluster-autoscaler” vs ...)"
   ]
  },
  {
   "cell_type": "code",
   "execution_count": null,
   "id": "68e4e4fa",
   "metadata": {},
   "outputs": [],
   "source": [
    "def plot_builds_tab_grid(tab, job, df, metric_name):\n",
    "\n",
    "    \"\"\"\n",
    "    Takes in input as tab and grid and plots change in\n",
    "    build pass/fail over time\n",
    "    \"\"\"\n",
    "\n",
    "    df = df[(df[\"tab\"] == tab) | (df[\"job\"] == job)]\n",
    "\n",
    "    sns.set(rc={\"figure.figsize\": (15, 5)})\n",
    "    sns.lineplot(x=\"timestamp\", y=metric_name, data=df)\n",
    "    plt.xlabel(\"Timestamps\")\n",
    "    plt.ylabel(metric_name)\n",
    "    plt.title(\"Change in Build Pass or Failure over time\")\n",
    "    plt.show()"
   ]
  },
  {
   "cell_type": "code",
   "execution_count": null,
   "id": "ad54d2ad",
   "metadata": {},
   "outputs": [],
   "source": [
    "plot_builds_tab_grid(\n",
    "    \"redhat-openshift-informing\",\n",
    "    \"release-openshift-okd-installer-e2e-aws-upgrade\",\n",
    "    metric,\n",
    "    \"test_duration\",\n",
    ")"
   ]
  },
  {
   "cell_type": "code",
   "execution_count": null,
   "id": "62a19a2a",
   "metadata": {},
   "outputs": [],
   "source": [
    "plot_builds_tab_grid(\n",
    "    \"redhat-openshift-informing\",\n",
    "    \"release-openshift-okd-installer-e2e-aws-upgrade\",\n",
    "    metric,\n",
    "    \"build_status\",\n",
    ")"
   ]
  },
  {
   "cell_type": "code",
   "execution_count": null,
   "id": "0f8fe737",
   "metadata": {},
   "outputs": [],
   "source": []
  }
 ],
 "metadata": {
  "finalized": {
   "timestamp": 1619106418993,
   "trusted": false
  },
  "kernelspec": {
   "display_name": "Python 3",
   "language": "python",
   "name": "python3"
  },
  "language_info": {
   "codemirror_mode": {
    "name": "ipython",
    "version": 3
   },
   "file_extension": ".py",
   "mimetype": "text/x-python",
   "name": "python",
   "nbconvert_exporter": "python",
   "pygments_lexer": "ipython3",
   "version": "3.8.3"
  },
  "toc": {
   "base_numbering": 1,
   "nav_menu": {},
   "number_sections": true,
   "sideBar": true,
   "skip_h1_title": false,
   "title_cell": "Table of Contents",
   "title_sidebar": "Contents",
   "toc_cell": false,
   "toc_position": {},
   "toc_section_display": true,
   "toc_window_display": false
  }
 },
 "nbformat": 4,
 "nbformat_minor": 5
}
