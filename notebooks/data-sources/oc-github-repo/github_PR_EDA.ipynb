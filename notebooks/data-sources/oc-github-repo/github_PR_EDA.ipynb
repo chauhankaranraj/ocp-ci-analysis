{
 "cells": [
  {
   "cell_type": "markdown",
   "id": "87ce4861",
   "metadata": {},
   "source": [
    "# GitHub Data for OpenShift Origins\n",
    "\n",
    "In this notebook we will quickly walk through how to access and start analyzing the PR data for the OpenShift origins repository. The ultimate hope for this work is that we will be able to connect the Github data (code changes) directly with the Bugs, Telemetry, TestGrid and Prow datasets in order to develop a complete picture of the OpenShift CI process.   "
   ]
  },
  {
   "cell_type": "markdown",
   "id": "8487b194",
   "metadata": {},
   "source": [
    "## Data Collection:\n",
    "\n",
    "The Thoth team already developed a tool for collecting data and perfoming analysis on GitHub repositoreis, [MI-Scheduler](https://github.com/thoth-station/mi-scheduler). So, we will not be accessing the data directly from GitHub, but from ceph storage after requesting that the OpenShift/Origin repo be included in the MI-Scheduler tool (see [issue](https://github.com/thoth-station/mi-scheduler/issues/130) for details).    "
   ]
  },
  {
   "cell_type": "code",
   "execution_count": 1,
   "id": "96002b35",
   "metadata": {},
   "outputs": [],
   "source": [
    "import os\n",
    "import json\n",
    "import gzip\n",
    "import boto3\n",
    "\n",
    "import numpy as np\n",
    "import pandas as pd\n",
    "\n",
    "import matplotlib.pyplot as plt\n",
    "import seaborn as sns\n",
    "\n",
    "from dotenv import load_dotenv, find_dotenv\n",
    "\n",
    "load_dotenv(find_dotenv())\n",
    "sns.set(rc={\"figure.figsize\": (20, 10)})"
   ]
  },
  {
   "cell_type": "code",
   "execution_count": 2,
   "id": "65035e3b",
   "metadata": {},
   "outputs": [],
   "source": [
    "## CEPH Bucket variables\n",
    "## Create a .env file on your local with the correct configs,\n",
    "s3_endpoint_url = os.getenv(\"S3_ENDPOINT\")\n",
    "s3_access_key = os.getenv(\"S3_ACCESS_KEY\")\n",
    "s3_secret_key = os.getenv(\"S3_SECRET_KEY\")\n",
    "s3_bucket = os.getenv(\"S3_BUCKET\")\n",
    "s3_path = os.getenv(\"S3_PROJECT_KEY\", \"metrics\")\n",
    "s3_input_data_path = \"raw_data\"\n",
    "REMOTE = os.getenv(\"REMOTE\")"
   ]
  },
  {
   "cell_type": "code",
   "execution_count": 3,
   "id": "84177d5c",
   "metadata": {},
   "outputs": [
    {
     "name": "stdout",
     "output_type": "stream",
     "text": [
      "getting dataset from ceph\n"
     ]
    }
   ],
   "source": [
    "data_path = \"../../../data/raw/GitHub/PullRequest.json.gz\"\n",
    "\n",
    "if REMOTE:\n",
    "    print(\"getting dataset from ceph\")\n",
    "    s3 = boto3.resource(\n",
    "        \"s3\",\n",
    "        endpoint_url=s3_endpoint_url,\n",
    "        aws_access_key_id=s3_access_key,\n",
    "        aws_secret_access_key=s3_secret_key,\n",
    "    )\n",
    "    content = s3.Object(s3_bucket, \"thoth/mi/openshift/origin/PullRequest.json\")\n",
    "    file = content.get()[\"Body\"].read().decode(\"utf-8\")\n",
    "    prs = json.loads(file)\n",
    "\n",
    "    with gzip.open(data_path, \"wb\") as out_file:\n",
    "        out_file.write(json.dumps(prs).encode(\"utf-8\"))\n",
    "\n",
    "else:\n",
    "    print(\"getting dataset from local\")\n",
    "    with gzip.open(data_path, \"r\") as f:\n",
    "        prs = json.loads(f.read().decode(\"utf-8\"))\n",
    "\n",
    "\n",
    "pr_df = pd.DataFrame(prs).T"
   ]
  },
  {
   "cell_type": "code",
   "execution_count": 4,
   "id": "d2b5ed74",
   "metadata": {},
   "outputs": [
    {
     "data": {
      "text/plain": [
       "(17183, 15)"
      ]
     },
     "execution_count": 4,
     "metadata": {},
     "output_type": "execute_result"
    }
   ],
   "source": [
    "pr_df.shape"
   ]
  },
  {
   "cell_type": "code",
   "execution_count": 5,
   "id": "0e3ef0cf",
   "metadata": {},
   "outputs": [
    {
     "data": {
      "text/html": [
       "<div>\n",
       "<style scoped>\n",
       "    .dataframe tbody tr th:only-of-type {\n",
       "        vertical-align: middle;\n",
       "    }\n",
       "\n",
       "    .dataframe tbody tr th {\n",
       "        vertical-align: top;\n",
       "    }\n",
       "\n",
       "    .dataframe thead th {\n",
       "        text-align: right;\n",
       "    }\n",
       "</style>\n",
       "<table border=\"1\" class=\"dataframe\">\n",
       "  <thead>\n",
       "    <tr style=\"text-align: right;\">\n",
       "      <th></th>\n",
       "      <th>title</th>\n",
       "      <th>body</th>\n",
       "      <th>size</th>\n",
       "      <th>created_by</th>\n",
       "      <th>created_at</th>\n",
       "      <th>closed_at</th>\n",
       "      <th>closed_by</th>\n",
       "      <th>merged_at</th>\n",
       "      <th>commits_number</th>\n",
       "      <th>changed_files_number</th>\n",
       "      <th>interactions</th>\n",
       "      <th>reviews</th>\n",
       "      <th>labels</th>\n",
       "      <th>commits</th>\n",
       "      <th>changed_files</th>\n",
       "    </tr>\n",
       "  </thead>\n",
       "  <tbody>\n",
       "    <tr>\n",
       "      <th>26100</th>\n",
       "      <td>bug 1949306: add e2e test to block usage of re...</td>\n",
       "      <td>Right now this is set to flake in CI and provi...</td>\n",
       "      <td>XXL</td>\n",
       "      <td>deads2k</td>\n",
       "      <td>1619104429</td>\n",
       "      <td>1619253940</td>\n",
       "      <td>openshift-merge-robot</td>\n",
       "      <td>1619253940</td>\n",
       "      <td>2</td>\n",
       "      <td>135</td>\n",
       "      <td>{'deads2k': 1, 'openshift-ci-robot': 307, 'stt...</td>\n",
       "      <td>{}</td>\n",
       "      <td>[approved, bugzilla/severity-urgent, bugzilla/...</td>\n",
       "      <td>[13b0e99d5f35d85998af9f07eb0c5b7d6fcc0dd0, 0c3...</td>\n",
       "      <td>[go.mod, go.sum, test/extended/apiserver/api_r...</td>\n",
       "    </tr>\n",
       "    <tr>\n",
       "      <th>26099</th>\n",
       "      <td>bug 1951705: allow HighOverallControlPlaneCPU ...</td>\n",
       "      <td>adding the alert in https://github.com/openshi...</td>\n",
       "      <td>XS</td>\n",
       "      <td>deads2k</td>\n",
       "      <td>1619091511</td>\n",
       "      <td>1619113470</td>\n",
       "      <td>openshift-merge-robot</td>\n",
       "      <td>1619113470</td>\n",
       "      <td>1</td>\n",
       "      <td>1</td>\n",
       "      <td>{'openshift-ci-robot': 508, 'deads2k': 43, 'op...</td>\n",
       "      <td>{}</td>\n",
       "      <td>[approved, bugzilla/severity-high, bugzilla/va...</td>\n",
       "      <td>[7bc10c83eea29010f3b735c41847d43a992f606c]</td>\n",
       "      <td>[test/extended/prometheus/prometheus.go]</td>\n",
       "    </tr>\n",
       "  </tbody>\n",
       "</table>\n",
       "</div>"
      ],
      "text/plain": [
       "                                                   title  \\\n",
       "26100  bug 1949306: add e2e test to block usage of re...   \n",
       "26099  bug 1951705: allow HighOverallControlPlaneCPU ...   \n",
       "\n",
       "                                                    body size created_by  \\\n",
       "26100  Right now this is set to flake in CI and provi...  XXL    deads2k   \n",
       "26099  adding the alert in https://github.com/openshi...   XS    deads2k   \n",
       "\n",
       "       created_at   closed_at              closed_by   merged_at  \\\n",
       "26100  1619104429  1619253940  openshift-merge-robot  1619253940   \n",
       "26099  1619091511  1619113470  openshift-merge-robot  1619113470   \n",
       "\n",
       "      commits_number changed_files_number  \\\n",
       "26100              2                  135   \n",
       "26099              1                    1   \n",
       "\n",
       "                                            interactions reviews  \\\n",
       "26100  {'deads2k': 1, 'openshift-ci-robot': 307, 'stt...      {}   \n",
       "26099  {'openshift-ci-robot': 508, 'deads2k': 43, 'op...      {}   \n",
       "\n",
       "                                                  labels  \\\n",
       "26100  [approved, bugzilla/severity-urgent, bugzilla/...   \n",
       "26099  [approved, bugzilla/severity-high, bugzilla/va...   \n",
       "\n",
       "                                                 commits  \\\n",
       "26100  [13b0e99d5f35d85998af9f07eb0c5b7d6fcc0dd0, 0c3...   \n",
       "26099         [7bc10c83eea29010f3b735c41847d43a992f606c]   \n",
       "\n",
       "                                           changed_files  \n",
       "26100  [go.mod, go.sum, test/extended/apiserver/api_r...  \n",
       "26099           [test/extended/prometheus/prometheus.go]  "
      ]
     },
     "execution_count": 5,
     "metadata": {},
     "output_type": "execute_result"
    }
   ],
   "source": [
    "pr_df.head(2)"
   ]
  },
  {
   "cell_type": "markdown",
   "id": "8c34c7b8",
   "metadata": {},
   "source": [
    "## Inspect the dataset\n",
    "\n",
    "Let's unroll a single row and see what kind of information we have access to. "
   ]
  },
  {
   "cell_type": "code",
   "execution_count": 6,
   "id": "a9facf8f",
   "metadata": {},
   "outputs": [
    {
     "data": {
      "text/plain": [
       "title                                   Bug 1949050: fix images.sh script\n",
       "body                    This is a followup to https://github.com/opens...\n",
       "size                                                                    S\n",
       "created_by                                                        soltysh\n",
       "created_at                                                     1618993979\n",
       "closed_at                                                      1619069721\n",
       "closed_by                                           openshift-merge-robot\n",
       "merged_at                                                      1619069721\n",
       "commits_number                                                          1\n",
       "changed_files_number                                                    2\n",
       "interactions            {'openshift-ci-robot': 279, 'soltysh': 2, 'ope...\n",
       "reviews                 {'641526396': {'author': 'adambkaplan', 'words...\n",
       "labels                  [approved, bugzilla/severity-high, bugzilla/va...\n",
       "commits                        [06830a927241a44ae24e9a4b5b2ac75f666d36bc]\n",
       "changed_files           [test/extended/testdata/bindata.go, test/exten...\n",
       "Name: 26096, dtype: object"
      ]
     },
     "execution_count": 6,
     "metadata": {},
     "output_type": "execute_result"
    }
   ],
   "source": [
    "pr = pr_df.iloc[4]\n",
    "pr"
   ]
  },
  {
   "cell_type": "markdown",
   "id": "dc4bcd6e",
   "metadata": {},
   "source": [
    "</br>\n",
    "\n",
    "#### **Available Fields:**\n",
    "\n",
    "* **title**: text providing a short description of the of the PR.\n",
    "\n",
    "* **body**: text providing additional details regarding the changes. \n",
    "\n",
    "* **size**: categorical label generated by GitHub summerizing the size of the changes made to the code base. \n",
    "\n",
    "* **created/closed/merged_at**: timestamps for when the PR was opened, merged and finally closed. \n",
    "\n",
    "* **created/closed_by**: usernames for contributors who created the PR and closed it. \n",
    "\n",
    "* **commits_number**: integer indicating the number of commits in the PR.\n",
    "\n",
    "* **changed_files_number**: integer indicating the number of files changed.\n",
    "\n",
    "The remaining fields appear to be collections of items, let's unroll each one and see what additional information they provide.\n"
   ]
  },
  {
   "cell_type": "code",
   "execution_count": 7,
   "id": "27445f86",
   "metadata": {},
   "outputs": [
    {
     "data": {
      "text/plain": [
       "{'openshift-ci-robot': 279,\n",
       " 'soltysh': 2,\n",
       " 'openshift-bot': 180,\n",
       " 'openshift-ci[bot]': 79}"
      ]
     },
     "execution_count": 7,
     "metadata": {},
     "output_type": "execute_result"
    }
   ],
   "source": [
    "pr[\"interactions\"]"
   ]
  },
  {
   "cell_type": "markdown",
   "id": "1080c4e0",
   "metadata": {},
   "source": [
    "**interactions**: a dictionary with usernames for keys and the number of times they interacted with the PR as the value."
   ]
  },
  {
   "cell_type": "code",
   "execution_count": 8,
   "id": "b3e38d9d",
   "metadata": {},
   "outputs": [
    {
     "data": {
      "text/plain": [
       "{'641526396': {'author': 'adambkaplan',\n",
       "  'words_count': 1,\n",
       "  'submitted_at': 1619032331,\n",
       "  'state': 'APPROVED'}}"
      ]
     },
     "execution_count": 8,
     "metadata": {},
     "output_type": "execute_result"
    }
   ],
   "source": [
    "pr[\"reviews\"]"
   ]
  },
  {
   "cell_type": "markdown",
   "id": "99caaa98",
   "metadata": {},
   "source": [
    "**reviews**: a dictionary of reviews that includes an id number key along with fields for author, word_count, submitted timestamp and state of review."
   ]
  },
  {
   "cell_type": "code",
   "execution_count": 9,
   "id": "4978b772",
   "metadata": {},
   "outputs": [
    {
     "data": {
      "text/plain": [
       "['approved', 'bugzilla/severity-high', 'bugzilla/valid-bug', 'lgtm']"
      ]
     },
     "execution_count": 9,
     "metadata": {},
     "output_type": "execute_result"
    }
   ],
   "source": [
    "pr[\"labels\"]"
   ]
  },
  {
   "cell_type": "markdown",
   "id": "94974930",
   "metadata": {},
   "source": [
    "**labels**: a list of labels tagged to the PR describing some of its attributes"
   ]
  },
  {
   "cell_type": "code",
   "execution_count": 10,
   "id": "e7ef4e54",
   "metadata": {},
   "outputs": [
    {
     "data": {
      "text/plain": [
       "['06830a927241a44ae24e9a4b5b2ac75f666d36bc']"
      ]
     },
     "execution_count": 10,
     "metadata": {},
     "output_type": "execute_result"
    }
   ],
   "source": [
    "pr[\"commits\"]"
   ]
  },
  {
   "cell_type": "markdown",
   "id": "7da64691",
   "metadata": {},
   "source": [
    "**commits**: a list of commit hashes that point to specific changes made to the repo's history"
   ]
  },
  {
   "cell_type": "code",
   "execution_count": 11,
   "id": "e22a830a",
   "metadata": {},
   "outputs": [
    {
     "name": "stdout",
     "output_type": "stream",
     "text": [
      "2\n"
     ]
    },
    {
     "data": {
      "text/plain": [
       "['test/extended/testdata/bindata.go',\n",
       " 'test/extended/testdata/cmd/test/cmd/images.sh']"
      ]
     },
     "execution_count": 11,
     "metadata": {},
     "output_type": "execute_result"
    }
   ],
   "source": [
    "print(len(pr[\"changed_files\"]))\n",
    "pr[\"changed_files\"][0:10]"
   ]
  },
  {
   "cell_type": "markdown",
   "id": "3a23d3b2",
   "metadata": {},
   "source": [
    "**changed_files**: a list of the paths and filenames for every file changed by this PR."
   ]
  },
  {
   "cell_type": "markdown",
   "id": "ef595953",
   "metadata": {},
   "source": [
    "We now know what we have access to in this dataset. It is a collection of numerical, categorical and textual features used to describe a PR. This gives us a lot of potential avenues to explore from an EDA and Data Science perspective. But is also creates an additional challenge insofar as we'll need to do a bit of feature engineering to get this data into format that is ready to be ingested by any ML models. "
   ]
  },
  {
   "cell_type": "markdown",
   "id": "24d37182",
   "metadata": {},
   "source": [
    "## Example feature engineering\n",
    "\n",
    "In the next section we will do some basic feature engineering and correlation analyis on our dataset to see if anything interesting jumps out at us. \n",
    "\n",
    "\n",
    "**Text Fields**\n",
    "\n",
    "There is a whole sub-field (NLP) dedicated to analyzing text and encoding it into numerical representations. However, I want to do something simple here, so I will derive a feature called `body_size` which will simply be the number of words in the body of the PR. I will then use this numerical value to describe the body of the PR.  \n",
    "\n",
    "**Timestamps**\n",
    "\n",
    "When something was created or closed is somewhat arbitary outside of a timeseries analysis. Let's try and convert these values into something more comparable. I will derive a new feature called `time_to_merge` which will be the difference (in seconds) between the `created_at` and `merged_at` fields.\n",
    "\n",
    "**New DataFrame**\n",
    "\n",
    "With my two new derived metrics, I will create a dataframe with a subset of only numerical features that I can compare directly and start to do some lite analysis on."
   ]
  },
  {
   "cell_type": "code",
   "execution_count": 12,
   "id": "39aff5cb",
   "metadata": {},
   "outputs": [],
   "source": [
    "# derive body_size\n",
    "pr_df[\"body_size\"] = pr_df[\"body\"].fillna(\"\").apply(lambda x: len(x.split()))\n",
    "\n",
    "# derive time_to_merege\n",
    "pr_df[\"time_to_merge\"] = pr_df[\"merged_at\"] - pr_df[\"created_at\"]\n",
    "pr_df[\"time_to_merge\"] = pr_df[\"time_to_merge\"].astype(\"float\")\n",
    "# NOTE: we cant fill NA  with 0 because that would imply the PR got merged instantaneously\n",
    "\n",
    "# convert changed_files_number to int\n",
    "pr_df[\"changed_files_number\"] = pr_df[\"changed_files_number\"].astype(\"int\")\n",
    "\n",
    "# subset DataFrame\n",
    "feature_df = pr_df[[\"body_size\", \"time_to_merge\", \"changed_files_number\"]]"
   ]
  },
  {
   "cell_type": "code",
   "execution_count": 13,
   "id": "9c220f0e",
   "metadata": {},
   "outputs": [
    {
     "data": {
      "text/html": [
       "<div>\n",
       "<style scoped>\n",
       "    .dataframe tbody tr th:only-of-type {\n",
       "        vertical-align: middle;\n",
       "    }\n",
       "\n",
       "    .dataframe tbody tr th {\n",
       "        vertical-align: top;\n",
       "    }\n",
       "\n",
       "    .dataframe thead th {\n",
       "        text-align: right;\n",
       "    }\n",
       "</style>\n",
       "<table border=\"1\" class=\"dataframe\">\n",
       "  <thead>\n",
       "    <tr style=\"text-align: right;\">\n",
       "      <th></th>\n",
       "      <th>body_size</th>\n",
       "      <th>time_to_merge</th>\n",
       "      <th>changed_files_number</th>\n",
       "    </tr>\n",
       "  </thead>\n",
       "  <tbody>\n",
       "    <tr>\n",
       "      <th>26100</th>\n",
       "      <td>37</td>\n",
       "      <td>149511.0</td>\n",
       "      <td>135</td>\n",
       "    </tr>\n",
       "    <tr>\n",
       "      <th>26099</th>\n",
       "      <td>30</td>\n",
       "      <td>21959.0</td>\n",
       "      <td>1</td>\n",
       "    </tr>\n",
       "  </tbody>\n",
       "</table>\n",
       "</div>"
      ],
      "text/plain": [
       "       body_size  time_to_merge  changed_files_number\n",
       "26100         37       149511.0                   135\n",
       "26099         30        21959.0                     1"
      ]
     },
     "execution_count": 13,
     "metadata": {},
     "output_type": "execute_result"
    }
   ],
   "source": [
    "feature_df.head(2)"
   ]
  },
  {
   "cell_type": "code",
   "execution_count": 14,
   "id": "c4344192",
   "metadata": {},
   "outputs": [
    {
     "data": {
      "text/html": [
       "<div>\n",
       "<style scoped>\n",
       "    .dataframe tbody tr th:only-of-type {\n",
       "        vertical-align: middle;\n",
       "    }\n",
       "\n",
       "    .dataframe tbody tr th {\n",
       "        vertical-align: top;\n",
       "    }\n",
       "\n",
       "    .dataframe thead th {\n",
       "        text-align: right;\n",
       "    }\n",
       "</style>\n",
       "<table border=\"1\" class=\"dataframe\">\n",
       "  <thead>\n",
       "    <tr style=\"text-align: right;\">\n",
       "      <th></th>\n",
       "      <th>body_size</th>\n",
       "      <th>time_to_merge</th>\n",
       "      <th>changed_files_number</th>\n",
       "    </tr>\n",
       "  </thead>\n",
       "  <tbody>\n",
       "    <tr>\n",
       "      <th>count</th>\n",
       "      <td>17183.000000</td>\n",
       "      <td>1.353000e+04</td>\n",
       "      <td>17183.000000</td>\n",
       "    </tr>\n",
       "    <tr>\n",
       "      <th>mean</th>\n",
       "      <td>31.476867</td>\n",
       "      <td>6.801719e+05</td>\n",
       "      <td>68.379910</td>\n",
       "    </tr>\n",
       "    <tr>\n",
       "      <th>std</th>\n",
       "      <td>66.186398</td>\n",
       "      <td>1.848350e+06</td>\n",
       "      <td>885.774654</td>\n",
       "    </tr>\n",
       "    <tr>\n",
       "      <th>min</th>\n",
       "      <td>0.000000</td>\n",
       "      <td>3.000000e+00</td>\n",
       "      <td>0.000000</td>\n",
       "    </tr>\n",
       "    <tr>\n",
       "      <th>25%</th>\n",
       "      <td>3.000000</td>\n",
       "      <td>3.684875e+04</td>\n",
       "      <td>1.000000</td>\n",
       "    </tr>\n",
       "    <tr>\n",
       "      <th>50%</th>\n",
       "      <td>14.000000</td>\n",
       "      <td>1.329870e+05</td>\n",
       "      <td>2.000000</td>\n",
       "    </tr>\n",
       "    <tr>\n",
       "      <th>75%</th>\n",
       "      <td>36.000000</td>\n",
       "      <td>5.245955e+05</td>\n",
       "      <td>6.000000</td>\n",
       "    </tr>\n",
       "    <tr>\n",
       "      <th>max</th>\n",
       "      <td>2899.000000</td>\n",
       "      <td>5.500529e+07</td>\n",
       "      <td>48386.000000</td>\n",
       "    </tr>\n",
       "  </tbody>\n",
       "</table>\n",
       "</div>"
      ],
      "text/plain": [
       "          body_size  time_to_merge  changed_files_number\n",
       "count  17183.000000   1.353000e+04          17183.000000\n",
       "mean      31.476867   6.801719e+05             68.379910\n",
       "std       66.186398   1.848350e+06            885.774654\n",
       "min        0.000000   3.000000e+00              0.000000\n",
       "25%        3.000000   3.684875e+04              1.000000\n",
       "50%       14.000000   1.329870e+05              2.000000\n",
       "75%       36.000000   5.245955e+05              6.000000\n",
       "max     2899.000000   5.500529e+07          48386.000000"
      ]
     },
     "execution_count": 14,
     "metadata": {},
     "output_type": "execute_result"
    }
   ],
   "source": [
    "feature_df.describe()"
   ]
  },
  {
   "cell_type": "markdown",
   "id": "b12b10ab",
   "metadata": {},
   "source": [
    "Let's look at the distribution of the time to merge column. This can help us determine what the setup for ML problems such as [#236](https://github.com/aicoe-aiops/ocp-ci-analysis/issues/236) could be like. That is, should the time to merge problem be framed as a regression or classification problem.\n",
    "\n",
    "First, lets try to determine what the granularity of the output values should be, in case of a regression setup. That is, should the model predict time to merge in number of seconds, number of hours, number of days, or some other chunk of time."
   ]
  },
  {
   "cell_type": "code",
   "execution_count": 27,
   "id": "2531a6c6",
   "metadata": {
    "tags": []
   },
   "outputs": [
    {
     "data": {
      "text/plain": [
       "1.0      0.398226\n",
       "2.0      0.145972\n",
       "3.0      0.075166\n",
       "4.0      0.050924\n",
       "5.0      0.041463\n",
       "           ...   \n",
       "167.0    0.000074\n",
       "333.0    0.000074\n",
       "193.0    0.000074\n",
       "157.0    0.000074\n",
       "181.0    0.000074\n",
       "Name: time_to_merge, Length: 186, dtype: float64"
      ]
     },
     "execution_count": 27,
     "metadata": {},
     "output_type": "execute_result"
    }
   ],
   "source": [
    "# what does the distribution of values look like if we choose days as the granularity\n",
    "ttm_days = np.ceil(feature_df.time_to_merge / (60 * 60 * 24))\n",
    "\n",
    "# value counts - to how many PRs have value 1, 2, 3, etc. for days to merge\n",
    "vc = ttm_days.value_counts()\n",
    "\n",
    "# normalized value counts (i.e. percent of PRs instead of raw number)\n",
    "nvc = vc / vc.sum()\n",
    "nvc"
   ]
  },
  {
   "cell_type": "code",
   "execution_count": 28,
   "id": "288d2734",
   "metadata": {},
   "outputs": [
    {
     "data": {
      "image/png": "[encoded data removed]",
      "text/plain": [
       "<Figure size 1440x720 with 1 Axes>"
      ]
     },
     "metadata": {},
     "output_type": "display_data"
    }
   ],
   "source": [
    "# only plot top 100 values so that graph is legible\n",
    "nvc.sort_index().iloc[:100].plot(kind=\"bar\")\n",
    "plt.xlabel(\"Days\")\n",
    "plt.ylabel(\"Number of PRs\")\n",
    "plt.title(\"Number of PRs per Day\")\n",
    "plt.show()"
   ]
  },
  {
   "cell_type": "markdown",
   "id": "42490ee0",
   "metadata": {},
   "source": [
    "From the above graph we can see that if we bucket the data into days, then roughly 40% of the data points would have the value \"1\", 15% would have the value \"2\" and so on. Therefore we need to select a finer granularity. "
   ]
  },
  {
   "cell_type": "code",
   "execution_count": 29,
   "id": "4f602f5d",
   "metadata": {
    "tags": []
   },
   "outputs": [
    {
     "data": {
      "text/plain": [
       "1.0      0.098670\n",
       "2.0      0.080414\n",
       "3.0      0.054619\n",
       "4.0      0.038655\n",
       "8.0      0.034812\n",
       "           ...   \n",
       "813.0    0.000074\n",
       "480.0    0.000074\n",
       "428.0    0.000074\n",
       "797.0    0.000074\n",
       "667.0    0.000074\n",
       "Name: time_to_merge, Length: 691, dtype: float64"
      ]
     },
     "execution_count": 29,
     "metadata": {},
     "output_type": "execute_result"
    }
   ],
   "source": [
    "# what if we chose some intermediate value e.g. 3 hours as the granularity?\n",
    "ttm_3hours = np.ceil(feature_df.time_to_merge / (60 * 60 * 3))\n",
    "\n",
    "# value counts - to how many PRs have value 1, 2, 3, etc. for num. 3-hours to merge\n",
    "vc = ttm_3hours.value_counts()\n",
    "\n",
    "# normalized value counts (i.e. percent of PRs instead of raw number)\n",
    "nvc = vc / vc.sum()\n",
    "nvc"
   ]
  },
  {
   "cell_type": "code",
   "execution_count": 34,
   "id": "be8eda20",
   "metadata": {},
   "outputs": [
    {
     "data": {
      "image/png": "[encoded data removed]",
      "text/plain": [
       "<Figure size 1440x720 with 1 Axes>"
      ]
     },
     "metadata": {},
     "output_type": "display_data"
    }
   ],
   "source": [
    "# only plot top 100 values so that graph is legible\n",
    "nvc.sort_index().iloc[:100].plot(kind=\"bar\")\n",
    "plt.xlabel(\"3 Hour Intervals\")\n",
    "plt.ylabel(\"Number of PRs\")\n",
    "plt.title(\"Number of PRs per 3 Hour Interval\")\n",
    "plt.show()"
   ]
  },
  {
   "cell_type": "markdown",
   "id": "e46bf8e5",
   "metadata": {},
   "source": [
    "From the above outputs we can see that if we bucket the data into 3 hours, then roughly 10% of the data points would have the value \"1\", 10% would have the value \"2\", 5% would have the value 3, and so on. This is a slightly better value distribution than before, but could be made even better. Lets explore what this would look like with an \"hours\" granularity."
   ]
  },
  {
   "cell_type": "code",
   "execution_count": 35,
   "id": "0ebea237",
   "metadata": {
    "tags": []
   },
   "outputs": [
    {
     "data": {
      "text/plain": [
       "3.0       0.034368\n",
       "2.0       0.034368\n",
       "4.0       0.030007\n",
       "1.0       0.029933\n",
       "5.0       0.026829\n",
       "            ...   \n",
       "2106.0    0.000074\n",
       "1207.0    0.000074\n",
       "4171.0    0.000074\n",
       "811.0     0.000074\n",
       "2671.0    0.000074\n",
       "Name: time_to_merge, Length: 1314, dtype: float64"
      ]
     },
     "execution_count": 35,
     "metadata": {},
     "output_type": "execute_result"
    }
   ],
   "source": [
    "# what if we chose hours as the granularity?\n",
    "ttm_hours = np.ceil(feature_df.time_to_merge / (60 * 60))\n",
    "\n",
    "# value counts - to how many PRs have value 1, 2, 3, etc. for hours to merge\n",
    "vc = ttm_hours.value_counts()\n",
    "\n",
    "# normalized value counts (i.e. percent of PRs instead of raw number)\n",
    "nvc = vc / vc.sum()\n",
    "nvc"
   ]
  },
  {
   "cell_type": "code",
   "execution_count": 38,
   "id": "d2535fe2",
   "metadata": {},
   "outputs": [
    {
     "data": {
      "image/png": "[encoded data removed]",
      "text/plain": [
       "<Figure size 1440x720 with 1 Axes>"
      ]
     },
     "metadata": {},
     "output_type": "display_data"
    }
   ],
   "source": [
    "# only plot top 100 values so that graph is legible\n",
    "nvc.sort_index().iloc[:100].plot(kind=\"bar\")\n",
    "plt.xlabel(\"Hours\")\n",
    "plt.ylabel(\"Number of PRs\")\n",
    "plt.title(\"Number of PRs per Hour\")\n",
    "plt.show()"
   ]
  },
  {
   "cell_type": "markdown",
   "id": "83be23bc",
   "metadata": {},
   "source": [
    "From the above outputs we can see that if we bucket the data into hours, then roughly 3% of the data points would have the value \"2\", 3% would have the value \"3\", 3% would have the value \"4\", and so on. This seems like a reasonable distribution of values for a regression problem, since the data does not get skewed towards any one particular value.\n",
    "\n",
    "As we make it more granular (e.g. minutes), the distribution would get even more uniform. However, a granularity finer than 1 hour might not provide any additional value to the end user. So we will go with granularity of 1 hour for our regression setup."
   ]
  },
  {
   "cell_type": "markdown",
   "id": "85ef64eb",
   "metadata": {},
   "source": [
    "Now, lets try to determine, if we were to set this up as a classification problem, what the output classes should be."
   ]
  },
  {
   "cell_type": "code",
   "execution_count": 28,
   "id": "be9446e2",
   "metadata": {},
   "outputs": [
    {
     "data": {
      "text/plain": [
       "0.0      0.000833\n",
       "0.1      3.055000\n",
       "0.2      7.060056\n",
       "0.3     14.783722\n",
       "0.4     24.154278\n",
       "0.5     36.940833\n",
       "0.6     65.870667\n",
       "0.7    112.790861\n",
       "0.8    191.135000\n",
       "0.9    462.285278\n",
       "Name: time_to_merge, dtype: float64"
      ]
     },
     "execution_count": 28,
     "metadata": {},
     "output_type": "execute_result"
    }
   ],
   "source": [
    "# lets look at what the 10th, 20th, 30th etc percentiles are, to see what the bin boundaries (in terms of hours)\n",
    "# would be if we were to split the data in 10 equally populated bins\n",
    "n_buckets = 10\n",
    "\n",
    "quantiles = feature_df.time_to_merge.quantile(q=np.arange(0, 1 + 1e-100, 1 / n_buckets))\n",
    "quantiles / 3600"
   ]
  },
  {
   "cell_type": "code",
   "execution_count": 22,
   "id": "01730821",
   "metadata": {},
   "outputs": [
    {
     "data": {
      "text/plain": [
       "0.0           NaN\n",
       "0.1      3.054167\n",
       "0.2      4.005056\n",
       "0.3      7.723667\n",
       "0.4      9.370556\n",
       "0.5     12.786556\n",
       "0.6     28.929833\n",
       "0.7     46.920194\n",
       "0.8     78.344139\n",
       "0.9    271.150278\n",
       "Name: time_to_merge, dtype: float64"
      ]
     },
     "execution_count": 22,
     "metadata": {},
     "output_type": "execute_result"
    }
   ],
   "source": [
    "# gaps between the buckets (i.e. size of each bucket) in hours\n",
    "(quantiles - quantiles.shift()) / 3600"
   ]
  },
  {
   "cell_type": "markdown",
   "id": "b45eb08c",
   "metadata": {},
   "source": [
    "If we want to frame our ML problem as a classification problem, we can use the above buckets to define the classes. That is, class 0 is \"merged within 3 hours\", class 1 is \"merged within 3-7 hours\", etc."
   ]
  },
  {
   "cell_type": "markdown",
   "id": "05c7ba16",
   "metadata": {},
   "source": [
    "Based on the EDA so far, we cannot conclusively reject either classification or regression. We can explore both of these approaches in depth in forthcoming notebooks and re-evaluate the best setup for this problem."
   ]
  },
  {
   "cell_type": "markdown",
   "id": "9a12daf0",
   "metadata": {},
   "source": [
    "Let's look at some pair-wise scatter plots of our data to see if there are any obvious correlations between our features. "
   ]
  },
  {
   "cell_type": "code",
   "execution_count": 23,
   "id": "4b284a48",
   "metadata": {},
   "outputs": [
    {
     "data": {
      "image/png": "[encoded data removed]",
      "text/plain": [
       "<Figure size 1440x720 with 3 Axes>"
      ]
     },
     "metadata": {},
     "output_type": "display_data"
    }
   ],
   "source": [
    "fig, (ax1, ax2, ax3) = plt.subplots(1, 3)\n",
    "ax1.scatter(feature_df[\"time_to_merge\"], feature_df[\"body_size\"])\n",
    "ax1.set(xlabel=\"time to merge (seconds)\", ylabel=\"body_size\")\n",
    "ax2.scatter(feature_df[\"time_to_merge\"], feature_df[\"changed_files_number\"])\n",
    "ax2.set(xlabel=\"time to merge (seconds)\", ylabel=\"changed_file_number\")\n",
    "ax3.scatter(feature_df[\"body_size\"], feature_df[\"changed_files_number\"])\n",
    "ax3.set(xlabel=\"body size\", ylabel=\"changed_file_number\")\n",
    "fig.suptitle(\"Pair-Wise Scatter Plots\")\n",
    "plt.show()"
   ]
  },
  {
   "cell_type": "markdown",
   "id": "b56798ac",
   "metadata": {},
   "source": [
    "Its tough to see any meaningfull correlations here. Despite this \"L\" shaped scatter plot the vast majority of the points are centered around (0,0) in all 3 cases. Let's calculate the correlation value for each pair of variables to see some actaul numbers."
   ]
  },
  {
   "cell_type": "code",
   "execution_count": 24,
   "id": "a9f2e822",
   "metadata": {},
   "outputs": [
    {
     "data": {
      "text/html": [
       "<div>\n",
       "<style scoped>\n",
       "    .dataframe tbody tr th:only-of-type {\n",
       "        vertical-align: middle;\n",
       "    }\n",
       "\n",
       "    .dataframe tbody tr th {\n",
       "        vertical-align: top;\n",
       "    }\n",
       "\n",
       "    .dataframe thead th {\n",
       "        text-align: right;\n",
       "    }\n",
       "</style>\n",
       "<table border=\"1\" class=\"dataframe\">\n",
       "  <thead>\n",
       "    <tr style=\"text-align: right;\">\n",
       "      <th></th>\n",
       "      <th>body_size</th>\n",
       "      <th>time_to_merge</th>\n",
       "      <th>changed_files_number</th>\n",
       "    </tr>\n",
       "  </thead>\n",
       "  <tbody>\n",
       "    <tr>\n",
       "      <th>body_size</th>\n",
       "      <td>1.000000</td>\n",
       "      <td>0.115515</td>\n",
       "      <td>0.028810</td>\n",
       "    </tr>\n",
       "    <tr>\n",
       "      <th>time_to_merge</th>\n",
       "      <td>0.115515</td>\n",
       "      <td>1.000000</td>\n",
       "      <td>0.004417</td>\n",
       "    </tr>\n",
       "    <tr>\n",
       "      <th>changed_files_number</th>\n",
       "      <td>0.028810</td>\n",
       "      <td>0.004417</td>\n",
       "      <td>1.000000</td>\n",
       "    </tr>\n",
       "  </tbody>\n",
       "</table>\n",
       "</div>"
      ],
      "text/plain": [
       "                      body_size  time_to_merge  changed_files_number\n",
       "body_size              1.000000       0.115515              0.028810\n",
       "time_to_merge          0.115515       1.000000              0.004417\n",
       "changed_files_number   0.028810       0.004417              1.000000"
      ]
     },
     "execution_count": 24,
     "metadata": {},
     "output_type": "execute_result"
    }
   ],
   "source": [
    "feature_df.corr()"
   ]
  },
  {
   "cell_type": "markdown",
   "id": "ca64f8e1",
   "metadata": {},
   "source": [
    "Here we can see that body_size is _most_ correlated with time_to_merge, but 0.11 is a rather weak correlation value. This is good if we are going to use these as input features to a model, but not so good if we wanted to try and predict one value from the other two. Looks like we will need to go back and engineer some more features."
   ]
  },
  {
   "cell_type": "markdown",
   "id": "9a676b4b",
   "metadata": {},
   "source": [
    "### Conlusion\n",
    "\n",
    "This notebook walked through how to access the relevant PR data for the OpenShift Origin project we whish to analyze along with the rest of the related CI data in this project. We also outlined what is contained in each record and provided a quick demonstration of how to convert the mixed data types into numerical values for statistical analysis and eventually machine learning. \n",
    "\n",
    "We will continue to explore the provided data and perform additional feature engineering in a forthcoming notebook."
   ]
  },
  {
   "cell_type": "markdown",
   "id": "1157e030",
   "metadata": {},
   "source": [
    "## exp - kmeans"
   ]
  },
  {
   "cell_type": "code",
   "execution_count": 39,
   "id": "2ab3d823",
   "metadata": {},
   "outputs": [],
   "source": [
    "from sklearn.cluster import KMeans"
   ]
  },
  {
   "cell_type": "code",
   "execution_count": 70,
   "id": "06660189",
   "metadata": {},
   "outputs": [
    {
     "data": {
      "text/plain": [
       "KMeans(n_clusters=50)"
      ]
     },
     "execution_count": 70,
     "metadata": {},
     "output_type": "execute_result"
    }
   ],
   "source": [
    "km = KMeans(n_clusters=50)\n",
    "km.fit(feature_df.time_to_merge.dropna().values.reshape(-1, 1))"
   ]
  },
  {
   "cell_type": "code",
   "execution_count": 71,
   "id": "a8e2b7a3",
   "metadata": {},
   "outputs": [
    {
     "data": {
      "text/plain": [
       "array([       0.        ,    55176.92374727,   132549.38440704,\n",
       "         223408.5387068 ,   327716.59358981,   440951.92881341,\n",
       "         550512.63516484,   658149.81850191,   786110.64705954,\n",
       "         937273.00146532,  1093591.87627736,  1251424.15497622,\n",
       "        1425834.81774993,  1611542.78463523,  1803251.76768419,\n",
       "        2034690.14601414,  2291054.85020071,  2553305.19006999,\n",
       "        2830558.63314176,  3096058.09681698,  3396997.78638763,\n",
       "        3716886.66530501,  4034178.13402385,  4375111.47305519,\n",
       "        4713377.12820513,  5072476.61032389,  5478257.20647773,\n",
       "        5956290.97737557,  6486408.6130031 ,  7046460.61090226,\n",
       "        7605541.51373626,  8177205.73076923,  8699209.23846154,\n",
       "        9286515.29090909, 10131628.19385027, 11221487.43627451,\n",
       "       12271445.18333333, 13086912.52857143, 13876508.71428572,\n",
       "       14804431.84126984, 16092279.55555556, 17758576.        ,\n",
       "       19205975.08333334, 20913354.45833334, 23624508.70833333,\n",
       "       25811659.58333333, 27571405.75      , 31085644.5       ,\n",
       "       36997339.5       , 47764283.5       ])"
      ]
     },
     "execution_count": 71,
     "metadata": {},
     "output_type": "execute_result"
    }
   ],
   "source": [
    "centers = np.sort(km.cluster_centers_.flatten())\n",
    "\n",
    "borders = (centers + np.roll(centers, 1)) / 2\n",
    "borders[0] = 0\n",
    "\n",
    "borders"
   ]
  },
  {
   "cell_type": "code",
   "execution_count": 72,
   "id": "6c4b6de2",
   "metadata": {},
   "outputs": [
    {
     "data": {
      "text/plain": [
       "<matplotlib.collections.PathCollection at 0x7f06ac642ee0>"
      ]
     },
     "execution_count": 72,
     "metadata": {},
     "output_type": "execute_result"
    },
    {
     "data": {
      "image/png": "[encoded data removed]",
      "text/plain": [
       "<Figure size 1440x720 with 1 Axes>"
      ]
     },
     "metadata": {},
     "output_type": "display_data"
    }
   ],
   "source": [
    "plt.scatter(\n",
    "    x=centers // (3600*24),\n",
    "    y=[0 for _ in range(km.n_clusters)]\n",
    "\n",
    ")\n",
    "plt.scatter(\n",
    "    x=borders // (3600*24),\n",
    "    y=[0 for _ in range(km.n_clusters)]\n",
    "\n",
    ")"
   ]
  },
  {
   "cell_type": "code",
   "execution_count": 75,
   "id": "e755007a",
   "metadata": {},
   "outputs": [
    {
     "data": {
      "text/plain": [
       "array([    0.,    15.,    36.,    62.,    91.,   122.,   152.,   182.,\n",
       "         218.,   260.,   303.,   347.,   396.,   447.,   500.,   565.,\n",
       "         636.,   709.,   786.,   860.,   943.,  1032.,  1120.,  1215.,\n",
       "        1309.,  1409.,  1521.,  1654.,  1801.,  1957.,  2112.,  2271.,\n",
       "        2416.,  2579.,  2814.,  3117.,  3408.,  3635.,  3854.,  4112.,\n",
       "        4470.,  4932.,  5334.,  5809.,  6562.,  7169.,  7658.,  8634.,\n",
       "       10277., 13267.])"
      ]
     },
     "execution_count": 75,
     "metadata": {},
     "output_type": "execute_result"
    }
   ],
   "source": [
    "borders // (3600)"
   ]
  },
  {
   "cell_type": "code",
   "execution_count": null,
   "id": "eeee965c",
   "metadata": {},
   "outputs": [],
   "source": []
  }
 ],
 "metadata": {
  "kernelspec": {
   "display_name": "Python 3",
   "language": "python",
   "name": "python3"
  },
  "language_info": {
   "codemirror_mode": {
    "name": "ipython",
    "version": 3
   },
   "file_extension": ".py",
   "mimetype": "text/x-python",
   "name": "python",
   "nbconvert_exporter": "python",
   "pygments_lexer": "ipython3",
   "version": "3.8.3"
  }
 },
 "nbformat": 4,
 "nbformat_minor": 5
}
